{
  "cells": [
    {
      "cell_type": "markdown",
      "metadata": {
        "id": "view-in-github",
        "colab_type": "text"
      },
      "source": [
        "<a href=\"https://colab.research.google.com/github/naufalhawari/gemastik-data-minik-esteh/blob/main/esteh-juara-ver1ipynb\" target=\"_parent\"><img src=\"https://colab.research.google.com/assets/colab-badge.svg\" alt=\"Open In Colab\"/></a>"
      ]
    },
    {
      "cell_type": "markdown",
      "metadata": {
        "id": "IFe9eYWJEedj"
      },
      "source": [
        "# Creating Dataset"
      ]
    },
    {
      "cell_type": "markdown",
      "source": [
        "## Installing Library Needs"
      ],
      "metadata": {
        "id": "gpSVyqCX1sCO"
      }
    },
    {
      "cell_type": "code",
      "execution_count": 2,
      "metadata": {
        "colab": {
          "base_uri": "https://localhost:8080/"
        },
        "id": "OyXTjXg6svmX",
        "outputId": "435e38f1-2c58-42d2-e27e-d8c2e24d68fe"
      },
      "outputs": [
        {
          "output_type": "stream",
          "name": "stdout",
          "text": [
            "Looking in indexes: https://pypi.org/simple, https://us-python.pkg.dev/colab-wheels/public/simple/\n",
            "Collecting tensorflow_text\n",
            "  Downloading tensorflow_text-2.12.1-cp310-cp310-manylinux_2_17_x86_64.manylinux2014_x86_64.whl (6.0 MB)\n",
            "\u001b[2K     \u001b[90m━━━━━━━━━━━━━━━━━━━━━━━━━━━━━━━━━━━━━━━━\u001b[0m \u001b[32m6.0/6.0 MB\u001b[0m \u001b[31m90.7 MB/s\u001b[0m eta \u001b[36m0:00:00\u001b[0m\n",
            "\u001b[?25hRequirement already satisfied: tensorflow-hub>=0.8.0 in /usr/local/lib/python3.10/dist-packages (from tensorflow_text) (0.13.0)\n",
            "Requirement already satisfied: tensorflow<2.13,>=2.12.0 in /usr/local/lib/python3.10/dist-packages (from tensorflow_text) (2.12.0)\n",
            "Requirement already satisfied: keras<2.13,>=2.12.0 in /usr/local/lib/python3.10/dist-packages (from tensorflow<2.13,>=2.12.0->tensorflow_text) (2.12.0)\n",
            "Requirement already satisfied: gast<=0.4.0,>=0.2.1 in /usr/local/lib/python3.10/dist-packages (from tensorflow<2.13,>=2.12.0->tensorflow_text) (0.4.0)\n",
            "Requirement already satisfied: packaging in /usr/local/lib/python3.10/dist-packages (from tensorflow<2.13,>=2.12.0->tensorflow_text) (23.1)\n",
            "Requirement already satisfied: six>=1.12.0 in /usr/local/lib/python3.10/dist-packages (from tensorflow<2.13,>=2.12.0->tensorflow_text) (1.16.0)\n",
            "Requirement already satisfied: protobuf!=4.21.0,!=4.21.1,!=4.21.2,!=4.21.3,!=4.21.4,!=4.21.5,<5.0.0dev,>=3.20.3 in /usr/local/lib/python3.10/dist-packages (from tensorflow<2.13,>=2.12.0->tensorflow_text) (3.20.3)\n",
            "Requirement already satisfied: libclang>=13.0.0 in /usr/local/lib/python3.10/dist-packages (from tensorflow<2.13,>=2.12.0->tensorflow_text) (16.0.0)\n",
            "Requirement already satisfied: tensorboard<2.13,>=2.12 in /usr/local/lib/python3.10/dist-packages (from tensorflow<2.13,>=2.12.0->tensorflow_text) (2.12.2)\n",
            "Requirement already satisfied: tensorflow-io-gcs-filesystem>=0.23.1 in /usr/local/lib/python3.10/dist-packages (from tensorflow<2.13,>=2.12.0->tensorflow_text) (0.32.0)\n",
            "Requirement already satisfied: tensorflow-estimator<2.13,>=2.12.0 in /usr/local/lib/python3.10/dist-packages (from tensorflow<2.13,>=2.12.0->tensorflow_text) (2.12.0)\n",
            "Requirement already satisfied: wrapt<1.15,>=1.11.0 in /usr/local/lib/python3.10/dist-packages (from tensorflow<2.13,>=2.12.0->tensorflow_text) (1.14.1)\n",
            "Requirement already satisfied: numpy<1.24,>=1.22 in /usr/local/lib/python3.10/dist-packages (from tensorflow<2.13,>=2.12.0->tensorflow_text) (1.22.4)\n",
            "Requirement already satisfied: grpcio<2.0,>=1.24.3 in /usr/local/lib/python3.10/dist-packages (from tensorflow<2.13,>=2.12.0->tensorflow_text) (1.54.0)\n",
            "Requirement already satisfied: setuptools in /usr/local/lib/python3.10/dist-packages (from tensorflow<2.13,>=2.12.0->tensorflow_text) (67.7.2)\n",
            "Requirement already satisfied: astunparse>=1.6.0 in /usr/local/lib/python3.10/dist-packages (from tensorflow<2.13,>=2.12.0->tensorflow_text) (1.6.3)\n",
            "Requirement already satisfied: opt-einsum>=2.3.2 in /usr/local/lib/python3.10/dist-packages (from tensorflow<2.13,>=2.12.0->tensorflow_text) (3.3.0)\n",
            "Requirement already satisfied: h5py>=2.9.0 in /usr/local/lib/python3.10/dist-packages (from tensorflow<2.13,>=2.12.0->tensorflow_text) (3.8.0)\n",
            "Requirement already satisfied: jax>=0.3.15 in /usr/local/lib/python3.10/dist-packages (from tensorflow<2.13,>=2.12.0->tensorflow_text) (0.4.8)\n",
            "Requirement already satisfied: typing-extensions>=3.6.6 in /usr/local/lib/python3.10/dist-packages (from tensorflow<2.13,>=2.12.0->tensorflow_text) (4.5.0)\n",
            "Requirement already satisfied: absl-py>=1.0.0 in /usr/local/lib/python3.10/dist-packages (from tensorflow<2.13,>=2.12.0->tensorflow_text) (1.4.0)\n",
            "Requirement already satisfied: termcolor>=1.1.0 in /usr/local/lib/python3.10/dist-packages (from tensorflow<2.13,>=2.12.0->tensorflow_text) (2.3.0)\n",
            "Requirement already satisfied: flatbuffers>=2.0 in /usr/local/lib/python3.10/dist-packages (from tensorflow<2.13,>=2.12.0->tensorflow_text) (23.3.3)\n",
            "Requirement already satisfied: google-pasta>=0.1.1 in /usr/local/lib/python3.10/dist-packages (from tensorflow<2.13,>=2.12.0->tensorflow_text) (0.2.0)\n",
            "Requirement already satisfied: wheel<1.0,>=0.23.0 in /usr/local/lib/python3.10/dist-packages (from astunparse>=1.6.0->tensorflow<2.13,>=2.12.0->tensorflow_text) (0.40.0)\n",
            "Requirement already satisfied: scipy>=1.7 in /usr/local/lib/python3.10/dist-packages (from jax>=0.3.15->tensorflow<2.13,>=2.12.0->tensorflow_text) (1.10.1)\n",
            "Requirement already satisfied: ml-dtypes>=0.0.3 in /usr/local/lib/python3.10/dist-packages (from jax>=0.3.15->tensorflow<2.13,>=2.12.0->tensorflow_text) (0.1.0)\n",
            "Requirement already satisfied: markdown>=2.6.8 in /usr/local/lib/python3.10/dist-packages (from tensorboard<2.13,>=2.12->tensorflow<2.13,>=2.12.0->tensorflow_text) (3.4.3)\n",
            "Requirement already satisfied: werkzeug>=1.0.1 in /usr/local/lib/python3.10/dist-packages (from tensorboard<2.13,>=2.12->tensorflow<2.13,>=2.12.0->tensorflow_text) (2.3.0)\n",
            "Requirement already satisfied: tensorboard-plugin-wit>=1.6.0 in /usr/local/lib/python3.10/dist-packages (from tensorboard<2.13,>=2.12->tensorflow<2.13,>=2.12.0->tensorflow_text) (1.8.1)\n",
            "Requirement already satisfied: requests<3,>=2.21.0 in /usr/local/lib/python3.10/dist-packages (from tensorboard<2.13,>=2.12->tensorflow<2.13,>=2.12.0->tensorflow_text) (2.27.1)\n",
            "Requirement already satisfied: google-auth<3,>=1.6.3 in /usr/local/lib/python3.10/dist-packages (from tensorboard<2.13,>=2.12->tensorflow<2.13,>=2.12.0->tensorflow_text) (2.17.3)\n",
            "Requirement already satisfied: google-auth-oauthlib<1.1,>=0.5 in /usr/local/lib/python3.10/dist-packages (from tensorboard<2.13,>=2.12->tensorflow<2.13,>=2.12.0->tensorflow_text) (1.0.0)\n",
            "Requirement already satisfied: tensorboard-data-server<0.8.0,>=0.7.0 in /usr/local/lib/python3.10/dist-packages (from tensorboard<2.13,>=2.12->tensorflow<2.13,>=2.12.0->tensorflow_text) (0.7.0)\n",
            "Requirement already satisfied: pyasn1-modules>=0.2.1 in /usr/local/lib/python3.10/dist-packages (from google-auth<3,>=1.6.3->tensorboard<2.13,>=2.12->tensorflow<2.13,>=2.12.0->tensorflow_text) (0.3.0)\n",
            "Requirement already satisfied: cachetools<6.0,>=2.0.0 in /usr/local/lib/python3.10/dist-packages (from google-auth<3,>=1.6.3->tensorboard<2.13,>=2.12->tensorflow<2.13,>=2.12.0->tensorflow_text) (5.3.0)\n",
            "Requirement already satisfied: rsa<5,>=3.1.4 in /usr/local/lib/python3.10/dist-packages (from google-auth<3,>=1.6.3->tensorboard<2.13,>=2.12->tensorflow<2.13,>=2.12.0->tensorflow_text) (4.9)\n",
            "Requirement already satisfied: requests-oauthlib>=0.7.0 in /usr/local/lib/python3.10/dist-packages (from google-auth-oauthlib<1.1,>=0.5->tensorboard<2.13,>=2.12->tensorflow<2.13,>=2.12.0->tensorflow_text) (1.3.1)\n",
            "Requirement already satisfied: charset-normalizer~=2.0.0 in /usr/local/lib/python3.10/dist-packages (from requests<3,>=2.21.0->tensorboard<2.13,>=2.12->tensorflow<2.13,>=2.12.0->tensorflow_text) (2.0.12)\n",
            "Requirement already satisfied: urllib3<1.27,>=1.21.1 in /usr/local/lib/python3.10/dist-packages (from requests<3,>=2.21.0->tensorboard<2.13,>=2.12->tensorflow<2.13,>=2.12.0->tensorflow_text) (1.26.15)\n",
            "Requirement already satisfied: idna<4,>=2.5 in /usr/local/lib/python3.10/dist-packages (from requests<3,>=2.21.0->tensorboard<2.13,>=2.12->tensorflow<2.13,>=2.12.0->tensorflow_text) (3.4)\n",
            "Requirement already satisfied: certifi>=2017.4.17 in /usr/local/lib/python3.10/dist-packages (from requests<3,>=2.21.0->tensorboard<2.13,>=2.12->tensorflow<2.13,>=2.12.0->tensorflow_text) (2022.12.7)\n",
            "Requirement already satisfied: MarkupSafe>=2.1.1 in /usr/local/lib/python3.10/dist-packages (from werkzeug>=1.0.1->tensorboard<2.13,>=2.12->tensorflow<2.13,>=2.12.0->tensorflow_text) (2.1.2)\n",
            "Requirement already satisfied: pyasn1<0.6.0,>=0.4.6 in /usr/local/lib/python3.10/dist-packages (from pyasn1-modules>=0.2.1->google-auth<3,>=1.6.3->tensorboard<2.13,>=2.12->tensorflow<2.13,>=2.12.0->tensorflow_text) (0.5.0)\n",
            "Requirement already satisfied: oauthlib>=3.0.0 in /usr/local/lib/python3.10/dist-packages (from requests-oauthlib>=0.7.0->google-auth-oauthlib<1.1,>=0.5->tensorboard<2.13,>=2.12->tensorflow<2.13,>=2.12.0->tensorflow_text) (3.2.2)\n",
            "Installing collected packages: tensorflow_text\n",
            "Successfully installed tensorflow_text-2.12.1\n"
          ]
        }
      ],
      "source": [
        "!pip install tensorflow_text"
      ]
    },
    {
      "cell_type": "code",
      "execution_count": 3,
      "metadata": {
        "colab": {
          "base_uri": "https://localhost:8080/"
        },
        "id": "itI8vQSCD_Az",
        "outputId": "f30aa787-0ee8-4d9e-9cb6-f3ca830c03ad"
      },
      "outputs": [
        {
          "output_type": "stream",
          "name": "stdout",
          "text": [
            "Looking in indexes: https://pypi.org/simple, https://us-python.pkg.dev/colab-wheels/public/simple/\n",
            "Collecting sastrawi\n",
            "  Downloading Sastrawi-1.0.1-py2.py3-none-any.whl (209 kB)\n",
            "\u001b[2K     \u001b[90m━━━━━━━━━━━━━━━━━━━━━━━━━━━━━━━━━━━━━━\u001b[0m \u001b[32m209.7/209.7 kB\u001b[0m \u001b[31m18.4 MB/s\u001b[0m eta \u001b[36m0:00:00\u001b[0m\n",
            "\u001b[?25hInstalling collected packages: sastrawi\n",
            "Successfully installed sastrawi-1.0.1\n"
          ]
        }
      ],
      "source": [
        "!pip install sastrawi"
      ]
    },
    {
      "cell_type": "markdown",
      "source": [
        "## Import Libraries"
      ],
      "metadata": {
        "id": "vzO3rNoS1y9U"
      }
    },
    {
      "cell_type": "code",
      "execution_count": 4,
      "metadata": {
        "id": "OXo6kWIR3zDQ"
      },
      "outputs": [],
      "source": [
        "import pandas as pd\n",
        "import numpy as np\n",
        "\n",
        "import tensorflow as tf\n",
        "import tensorflow_hub as hub\n",
        "import tensorflow_text as text\n",
        "\n",
        "import seaborn as sns\n",
        "import matplotlib.pyplot as plt\n",
        "\n",
        "pd.set_option(\"display.max.columns\", 50)"
      ]
    },
    {
      "cell_type": "markdown",
      "source": [
        "## Retrieve and Preprocess Dataset"
      ],
      "metadata": {
        "id": "LkeZdf-f11na"
      }
    },
    {
      "cell_type": "code",
      "execution_count": 5,
      "metadata": {
        "id": "NZf-LJal6SyX"
      },
      "outputs": [],
      "source": [
        "# file_path = \"/content/drive/MyDrive/dataset/esteh-dataset.xlsx\"\n",
        "file_path = \"https://raw.githubusercontent.com/naufalhawari/dataset-collection/main/esteh-dataset-1728.csv\"\n"
      ]
    },
    {
      "cell_type": "code",
      "execution_count": 6,
      "metadata": {
        "id": "E6AJF9vB5Lzr"
      },
      "outputs": [],
      "source": [
        "from Sastrawi.Stemmer.StemmerFactory import StemmerFactory\n",
        "\n",
        "def stemming(teks):\n",
        "  stemmerFactory = StemmerFactory().create_stemmer()\n",
        "\n",
        "  return stemmerFactory.stem(teks)\n",
        "\n",
        "\n",
        "def create_dataset(file_path, sheet_names = None) :\n",
        "\n",
        "  # reading from csv through github\n",
        "  dataset = pd.read_csv(file_path)\n",
        "  \n",
        "  dataset = dataset.copy().dropna() # dropping records if there is any missing values\n",
        "  dataset[\"kritik\"] = dataset[[\"keluhan\", \"saran\"]].max(axis = 1)\n",
        "  dataset = dataset.drop([\"saran\", \"keluhan\"], axis = 1)\n",
        "  dataset[\"ulasan\"] = dataset[\"ulasan\"].str.lower()\n",
        "  dataset[\"ulasan\"] = dataset[\"ulasan\"].apply(lambda x: stemming(x))\n",
        "  dataset = dataset.loc[~dataset.duplicated()].copy() # removing duplicated record\n",
        "\n",
        "  return dataset"
      ]
    },
    {
      "cell_type": "code",
      "execution_count": 7,
      "metadata": {
        "id": "GXE7OgI986Op"
      },
      "outputs": [],
      "source": [
        "# create new dataset\n",
        "# df = create_dataset(file_path)\n",
        "\n",
        "# import existing dataset\n",
        "# df = pd.read_csv(file_path)\n",
        "# df = df.loc[~df.duplicated()].copy()\n",
        "\n",
        "# import existing splitted dataset\n",
        "train = pd.read_csv(\"https://raw.githubusercontent.com/naufalhawari/gemastik-data-minik-esteh/main/esteh-train.csv\")\n",
        "test = pd.read_csv(\"https://raw.githubusercontent.com/naufalhawari/gemastik-data-minik-esteh/main/esteh-test.csv\")"
      ]
    },
    {
      "cell_type": "code",
      "execution_count": 8,
      "metadata": {
        "colab": {
          "base_uri": "https://localhost:8080/",
          "height": 0
        },
        "id": "ttAbi08UDiH_",
        "outputId": "0876315b-a83e-4962-da1a-f667a24c13b2"
      },
      "outputs": [
        {
          "output_type": "execute_result",
          "data": {
            "text/plain": [
              "   apresiasi  kritik                                             ulasan\n",
              "0          0       1  dari cara masuk login nya eror terus di ulang ...\n",
              "1          0       1  telah isi clm lalu aplikasi ini belum sempat s...\n",
              "2          1       0  mantap sekali aplikasi bisa ngurus surat tanpa...\n",
              "3          0       1  menu jobfair kaga bisa buka penuh tuh server h...\n",
              "4          1       1  udah 4 bulan pake lumayan juga buat cari infor..."
            ],
            "text/html": [
              "\n",
              "  <div id=\"df-0a9c2c0a-a1e4-42e1-9e3f-af9e5acbd113\">\n",
              "    <div class=\"colab-df-container\">\n",
              "      <div>\n",
              "<style scoped>\n",
              "    .dataframe tbody tr th:only-of-type {\n",
              "        vertical-align: middle;\n",
              "    }\n",
              "\n",
              "    .dataframe tbody tr th {\n",
              "        vertical-align: top;\n",
              "    }\n",
              "\n",
              "    .dataframe thead th {\n",
              "        text-align: right;\n",
              "    }\n",
              "</style>\n",
              "<table border=\"1\" class=\"dataframe\">\n",
              "  <thead>\n",
              "    <tr style=\"text-align: right;\">\n",
              "      <th></th>\n",
              "      <th>apresiasi</th>\n",
              "      <th>kritik</th>\n",
              "      <th>ulasan</th>\n",
              "    </tr>\n",
              "  </thead>\n",
              "  <tbody>\n",
              "    <tr>\n",
              "      <th>0</th>\n",
              "      <td>0</td>\n",
              "      <td>1</td>\n",
              "      <td>dari cara masuk login nya eror terus di ulang ...</td>\n",
              "    </tr>\n",
              "    <tr>\n",
              "      <th>1</th>\n",
              "      <td>0</td>\n",
              "      <td>1</td>\n",
              "      <td>telah isi clm lalu aplikasi ini belum sempat s...</td>\n",
              "    </tr>\n",
              "    <tr>\n",
              "      <th>2</th>\n",
              "      <td>1</td>\n",
              "      <td>0</td>\n",
              "      <td>mantap sekali aplikasi bisa ngurus surat tanpa...</td>\n",
              "    </tr>\n",
              "    <tr>\n",
              "      <th>3</th>\n",
              "      <td>0</td>\n",
              "      <td>1</td>\n",
              "      <td>menu jobfair kaga bisa buka penuh tuh server h...</td>\n",
              "    </tr>\n",
              "    <tr>\n",
              "      <th>4</th>\n",
              "      <td>1</td>\n",
              "      <td>1</td>\n",
              "      <td>udah 4 bulan pake lumayan juga buat cari infor...</td>\n",
              "    </tr>\n",
              "  </tbody>\n",
              "</table>\n",
              "</div>\n",
              "      <button class=\"colab-df-convert\" onclick=\"convertToInteractive('df-0a9c2c0a-a1e4-42e1-9e3f-af9e5acbd113')\"\n",
              "              title=\"Convert this dataframe to an interactive table.\"\n",
              "              style=\"display:none;\">\n",
              "        \n",
              "  <svg xmlns=\"http://www.w3.org/2000/svg\" height=\"24px\"viewBox=\"0 0 24 24\"\n",
              "       width=\"24px\">\n",
              "    <path d=\"M0 0h24v24H0V0z\" fill=\"none\"/>\n",
              "    <path d=\"M18.56 5.44l.94 2.06.94-2.06 2.06-.94-2.06-.94-.94-2.06-.94 2.06-2.06.94zm-11 1L8.5 8.5l.94-2.06 2.06-.94-2.06-.94L8.5 2.5l-.94 2.06-2.06.94zm10 10l.94 2.06.94-2.06 2.06-.94-2.06-.94-.94-2.06-.94 2.06-2.06.94z\"/><path d=\"M17.41 7.96l-1.37-1.37c-.4-.4-.92-.59-1.43-.59-.52 0-1.04.2-1.43.59L10.3 9.45l-7.72 7.72c-.78.78-.78 2.05 0 2.83L4 21.41c.39.39.9.59 1.41.59.51 0 1.02-.2 1.41-.59l7.78-7.78 2.81-2.81c.8-.78.8-2.07 0-2.86zM5.41 20L4 18.59l7.72-7.72 1.47 1.35L5.41 20z\"/>\n",
              "  </svg>\n",
              "      </button>\n",
              "      \n",
              "  <style>\n",
              "    .colab-df-container {\n",
              "      display:flex;\n",
              "      flex-wrap:wrap;\n",
              "      gap: 12px;\n",
              "    }\n",
              "\n",
              "    .colab-df-convert {\n",
              "      background-color: #E8F0FE;\n",
              "      border: none;\n",
              "      border-radius: 50%;\n",
              "      cursor: pointer;\n",
              "      display: none;\n",
              "      fill: #1967D2;\n",
              "      height: 32px;\n",
              "      padding: 0 0 0 0;\n",
              "      width: 32px;\n",
              "    }\n",
              "\n",
              "    .colab-df-convert:hover {\n",
              "      background-color: #E2EBFA;\n",
              "      box-shadow: 0px 1px 2px rgba(60, 64, 67, 0.3), 0px 1px 3px 1px rgba(60, 64, 67, 0.15);\n",
              "      fill: #174EA6;\n",
              "    }\n",
              "\n",
              "    [theme=dark] .colab-df-convert {\n",
              "      background-color: #3B4455;\n",
              "      fill: #D2E3FC;\n",
              "    }\n",
              "\n",
              "    [theme=dark] .colab-df-convert:hover {\n",
              "      background-color: #434B5C;\n",
              "      box-shadow: 0px 1px 3px 1px rgba(0, 0, 0, 0.15);\n",
              "      filter: drop-shadow(0px 1px 2px rgba(0, 0, 0, 0.3));\n",
              "      fill: #FFFFFF;\n",
              "    }\n",
              "  </style>\n",
              "\n",
              "      <script>\n",
              "        const buttonEl =\n",
              "          document.querySelector('#df-0a9c2c0a-a1e4-42e1-9e3f-af9e5acbd113 button.colab-df-convert');\n",
              "        buttonEl.style.display =\n",
              "          google.colab.kernel.accessAllowed ? 'block' : 'none';\n",
              "\n",
              "        async function convertToInteractive(key) {\n",
              "          const element = document.querySelector('#df-0a9c2c0a-a1e4-42e1-9e3f-af9e5acbd113');\n",
              "          const dataTable =\n",
              "            await google.colab.kernel.invokeFunction('convertToInteractive',\n",
              "                                                     [key], {});\n",
              "          if (!dataTable) return;\n",
              "\n",
              "          const docLinkHtml = 'Like what you see? Visit the ' +\n",
              "            '<a target=\"_blank\" href=https://colab.research.google.com/notebooks/data_table.ipynb>data table notebook</a>'\n",
              "            + ' to learn more about interactive tables.';\n",
              "          element.innerHTML = '';\n",
              "          dataTable['output_type'] = 'display_data';\n",
              "          await google.colab.output.renderOutput(dataTable, element);\n",
              "          const docLink = document.createElement('div');\n",
              "          docLink.innerHTML = docLinkHtml;\n",
              "          element.appendChild(docLink);\n",
              "        }\n",
              "      </script>\n",
              "    </div>\n",
              "  </div>\n",
              "  "
            ]
          },
          "metadata": {},
          "execution_count": 8
        }
      ],
      "source": [
        "train.head()"
      ]
    },
    {
      "cell_type": "code",
      "execution_count": 9,
      "metadata": {
        "colab": {
          "base_uri": "https://localhost:8080/"
        },
        "id": "2keYzNuA89xw",
        "outputId": "e338773f-eb4c-4c59-f1c0-e87039b91266"
      },
      "outputs": [
        {
          "output_type": "execute_result",
          "data": {
            "text/plain": [
              "(0, 0)"
            ]
          },
          "metadata": {},
          "execution_count": 9
        }
      ],
      "source": [
        "train.duplicated().sum(), test.duplicated().sum()"
      ]
    },
    {
      "cell_type": "code",
      "execution_count": 10,
      "metadata": {
        "colab": {
          "base_uri": "https://localhost:8080/"
        },
        "id": "hKZHuXU2ToMU",
        "outputId": "3b46fcee-8db9-494e-e8df-3c7f5cdad3db"
      },
      "outputs": [
        {
          "output_type": "execute_result",
          "data": {
            "text/plain": [
              "(1348, 337)"
            ]
          },
          "metadata": {},
          "execution_count": 10
        }
      ],
      "source": [
        "len(train), len(test)"
      ]
    },
    {
      "cell_type": "markdown",
      "source": [
        "## Splitting Dataset"
      ],
      "metadata": {
        "id": "AmbXc0g-178k"
      }
    },
    {
      "cell_type": "code",
      "execution_count": 11,
      "metadata": {
        "id": "IrkFA_wOpXGR"
      },
      "outputs": [],
      "source": [
        "# create new splitted data\n",
        "\n",
        "# from sklearn.model_selection import train_test_split\n",
        "\n",
        "# X = df.ulasan\n",
        "# y = df.drop(\"ulasan\", axis = 1)\n",
        "\n",
        "# X_train, X_test, y_train, y_test = train_test_split(X, y, test_size = 0.2, stratify = df.apresiasi)\n",
        "\n",
        "# train = y_train.copy()\n",
        "# test = y_test.copy()\n",
        "    \n",
        "# train[\"ulasan\"] = X_train\n",
        "# test[\"ulasan\"] = X_test\n"
      ]
    },
    {
      "cell_type": "code",
      "source": [
        "# save splitted data\n",
        "\n",
        "# train.to_csv(\"esteh-train.csv\", index = False)\n",
        "# test.to_csv(\"esteh-test.csv\", index = False)"
      ],
      "metadata": {
        "id": "uDPDMiwE0Tr3"
      },
      "execution_count": 12,
      "outputs": []
    },
    {
      "cell_type": "code",
      "source": [
        "# split on existing train and test dataset\n",
        "\n",
        "X_train = train[\"ulasan\"]\n",
        "X_test = test[\"ulasan\"]\n",
        "y_train = train.drop(\"ulasan\", axis = 1)\n",
        "y_test = test.drop(\"ulasan\", axis = 1)"
      ],
      "metadata": {
        "id": "As1LiP3fBnyX"
      },
      "execution_count": 13,
      "outputs": []
    },
    {
      "cell_type": "markdown",
      "metadata": {
        "id": "jUmFMGIbQt4S"
      },
      "source": [
        "# RNN Model"
      ]
    },
    {
      "cell_type": "markdown",
      "source": [
        "## Build Text Tokenizer"
      ],
      "metadata": {
        "id": "lIZcWXWd2xhQ"
      }
    },
    {
      "cell_type": "code",
      "execution_count": 54,
      "metadata": {
        "id": "6mM63MSReDL1"
      },
      "outputs": [],
      "source": [
        "VOCAB_SIZE = 1200\n",
        "encoder = tf.keras.layers.TextVectorization(\n",
        "    max_tokens=VOCAB_SIZE)\n",
        "encoder.adapt(X_train)"
      ]
    },
    {
      "cell_type": "code",
      "execution_count": 55,
      "metadata": {
        "id": "2mtDb4lwipJ8",
        "colab": {
          "base_uri": "https://localhost:8080/"
        },
        "outputId": "d37af0c1-4744-422c-9c6f-e44a9e9050ab"
      },
      "outputs": [
        {
          "output_type": "execute_result",
          "data": {
            "text/plain": [
              "1200"
            ]
          },
          "metadata": {},
          "execution_count": 55
        }
      ],
      "source": [
        "len(encoder.get_vocabulary())"
      ]
    },
    {
      "cell_type": "markdown",
      "source": [
        "## Creating Model Architecture"
      ],
      "metadata": {
        "id": "X2BmtjrM2DMP"
      }
    },
    {
      "cell_type": "code",
      "execution_count": 56,
      "metadata": {
        "id": "cvvuitMdQwG9"
      },
      "outputs": [],
      "source": [
        "lstm = tf.keras.Sequential([\n",
        "    tf.keras.layers.Input(shape=(), dtype = \"string\"),\n",
        "    encoder,\n",
        "    tf.keras.layers.Embedding(\n",
        "        input_dim=len(encoder.get_vocabulary()),\n",
        "        output_dim=100,\n",
        "        # Use masking to handle the variable sequence lengths\n",
        "        mask_zero=True),\n",
        "    tf.keras.layers.LSTM(64),\n",
        "    tf.keras.layers.Dense(32, activation='relu'),\n",
        "    tf.keras.layers.Dropout(0.2),\n",
        "    tf.keras.layers.Dense(2, activation='sigmoid'),\n",
        "])\n",
        "\n",
        "bi_lstm = tf.keras.Sequential([\n",
        "    tf.keras.layers.Input(shape=(), dtype = \"string\"),\n",
        "    encoder,\n",
        "    tf.keras.layers.Embedding(\n",
        "        input_dim=len(encoder.get_vocabulary()),\n",
        "        output_dim=100,\n",
        "        # Use masking to handle the variable sequence lengths\n",
        "        mask_zero=True),\n",
        "    tf.keras.layers.Bidirectional(tf.keras.layers.LSTM(64)),\n",
        "    tf.keras.layers.Dense(32, activation='relu'),\n",
        "    tf.keras.layers.Dropout(0.2),\n",
        "    tf.keras.layers.Dense(2, activation='sigmoid'),\n",
        "])\n",
        "\n",
        "stacked_bi_lstm = tf.keras.Sequential([\n",
        "    tf.keras.layers.Input(shape=(), dtype = \"string\"),\n",
        "    encoder,\n",
        "    tf.keras.layers.Embedding(\n",
        "        input_dim=len(encoder.get_vocabulary()),\n",
        "        output_dim=100,\n",
        "        # Use masking to handle the variable sequence lengths\n",
        "        mask_zero=True),\n",
        "    tf.keras.layers.Bidirectional(tf.keras.layers.LSTM(64, return_sequences = True)),\n",
        "    tf.keras.layers.Bidirectional(tf.keras.layers.LSTM(64)),\n",
        "    tf.keras.layers.Dense(32, activation='relu'),\n",
        "    tf.keras.layers.Dropout(0.2),\n",
        "    tf.keras.layers.Dense(2, activation='sigmoid'),\n",
        "])\n",
        "\n",
        "gru = tf.keras.Sequential([\n",
        "    tf.keras.layers.Input(shape=(), dtype = \"string\"),\n",
        "    encoder,\n",
        "    tf.keras.layers.Embedding(\n",
        "        input_dim=len(encoder.get_vocabulary()),\n",
        "        output_dim=100,\n",
        "        # Use masking to handle the variable sequence lengths\n",
        "        mask_zero=True),\n",
        "    tf.keras.layers.GRU(64),\n",
        "    tf.keras.layers.Dense(32, activation='relu'),\n",
        "    tf.keras.layers.Dropout(0.2),\n",
        "    tf.keras.layers.Dense(2, activation='sigmoid'),\n",
        "])\n",
        "\n",
        "bi_gru= tf.keras.Sequential([\n",
        "    tf.keras.layers.Input(shape=(), dtype = \"string\"),\n",
        "    encoder,\n",
        "    tf.keras.layers.Embedding(\n",
        "        input_dim=len(encoder.get_vocabulary()),\n",
        "        output_dim=100,\n",
        "        # Use masking to handle the variable sequence lengths\n",
        "        mask_zero=True),\n",
        "    tf.keras.layers.Bidirectional(tf.keras.layers.GRU(64)),\n",
        "    tf.keras.layers.Dense(32, activation='relu'),\n",
        "    tf.keras.layers.Dropout(0.2),\n",
        "    tf.keras.layers.Dense(2, activation='sigmoid'),\n",
        "])\n",
        "\n",
        "stacked_bi_gru = tf.keras.Sequential([\n",
        "    tf.keras.layers.Input(shape=(), dtype = \"string\"),\n",
        "    encoder,\n",
        "    tf.keras.layers.Embedding(\n",
        "        input_dim=len(encoder.get_vocabulary()),\n",
        "        output_dim=100,\n",
        "        # Use masking to handle the variable sequence lengths\n",
        "        mask_zero=True),\n",
        "    tf.keras.layers.Bidirectional(tf.keras.layers.GRU(64, return_sequences = True)),\n",
        "    tf.keras.layers.Bidirectional(tf.keras.layers.GRU(64)),\n",
        "    tf.keras.layers.Dense(32, activation='relu'),\n",
        "    tf.keras.layers.Dropout(0.2),\n",
        "    tf.keras.layers.Dense(2, activation='sigmoid'),\n",
        "])"
      ]
    },
    {
      "cell_type": "markdown",
      "source": [
        "## Model Compiling"
      ],
      "metadata": {
        "id": "Kj_eJv9L2G_W"
      }
    },
    {
      "cell_type": "code",
      "execution_count": 57,
      "metadata": {
        "id": "WZt4kLBZdYT4"
      },
      "outputs": [],
      "source": [
        "lstm.compile(\n",
        "    optimizer = tf.keras.optimizers.Adam(learning_rate = 0.00003),\n",
        "    loss = tf.keras.losses.BinaryCrossentropy(),\n",
        "    metrics = tf.keras.metrics.BinaryAccuracy(),\n",
        ")\n",
        "\n",
        "\n",
        "bi_lstm.compile(\n",
        "    optimizer = tf.keras.optimizers.Adam(learning_rate = 0.00003),\n",
        "    loss = tf.keras.losses.BinaryCrossentropy(),\n",
        "    metrics = tf.keras.metrics.BinaryAccuracy(),\n",
        ")\n",
        "\n",
        "\n",
        "\n",
        "stacked_bi_lstm.compile(\n",
        "    optimizer = tf.keras.optimizers.Adam(learning_rate = 0.00003),\n",
        "    loss = tf.keras.losses.BinaryCrossentropy(),\n",
        "    metrics = tf.keras.metrics.BinaryAccuracy(),\n",
        ")\n",
        "\n",
        "\n",
        "\n",
        "gru.compile(\n",
        "    optimizer = tf.keras.optimizers.Adam(learning_rate = 0.00003),\n",
        "    loss = tf.keras.losses.BinaryCrossentropy(),\n",
        "    metrics = tf.keras.metrics.BinaryAccuracy(),\n",
        ")\n",
        "\n",
        "\n",
        "\n",
        "bi_gru.compile(\n",
        "    optimizer = tf.keras.optimizers.Adam(learning_rate = 0.00003),\n",
        "    loss = tf.keras.losses.BinaryCrossentropy(),\n",
        "    metrics = tf.keras.metrics.BinaryAccuracy(),\n",
        ")\n",
        "\n",
        "\n",
        "stacked_bi_gru.compile(\n",
        "    optimizer = tf.keras.optimizers.Adam(learning_rate = 0.00003),\n",
        "    loss = tf.keras.losses.BinaryCrossentropy(),\n",
        "    metrics = tf.keras.metrics.BinaryAccuracy(),\n",
        ")\n"
      ]
    },
    {
      "cell_type": "markdown",
      "source": [
        "## Model Training"
      ],
      "metadata": {
        "id": "TgUoRqSTFvsK"
      }
    },
    {
      "cell_type": "code",
      "source": [
        "lstm.fit(\n",
        "    x = X_train,\n",
        "    y = y_train,\n",
        "    batch_size = 16,\n",
        "    validation_data = (X_test, y_test),\n",
        "    epochs = 25,\n",
        ")"
      ],
      "metadata": {
        "colab": {
          "base_uri": "https://localhost:8080/"
        },
        "id": "oJdtNTKiXIa9",
        "outputId": "7c9888ad-0cb0-4b50-c606-205c393228f8"
      },
      "execution_count": 58,
      "outputs": [
        {
          "output_type": "stream",
          "name": "stdout",
          "text": [
            "Epoch 1/25\n",
            "85/85 [==============================] - 18s 150ms/step - loss: 0.6929 - binary_accuracy: 0.5271 - val_loss: 0.6911 - val_binary_accuracy: 0.6617\n",
            "Epoch 2/25\n",
            "85/85 [==============================] - 5s 57ms/step - loss: 0.6890 - binary_accuracy: 0.6873 - val_loss: 0.6857 - val_binary_accuracy: 0.7077\n",
            "Epoch 3/25\n",
            "85/85 [==============================] - 5s 53ms/step - loss: 0.6825 - binary_accuracy: 0.6907 - val_loss: 0.6758 - val_binary_accuracy: 0.7062\n",
            "Epoch 4/25\n",
            "85/85 [==============================] - 2s 26ms/step - loss: 0.6610 - binary_accuracy: 0.6910 - val_loss: 0.6213 - val_binary_accuracy: 0.7062\n",
            "Epoch 5/25\n",
            "85/85 [==============================] - 2s 27ms/step - loss: 0.5806 - binary_accuracy: 0.6862 - val_loss: 0.5596 - val_binary_accuracy: 0.7062\n",
            "Epoch 6/25\n",
            "85/85 [==============================] - 2s 19ms/step - loss: 0.5509 - binary_accuracy: 0.6884 - val_loss: 0.5486 - val_binary_accuracy: 0.7062\n",
            "Epoch 7/25\n",
            "85/85 [==============================] - 2s 18ms/step - loss: 0.5363 - binary_accuracy: 0.7055 - val_loss: 0.5345 - val_binary_accuracy: 0.7136\n",
            "Epoch 8/25\n",
            "85/85 [==============================] - 2s 22ms/step - loss: 0.5176 - binary_accuracy: 0.7366 - val_loss: 0.5172 - val_binary_accuracy: 0.7344\n",
            "Epoch 9/25\n",
            "85/85 [==============================] - 2s 19ms/step - loss: 0.4949 - binary_accuracy: 0.7808 - val_loss: 0.4954 - val_binary_accuracy: 0.7700\n",
            "Epoch 10/25\n",
            "85/85 [==============================] - 3s 34ms/step - loss: 0.4737 - binary_accuracy: 0.8290 - val_loss: 0.4760 - val_binary_accuracy: 0.8220\n",
            "Epoch 11/25\n",
            "85/85 [==============================] - 1s 17ms/step - loss: 0.4532 - binary_accuracy: 0.8572 - val_loss: 0.4526 - val_binary_accuracy: 0.8561\n",
            "Epoch 12/25\n",
            "85/85 [==============================] - 1s 14ms/step - loss: 0.4277 - binary_accuracy: 0.8809 - val_loss: 0.4296 - val_binary_accuracy: 0.8724\n",
            "Epoch 13/25\n",
            "85/85 [==============================] - 1s 13ms/step - loss: 0.4062 - binary_accuracy: 0.8891 - val_loss: 0.4163 - val_binary_accuracy: 0.8709\n",
            "Epoch 14/25\n",
            "85/85 [==============================] - 2s 18ms/step - loss: 0.3892 - binary_accuracy: 0.8939 - val_loss: 0.4040 - val_binary_accuracy: 0.8709\n",
            "Epoch 15/25\n",
            "85/85 [==============================] - 1s 13ms/step - loss: 0.3746 - binary_accuracy: 0.8999 - val_loss: 0.3910 - val_binary_accuracy: 0.8754\n",
            "Epoch 16/25\n",
            "85/85 [==============================] - 1s 16ms/step - loss: 0.3603 - binary_accuracy: 0.9076 - val_loss: 0.3815 - val_binary_accuracy: 0.8754\n",
            "Epoch 17/25\n",
            "85/85 [==============================] - 1s 12ms/step - loss: 0.3507 - binary_accuracy: 0.9091 - val_loss: 0.3780 - val_binary_accuracy: 0.8739\n",
            "Epoch 18/25\n",
            "85/85 [==============================] - 2s 24ms/step - loss: 0.3393 - binary_accuracy: 0.9139 - val_loss: 0.3736 - val_binary_accuracy: 0.8769\n",
            "Epoch 19/25\n",
            "85/85 [==============================] - 2s 18ms/step - loss: 0.3334 - binary_accuracy: 0.9151 - val_loss: 0.3696 - val_binary_accuracy: 0.8843\n",
            "Epoch 20/25\n",
            "85/85 [==============================] - 2s 19ms/step - loss: 0.3296 - binary_accuracy: 0.9154 - val_loss: 0.3688 - val_binary_accuracy: 0.8798\n",
            "Epoch 21/25\n",
            "85/85 [==============================] - 1s 15ms/step - loss: 0.3259 - binary_accuracy: 0.9165 - val_loss: 0.3672 - val_binary_accuracy: 0.8783\n",
            "Epoch 22/25\n",
            "85/85 [==============================] - 1s 13ms/step - loss: 0.3178 - binary_accuracy: 0.9188 - val_loss: 0.3649 - val_binary_accuracy: 0.8828\n",
            "Epoch 23/25\n",
            "85/85 [==============================] - 2s 25ms/step - loss: 0.3161 - binary_accuracy: 0.9180 - val_loss: 0.3627 - val_binary_accuracy: 0.8858\n",
            "Epoch 24/25\n",
            "85/85 [==============================] - 1s 15ms/step - loss: 0.3114 - binary_accuracy: 0.9195 - val_loss: 0.3619 - val_binary_accuracy: 0.8858\n",
            "Epoch 25/25\n",
            "85/85 [==============================] - 2s 19ms/step - loss: 0.3081 - binary_accuracy: 0.9195 - val_loss: 0.3603 - val_binary_accuracy: 0.8858\n"
          ]
        },
        {
          "output_type": "execute_result",
          "data": {
            "text/plain": [
              "<keras.callbacks.History at 0x7f3b202806d0>"
            ]
          },
          "metadata": {},
          "execution_count": 58
        }
      ]
    },
    {
      "cell_type": "code",
      "source": [
        "bi_lstm.fit(\n",
        "    x = X_train,\n",
        "    y = y_train,\n",
        "    batch_size = 16,\n",
        "    validation_data = (X_test, y_test),\n",
        "    epochs = 25,\n",
        ")"
      ],
      "metadata": {
        "id": "fouKNe-6XIjy",
        "colab": {
          "base_uri": "https://localhost:8080/"
        },
        "outputId": "6b50dd99-b603-4377-9c1e-1aa3a48bf5c9"
      },
      "execution_count": 59,
      "outputs": [
        {
          "output_type": "stream",
          "name": "stdout",
          "text": [
            "Epoch 1/25\n",
            "85/85 [==============================] - 22s 154ms/step - loss: 0.6889 - binary_accuracy: 0.6614 - val_loss: 0.6840 - val_binary_accuracy: 0.7077\n",
            "Epoch 2/25\n",
            "85/85 [==============================] - 5s 56ms/step - loss: 0.6762 - binary_accuracy: 0.6873 - val_loss: 0.6649 - val_binary_accuracy: 0.7062\n",
            "Epoch 3/25\n",
            "85/85 [==============================] - 3s 36ms/step - loss: 0.6430 - binary_accuracy: 0.6869 - val_loss: 0.6051 - val_binary_accuracy: 0.7062\n",
            "Epoch 4/25\n",
            "85/85 [==============================] - 5s 56ms/step - loss: 0.5646 - binary_accuracy: 0.6869 - val_loss: 0.5546 - val_binary_accuracy: 0.7062\n",
            "Epoch 5/25\n",
            "85/85 [==============================] - 2s 26ms/step - loss: 0.5368 - binary_accuracy: 0.6899 - val_loss: 0.5375 - val_binary_accuracy: 0.7077\n",
            "Epoch 6/25\n",
            "85/85 [==============================] - 2s 23ms/step - loss: 0.5187 - binary_accuracy: 0.7047 - val_loss: 0.5163 - val_binary_accuracy: 0.7136\n",
            "Epoch 7/25\n",
            "85/85 [==============================] - 2s 21ms/step - loss: 0.4953 - binary_accuracy: 0.7318 - val_loss: 0.4974 - val_binary_accuracy: 0.7226\n",
            "Epoch 8/25\n",
            "85/85 [==============================] - 2s 20ms/step - loss: 0.4706 - binary_accuracy: 0.7574 - val_loss: 0.4724 - val_binary_accuracy: 0.7522\n",
            "Epoch 9/25\n",
            "85/85 [==============================] - 2s 19ms/step - loss: 0.4508 - binary_accuracy: 0.7978 - val_loss: 0.4517 - val_binary_accuracy: 0.7819\n",
            "Epoch 10/25\n",
            "85/85 [==============================] - 3s 33ms/step - loss: 0.4251 - binary_accuracy: 0.8264 - val_loss: 0.4338 - val_binary_accuracy: 0.8160\n",
            "Epoch 11/25\n",
            "85/85 [==============================] - 2s 24ms/step - loss: 0.4075 - binary_accuracy: 0.8505 - val_loss: 0.4176 - val_binary_accuracy: 0.8368\n",
            "Epoch 12/25\n",
            "85/85 [==============================] - 2s 20ms/step - loss: 0.3905 - binary_accuracy: 0.8709 - val_loss: 0.4083 - val_binary_accuracy: 0.8442\n",
            "Epoch 13/25\n",
            "85/85 [==============================] - 2s 24ms/step - loss: 0.3753 - binary_accuracy: 0.8820 - val_loss: 0.3990 - val_binary_accuracy: 0.8561\n",
            "Epoch 14/25\n",
            "85/85 [==============================] - 2s 19ms/step - loss: 0.3626 - binary_accuracy: 0.8895 - val_loss: 0.3953 - val_binary_accuracy: 0.8635\n",
            "Epoch 15/25\n",
            "85/85 [==============================] - 2s 26ms/step - loss: 0.3527 - binary_accuracy: 0.8961 - val_loss: 0.3827 - val_binary_accuracy: 0.8665\n",
            "Epoch 16/25\n",
            "85/85 [==============================] - 2s 20ms/step - loss: 0.3376 - binary_accuracy: 0.9028 - val_loss: 0.3762 - val_binary_accuracy: 0.8724\n",
            "Epoch 17/25\n",
            "85/85 [==============================] - 3s 40ms/step - loss: 0.3278 - binary_accuracy: 0.9050 - val_loss: 0.3758 - val_binary_accuracy: 0.8724\n",
            "Epoch 18/25\n",
            "85/85 [==============================] - 2s 18ms/step - loss: 0.3185 - binary_accuracy: 0.9102 - val_loss: 0.3715 - val_binary_accuracy: 0.8769\n",
            "Epoch 19/25\n",
            "85/85 [==============================] - 2s 22ms/step - loss: 0.3061 - binary_accuracy: 0.9169 - val_loss: 0.3574 - val_binary_accuracy: 0.8754\n",
            "Epoch 20/25\n",
            "85/85 [==============================] - 2s 20ms/step - loss: 0.2963 - binary_accuracy: 0.9225 - val_loss: 0.3605 - val_binary_accuracy: 0.8769\n",
            "Epoch 21/25\n",
            "85/85 [==============================] - 2s 20ms/step - loss: 0.2865 - binary_accuracy: 0.9240 - val_loss: 0.3729 - val_binary_accuracy: 0.8769\n",
            "Epoch 22/25\n",
            "85/85 [==============================] - 2s 18ms/step - loss: 0.2765 - binary_accuracy: 0.9254 - val_loss: 0.3526 - val_binary_accuracy: 0.8769\n",
            "Epoch 23/25\n",
            "85/85 [==============================] - 1s 17ms/step - loss: 0.2647 - binary_accuracy: 0.9295 - val_loss: 0.3529 - val_binary_accuracy: 0.8798\n",
            "Epoch 24/25\n",
            "85/85 [==============================] - 2s 25ms/step - loss: 0.2589 - binary_accuracy: 0.9284 - val_loss: 0.3411 - val_binary_accuracy: 0.8783\n",
            "Epoch 25/25\n",
            "85/85 [==============================] - 2s 28ms/step - loss: 0.2495 - binary_accuracy: 0.9351 - val_loss: 0.3447 - val_binary_accuracy: 0.8783\n"
          ]
        },
        {
          "output_type": "execute_result",
          "data": {
            "text/plain": [
              "<keras.callbacks.History at 0x7f3aa10942e0>"
            ]
          },
          "metadata": {},
          "execution_count": 59
        }
      ]
    },
    {
      "cell_type": "code",
      "source": [
        "stacked_bi_lstm.fit(\n",
        "    x = X_train,\n",
        "    y = y_train,\n",
        "    batch_size = 16,\n",
        "    validation_data = (X_test, y_test),\n",
        "    epochs = 25,\n",
        ")"
      ],
      "metadata": {
        "id": "I3Jl6uUBXIxV",
        "colab": {
          "base_uri": "https://localhost:8080/"
        },
        "outputId": "97938f24-be49-49a0-d30b-5b578e004a40"
      },
      "execution_count": 60,
      "outputs": [
        {
          "output_type": "stream",
          "name": "stdout",
          "text": [
            "Epoch 1/25\n",
            "85/85 [==============================] - 34s 195ms/step - loss: 0.6878 - binary_accuracy: 0.6747 - val_loss: 0.6794 - val_binary_accuracy: 0.7062\n",
            "Epoch 2/25\n",
            "85/85 [==============================] - 7s 85ms/step - loss: 0.6607 - binary_accuracy: 0.6869 - val_loss: 0.6225 - val_binary_accuracy: 0.7062\n",
            "Epoch 3/25\n",
            "85/85 [==============================] - 5s 56ms/step - loss: 0.5641 - binary_accuracy: 0.6869 - val_loss: 0.5510 - val_binary_accuracy: 0.7062\n",
            "Epoch 4/25\n",
            "85/85 [==============================] - 4s 41ms/step - loss: 0.5322 - binary_accuracy: 0.6869 - val_loss: 0.5316 - val_binary_accuracy: 0.7062\n",
            "Epoch 5/25\n",
            "85/85 [==============================] - 5s 60ms/step - loss: 0.5029 - binary_accuracy: 0.7059 - val_loss: 0.5048 - val_binary_accuracy: 0.7166\n",
            "Epoch 6/25\n",
            "85/85 [==============================] - 3s 38ms/step - loss: 0.4704 - binary_accuracy: 0.7593 - val_loss: 0.4747 - val_binary_accuracy: 0.7463\n",
            "Epoch 7/25\n",
            "85/85 [==============================] - 3s 30ms/step - loss: 0.4408 - binary_accuracy: 0.8149 - val_loss: 0.4466 - val_binary_accuracy: 0.8027\n",
            "Epoch 8/25\n",
            "85/85 [==============================] - 3s 33ms/step - loss: 0.4129 - binary_accuracy: 0.8609 - val_loss: 0.4236 - val_binary_accuracy: 0.8487\n",
            "Epoch 9/25\n",
            "85/85 [==============================] - 4s 47ms/step - loss: 0.3842 - binary_accuracy: 0.8787 - val_loss: 0.4134 - val_binary_accuracy: 0.8605\n",
            "Epoch 10/25\n",
            "85/85 [==============================] - 3s 36ms/step - loss: 0.3605 - binary_accuracy: 0.8921 - val_loss: 0.3908 - val_binary_accuracy: 0.8665\n",
            "Epoch 11/25\n",
            "85/85 [==============================] - 3s 30ms/step - loss: 0.3369 - binary_accuracy: 0.8961 - val_loss: 0.3708 - val_binary_accuracy: 0.8783\n",
            "Epoch 12/25\n",
            "85/85 [==============================] - 3s 31ms/step - loss: 0.3128 - binary_accuracy: 0.9058 - val_loss: 0.3583 - val_binary_accuracy: 0.8739\n",
            "Epoch 13/25\n",
            "85/85 [==============================] - 3s 33ms/step - loss: 0.2905 - binary_accuracy: 0.9091 - val_loss: 0.3440 - val_binary_accuracy: 0.8769\n",
            "Epoch 14/25\n",
            "85/85 [==============================] - 4s 53ms/step - loss: 0.2726 - binary_accuracy: 0.9143 - val_loss: 0.3381 - val_binary_accuracy: 0.8813\n",
            "Epoch 15/25\n",
            "85/85 [==============================] - 2s 28ms/step - loss: 0.2581 - binary_accuracy: 0.9154 - val_loss: 0.3367 - val_binary_accuracy: 0.8798\n",
            "Epoch 16/25\n",
            "85/85 [==============================] - 3s 30ms/step - loss: 0.2491 - binary_accuracy: 0.9162 - val_loss: 0.3238 - val_binary_accuracy: 0.8783\n",
            "Epoch 17/25\n",
            "85/85 [==============================] - 3s 32ms/step - loss: 0.2365 - binary_accuracy: 0.9210 - val_loss: 0.3313 - val_binary_accuracy: 0.8798\n",
            "Epoch 18/25\n",
            "85/85 [==============================] - 4s 42ms/step - loss: 0.2243 - binary_accuracy: 0.9240 - val_loss: 0.3233 - val_binary_accuracy: 0.8828\n",
            "Epoch 19/25\n",
            "85/85 [==============================] - 3s 35ms/step - loss: 0.2151 - binary_accuracy: 0.9292 - val_loss: 0.3178 - val_binary_accuracy: 0.8843\n",
            "Epoch 20/25\n",
            "85/85 [==============================] - 2s 28ms/step - loss: 0.2029 - binary_accuracy: 0.9318 - val_loss: 0.3173 - val_binary_accuracy: 0.8858\n",
            "Epoch 21/25\n",
            "85/85 [==============================] - 2s 26ms/step - loss: 0.1941 - binary_accuracy: 0.9373 - val_loss: 0.3151 - val_binary_accuracy: 0.8858\n",
            "Epoch 22/25\n",
            "85/85 [==============================] - 3s 32ms/step - loss: 0.1823 - binary_accuracy: 0.9410 - val_loss: 0.3257 - val_binary_accuracy: 0.8858\n",
            "Epoch 23/25\n",
            "85/85 [==============================] - 4s 42ms/step - loss: 0.1788 - binary_accuracy: 0.9414 - val_loss: 0.3237 - val_binary_accuracy: 0.8902\n",
            "Epoch 24/25\n",
            "85/85 [==============================] - 3s 34ms/step - loss: 0.1656 - binary_accuracy: 0.9518 - val_loss: 0.3211 - val_binary_accuracy: 0.9021\n",
            "Epoch 25/25\n",
            "85/85 [==============================] - 3s 30ms/step - loss: 0.1582 - binary_accuracy: 0.9555 - val_loss: 0.3239 - val_binary_accuracy: 0.9036\n"
          ]
        },
        {
          "output_type": "execute_result",
          "data": {
            "text/plain": [
              "<keras.callbacks.History at 0x7f3a86e48970>"
            ]
          },
          "metadata": {},
          "execution_count": 60
        }
      ]
    },
    {
      "cell_type": "code",
      "source": [
        "gru.fit(\n",
        "    x = X_train,\n",
        "    y = y_train,\n",
        "    batch_size = 16,\n",
        "    validation_data = (X_test, y_test),\n",
        "    epochs = 25,\n",
        ")"
      ],
      "metadata": {
        "id": "qyZu_OFWXI6Z",
        "colab": {
          "base_uri": "https://localhost:8080/"
        },
        "outputId": "3d75c878-8885-4964-a4d5-564e64db21f3"
      },
      "execution_count": 61,
      "outputs": [
        {
          "output_type": "stream",
          "name": "stdout",
          "text": [
            "Epoch 1/25\n",
            "85/85 [==============================] - 16s 139ms/step - loss: 0.6912 - binary_accuracy: 0.5883 - val_loss: 0.6888 - val_binary_accuracy: 0.6869\n",
            "Epoch 2/25\n",
            "85/85 [==============================] - 5s 54ms/step - loss: 0.6865 - binary_accuracy: 0.6762 - val_loss: 0.6832 - val_binary_accuracy: 0.7062\n",
            "Epoch 3/25\n",
            "85/85 [==============================] - 4s 44ms/step - loss: 0.6807 - binary_accuracy: 0.6836 - val_loss: 0.6755 - val_binary_accuracy: 0.7062\n",
            "Epoch 4/25\n",
            "85/85 [==============================] - 3s 32ms/step - loss: 0.6723 - binary_accuracy: 0.6869 - val_loss: 0.6650 - val_binary_accuracy: 0.7062\n",
            "Epoch 5/25\n",
            "85/85 [==============================] - 1s 17ms/step - loss: 0.6602 - binary_accuracy: 0.6873 - val_loss: 0.6500 - val_binary_accuracy: 0.7062\n",
            "Epoch 6/25\n",
            "85/85 [==============================] - 2s 20ms/step - loss: 0.6422 - binary_accuracy: 0.6866 - val_loss: 0.6262 - val_binary_accuracy: 0.7062\n",
            "Epoch 7/25\n",
            "85/85 [==============================] - 2s 22ms/step - loss: 0.6148 - binary_accuracy: 0.6877 - val_loss: 0.5866 - val_binary_accuracy: 0.7062\n",
            "Epoch 8/25\n",
            "85/85 [==============================] - 2s 21ms/step - loss: 0.5633 - binary_accuracy: 0.6877 - val_loss: 0.5415 - val_binary_accuracy: 0.7062\n",
            "Epoch 9/25\n",
            "85/85 [==============================] - 3s 28ms/step - loss: 0.5305 - binary_accuracy: 0.6866 - val_loss: 0.5220 - val_binary_accuracy: 0.7062\n",
            "Epoch 10/25\n",
            "85/85 [==============================] - 2s 20ms/step - loss: 0.5053 - binary_accuracy: 0.6925 - val_loss: 0.5041 - val_binary_accuracy: 0.7062\n",
            "Epoch 11/25\n",
            "85/85 [==============================] - 1s 12ms/step - loss: 0.4811 - binary_accuracy: 0.7107 - val_loss: 0.4898 - val_binary_accuracy: 0.7136\n",
            "Epoch 12/25\n",
            "85/85 [==============================] - 1s 12ms/step - loss: 0.4589 - binary_accuracy: 0.7426 - val_loss: 0.4697 - val_binary_accuracy: 0.7315\n",
            "Epoch 13/25\n",
            "85/85 [==============================] - 1s 14ms/step - loss: 0.4392 - binary_accuracy: 0.7726 - val_loss: 0.4586 - val_binary_accuracy: 0.7537\n",
            "Epoch 14/25\n",
            "85/85 [==============================] - 1s 14ms/step - loss: 0.4224 - binary_accuracy: 0.8008 - val_loss: 0.4478 - val_binary_accuracy: 0.7760\n",
            "Epoch 15/25\n",
            "85/85 [==============================] - 1s 14ms/step - loss: 0.4071 - binary_accuracy: 0.8242 - val_loss: 0.4327 - val_binary_accuracy: 0.7967\n",
            "Epoch 16/25\n",
            "85/85 [==============================] - 1s 14ms/step - loss: 0.3921 - binary_accuracy: 0.8461 - val_loss: 0.4281 - val_binary_accuracy: 0.8116\n",
            "Epoch 17/25\n",
            "85/85 [==============================] - 1s 14ms/step - loss: 0.3806 - binary_accuracy: 0.8602 - val_loss: 0.4195 - val_binary_accuracy: 0.8234\n",
            "Epoch 18/25\n",
            "85/85 [==============================] - 1s 17ms/step - loss: 0.3631 - binary_accuracy: 0.8754 - val_loss: 0.4131 - val_binary_accuracy: 0.8457\n",
            "Epoch 19/25\n",
            "85/85 [==============================] - 2s 21ms/step - loss: 0.3503 - binary_accuracy: 0.8880 - val_loss: 0.4091 - val_binary_accuracy: 0.8487\n",
            "Epoch 20/25\n",
            "85/85 [==============================] - 2s 19ms/step - loss: 0.3347 - binary_accuracy: 0.8947 - val_loss: 0.4052 - val_binary_accuracy: 0.8546\n",
            "Epoch 21/25\n",
            "85/85 [==============================] - 1s 13ms/step - loss: 0.3280 - binary_accuracy: 0.9010 - val_loss: 0.3959 - val_binary_accuracy: 0.8516\n",
            "Epoch 22/25\n",
            "85/85 [==============================] - 1s 13ms/step - loss: 0.3144 - binary_accuracy: 0.9091 - val_loss: 0.3931 - val_binary_accuracy: 0.8546\n",
            "Epoch 23/25\n",
            "85/85 [==============================] - 1s 12ms/step - loss: 0.3018 - binary_accuracy: 0.9088 - val_loss: 0.3919 - val_binary_accuracy: 0.8516\n",
            "Epoch 24/25\n",
            "85/85 [==============================] - 1s 14ms/step - loss: 0.2909 - binary_accuracy: 0.9128 - val_loss: 0.3884 - val_binary_accuracy: 0.8546\n",
            "Epoch 25/25\n",
            "85/85 [==============================] - 1s 16ms/step - loss: 0.2783 - binary_accuracy: 0.9177 - val_loss: 0.3839 - val_binary_accuracy: 0.8576\n"
          ]
        },
        {
          "output_type": "execute_result",
          "data": {
            "text/plain": [
              "<keras.callbacks.History at 0x7f3a501a43d0>"
            ]
          },
          "metadata": {},
          "execution_count": 61
        }
      ]
    },
    {
      "cell_type": "code",
      "source": [
        "bi_gru.fit(\n",
        "    x = X_train,\n",
        "    y = y_train,\n",
        "    batch_size = 16,\n",
        "    validation_data = (X_test, y_test),\n",
        "    epochs = 25,\n",
        ")"
      ],
      "metadata": {
        "id": "cPhlEtsiXJA_",
        "colab": {
          "base_uri": "https://localhost:8080/"
        },
        "outputId": "2a2aa15b-4d8d-4aa5-a46e-1dd2baaefade"
      },
      "execution_count": 62,
      "outputs": [
        {
          "output_type": "stream",
          "name": "stdout",
          "text": [
            "Epoch 1/25\n",
            "85/85 [==============================] - 22s 151ms/step - loss: 0.6885 - binary_accuracy: 0.6402 - val_loss: 0.6841 - val_binary_accuracy: 0.7047\n",
            "Epoch 2/25\n",
            "85/85 [==============================] - 5s 60ms/step - loss: 0.6797 - binary_accuracy: 0.6929 - val_loss: 0.6735 - val_binary_accuracy: 0.7077\n",
            "Epoch 3/25\n",
            "85/85 [==============================] - 5s 53ms/step - loss: 0.6680 - binary_accuracy: 0.6892 - val_loss: 0.6584 - val_binary_accuracy: 0.7062\n",
            "Epoch 4/25\n",
            "85/85 [==============================] - 2s 22ms/step - loss: 0.6519 - binary_accuracy: 0.6921 - val_loss: 0.6371 - val_binary_accuracy: 0.7062\n",
            "Epoch 5/25\n",
            "85/85 [==============================] - 3s 35ms/step - loss: 0.6269 - binary_accuracy: 0.6907 - val_loss: 0.6051 - val_binary_accuracy: 0.7062\n",
            "Epoch 6/25\n",
            "85/85 [==============================] - 2s 22ms/step - loss: 0.5887 - binary_accuracy: 0.6929 - val_loss: 0.5579 - val_binary_accuracy: 0.7062\n",
            "Epoch 7/25\n",
            "85/85 [==============================] - 2s 22ms/step - loss: 0.5388 - binary_accuracy: 0.6981 - val_loss: 0.5126 - val_binary_accuracy: 0.7092\n",
            "Epoch 8/25\n",
            "85/85 [==============================] - 4s 45ms/step - loss: 0.4939 - binary_accuracy: 0.7122 - val_loss: 0.4827 - val_binary_accuracy: 0.7166\n",
            "Epoch 9/25\n",
            "85/85 [==============================] - 2s 26ms/step - loss: 0.4617 - binary_accuracy: 0.7407 - val_loss: 0.4564 - val_binary_accuracy: 0.7344\n",
            "Epoch 10/25\n",
            "85/85 [==============================] - 1s 16ms/step - loss: 0.4347 - binary_accuracy: 0.7741 - val_loss: 0.4337 - val_binary_accuracy: 0.7671\n",
            "Epoch 11/25\n",
            "85/85 [==============================] - 2s 23ms/step - loss: 0.4106 - binary_accuracy: 0.8082 - val_loss: 0.4256 - val_binary_accuracy: 0.7849\n",
            "Epoch 12/25\n",
            "85/85 [==============================] - 2s 18ms/step - loss: 0.3924 - binary_accuracy: 0.8335 - val_loss: 0.4047 - val_binary_accuracy: 0.8175\n",
            "Epoch 13/25\n",
            "85/85 [==============================] - 2s 17ms/step - loss: 0.3731 - binary_accuracy: 0.8531 - val_loss: 0.3878 - val_binary_accuracy: 0.8383\n",
            "Epoch 14/25\n",
            "85/85 [==============================] - 1s 17ms/step - loss: 0.3567 - binary_accuracy: 0.8720 - val_loss: 0.3822 - val_binary_accuracy: 0.8531\n",
            "Epoch 15/25\n",
            "85/85 [==============================] - 3s 31ms/step - loss: 0.3444 - binary_accuracy: 0.8858 - val_loss: 0.3666 - val_binary_accuracy: 0.8650\n",
            "Epoch 16/25\n",
            "85/85 [==============================] - 2s 25ms/step - loss: 0.3316 - binary_accuracy: 0.8939 - val_loss: 0.3580 - val_binary_accuracy: 0.8709\n",
            "Epoch 17/25\n",
            "85/85 [==============================] - 2s 20ms/step - loss: 0.3225 - binary_accuracy: 0.9013 - val_loss: 0.3465 - val_binary_accuracy: 0.8843\n",
            "Epoch 18/25\n",
            "85/85 [==============================] - 2s 18ms/step - loss: 0.3069 - binary_accuracy: 0.9076 - val_loss: 0.3439 - val_binary_accuracy: 0.8902\n",
            "Epoch 19/25\n",
            "85/85 [==============================] - 1s 17ms/step - loss: 0.2963 - binary_accuracy: 0.9106 - val_loss: 0.3313 - val_binary_accuracy: 0.8917\n",
            "Epoch 20/25\n",
            "85/85 [==============================] - 2s 22ms/step - loss: 0.2833 - binary_accuracy: 0.9169 - val_loss: 0.3326 - val_binary_accuracy: 0.8917\n",
            "Epoch 21/25\n",
            "85/85 [==============================] - 1s 17ms/step - loss: 0.2699 - binary_accuracy: 0.9217 - val_loss: 0.3155 - val_binary_accuracy: 0.8976\n",
            "Epoch 22/25\n",
            "85/85 [==============================] - 2s 28ms/step - loss: 0.2621 - binary_accuracy: 0.9236 - val_loss: 0.3076 - val_binary_accuracy: 0.9021\n",
            "Epoch 23/25\n",
            "85/85 [==============================] - 2s 26ms/step - loss: 0.2520 - binary_accuracy: 0.9273 - val_loss: 0.3031 - val_binary_accuracy: 0.9006\n",
            "Epoch 24/25\n",
            "85/85 [==============================] - 1s 15ms/step - loss: 0.2400 - binary_accuracy: 0.9277 - val_loss: 0.2994 - val_binary_accuracy: 0.9006\n",
            "Epoch 25/25\n",
            "85/85 [==============================] - 2s 19ms/step - loss: 0.2292 - binary_accuracy: 0.9362 - val_loss: 0.2948 - val_binary_accuracy: 0.9021\n"
          ]
        },
        {
          "output_type": "execute_result",
          "data": {
            "text/plain": [
              "<keras.callbacks.History at 0x7f3a48572da0>"
            ]
          },
          "metadata": {},
          "execution_count": 62
        }
      ]
    },
    {
      "cell_type": "code",
      "source": [
        "stacked_bi_gru.fit(\n",
        "    x = X_train,\n",
        "    y = y_train,\n",
        "    batch_size = 16,\n",
        "    validation_data = (X_test, y_test),\n",
        "    epochs = 25,\n",
        ")"
      ],
      "metadata": {
        "colab": {
          "base_uri": "https://localhost:8080/"
        },
        "id": "xVKsRu2UXJGk",
        "outputId": "768ed4c2-0a88-4d35-999f-80c48688aae3"
      },
      "execution_count": 63,
      "outputs": [
        {
          "output_type": "stream",
          "name": "stdout",
          "text": [
            "Epoch 1/25\n",
            "85/85 [==============================] - 34s 204ms/step - loss: 0.6854 - binary_accuracy: 0.6602 - val_loss: 0.6747 - val_binary_accuracy: 0.7062\n",
            "Epoch 2/25\n",
            "85/85 [==============================] - 8s 87ms/step - loss: 0.6646 - binary_accuracy: 0.6895 - val_loss: 0.6467 - val_binary_accuracy: 0.7062\n",
            "Epoch 3/25\n",
            "85/85 [==============================] - 4s 53ms/step - loss: 0.6311 - binary_accuracy: 0.6869 - val_loss: 0.6013 - val_binary_accuracy: 0.7062\n",
            "Epoch 4/25\n",
            "85/85 [==============================] - 5s 54ms/step - loss: 0.5819 - binary_accuracy: 0.6873 - val_loss: 0.5491 - val_binary_accuracy: 0.7062\n",
            "Epoch 5/25\n",
            "85/85 [==============================] - 3s 36ms/step - loss: 0.5390 - binary_accuracy: 0.6947 - val_loss: 0.5100 - val_binary_accuracy: 0.7107\n",
            "Epoch 6/25\n",
            "85/85 [==============================] - 3s 31ms/step - loss: 0.4875 - binary_accuracy: 0.7341 - val_loss: 0.4618 - val_binary_accuracy: 0.7285\n",
            "Epoch 7/25\n",
            "85/85 [==============================] - 3s 36ms/step - loss: 0.4284 - binary_accuracy: 0.7927 - val_loss: 0.4049 - val_binary_accuracy: 0.7982\n",
            "Epoch 8/25\n",
            "85/85 [==============================] - 5s 52ms/step - loss: 0.3776 - binary_accuracy: 0.8561 - val_loss: 0.3666 - val_binary_accuracy: 0.8605\n",
            "Epoch 9/25\n",
            "85/85 [==============================] - 3s 36ms/step - loss: 0.3403 - binary_accuracy: 0.8895 - val_loss: 0.3440 - val_binary_accuracy: 0.8739\n",
            "Epoch 10/25\n",
            "85/85 [==============================] - 3s 31ms/step - loss: 0.3045 - binary_accuracy: 0.8991 - val_loss: 0.3237 - val_binary_accuracy: 0.8887\n",
            "Epoch 11/25\n",
            "85/85 [==============================] - 2s 26ms/step - loss: 0.2806 - binary_accuracy: 0.9073 - val_loss: 0.3034 - val_binary_accuracy: 0.8961\n",
            "Epoch 12/25\n",
            "85/85 [==============================] - 4s 46ms/step - loss: 0.2549 - binary_accuracy: 0.9117 - val_loss: 0.2951 - val_binary_accuracy: 0.8991\n",
            "Epoch 13/25\n",
            "85/85 [==============================] - 3s 38ms/step - loss: 0.2372 - binary_accuracy: 0.9177 - val_loss: 0.2888 - val_binary_accuracy: 0.8991\n",
            "Epoch 14/25\n",
            "85/85 [==============================] - 3s 29ms/step - loss: 0.2148 - binary_accuracy: 0.9277 - val_loss: 0.2803 - val_binary_accuracy: 0.9050\n",
            "Epoch 15/25\n",
            "85/85 [==============================] - 2s 29ms/step - loss: 0.2028 - binary_accuracy: 0.9340 - val_loss: 0.2748 - val_binary_accuracy: 0.9065\n",
            "Epoch 16/25\n",
            "85/85 [==============================] - 3s 35ms/step - loss: 0.1911 - binary_accuracy: 0.9369 - val_loss: 0.2760 - val_binary_accuracy: 0.9080\n",
            "Epoch 17/25\n",
            "85/85 [==============================] - 4s 50ms/step - loss: 0.1758 - binary_accuracy: 0.9447 - val_loss: 0.2775 - val_binary_accuracy: 0.9065\n",
            "Epoch 18/25\n",
            "85/85 [==============================] - 2s 27ms/step - loss: 0.1658 - binary_accuracy: 0.9440 - val_loss: 0.2688 - val_binary_accuracy: 0.9065\n",
            "Epoch 19/25\n",
            "85/85 [==============================] - 3s 30ms/step - loss: 0.1544 - binary_accuracy: 0.9518 - val_loss: 0.2755 - val_binary_accuracy: 0.9125\n",
            "Epoch 20/25\n",
            "85/85 [==============================] - 2s 27ms/step - loss: 0.1461 - binary_accuracy: 0.9562 - val_loss: 0.2777 - val_binary_accuracy: 0.9139\n",
            "Epoch 21/25\n",
            "85/85 [==============================] - 3s 32ms/step - loss: 0.1430 - binary_accuracy: 0.9562 - val_loss: 0.2774 - val_binary_accuracy: 0.9110\n",
            "Epoch 22/25\n",
            "85/85 [==============================] - 4s 46ms/step - loss: 0.1324 - binary_accuracy: 0.9640 - val_loss: 0.2794 - val_binary_accuracy: 0.9110\n",
            "Epoch 23/25\n",
            "85/85 [==============================] - 3s 30ms/step - loss: 0.1209 - binary_accuracy: 0.9659 - val_loss: 0.2859 - val_binary_accuracy: 0.9139\n",
            "Epoch 24/25\n",
            "85/85 [==============================] - 2s 29ms/step - loss: 0.1245 - binary_accuracy: 0.9655 - val_loss: 0.2942 - val_binary_accuracy: 0.9184\n",
            "Epoch 25/25\n",
            "85/85 [==============================] - 2s 29ms/step - loss: 0.1124 - binary_accuracy: 0.9692 - val_loss: 0.2966 - val_binary_accuracy: 0.9199\n"
          ]
        },
        {
          "output_type": "execute_result",
          "data": {
            "text/plain": [
              "<keras.callbacks.History at 0x7f3a38705e40>"
            ]
          },
          "metadata": {},
          "execution_count": 63
        }
      ]
    },
    {
      "cell_type": "markdown",
      "source": [
        "## Model Evaluation"
      ],
      "metadata": {
        "id": "1pqPbCoB2Rzu"
      }
    },
    {
      "cell_type": "code",
      "execution_count": 64,
      "metadata": {
        "id": "w3Cl563egMyQ",
        "colab": {
          "base_uri": "https://localhost:8080/"
        },
        "outputId": "6947115b-6574-46ad-fad9-8b197279766a"
      },
      "outputs": [
        {
          "output_type": "stream",
          "name": "stdout",
          "text": [
            "11/11 [==============================] - 1s 4ms/step\n",
            "              precision    recall  f1-score   support\n",
            "\n",
            "   apresiasi       0.97      0.67      0.79       123\n",
            "      kritik       0.95      0.92      0.93       262\n",
            "\n",
            "   micro avg       0.95      0.84      0.89       385\n",
            "   macro avg       0.96      0.80      0.86       385\n",
            "weighted avg       0.95      0.84      0.89       385\n",
            " samples avg       0.96      0.89      0.91       385\n",
            "\n"
          ]
        }
      ],
      "source": [
        "from sklearn.metrics import classification_report\n",
        "\n",
        "class_labels = [\"apresiasi\", \"kritik\"]\n",
        "\n",
        "y_pred = lstm.predict(X_test) > 0.5\n",
        "print(classification_report(y_test, y_pred, target_names=class_labels))"
      ]
    },
    {
      "cell_type": "code",
      "source": [
        "y_pred = bi_lstm.predict(X_test) > 0.5\n",
        "print(classification_report(y_test, y_pred, target_names=class_labels))"
      ],
      "metadata": {
        "id": "MkofvwLyVFWm",
        "colab": {
          "base_uri": "https://localhost:8080/"
        },
        "outputId": "10c864ff-1f02-4512-9b00-f65180596e9a"
      },
      "execution_count": 65,
      "outputs": [
        {
          "output_type": "stream",
          "name": "stdout",
          "text": [
            "11/11 [==============================] - 3s 8ms/step\n",
            "              precision    recall  f1-score   support\n",
            "\n",
            "   apresiasi       0.92      0.64      0.76       123\n",
            "      kritik       0.94      0.94      0.94       262\n",
            "\n",
            "   micro avg       0.94      0.84      0.89       385\n",
            "   macro avg       0.93      0.79      0.85       385\n",
            "weighted avg       0.93      0.84      0.88       385\n",
            " samples avg       0.94      0.89      0.90       385\n",
            "\n"
          ]
        }
      ]
    },
    {
      "cell_type": "code",
      "source": [
        "y_pred = stacked_bi_lstm.predict(X_test) > 0.5\n",
        "print(classification_report(y_test, y_pred, target_names=class_labels))"
      ],
      "metadata": {
        "colab": {
          "base_uri": "https://localhost:8080/"
        },
        "id": "6AG3_TVmVGGO",
        "outputId": "bf17ae58-0200-4178-dfe2-c6d50b7baf22"
      },
      "execution_count": 66,
      "outputs": [
        {
          "output_type": "stream",
          "name": "stdout",
          "text": [
            "11/11 [==============================] - 5s 11ms/step\n",
            "              precision    recall  f1-score   support\n",
            "\n",
            "   apresiasi       0.94      0.76      0.84       123\n",
            "      kritik       0.96      0.93      0.94       262\n",
            "\n",
            "   micro avg       0.95      0.88      0.91       385\n",
            "   macro avg       0.95      0.85      0.89       385\n",
            "weighted avg       0.95      0.88      0.91       385\n",
            " samples avg       0.96      0.91      0.92       385\n",
            "\n"
          ]
        }
      ]
    },
    {
      "cell_type": "code",
      "source": [
        "y_pred = gru.predict(X_test) > 0.5\n",
        "print(classification_report(y_test, y_pred, target_names=class_labels))"
      ],
      "metadata": {
        "id": "0mZOHJfpVGNb",
        "colab": {
          "base_uri": "https://localhost:8080/"
        },
        "outputId": "4a6e7c0a-526e-4fe1-f2a3-1c66a8bd9001"
      },
      "execution_count": 67,
      "outputs": [
        {
          "output_type": "stream",
          "name": "stdout",
          "text": [
            "11/11 [==============================] - 1s 4ms/step\n",
            "              precision    recall  f1-score   support\n",
            "\n",
            "   apresiasi       0.86      0.59      0.70       123\n",
            "      kritik       0.94      0.93      0.93       262\n",
            "\n",
            "   micro avg       0.92      0.82      0.87       385\n",
            "   macro avg       0.90      0.76      0.82       385\n",
            "weighted avg       0.92      0.82      0.86       385\n",
            " samples avg       0.93      0.86      0.88       385\n",
            "\n"
          ]
        }
      ]
    },
    {
      "cell_type": "code",
      "source": [
        "y_pred = bi_gru.predict(X_test) > 0.5\n",
        "print(classification_report(y_test, y_pred, target_names=class_labels))"
      ],
      "metadata": {
        "id": "IEG0LF_ZVGTa",
        "colab": {
          "base_uri": "https://localhost:8080/"
        },
        "outputId": "ee2df672-c103-4927-a2d3-11f3afa50ea4"
      },
      "execution_count": 68,
      "outputs": [
        {
          "output_type": "stream",
          "name": "stdout",
          "text": [
            "11/11 [==============================] - 2s 6ms/step\n",
            "              precision    recall  f1-score   support\n",
            "\n",
            "   apresiasi       0.94      0.74      0.83       123\n",
            "      kritik       0.93      0.96      0.95       262\n",
            "\n",
            "   micro avg       0.93      0.89      0.91       385\n",
            "   macro avg       0.94      0.85      0.89       385\n",
            "weighted avg       0.93      0.89      0.91       385\n",
            " samples avg       0.95      0.92      0.93       385\n",
            "\n"
          ]
        }
      ]
    },
    {
      "cell_type": "code",
      "source": [
        "y_pred = stacked_bi_gru.predict(X_test) > 0.5\n",
        "print(classification_report(y_test, y_pred, target_names=class_labels))"
      ],
      "metadata": {
        "id": "sKvWW3VoVGYG",
        "colab": {
          "base_uri": "https://localhost:8080/"
        },
        "outputId": "0b78ac28-7166-4ca8-d14c-95ac7d0b54c5"
      },
      "execution_count": 69,
      "outputs": [
        {
          "output_type": "stream",
          "name": "stdout",
          "text": [
            "11/11 [==============================] - 6s 10ms/step\n",
            "              precision    recall  f1-score   support\n",
            "\n",
            "   apresiasi       0.93      0.82      0.87       123\n",
            "      kritik       0.95      0.95      0.95       262\n",
            "\n",
            "   micro avg       0.95      0.91      0.93       385\n",
            "   macro avg       0.94      0.89      0.91       385\n",
            "weighted avg       0.95      0.91      0.93       385\n",
            " samples avg       0.96      0.94      0.94       385\n",
            "\n"
          ]
        }
      ]
    },
    {
      "cell_type": "markdown",
      "source": [
        "## Save Model"
      ],
      "metadata": {
        "id": "boUQrPKHg-Gl"
      }
    },
    {
      "cell_type": "code",
      "source": [
        "# lstm.save(\"lstm-1\")\n",
        "# bi_lstm.save(\"bi-lstm-1\")\n",
        "# stacked_bi_lstm.save(\"stacked-bi-lstm-1\")\n",
        "# gru.save(\"gru-1\")\n",
        "# bi_gru.save(\"bi-gru-1\")\n",
        "# stacked_bi_gru.save(\"stacked-bi-gru-1\")"
      ],
      "metadata": {
        "id": "-rCP33ROgD6Z"
      },
      "execution_count": 70,
      "outputs": []
    },
    {
      "cell_type": "markdown",
      "metadata": {
        "id": "YmLs3lAgDmKU"
      },
      "source": [
        "# BERT Model"
      ]
    },
    {
      "cell_type": "markdown",
      "source": [
        "## Mapping BERT Preprocesser and Encoder"
      ],
      "metadata": {
        "id": "WTG1qtG12WQD"
      }
    },
    {
      "cell_type": "code",
      "execution_count": 14,
      "metadata": {
        "id": "7bJfLsKuEua0"
      },
      "outputs": [],
      "source": [
        "map_name_to_handle = {\n",
        "    'bert_en_uncased_L-12_H-768_A-12':\n",
        "        'https://tfhub.dev/tensorflow/bert_en_uncased_L-12_H-768_A-12/3',\n",
        "    'bert_en_cased_L-12_H-768_A-12':\n",
        "        'https://tfhub.dev/tensorflow/bert_en_cased_L-12_H-768_A-12/3',\n",
        "    'bert_multi_cased_L-12_H-768_A-12':\n",
        "        'https://tfhub.dev/tensorflow/bert_multi_cased_L-12_H-768_A-12/3',\n",
        "    'small_bert/bert_en_uncased_L-2_H-128_A-2':\n",
        "        'https://tfhub.dev/tensorflow/small_bert/bert_en_uncased_L-2_H-128_A-2/1',\n",
        "    'small_bert/bert_en_uncased_L-2_H-256_A-4':\n",
        "        'https://tfhub.dev/tensorflow/small_bert/bert_en_uncased_L-2_H-256_A-4/1',\n",
        "    'small_bert/bert_en_uncased_L-2_H-512_A-8':\n",
        "        'https://tfhub.dev/tensorflow/small_bert/bert_en_uncased_L-2_H-512_A-8/1',\n",
        "    'small_bert/bert_en_uncased_L-2_H-768_A-12':\n",
        "        'https://tfhub.dev/tensorflow/small_bert/bert_en_uncased_L-2_H-768_A-12/1',\n",
        "    'small_bert/bert_en_uncased_L-4_H-128_A-2':\n",
        "        'https://tfhub.dev/tensorflow/small_bert/bert_en_uncased_L-4_H-128_A-2/1',\n",
        "    'small_bert/bert_en_uncased_L-4_H-256_A-4':\n",
        "        'https://tfhub.dev/tensorflow/small_bert/bert_en_uncased_L-4_H-256_A-4/1',\n",
        "    'small_bert/bert_en_uncased_L-4_H-512_A-8':\n",
        "        'https://tfhub.dev/tensorflow/small_bert/bert_en_uncased_L-4_H-512_A-8/1',\n",
        "    'small_bert/bert_en_uncased_L-4_H-768_A-12':\n",
        "        'https://tfhub.dev/tensorflow/small_bert/bert_en_uncased_L-4_H-768_A-12/1',\n",
        "    'small_bert/bert_en_uncased_L-6_H-128_A-2':\n",
        "        'https://tfhub.dev/tensorflow/small_bert/bert_en_uncased_L-6_H-128_A-2/1',\n",
        "    'small_bert/bert_en_uncased_L-6_H-256_A-4':\n",
        "        'https://tfhub.dev/tensorflow/small_bert/bert_en_uncased_L-6_H-256_A-4/1',\n",
        "    'small_bert/bert_en_uncased_L-6_H-512_A-8':\n",
        "        'https://tfhub.dev/tensorflow/small_bert/bert_en_uncased_L-6_H-512_A-8/1',\n",
        "    'small_bert/bert_en_uncased_L-6_H-768_A-12':\n",
        "        'https://tfhub.dev/tensorflow/small_bert/bert_en_uncased_L-6_H-768_A-12/1',\n",
        "    'small_bert/bert_en_uncased_L-8_H-128_A-2':\n",
        "        'https://tfhub.dev/tensorflow/small_bert/bert_en_uncased_L-8_H-128_A-2/1',\n",
        "    'small_bert/bert_en_uncased_L-8_H-256_A-4':\n",
        "        'https://tfhub.dev/tensorflow/small_bert/bert_en_uncased_L-8_H-256_A-4/1',\n",
        "    'small_bert/bert_en_uncased_L-8_H-512_A-8':\n",
        "        'https://tfhub.dev/tensorflow/small_bert/bert_en_uncased_L-8_H-512_A-8/1',\n",
        "    'small_bert/bert_en_uncased_L-8_H-768_A-12':\n",
        "        'https://tfhub.dev/tensorflow/small_bert/bert_en_uncased_L-8_H-768_A-12/1',\n",
        "    'small_bert/bert_en_uncased_L-10_H-128_A-2':\n",
        "        'https://tfhub.dev/tensorflow/small_bert/bert_en_uncased_L-10_H-128_A-2/1',\n",
        "    'small_bert/bert_en_uncased_L-10_H-256_A-4':\n",
        "        'https://tfhub.dev/tensorflow/small_bert/bert_en_uncased_L-10_H-256_A-4/1',\n",
        "    'small_bert/bert_en_uncased_L-10_H-512_A-8':\n",
        "        'https://tfhub.dev/tensorflow/small_bert/bert_en_uncased_L-10_H-512_A-8/1',\n",
        "    'small_bert/bert_en_uncased_L-10_H-768_A-12':\n",
        "        'https://tfhub.dev/tensorflow/small_bert/bert_en_uncased_L-10_H-768_A-12/1',\n",
        "    'small_bert/bert_en_uncased_L-12_H-128_A-2':\n",
        "        'https://tfhub.dev/tensorflow/small_bert/bert_en_uncased_L-12_H-128_A-2/1',\n",
        "    'small_bert/bert_en_uncased_L-12_H-256_A-4':\n",
        "        'https://tfhub.dev/tensorflow/small_bert/bert_en_uncased_L-12_H-256_A-4/1',\n",
        "    'small_bert/bert_en_uncased_L-12_H-512_A-8':\n",
        "        'https://tfhub.dev/tensorflow/small_bert/bert_en_uncased_L-12_H-512_A-8/1',\n",
        "    'small_bert/bert_en_uncased_L-12_H-768_A-12':\n",
        "        'https://tfhub.dev/tensorflow/small_bert/bert_en_uncased_L-12_H-768_A-12/1',\n",
        "    'albert_en_base':\n",
        "        'https://tfhub.dev/tensorflow/albert_en_base/2',\n",
        "    'electra_small':\n",
        "        'https://tfhub.dev/google/electra_small/2',\n",
        "    'electra_base':\n",
        "        'https://tfhub.dev/google/electra_base/2',\n",
        "    'experts_pubmed':\n",
        "        'https://tfhub.dev/google/experts/bert/pubmed/2',\n",
        "    'experts_wiki_books':\n",
        "        'https://tfhub.dev/google/experts/bert/wiki_books/2',\n",
        "    'talking-heads_base':\n",
        "        'https://tfhub.dev/tensorflow/talkheads_ggelu_bert_en_base/1',\n",
        "}\n",
        "\n",
        "map_model_to_preprocess = {\n",
        "    'bert_en_uncased_L-12_H-768_A-12':\n",
        "        'https://tfhub.dev/tensorflow/bert_en_uncased_preprocess/3',\n",
        "    'bert_en_cased_L-12_H-768_A-12':\n",
        "        'https://tfhub.dev/tensorflow/bert_en_cased_preprocess/3',\n",
        "    'small_bert/bert_en_uncased_L-2_H-128_A-2':\n",
        "        'https://tfhub.dev/tensorflow/bert_en_uncased_preprocess/3',\n",
        "    'small_bert/bert_en_uncased_L-2_H-256_A-4':\n",
        "        'https://tfhub.dev/tensorflow/bert_en_uncased_preprocess/3',\n",
        "    'small_bert/bert_en_uncased_L-2_H-512_A-8':\n",
        "        'https://tfhub.dev/tensorflow/bert_en_uncased_preprocess/3',\n",
        "    'small_bert/bert_en_uncased_L-2_H-768_A-12':\n",
        "        'https://tfhub.dev/tensorflow/bert_en_uncased_preprocess/3',\n",
        "    'small_bert/bert_en_uncased_L-4_H-128_A-2':\n",
        "        'https://tfhub.dev/tensorflow/bert_en_uncased_preprocess/3',\n",
        "    'small_bert/bert_en_uncased_L-4_H-256_A-4':\n",
        "        'https://tfhub.dev/tensorflow/bert_en_uncased_preprocess/3',\n",
        "    'small_bert/bert_en_uncased_L-4_H-512_A-8':\n",
        "        'https://tfhub.dev/tensorflow/bert_en_uncased_preprocess/3',\n",
        "    'small_bert/bert_en_uncased_L-4_H-768_A-12':\n",
        "        'https://tfhub.dev/tensorflow/bert_en_uncased_preprocess/3',\n",
        "    'small_bert/bert_en_uncased_L-6_H-128_A-2':\n",
        "        'https://tfhub.dev/tensorflow/bert_en_uncased_preprocess/3',\n",
        "    'small_bert/bert_en_uncased_L-6_H-256_A-4':\n",
        "        'https://tfhub.dev/tensorflow/bert_en_uncased_preprocess/3',\n",
        "    'small_bert/bert_en_uncased_L-6_H-512_A-8':\n",
        "        'https://tfhub.dev/tensorflow/bert_en_uncased_preprocess/3',\n",
        "    'small_bert/bert_en_uncased_L-6_H-768_A-12':\n",
        "        'https://tfhub.dev/tensorflow/bert_en_uncased_preprocess/3',\n",
        "    'small_bert/bert_en_uncased_L-8_H-128_A-2':\n",
        "        'https://tfhub.dev/tensorflow/bert_en_uncased_preprocess/3',\n",
        "    'small_bert/bert_en_uncased_L-8_H-256_A-4':\n",
        "        'https://tfhub.dev/tensorflow/bert_en_uncased_preprocess/3',\n",
        "    'small_bert/bert_en_uncased_L-8_H-512_A-8':\n",
        "        'https://tfhub.dev/tensorflow/bert_en_uncased_preprocess/3',\n",
        "    'small_bert/bert_en_uncased_L-8_H-768_A-12':\n",
        "        'https://tfhub.dev/tensorflow/bert_en_uncased_preprocess/3',\n",
        "    'small_bert/bert_en_uncased_L-10_H-128_A-2':\n",
        "        'https://tfhub.dev/tensorflow/bert_en_uncased_preprocess/3',\n",
        "    'small_bert/bert_en_uncased_L-10_H-256_A-4':\n",
        "        'https://tfhub.dev/tensorflow/bert_en_uncased_preprocess/3',\n",
        "    'small_bert/bert_en_uncased_L-10_H-512_A-8':\n",
        "        'https://tfhub.dev/tensorflow/bert_en_uncased_preprocess/3',\n",
        "    'small_bert/bert_en_uncased_L-10_H-768_A-12':\n",
        "        'https://tfhub.dev/tensorflow/bert_en_uncased_preprocess/3',\n",
        "    'small_bert/bert_en_uncased_L-12_H-128_A-2':\n",
        "        'https://tfhub.dev/tensorflow/bert_en_uncased_preprocess/3',\n",
        "    'small_bert/bert_en_uncased_L-12_H-256_A-4':\n",
        "        'https://tfhub.dev/tensorflow/bert_en_uncased_preprocess/3',\n",
        "    'small_bert/bert_en_uncased_L-12_H-512_A-8':\n",
        "        'https://tfhub.dev/tensorflow/bert_en_uncased_preprocess/3',\n",
        "    'small_bert/bert_en_uncased_L-12_H-768_A-12':\n",
        "        'https://tfhub.dev/tensorflow/bert_en_uncased_preprocess/3',\n",
        "    'bert_multi_cased_L-12_H-768_A-12':\n",
        "        'https://tfhub.dev/tensorflow/bert_multi_cased_preprocess/3',\n",
        "    'albert_en_base':\n",
        "        'https://tfhub.dev/tensorflow/albert_en_preprocess/3',\n",
        "    'electra_small':\n",
        "        'https://tfhub.dev/tensorflow/bert_en_uncased_preprocess/3',\n",
        "    'electra_base':\n",
        "        'https://tfhub.dev/tensorflow/bert_en_uncased_preprocess/3',\n",
        "    'experts_pubmed':\n",
        "        'https://tfhub.dev/tensorflow/bert_en_uncased_preprocess/3',\n",
        "    'experts_wiki_books':\n",
        "        'https://tfhub.dev/tensorflow/bert_en_uncased_preprocess/3',\n",
        "    'talking-heads_base':\n",
        "        'https://tfhub.dev/tensorflow/bert_en_uncased_preprocess/3',\n",
        "}"
      ]
    },
    {
      "cell_type": "markdown",
      "source": [
        "## Build Model Architecture"
      ],
      "metadata": {
        "id": "uOTHQGcV2dvy"
      }
    },
    {
      "cell_type": "code",
      "execution_count": 15,
      "metadata": {
        "id": "PiI_f3HVkzSc"
      },
      "outputs": [],
      "source": [
        "def build_bert_model(bert_model_name: str):\n",
        "  tfhub_handle_encoder = map_name_to_handle[bert_model_name]\n",
        "  tfhub_handle_preprocess = map_model_to_preprocess[bert_model_name]\n",
        "\n",
        "  text_input = tf.keras.layers.Input(shape=(), dtype=\"string\", name='text')\n",
        "  preprocessing_layer = hub.KerasLayer(tfhub_handle_preprocess, name='preprocessing')\n",
        "  encoder_inputs = preprocessing_layer(text_input)\n",
        "  encoder = hub.KerasLayer(tfhub_handle_encoder, trainable=True, name='BERT_encoder')\n",
        "  outputs = encoder(encoder_inputs)\n",
        "  net = outputs['pooled_output']\n",
        "  net = tf.keras.layers.Dropout(0.2)(net)\n",
        "  net = tf.keras.layers.Dense(2, activation='sigmoid', name='classifier')(net)\n",
        "  return tf.keras.Model(text_input, net)"
      ]
    },
    {
      "cell_type": "code",
      "execution_count": 16,
      "metadata": {
        "id": "2rwYSA8MqRyD"
      },
      "outputs": [],
      "source": [
        "bert_uncased_model = build_bert_model('bert_en_uncased_L-12_H-768_A-12')\n",
        "small_bert_model = build_bert_model('small_bert/bert_en_uncased_L-4_H-512_A-8')\n",
        "albert_model = build_bert_model('albert_en_base')\n",
        "electra_model = build_bert_model('electra_base')"
      ]
    },
    {
      "cell_type": "markdown",
      "source": [
        "## Model Compiling"
      ],
      "metadata": {
        "id": "3ikxZreZ2gwn"
      }
    },
    {
      "cell_type": "code",
      "execution_count": 17,
      "metadata": {
        "id": "qqxIjajsqYNu"
      },
      "outputs": [],
      "source": [
        "bert_uncased_model.compile(\n",
        "    optimizer = tf.keras.optimizers.Adam(learning_rate = 0.00003),\n",
        "    loss = tf.keras.losses.BinaryCrossentropy(),\n",
        "    metrics = tf.keras.metrics.BinaryAccuracy(),\n",
        ")\n",
        "\n",
        "small_bert_model.compile(\n",
        "    optimizer = tf.keras.optimizers.Adam(learning_rate = 0.00003),\n",
        "    loss = tf.keras.losses.BinaryCrossentropy(),\n",
        "    metrics = tf.keras.metrics.BinaryAccuracy(),\n",
        ")\n",
        "\n",
        "albert_model.compile(\n",
        "    optimizer = tf.keras.optimizers.Adam(learning_rate = 0.00003),\n",
        "    loss = tf.keras.losses.BinaryCrossentropy(),\n",
        "    metrics = tf.keras.metrics.BinaryAccuracy(),\n",
        ")\n",
        "\n",
        "electra_model.compile(\n",
        "    optimizer = tf.keras.optimizers.Adam(learning_rate = 0.00003),\n",
        "    loss = tf.keras.losses.BinaryCrossentropy(),\n",
        "    metrics = tf.keras.metrics.BinaryAccuracy(),\n",
        ")"
      ]
    },
    {
      "cell_type": "markdown",
      "source": [
        "## Model Training"
      ],
      "metadata": {
        "id": "1dtSQ02j2i7o"
      }
    },
    {
      "cell_type": "code",
      "execution_count": 18,
      "metadata": {
        "id": "CU7C8-TWrQeU",
        "colab": {
          "base_uri": "https://localhost:8080/"
        },
        "outputId": "10cec6b6-379e-4e6b-b3d9-3020c1a6f58f"
      },
      "outputs": [
        {
          "output_type": "stream",
          "name": "stdout",
          "text": [
            "Epoch 1/3\n",
            "85/85 [==============================] - 98s 583ms/step - loss: 0.4795 - binary_accuracy: 0.7778 - val_loss: 0.3794 - val_binary_accuracy: 0.8323\n",
            "Epoch 2/3\n",
            "85/85 [==============================] - 45s 528ms/step - loss: 0.2909 - binary_accuracy: 0.8865 - val_loss: 0.2509 - val_binary_accuracy: 0.8947\n",
            "Epoch 3/3\n",
            "85/85 [==============================] - 46s 540ms/step - loss: 0.1983 - binary_accuracy: 0.9199 - val_loss: 0.2290 - val_binary_accuracy: 0.9110\n"
          ]
        },
        {
          "output_type": "execute_result",
          "data": {
            "text/plain": [
              "<keras.callbacks.History at 0x7f4841cd7a60>"
            ]
          },
          "metadata": {},
          "execution_count": 18
        }
      ],
      "source": [
        "bert_uncased_model.fit(\n",
        "    x = X_train,\n",
        "    y = y_train,\n",
        "    batch_size = 16,\n",
        "    validation_data = (X_test, y_test),\n",
        "    epochs = 3,\n",
        ")\n"
      ]
    },
    {
      "cell_type": "code",
      "source": [
        "small_bert_model.fit(\n",
        "    x = X_train,\n",
        "    y = y_train,\n",
        "    batch_size = 16,\n",
        "    validation_data = (X_test, y_test),\n",
        "    epochs = 3,\n",
        ")"
      ],
      "metadata": {
        "id": "9lGWfIwkW8uQ",
        "colab": {
          "base_uri": "https://localhost:8080/"
        },
        "outputId": "08ffa11d-58d8-4c30-d9ef-caef4ddfd1f3"
      },
      "execution_count": 19,
      "outputs": [
        {
          "output_type": "stream",
          "name": "stdout",
          "text": [
            "Epoch 1/3\n",
            "85/85 [==============================] - 38s 255ms/step - loss: 0.4836 - binary_accuracy: 0.7715 - val_loss: 0.3453 - val_binary_accuracy: 0.8487\n",
            "Epoch 2/3\n",
            "85/85 [==============================] - 18s 208ms/step - loss: 0.3139 - binary_accuracy: 0.8750 - val_loss: 0.3081 - val_binary_accuracy: 0.8665\n",
            "Epoch 3/3\n",
            "85/85 [==============================] - 14s 168ms/step - loss: 0.2365 - binary_accuracy: 0.9076 - val_loss: 0.2896 - val_binary_accuracy: 0.8887\n"
          ]
        },
        {
          "output_type": "execute_result",
          "data": {
            "text/plain": [
              "<keras.callbacks.History at 0x7f483cfdcd30>"
            ]
          },
          "metadata": {},
          "execution_count": 19
        }
      ]
    },
    {
      "cell_type": "code",
      "source": [
        "albert_model.fit(\n",
        "    x = X_train,\n",
        "    y = y_train,\n",
        "    batch_size = 16,\n",
        "    validation_data = (X_test, y_test),\n",
        "    epochs = 3,\n",
        ")"
      ],
      "metadata": {
        "id": "xVbFsh1hW83G",
        "colab": {
          "base_uri": "https://localhost:8080/"
        },
        "outputId": "c05f8c60-a0f3-4cde-ad09-034894f8d51e"
      },
      "execution_count": 20,
      "outputs": [
        {
          "output_type": "stream",
          "name": "stdout",
          "text": [
            "Epoch 1/3\n",
            "85/85 [==============================] - 70s 625ms/step - loss: 0.6292 - binary_accuracy: 0.6721 - val_loss: 0.5854 - val_binary_accuracy: 0.7062\n",
            "Epoch 2/3\n",
            "85/85 [==============================] - 52s 610ms/step - loss: 0.5565 - binary_accuracy: 0.7341 - val_loss: 0.5514 - val_binary_accuracy: 0.7478\n",
            "Epoch 3/3\n",
            "85/85 [==============================] - 53s 628ms/step - loss: 0.5045 - binary_accuracy: 0.7786 - val_loss: 0.4700 - val_binary_accuracy: 0.7908\n"
          ]
        },
        {
          "output_type": "execute_result",
          "data": {
            "text/plain": [
              "<keras.callbacks.History at 0x7f47f85248b0>"
            ]
          },
          "metadata": {},
          "execution_count": 20
        }
      ]
    },
    {
      "cell_type": "code",
      "source": [
        "electra_model.fit(\n",
        "    x = X_train,\n",
        "    y = y_train,\n",
        "    batch_size = 16,\n",
        "    validation_data = (X_test, y_test),\n",
        "    epochs = 3,\n",
        ")"
      ],
      "metadata": {
        "id": "zOUwdG-TW9sq",
        "colab": {
          "base_uri": "https://localhost:8080/"
        },
        "outputId": "5c8b0499-1fb7-4e1b-8585-138cd918e041"
      },
      "execution_count": 21,
      "outputs": [
        {
          "output_type": "stream",
          "name": "stdout",
          "text": [
            "Epoch 1/3\n",
            "85/85 [==============================] - 92s 563ms/step - loss: 0.5261 - binary_accuracy: 0.7489 - val_loss: 0.3857 - val_binary_accuracy: 0.8338\n",
            "Epoch 2/3\n",
            "85/85 [==============================] - 45s 535ms/step - loss: 0.3644 - binary_accuracy: 0.8520 - val_loss: 0.2898 - val_binary_accuracy: 0.8813\n",
            "Epoch 3/3\n",
            "85/85 [==============================] - 43s 509ms/step - loss: 0.2487 - binary_accuracy: 0.9017 - val_loss: 0.2631 - val_binary_accuracy: 0.8961\n"
          ]
        },
        {
          "output_type": "execute_result",
          "data": {
            "text/plain": [
              "<keras.callbacks.History at 0x7f47e83f6cb0>"
            ]
          },
          "metadata": {},
          "execution_count": 21
        }
      ]
    },
    {
      "cell_type": "markdown",
      "source": [
        "## Model Evaluation"
      ],
      "metadata": {
        "id": "DwJw2NrO2m1R"
      }
    },
    {
      "cell_type": "code",
      "execution_count": 22,
      "metadata": {
        "id": "MSi-FZLOgyLL",
        "colab": {
          "base_uri": "https://localhost:8080/"
        },
        "outputId": "de5da027-bd94-4f8d-e850-3c3e526d5909"
      },
      "outputs": [
        {
          "output_type": "stream",
          "name": "stdout",
          "text": [
            "11/11 [==============================] - 5s 373ms/step\n",
            "              precision    recall  f1-score   support\n",
            "\n",
            "   apresiasi       0.88      0.84      0.86       123\n",
            "      kritik       0.94      0.96      0.95       262\n",
            "\n",
            "   micro avg       0.92      0.92      0.92       385\n",
            "   macro avg       0.91      0.90      0.90       385\n",
            "weighted avg       0.92      0.92      0.92       385\n",
            " samples avg       0.94      0.94      0.93       385\n",
            "\n"
          ]
        },
        {
          "output_type": "stream",
          "name": "stderr",
          "text": [
            "/usr/local/lib/python3.10/dist-packages/sklearn/metrics/_classification.py:1344: UndefinedMetricWarning: Precision and F-score are ill-defined and being set to 0.0 in samples with no predicted labels. Use `zero_division` parameter to control this behavior.\n",
            "  _warn_prf(average, modifier, msg_start, len(result))\n"
          ]
        }
      ],
      "source": [
        "from sklearn.metrics import classification_report\n",
        "\n",
        "class_labels = [\"apresiasi\", \"kritik\"]\n",
        "\n",
        "y_pred = bert_uncased_model.predict(X_test) > 0.5\n",
        "print(classification_report(y_test, y_pred, target_names=class_labels))"
      ]
    },
    {
      "cell_type": "code",
      "source": [
        "y_pred = small_bert_model.predict(X_test) > 0.5\n",
        "print(classification_report(y_test, y_pred, target_names=class_labels))"
      ],
      "metadata": {
        "id": "0MwmVyugXbBZ",
        "colab": {
          "base_uri": "https://localhost:8080/"
        },
        "outputId": "a75644a4-c302-4cd2-ee44-231471b20fba"
      },
      "execution_count": 23,
      "outputs": [
        {
          "output_type": "stream",
          "name": "stdout",
          "text": [
            "11/11 [==============================] - 2s 95ms/step\n",
            "              precision    recall  f1-score   support\n",
            "\n",
            "   apresiasi       0.83      0.83      0.83       123\n",
            "      kritik       0.95      0.92      0.94       262\n",
            "\n",
            "   micro avg       0.91      0.89      0.90       385\n",
            "   macro avg       0.89      0.88      0.88       385\n",
            "weighted avg       0.91      0.89      0.90       385\n",
            " samples avg       0.93      0.92      0.91       385\n",
            "\n"
          ]
        }
      ]
    },
    {
      "cell_type": "code",
      "source": [
        "y_pred = albert_model.predict(X_test) > 0.5\n",
        "print(classification_report(y_test, y_pred, target_names=class_labels))"
      ],
      "metadata": {
        "id": "epEFGg5MXbF0",
        "colab": {
          "base_uri": "https://localhost:8080/"
        },
        "outputId": "4be170fb-19b6-4228-bd46-fce61f84828d"
      },
      "execution_count": 24,
      "outputs": [
        {
          "output_type": "stream",
          "name": "stdout",
          "text": [
            "11/11 [==============================] - 4s 328ms/step\n",
            "              precision    recall  f1-score   support\n",
            "\n",
            "   apresiasi       0.84      0.33      0.48       123\n",
            "      kritik       0.87      0.95      0.91       262\n",
            "\n",
            "   micro avg       0.86      0.76      0.80       385\n",
            "   macro avg       0.85      0.64      0.69       385\n",
            "weighted avg       0.86      0.76      0.77       385\n",
            " samples avg       0.86      0.79      0.81       385\n",
            "\n"
          ]
        }
      ]
    },
    {
      "cell_type": "code",
      "source": [
        "y_pred = electra_model.predict(X_test) > 0.5\n",
        "print(classification_report(y_test, y_pred, target_names=class_labels))"
      ],
      "metadata": {
        "id": "aWKfb6XBXbRg",
        "colab": {
          "base_uri": "https://localhost:8080/"
        },
        "outputId": "53a53be5-c286-46cc-c11e-a6afbb937d20"
      },
      "execution_count": 25,
      "outputs": [
        {
          "output_type": "stream",
          "name": "stdout",
          "text": [
            "11/11 [==============================] - 4s 350ms/step\n",
            "              precision    recall  f1-score   support\n",
            "\n",
            "   apresiasi       0.91      0.70      0.79       123\n",
            "      kritik       0.93      0.98      0.96       262\n",
            "\n",
            "   micro avg       0.93      0.89      0.91       385\n",
            "   macro avg       0.92      0.84      0.87       385\n",
            "weighted avg       0.93      0.89      0.90       385\n",
            " samples avg       0.95      0.92      0.92       385\n",
            "\n"
          ]
        }
      ]
    },
    {
      "cell_type": "markdown",
      "source": [
        "## Save Model"
      ],
      "metadata": {
        "id": "Z8PDVx2djOZf"
      }
    },
    {
      "cell_type": "code",
      "source": [
        "# bert_uncased_model.save(\"bert-1\")\n",
        "# small_bert_model.save(\"small-bert-1\")\n",
        "# albert_model.save(\"albert-1\")\n",
        "# electra_model.save(\"electra-1\")"
      ],
      "metadata": {
        "id": "aT1AzI3RhDN9"
      },
      "execution_count": 26,
      "outputs": []
    }
  ],
  "metadata": {
    "colab": {
      "provenance": [],
      "gpuType": "T4",
      "collapsed_sections": [
        "gpSVyqCX1sCO",
        "vzO3rNoS1y9U",
        "LkeZdf-f11na",
        "lIZcWXWd2xhQ",
        "X2BmtjrM2DMP",
        "Kj_eJv9L2G_W",
        "TgUoRqSTFvsK",
        "boUQrPKHg-Gl",
        "WTG1qtG12WQD",
        "uOTHQGcV2dvy",
        "3ikxZreZ2gwn",
        "1dtSQ02j2i7o"
      ],
      "mount_file_id": "1eTVst4IuSJrrk0k_si769vybcEJOIR-r",
      "authorship_tag": "ABX9TyMKa12kf12h3Nf3ul0kz6sm",
      "include_colab_link": true
    },
    "kernelspec": {
      "display_name": "Python 3",
      "name": "python3"
    },
    "language_info": {
      "name": "python"
    },
    "gpuClass": "standard",
    "accelerator": "GPU"
  },
  "nbformat": 4,
  "nbformat_minor": 0
}