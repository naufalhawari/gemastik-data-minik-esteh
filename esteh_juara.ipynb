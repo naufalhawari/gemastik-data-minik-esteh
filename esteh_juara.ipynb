{
  "cells": [
    {
      "cell_type": "markdown",
      "metadata": {
        "id": "view-in-github",
        "colab_type": "text"
      },
      "source": [
        "<a href=\"https://colab.research.google.com/github/naufalhawari/gemastik-data-minik-esteh/blob/main/esteh_juara.ipynb\" target=\"_parent\"><img src=\"https://colab.research.google.com/assets/colab-badge.svg\" alt=\"Open In Colab\"/></a>"
      ]
    },
    {
      "cell_type": "markdown",
      "metadata": {
        "id": "IFe9eYWJEedj"
      },
      "source": [
        "# Set Up Environment dan Membuat Dataset"
      ]
    },
    {
      "cell_type": "markdown",
      "metadata": {
        "id": "gpSVyqCX1sCO"
      },
      "source": [
        "## Mengunduh Library yang Dibutuhkan"
      ]
    },
    {
      "cell_type": "code",
      "execution_count": null,
      "metadata": {
        "colab": {
          "base_uri": "https://localhost:8080/"
        },
        "id": "jrRj6kvWXcJS",
        "outputId": "b1081407-ca5c-4019-c7c7-a2680ceee9da"
      },
      "outputs": [
        {
          "output_type": "stream",
          "name": "stdout",
          "text": [
            "Looking in indexes: https://pypi.org/simple, https://us-python.pkg.dev/colab-wheels/public/simple/\n",
            "Collecting transformers\n",
            "  Downloading transformers-4.29.2-py3-none-any.whl (7.1 MB)\n",
            "\u001b[2K     \u001b[90m━━━━━━━━━━━━━━━━━━━━━━━━━━━━━━━━━━━━━━━━\u001b[0m \u001b[32m7.1/7.1 MB\u001b[0m \u001b[31m41.2 MB/s\u001b[0m eta \u001b[36m0:00:00\u001b[0m\n",
            "\u001b[?25hRequirement already satisfied: filelock in /usr/local/lib/python3.10/dist-packages (from transformers) (3.12.0)\n",
            "Collecting huggingface-hub<1.0,>=0.14.1 (from transformers)\n",
            "  Downloading huggingface_hub-0.14.1-py3-none-any.whl (224 kB)\n",
            "\u001b[2K     \u001b[90m━━━━━━━━━━━━━━━━━━━━━━━━━━━━━━━━━━━━━━\u001b[0m \u001b[32m224.5/224.5 kB\u001b[0m \u001b[31m22.1 MB/s\u001b[0m eta \u001b[36m0:00:00\u001b[0m\n",
            "\u001b[?25hRequirement already satisfied: numpy>=1.17 in /usr/local/lib/python3.10/dist-packages (from transformers) (1.22.4)\n",
            "Requirement already satisfied: packaging>=20.0 in /usr/local/lib/python3.10/dist-packages (from transformers) (23.1)\n",
            "Requirement already satisfied: pyyaml>=5.1 in /usr/local/lib/python3.10/dist-packages (from transformers) (6.0)\n",
            "Requirement already satisfied: regex!=2019.12.17 in /usr/local/lib/python3.10/dist-packages (from transformers) (2022.10.31)\n",
            "Requirement already satisfied: requests in /usr/local/lib/python3.10/dist-packages (from transformers) (2.27.1)\n",
            "Collecting tokenizers!=0.11.3,<0.14,>=0.11.1 (from transformers)\n",
            "  Downloading tokenizers-0.13.3-cp310-cp310-manylinux_2_17_x86_64.manylinux2014_x86_64.whl (7.8 MB)\n",
            "\u001b[2K     \u001b[90m━━━━━━━━━━━━━━━━━━━━━━━━━━━━━━━━━━━━━━━━\u001b[0m \u001b[32m7.8/7.8 MB\u001b[0m \u001b[31m51.6 MB/s\u001b[0m eta \u001b[36m0:00:00\u001b[0m\n",
            "\u001b[?25hRequirement already satisfied: tqdm>=4.27 in /usr/local/lib/python3.10/dist-packages (from transformers) (4.65.0)\n",
            "Requirement already satisfied: fsspec in /usr/local/lib/python3.10/dist-packages (from huggingface-hub<1.0,>=0.14.1->transformers) (2023.4.0)\n",
            "Requirement already satisfied: typing-extensions>=3.7.4.3 in /usr/local/lib/python3.10/dist-packages (from huggingface-hub<1.0,>=0.14.1->transformers) (4.5.0)\n",
            "Requirement already satisfied: urllib3<1.27,>=1.21.1 in /usr/local/lib/python3.10/dist-packages (from requests->transformers) (1.26.15)\n",
            "Requirement already satisfied: certifi>=2017.4.17 in /usr/local/lib/python3.10/dist-packages (from requests->transformers) (2022.12.7)\n",
            "Requirement already satisfied: charset-normalizer~=2.0.0 in /usr/local/lib/python3.10/dist-packages (from requests->transformers) (2.0.12)\n",
            "Requirement already satisfied: idna<4,>=2.5 in /usr/local/lib/python3.10/dist-packages (from requests->transformers) (3.4)\n",
            "Installing collected packages: tokenizers, huggingface-hub, transformers\n",
            "Successfully installed huggingface-hub-0.14.1 tokenizers-0.13.3 transformers-4.29.2\n"
          ]
        }
      ],
      "source": [
        "!pip install transformers"
      ]
    },
    {
      "cell_type": "code",
      "execution_count": null,
      "metadata": {
        "colab": {
          "base_uri": "https://localhost:8080/"
        },
        "id": "OyXTjXg6svmX",
        "outputId": "13662e7a-2bd8-4ed8-d49e-2003f9fb68a7"
      },
      "outputs": [
        {
          "output_type": "stream",
          "name": "stdout",
          "text": [
            "Looking in indexes: https://pypi.org/simple, https://us-python.pkg.dev/colab-wheels/public/simple/\n",
            "Collecting tensorflow_text\n",
            "  Downloading tensorflow_text-2.12.1-cp310-cp310-manylinux_2_17_x86_64.manylinux2014_x86_64.whl (6.0 MB)\n",
            "\u001b[2K     \u001b[90m━━━━━━━━━━━━━━━━━━━━━━━━━━━━━━━━━━━━━━━━\u001b[0m \u001b[32m6.0/6.0 MB\u001b[0m \u001b[31m41.9 MB/s\u001b[0m eta \u001b[36m0:00:00\u001b[0m\n",
            "\u001b[?25hRequirement already satisfied: tensorflow-hub>=0.8.0 in /usr/local/lib/python3.10/dist-packages (from tensorflow_text) (0.13.0)\n",
            "Requirement already satisfied: tensorflow<2.13,>=2.12.0 in /usr/local/lib/python3.10/dist-packages (from tensorflow_text) (2.12.0)\n",
            "Requirement already satisfied: absl-py>=1.0.0 in /usr/local/lib/python3.10/dist-packages (from tensorflow<2.13,>=2.12.0->tensorflow_text) (1.4.0)\n",
            "Requirement already satisfied: astunparse>=1.6.0 in /usr/local/lib/python3.10/dist-packages (from tensorflow<2.13,>=2.12.0->tensorflow_text) (1.6.3)\n",
            "Requirement already satisfied: flatbuffers>=2.0 in /usr/local/lib/python3.10/dist-packages (from tensorflow<2.13,>=2.12.0->tensorflow_text) (23.3.3)\n",
            "Requirement already satisfied: gast<=0.4.0,>=0.2.1 in /usr/local/lib/python3.10/dist-packages (from tensorflow<2.13,>=2.12.0->tensorflow_text) (0.4.0)\n",
            "Requirement already satisfied: google-pasta>=0.1.1 in /usr/local/lib/python3.10/dist-packages (from tensorflow<2.13,>=2.12.0->tensorflow_text) (0.2.0)\n",
            "Requirement already satisfied: grpcio<2.0,>=1.24.3 in /usr/local/lib/python3.10/dist-packages (from tensorflow<2.13,>=2.12.0->tensorflow_text) (1.54.0)\n",
            "Requirement already satisfied: h5py>=2.9.0 in /usr/local/lib/python3.10/dist-packages (from tensorflow<2.13,>=2.12.0->tensorflow_text) (3.8.0)\n",
            "Requirement already satisfied: jax>=0.3.15 in /usr/local/lib/python3.10/dist-packages (from tensorflow<2.13,>=2.12.0->tensorflow_text) (0.4.10)\n",
            "Requirement already satisfied: keras<2.13,>=2.12.0 in /usr/local/lib/python3.10/dist-packages (from tensorflow<2.13,>=2.12.0->tensorflow_text) (2.12.0)\n",
            "Requirement already satisfied: libclang>=13.0.0 in /usr/local/lib/python3.10/dist-packages (from tensorflow<2.13,>=2.12.0->tensorflow_text) (16.0.0)\n",
            "Requirement already satisfied: numpy<1.24,>=1.22 in /usr/local/lib/python3.10/dist-packages (from tensorflow<2.13,>=2.12.0->tensorflow_text) (1.22.4)\n",
            "Requirement already satisfied: opt-einsum>=2.3.2 in /usr/local/lib/python3.10/dist-packages (from tensorflow<2.13,>=2.12.0->tensorflow_text) (3.3.0)\n",
            "Requirement already satisfied: packaging in /usr/local/lib/python3.10/dist-packages (from tensorflow<2.13,>=2.12.0->tensorflow_text) (23.1)\n",
            "Requirement already satisfied: protobuf!=4.21.0,!=4.21.1,!=4.21.2,!=4.21.3,!=4.21.4,!=4.21.5,<5.0.0dev,>=3.20.3 in /usr/local/lib/python3.10/dist-packages (from tensorflow<2.13,>=2.12.0->tensorflow_text) (3.20.3)\n",
            "Requirement already satisfied: setuptools in /usr/local/lib/python3.10/dist-packages (from tensorflow<2.13,>=2.12.0->tensorflow_text) (67.7.2)\n",
            "Requirement already satisfied: six>=1.12.0 in /usr/local/lib/python3.10/dist-packages (from tensorflow<2.13,>=2.12.0->tensorflow_text) (1.16.0)\n",
            "Requirement already satisfied: tensorboard<2.13,>=2.12 in /usr/local/lib/python3.10/dist-packages (from tensorflow<2.13,>=2.12.0->tensorflow_text) (2.12.2)\n",
            "Requirement already satisfied: tensorflow-estimator<2.13,>=2.12.0 in /usr/local/lib/python3.10/dist-packages (from tensorflow<2.13,>=2.12.0->tensorflow_text) (2.12.0)\n",
            "Requirement already satisfied: termcolor>=1.1.0 in /usr/local/lib/python3.10/dist-packages (from tensorflow<2.13,>=2.12.0->tensorflow_text) (2.3.0)\n",
            "Requirement already satisfied: typing-extensions>=3.6.6 in /usr/local/lib/python3.10/dist-packages (from tensorflow<2.13,>=2.12.0->tensorflow_text) (4.5.0)\n",
            "Requirement already satisfied: wrapt<1.15,>=1.11.0 in /usr/local/lib/python3.10/dist-packages (from tensorflow<2.13,>=2.12.0->tensorflow_text) (1.14.1)\n",
            "Requirement already satisfied: tensorflow-io-gcs-filesystem>=0.23.1 in /usr/local/lib/python3.10/dist-packages (from tensorflow<2.13,>=2.12.0->tensorflow_text) (0.32.0)\n",
            "Requirement already satisfied: wheel<1.0,>=0.23.0 in /usr/local/lib/python3.10/dist-packages (from astunparse>=1.6.0->tensorflow<2.13,>=2.12.0->tensorflow_text) (0.40.0)\n",
            "Requirement already satisfied: ml-dtypes>=0.1.0 in /usr/local/lib/python3.10/dist-packages (from jax>=0.3.15->tensorflow<2.13,>=2.12.0->tensorflow_text) (0.1.0)\n",
            "Requirement already satisfied: scipy>=1.7 in /usr/local/lib/python3.10/dist-packages (from jax>=0.3.15->tensorflow<2.13,>=2.12.0->tensorflow_text) (1.10.1)\n",
            "Requirement already satisfied: google-auth<3,>=1.6.3 in /usr/local/lib/python3.10/dist-packages (from tensorboard<2.13,>=2.12->tensorflow<2.13,>=2.12.0->tensorflow_text) (2.17.3)\n",
            "Requirement already satisfied: google-auth-oauthlib<1.1,>=0.5 in /usr/local/lib/python3.10/dist-packages (from tensorboard<2.13,>=2.12->tensorflow<2.13,>=2.12.0->tensorflow_text) (1.0.0)\n",
            "Requirement already satisfied: markdown>=2.6.8 in /usr/local/lib/python3.10/dist-packages (from tensorboard<2.13,>=2.12->tensorflow<2.13,>=2.12.0->tensorflow_text) (3.4.3)\n",
            "Requirement already satisfied: requests<3,>=2.21.0 in /usr/local/lib/python3.10/dist-packages (from tensorboard<2.13,>=2.12->tensorflow<2.13,>=2.12.0->tensorflow_text) (2.27.1)\n",
            "Requirement already satisfied: tensorboard-data-server<0.8.0,>=0.7.0 in /usr/local/lib/python3.10/dist-packages (from tensorboard<2.13,>=2.12->tensorflow<2.13,>=2.12.0->tensorflow_text) (0.7.0)\n",
            "Requirement already satisfied: tensorboard-plugin-wit>=1.6.0 in /usr/local/lib/python3.10/dist-packages (from tensorboard<2.13,>=2.12->tensorflow<2.13,>=2.12.0->tensorflow_text) (1.8.1)\n",
            "Requirement already satisfied: werkzeug>=1.0.1 in /usr/local/lib/python3.10/dist-packages (from tensorboard<2.13,>=2.12->tensorflow<2.13,>=2.12.0->tensorflow_text) (2.3.0)\n",
            "Requirement already satisfied: cachetools<6.0,>=2.0.0 in /usr/local/lib/python3.10/dist-packages (from google-auth<3,>=1.6.3->tensorboard<2.13,>=2.12->tensorflow<2.13,>=2.12.0->tensorflow_text) (5.3.0)\n",
            "Requirement already satisfied: pyasn1-modules>=0.2.1 in /usr/local/lib/python3.10/dist-packages (from google-auth<3,>=1.6.3->tensorboard<2.13,>=2.12->tensorflow<2.13,>=2.12.0->tensorflow_text) (0.3.0)\n",
            "Requirement already satisfied: rsa<5,>=3.1.4 in /usr/local/lib/python3.10/dist-packages (from google-auth<3,>=1.6.3->tensorboard<2.13,>=2.12->tensorflow<2.13,>=2.12.0->tensorflow_text) (4.9)\n",
            "Requirement already satisfied: requests-oauthlib>=0.7.0 in /usr/local/lib/python3.10/dist-packages (from google-auth-oauthlib<1.1,>=0.5->tensorboard<2.13,>=2.12->tensorflow<2.13,>=2.12.0->tensorflow_text) (1.3.1)\n",
            "Requirement already satisfied: urllib3<1.27,>=1.21.1 in /usr/local/lib/python3.10/dist-packages (from requests<3,>=2.21.0->tensorboard<2.13,>=2.12->tensorflow<2.13,>=2.12.0->tensorflow_text) (1.26.15)\n",
            "Requirement already satisfied: certifi>=2017.4.17 in /usr/local/lib/python3.10/dist-packages (from requests<3,>=2.21.0->tensorboard<2.13,>=2.12->tensorflow<2.13,>=2.12.0->tensorflow_text) (2022.12.7)\n",
            "Requirement already satisfied: charset-normalizer~=2.0.0 in /usr/local/lib/python3.10/dist-packages (from requests<3,>=2.21.0->tensorboard<2.13,>=2.12->tensorflow<2.13,>=2.12.0->tensorflow_text) (2.0.12)\n",
            "Requirement already satisfied: idna<4,>=2.5 in /usr/local/lib/python3.10/dist-packages (from requests<3,>=2.21.0->tensorboard<2.13,>=2.12->tensorflow<2.13,>=2.12.0->tensorflow_text) (3.4)\n",
            "Requirement already satisfied: MarkupSafe>=2.1.1 in /usr/local/lib/python3.10/dist-packages (from werkzeug>=1.0.1->tensorboard<2.13,>=2.12->tensorflow<2.13,>=2.12.0->tensorflow_text) (2.1.2)\n",
            "Requirement already satisfied: pyasn1<0.6.0,>=0.4.6 in /usr/local/lib/python3.10/dist-packages (from pyasn1-modules>=0.2.1->google-auth<3,>=1.6.3->tensorboard<2.13,>=2.12->tensorflow<2.13,>=2.12.0->tensorflow_text) (0.5.0)\n",
            "Requirement already satisfied: oauthlib>=3.0.0 in /usr/local/lib/python3.10/dist-packages (from requests-oauthlib>=0.7.0->google-auth-oauthlib<1.1,>=0.5->tensorboard<2.13,>=2.12->tensorflow<2.13,>=2.12.0->tensorflow_text) (3.2.2)\n",
            "Installing collected packages: tensorflow_text\n",
            "Successfully installed tensorflow_text-2.12.1\n"
          ]
        }
      ],
      "source": [
        "!pip install tensorflow_text"
      ]
    },
    {
      "cell_type": "code",
      "execution_count": null,
      "metadata": {
        "colab": {
          "base_uri": "https://localhost:8080/"
        },
        "id": "itI8vQSCD_Az",
        "outputId": "e6155194-e444-45d5-e752-6b9c5a8cbc09"
      },
      "outputs": [
        {
          "output_type": "stream",
          "name": "stdout",
          "text": [
            "Looking in indexes: https://pypi.org/simple, https://us-python.pkg.dev/colab-wheels/public/simple/\n",
            "Collecting sastrawi\n",
            "  Downloading Sastrawi-1.0.1-py2.py3-none-any.whl (209 kB)\n",
            "\u001b[2K     \u001b[90m━━━━━━━━━━━━━━━━━━━━━━━━━━━━━━━━━━━━━━━\u001b[0m \u001b[32m209.7/209.7 kB\u001b[0m \u001b[31m6.5 MB/s\u001b[0m eta \u001b[36m0:00:00\u001b[0m\n",
            "\u001b[?25hInstalling collected packages: sastrawi\n",
            "Successfully installed sastrawi-1.0.1\n"
          ]
        }
      ],
      "source": [
        "!pip install sastrawi"
      ]
    },
    {
      "cell_type": "markdown",
      "metadata": {
        "id": "vzO3rNoS1y9U"
      },
      "source": [
        "## Import Libraries"
      ]
    },
    {
      "cell_type": "code",
      "execution_count": null,
      "metadata": {
        "id": "OXo6kWIR3zDQ"
      },
      "outputs": [],
      "source": [
        "import pandas as pd\n",
        "import numpy as np\n",
        "\n",
        "import tensorflow as tf\n",
        "import tensorflow_hub as hub\n",
        "import tensorflow_text as text\n",
        "\n",
        "import seaborn as sns\n",
        "import matplotlib.pyplot as plt\n",
        "\n",
        "pd.set_option(\"display.max.columns\", 50)"
      ]
    },
    {
      "cell_type": "markdown",
      "metadata": {
        "id": "LkeZdf-f11na"
      },
      "source": [
        "## Mendapatkan Dan Praproses Dataset"
      ]
    },
    {
      "cell_type": "code",
      "execution_count": null,
      "metadata": {
        "id": "NZf-LJal6SyX"
      },
      "outputs": [],
      "source": [
        "# File path yang berisi dataset yang telah dilakukan labeling dalam format file .csv\n",
        "file_path = \"https://raw.githubusercontent.com/naufalhawari/gemastik-data-minik-esteh/main/esteh-df.csv\"\n"
      ]
    },
    {
      "cell_type": "code",
      "execution_count": null,
      "metadata": {
        "id": "E6AJF9vB5Lzr"
      },
      "outputs": [],
      "source": [
        "# Import kelas StemmerFactory untuk melakukan ekstraksi kata dasar (stemming) pada teks\n",
        "from Sastrawi.Stemmer.StemmerFactory import StemmerFactory\n",
        "from Sastrawi.StopWordRemover.StopWordRemoverFactory import StopWordRemoverFactory\n",
        "\n",
        "\n",
        "peta_perbaikan = {\n",
        "    \" ga \": \" tidak \",\n",
        "    \" engga \": \" tidak \",\n",
        "    \" ngga \": \" tidak \",\n",
        "    \" nggak \": \" tidak \",\n",
        "    \" gak \": \" tidak \",\n",
        "    \"ngak\": \" tidak \",\n",
        "    \" tdk \": \" tidak \",\n",
        "    \" g \": \" tidak \",\n",
        "    \"pdhl\": \" padahal \",\n",
        "    \"adlh\": \" adalah \",\n",
        "    \"cuman\": \" hanya \",\n",
        "    \" cuma \": \" hanya \",\n",
        "    \" tapi \": \" tetapi \",\n",
        "    \" tp \": \" tetapi \",\n",
        "    \"bngt\": \" banget \",\n",
        "    \"hny\": \" hanya \",\n",
        "    \"spt\": \" seperti \",\n",
        "    \"sprt\": \" seperti \",\n",
        "    \"apk\": \" aplikasi \",\n",
        "    \"jgn\": \" jangan \",\n",
        "    \" jg \": \" juga \",\n",
        "    \"trs\": \" terus \",\n",
        "    \"utk\": \" untuk \",\n",
        "    \" sampe \": \" sampai \",\n",
        "    \" ampe \": \" sampai \",\n",
        "    \" d \": \" \",\n",
        "    \" n \": \" \",\n",
        "    \" bs \": \" bisa \",\n",
        "    \" k \": \" \",\n",
        "    \" e \": \" \",\n",
        "    \"tlg\": \" tolong \",\n",
        "    \" sm \": \" sama \",\n",
        "    \"matursuwun\": \" terima kasih \",\n",
        "    \"msh\": \" masih \",\n",
        "    \" jd \": \" jadi \",\n",
        "    \" dlu \": \" \",\n",
        "    \"dahulu\": \" \",\n",
        "    \" yg \": \" \",\n",
        "    \"apk\": \" aplikasi \",\n",
        "    \"apps\": \" aplikasi \",\n",
        "    \" app \": \" aplikasi \",\n",
        "    \" tuk \": \" \",\n",
        "    \"untk\": \" \",\n",
        "    \"utk\": \" \",\n",
        "    \"org\": \" orang \",\n",
        "    \"cpt\": \" cepat \",\n",
        "    \"cepet\": \" cepat \",\n",
        "    \"sempet\": \" sempat \",\n",
        "    \"mksd\": \" maksud \",\n",
        "    \"maksd\": \" maksud \",\n",
        "    \"mksud\": \" maksud \",\n",
        "    \"mantaf\": \" mantap \",\n",
        "    \" udah \": \" \",\n",
        "    \"sudah\": \" \",\n",
        "    \" suda \": \" \",\n",
        "    \" dah \": \" \",\n",
        "    \" dh \": \" \",\n",
        "    \" da \": \" \",\n",
        "    \" ud \": \" \",\n",
        "    \" sudh \": \"\",\n",
        "    \"trims\": \" terima kasih \",\n",
        "    \"makasih\": \" terima kasih \",\n",
        "    \"ngaco\": \" kacau \",\n",
        "    \" dr \": \"\",\n",
        "    \"resiko\": \" risiko \",\n",
        "    \"klw\": \"kalau\",\n",
        "    \"kalo\": \"kalau\",\n",
        "    \" klo \": \"kalau\",\n",
        "    \",\": \" , \",\n",
        "    \"-\": \" - \",\n",
        "    \".\": \" . \",\n",
        "    \"/\": \" / \",\n",
        "    \"error\": \" eror \",\n",
        "    \" erro \": \" eror \",\n",
        "    \"knp\": \" kenapa \",\n",
        "    \"knapa\": \" kenapa \",\n",
        "    \" gmn \": \" bagaimana \",\n",
        "    \"bgmn\": \" bagaimana \",\n",
        "    \" ko \": \" kok \",\n",
        "    \"koq\": \" kok \",\n",
        "    \"sgt\": \" \",\n",
        "    \"sangat\": \"\",\n",
        "    \"blm\": \" belum \",\n",
        "    \"belom\": \" belum \",\n",
        "    \"sbg\": \" \",\n",
        "    \"sebagai\": \"\",\n",
        "    \"jgn\": \" jangan \",\n",
        "    \"bwt\": \" \",\n",
        "    \"buat\": \" \",\n",
        "    \"skli\": \" sekali \",\n",
        "    \"tetep\": \" tetap \",\n",
        "    \"bth\": \" butuh \",\n",
        "    \" gada \": \" tidak ada \",\n",
        "    \"dgn\": \" \",\n",
        "    \"rspn\": \" respon \",\n",
        "    \" ati \": \" hati \",\n",
        "    \"pls\": \" tolong \",\n",
        "    \"please\": \" tolong \",\n",
        "    \"plis\": \" tolong \",\n",
        "    \"sring\": \" sering \",\n",
        "    \"kluar\": \" keluar \",\n",
        "    \" adm \": \" admin \",\n",
        "    \"tsb\": \" \",\n",
        "    \"tersebut\": \" \",\n",
        "    \" mau \": \" \",\n",
        "    \" nya \": \" \",\n",
        "\n",
        "    \" terus \": \" \",\n",
        "    \" trus \": \" \",\n",
        "    \" sama \": \" \",\n",
        "    \" apa \": \" \",\n",
        "    \" sangat \": \" \",\n",
        "    \" banget \": \" \",\n",
        "    \" jarang \": \" \",\n",
        "    \" sering \": \" \",\n",
        "    \" min \": \" \",\n",
        "    \" gimana \": \" \",\n",
        "    \" mana \": \" \",\n",
        "    \" di \": \" \",\n",
        "    \" sdh \": \" \",\n",
        "    \" gk \": \" \",\n",
        "    \" atas \": \" \",\n",
        "    \" aja \": \" \",\n",
        "    \" saja \": \" \",\n",
        "    \" udh \": \" \",\n",
        "    \" bgt \": \" \",\n",
        "    \" lg \": \" \",\n",
        "    \" lagi \": \" \",\n",
        "    \" lalu \": \" \",\n",
        "    \" sy \": \" \",\n",
        "    \" saya \": \" \",\n",
        "}\n",
        "\n",
        "# Standarisasi Penulisan Kata\n",
        "def correcting_and_remove_unused_words(teks: pd.Series):\n",
        "  for key, value in peta_perbaikan.items():\n",
        "    teks = teks.str.replace(key, value)\n",
        "  return teks\n",
        "\n",
        "\n",
        "# Mendefinisikan fungsi untuk ekstraksi kata dasar (stemming) pada teks\n",
        "def remove_stop_word_and_stemming(teks):\n",
        "  stemmerFactory = StemmerFactory().create_stemmer()\n",
        "  stopWordRemoverFactory = StopWordRemoverFactory().create_stop_word_remover()\n",
        "\n",
        "  hasil = stemmerFactory.stem(teks)\n",
        "  hasil = stopWordRemoverFactory.remove(teks)\n",
        "\n",
        "  return hasil\n",
        "\n",
        "\n",
        "# Mendefinisikan fungsi untuk pembuatan dan pengolahan dataset\n",
        "def create_dataset(file_path, sheet_names = None) :\n",
        "\n",
        "  # Membaca file .csv dari URL\n",
        "  dataset = pd.read_csv(file_path)\n",
        "\n",
        "  dataset = dataset.copy().dropna() # Membuang data yang memiliki nilai kosong pada minimal satu kolom\n",
        "\n",
        "  # Kritik bernilai satu jika teks ulasan berupa keluhan atau saran\n",
        "  # dataset[\"kritik\"] = dataset[[\"keluhan\", \"saran\"]].max(axis = 1)\n",
        "\n",
        "  # Membuang kolom saran dan keluhan\n",
        "  # dataset = dataset.drop([\"saran\", \"keluhan\"], axis = 1)\n",
        "\n",
        "  dataset[\"ulasan\"] = dataset[\"ulasan\"].str.lower() # Semua karakter pada teks ulasan diubah menjadi huruf kecil\n",
        "  dataset[\"ulasan\"] = \" \" + dataset[\"ulasan\"] + \" \"\n",
        "  dataset[\"ulasan\"] = correcting_and_remove_unused_words(dataset[\"ulasan\"]) # Menghapus Kesalahan Penulisan\n",
        "  dataset[\"ulasan\"] = dataset[\"ulasan\"].apply(lambda x: remove_stop_word_and_stemming(x)) # Melakukan ekstraksi kata dasar (stemming) pada dataset teks ulasan\n",
        "\n",
        "\n",
        "  dataset = dataset.loc[~dataset.duplicated()].copy() # Menghapus data duplikasi\n",
        "\n",
        "  return dataset"
      ]
    },
    {
      "cell_type": "code",
      "execution_count": null,
      "metadata": {
        "id": "GXE7OgI986Op"
      },
      "outputs": [],
      "source": [
        "# Inisiasi dataset baru\n",
        "# df = create_dataset(file_path)\n",
        "\n",
        "# Impor dataset yang sudah terlebih dahulu diproses\n",
        "df = pd.read_csv(file_path)\n",
        "\n",
        "# Impor dataset yang sudah terpisah sebelumnya menjadi himpunan data latih dan data uji (pemisahan data dapat dilihat di bagian pemisahan data)\n",
        "train = pd.read_csv(\"https://raw.githubusercontent.com/naufalhawari/gemastik-data-minik-esteh/main/esteh-train.csv\")\n",
        "test = pd.read_csv(\"https://raw.githubusercontent.com/naufalhawari/gemastik-data-minik-esteh/main/esteh-test.csv\")"
      ]
    },
    {
      "cell_type": "code",
      "execution_count": null,
      "metadata": {
        "id": "Txl-IxL0BS2F"
      },
      "outputs": [],
      "source": [
        "# df[\"ulasan\"] = df[\"ulasan\"].str.replace(\" nya \", \" \")\n",
        "# df[\"ulasan\"] = df[\"ulasan\"].str.replace(\" terus \", \" \")\n",
        "# df[\"ulasan\"] = df[\"ulasan\"].str.replace(\" trus \", \" \")\n",
        "# df[\"ulasan\"] = df[\"ulasan\"].str.replace(\" sama \", \" \")\n",
        "# df[\"ulasan\"] = df[\"ulasan\"].str.replace(\" tdk \", \" \")\n",
        "# df[\"ulasan\"] = df[\"ulasan\"].str.replace(\" apa \", \" \")\n",
        "# df[\"ulasan\"] = df[\"ulasan\"].str.replace(\" sangat \", \" \")\n",
        "# df[\"ulasan\"] = df[\"ulasan\"].str.replace(\" banget \", \" \")\n",
        "# df[\"ulasan\"] = df[\"ulasan\"].str.replace(\" sering \", \" \")\n",
        "# df[\"ulasan\"] = df[\"ulasan\"].str.replace(\" jarang \", \" \")\n",
        "# df[\"ulasan\"] = df[\"ulasan\"].str.replace(\" lebih \", \" \")\n",
        "# df[\"ulasan\"] = df[\"ulasan\"].str.replace(\" min \", \" \")\n",
        "# df[\"ulasan\"] = df[\"ulasan\"].str.replace(\" gimana \", \" \")\n",
        "# df[\"ulasan\"] = df[\"ulasan\"].str.replace(\" mana \", \" \")\n",
        "# df[\"ulasan\"] = df[\"ulasan\"].str.replace(\" di \", \" \")\n",
        "# df[\"ulasan\"] = df[\"ulasan\"].str.replace(\" sdh \", \" \")\n",
        "# df[\"ulasan\"] = df[\"ulasan\"].str.replace(\" tdk \", \" tidak \")\n",
        "# df[\"ulasan\"] = df[\"ulasan\"].str.replace(\" gk \", \" \")\n",
        "# df[\"ulasan\"] = df[\"ulasan\"].str.replace(\" atas \", \" \")"
      ]
    },
    {
      "cell_type": "code",
      "execution_count": null,
      "metadata": {
        "id": "wFTeHwE6DezM"
      },
      "outputs": [],
      "source": [
        "# df[\"ulasan\"] = df[\"ulasan\"].str.replace(\" aja \", \" \")\n",
        "# df[\"ulasan\"] = df[\"ulasan\"].str.replace(\" saja \", \" \")\n",
        "# df[\"ulasan\"] = df[\"ulasan\"].str.replace(\" bgt \", \" \")\n",
        "# df[\"ulasan\"] = df[\"ulasan\"].str.replace(\" udh \", \" \")"
      ]
    },
    {
      "cell_type": "code",
      "execution_count": null,
      "metadata": {
        "id": "irkoxAZJD_2M"
      },
      "outputs": [],
      "source": [
        "# df[\"ulasan\"] = df[\"ulasan\"].str.replace(\" lg \", \" \")\n",
        "# df[\"ulasan\"] = df[\"ulasan\"].str.replace(\" lagi \", \" \")\n",
        "# df[\"ulasan\"] = df[\"ulasan\"].str.replace(\" lalu \", \" \")\n",
        "# df[\"ulasan\"] = df[\"ulasan\"].str.replace(\" sy \", \" \")\n",
        "# df[\"ulasan\"] = df[\"ulasan\"].str.replace(\" saya \", \" \")"
      ]
    },
    {
      "cell_type": "code",
      "execution_count": null,
      "metadata": {
        "id": "nSzgrFT_Fnni"
      },
      "outputs": [],
      "source": [
        "# df[\"ulasan\"] = df[\"ulasan\"].str.replace(\" aplikasi \", \" \")"
      ]
    },
    {
      "cell_type": "code",
      "execution_count": null,
      "metadata": {
        "colab": {
          "base_uri": "https://localhost:8080/"
        },
        "id": "ttAbi08UDiH_",
        "outputId": "86637812-afae-4526-826f-f763bb09c742"
      },
      "outputs": [
        {
          "output_type": "execute_result",
          "data": {
            "text/plain": [
              "                                              ulasan  apresiasi  kritik\n",
              "0    bagus   lapor kritik soal jak wifi ribet aks...          1       1\n",
              "1    menu jaki vaksin sih minggu gabiza akses men...          0       1\n",
              "2    hello jaki lapor jakarta aman  eror  bantu j...          0       1\n",
              "3    enak pake jakikalaumau lapor tinggal foto la...          1       0\n",
              "4    pernah daftar dadak kalau tebet ecopark misa...          0       1"
            ],
            "text/html": [
              "\n",
              "  <div id=\"df-8b18a338-c639-415e-a021-b8c5dd020afc\">\n",
              "    <div class=\"colab-df-container\">\n",
              "      <div>\n",
              "<style scoped>\n",
              "    .dataframe tbody tr th:only-of-type {\n",
              "        vertical-align: middle;\n",
              "    }\n",
              "\n",
              "    .dataframe tbody tr th {\n",
              "        vertical-align: top;\n",
              "    }\n",
              "\n",
              "    .dataframe thead th {\n",
              "        text-align: right;\n",
              "    }\n",
              "</style>\n",
              "<table border=\"1\" class=\"dataframe\">\n",
              "  <thead>\n",
              "    <tr style=\"text-align: right;\">\n",
              "      <th></th>\n",
              "      <th>ulasan</th>\n",
              "      <th>apresiasi</th>\n",
              "      <th>kritik</th>\n",
              "    </tr>\n",
              "  </thead>\n",
              "  <tbody>\n",
              "    <tr>\n",
              "      <th>0</th>\n",
              "      <td>bagus   lapor kritik soal jak wifi ribet aks...</td>\n",
              "      <td>1</td>\n",
              "      <td>1</td>\n",
              "    </tr>\n",
              "    <tr>\n",
              "      <th>1</th>\n",
              "      <td>menu jaki vaksin sih minggu gabiza akses men...</td>\n",
              "      <td>0</td>\n",
              "      <td>1</td>\n",
              "    </tr>\n",
              "    <tr>\n",
              "      <th>2</th>\n",
              "      <td>hello jaki lapor jakarta aman  eror  bantu j...</td>\n",
              "      <td>0</td>\n",
              "      <td>1</td>\n",
              "    </tr>\n",
              "    <tr>\n",
              "      <th>3</th>\n",
              "      <td>enak pake jakikalaumau lapor tinggal foto la...</td>\n",
              "      <td>1</td>\n",
              "      <td>0</td>\n",
              "    </tr>\n",
              "    <tr>\n",
              "      <th>4</th>\n",
              "      <td>pernah daftar dadak kalau tebet ecopark misa...</td>\n",
              "      <td>0</td>\n",
              "      <td>1</td>\n",
              "    </tr>\n",
              "  </tbody>\n",
              "</table>\n",
              "</div>\n",
              "      <button class=\"colab-df-convert\" onclick=\"convertToInteractive('df-8b18a338-c639-415e-a021-b8c5dd020afc')\"\n",
              "              title=\"Convert this dataframe to an interactive table.\"\n",
              "              style=\"display:none;\">\n",
              "        \n",
              "  <svg xmlns=\"http://www.w3.org/2000/svg\" height=\"24px\"viewBox=\"0 0 24 24\"\n",
              "       width=\"24px\">\n",
              "    <path d=\"M0 0h24v24H0V0z\" fill=\"none\"/>\n",
              "    <path d=\"M18.56 5.44l.94 2.06.94-2.06 2.06-.94-2.06-.94-.94-2.06-.94 2.06-2.06.94zm-11 1L8.5 8.5l.94-2.06 2.06-.94-2.06-.94L8.5 2.5l-.94 2.06-2.06.94zm10 10l.94 2.06.94-2.06 2.06-.94-2.06-.94-.94-2.06-.94 2.06-2.06.94z\"/><path d=\"M17.41 7.96l-1.37-1.37c-.4-.4-.92-.59-1.43-.59-.52 0-1.04.2-1.43.59L10.3 9.45l-7.72 7.72c-.78.78-.78 2.05 0 2.83L4 21.41c.39.39.9.59 1.41.59.51 0 1.02-.2 1.41-.59l7.78-7.78 2.81-2.81c.8-.78.8-2.07 0-2.86zM5.41 20L4 18.59l7.72-7.72 1.47 1.35L5.41 20z\"/>\n",
              "  </svg>\n",
              "      </button>\n",
              "      \n",
              "  <style>\n",
              "    .colab-df-container {\n",
              "      display:flex;\n",
              "      flex-wrap:wrap;\n",
              "      gap: 12px;\n",
              "    }\n",
              "\n",
              "    .colab-df-convert {\n",
              "      background-color: #E8F0FE;\n",
              "      border: none;\n",
              "      border-radius: 50%;\n",
              "      cursor: pointer;\n",
              "      display: none;\n",
              "      fill: #1967D2;\n",
              "      height: 32px;\n",
              "      padding: 0 0 0 0;\n",
              "      width: 32px;\n",
              "    }\n",
              "\n",
              "    .colab-df-convert:hover {\n",
              "      background-color: #E2EBFA;\n",
              "      box-shadow: 0px 1px 2px rgba(60, 64, 67, 0.3), 0px 1px 3px 1px rgba(60, 64, 67, 0.15);\n",
              "      fill: #174EA6;\n",
              "    }\n",
              "\n",
              "    [theme=dark] .colab-df-convert {\n",
              "      background-color: #3B4455;\n",
              "      fill: #D2E3FC;\n",
              "    }\n",
              "\n",
              "    [theme=dark] .colab-df-convert:hover {\n",
              "      background-color: #434B5C;\n",
              "      box-shadow: 0px 1px 3px 1px rgba(0, 0, 0, 0.15);\n",
              "      filter: drop-shadow(0px 1px 2px rgba(0, 0, 0, 0.3));\n",
              "      fill: #FFFFFF;\n",
              "    }\n",
              "  </style>\n",
              "\n",
              "      <script>\n",
              "        const buttonEl =\n",
              "          document.querySelector('#df-8b18a338-c639-415e-a021-b8c5dd020afc button.colab-df-convert');\n",
              "        buttonEl.style.display =\n",
              "          google.colab.kernel.accessAllowed ? 'block' : 'none';\n",
              "\n",
              "        async function convertToInteractive(key) {\n",
              "          const element = document.querySelector('#df-8b18a338-c639-415e-a021-b8c5dd020afc');\n",
              "          const dataTable =\n",
              "            await google.colab.kernel.invokeFunction('convertToInteractive',\n",
              "                                                     [key], {});\n",
              "          if (!dataTable) return;\n",
              "\n",
              "          const docLinkHtml = 'Like what you see? Visit the ' +\n",
              "            '<a target=\"_blank\" href=https://colab.research.google.com/notebooks/data_table.ipynb>data table notebook</a>'\n",
              "            + ' to learn more about interactive tables.';\n",
              "          element.innerHTML = '';\n",
              "          dataTable['output_type'] = 'display_data';\n",
              "          await google.colab.output.renderOutput(dataTable, element);\n",
              "          const docLink = document.createElement('div');\n",
              "          docLink.innerHTML = docLinkHtml;\n",
              "          element.appendChild(docLink);\n",
              "        }\n",
              "      </script>\n",
              "    </div>\n",
              "  </div>\n",
              "  "
            ]
          },
          "metadata": {},
          "execution_count": 12
        }
      ],
      "source": [
        "# Eksplorasi beberapa data\n",
        "\n",
        "df.head()\n",
        "# train.head()"
      ]
    },
    {
      "cell_type": "code",
      "execution_count": null,
      "metadata": {
        "id": "KVhXYnTRAFOE"
      },
      "outputs": [],
      "source": [
        "# Menyimpan dataset yang telah diproses terlebih dahulu\n",
        "\n",
        "# df.to_csv(\"esteh-df.csv\", index = False)"
      ]
    },
    {
      "cell_type": "code",
      "execution_count": null,
      "metadata": {
        "colab": {
          "base_uri": "https://localhost:8080/"
        },
        "id": "2keYzNuA89xw",
        "outputId": "e39352e4-a582-4cd5-b910-9df819c6881e"
      },
      "outputs": [
        {
          "output_type": "execute_result",
          "data": {
            "text/plain": [
              "0"
            ]
          },
          "metadata": {},
          "execution_count": 14
        }
      ],
      "source": [
        "# Memeriksa kembali data duplikasi\n",
        "\n",
        "df.duplicated().sum()\n",
        "# train.duplicated().sum(), test.duplicated().sum()"
      ]
    },
    {
      "cell_type": "code",
      "execution_count": null,
      "metadata": {
        "colab": {
          "base_uri": "https://localhost:8080/"
        },
        "id": "doEsZznYAWxp",
        "outputId": "f200bb79-6179-4fca-a4c0-2349015ec621"
      },
      "outputs": [
        {
          "output_type": "execute_result",
          "data": {
            "text/plain": [
              "ulasan       0\n",
              "apresiasi    0\n",
              "kritik       0\n",
              "dtype: int64"
            ]
          },
          "metadata": {},
          "execution_count": 15
        }
      ],
      "source": [
        "# Memeriksa adanya missing values\n",
        "\n",
        "df.isnull().sum()\n",
        "# train.isnull().sum(), test.isnull().sum()"
      ]
    },
    {
      "cell_type": "code",
      "execution_count": null,
      "metadata": {
        "colab": {
          "base_uri": "https://localhost:8080/"
        },
        "id": "hKZHuXU2ToMU",
        "outputId": "6687a684-7d07-45e3-ed99-29a80729dea4"
      },
      "outputs": [
        {
          "output_type": "stream",
          "name": "stdout",
          "text": [
            "Banyak Keseluruhan Dataset:  1675\n",
            "Banyak Data Latih:  1348\n",
            "Banyak Data Uji:  335\n"
          ]
        }
      ],
      "source": [
        "# Memeriksa distribusi banyaknya data latih dan data uji\n",
        "\n",
        "print(\"Banyak Keseluruhan Dataset: \", len(df))\n",
        "print(\"Banyak Data Latih: \", len(train))\n",
        "print(\"Banyak Data Uji: \", len(test))"
      ]
    },
    {
      "cell_type": "markdown",
      "metadata": {
        "id": "AmbXc0g-178k"
      },
      "source": [
        "## Pemisahan Data"
      ]
    },
    {
      "cell_type": "code",
      "execution_count": null,
      "metadata": {
        "id": "IrkFA_wOpXGR"
      },
      "outputs": [],
      "source": [
        "# Melakukan pemisahan data baru\n",
        "\n",
        "# from sklearn.model_selection import train_test_split\n",
        "\n",
        "# X = df.ulasan\n",
        "# y = df.drop(\"ulasan\", axis = 1)\n",
        "\n",
        "# X_train, X_test, y_train, y_test = train_test_split(X, y, test_size = 0.2, stratify = df.apresiasi)\n",
        "\n",
        "# Memisahkan data menjadi train set dan test set untuk disimpan ke sebuah file csv\n",
        "# train = y_train.copy()\n",
        "# test = y_test.copy()\n",
        "\n",
        "# train[\"ulasan\"] = X_train\n",
        "# test[\"ulasan\"] = X_test\n"
      ]
    },
    {
      "cell_type": "code",
      "execution_count": null,
      "metadata": {
        "id": "uDPDMiwE0Tr3"
      },
      "outputs": [],
      "source": [
        "# Menyimpan data yang telah terpisah\n",
        "\n",
        "# train.to_csv(\"esteh-train.csv\", index = False)\n",
        "# test.to_csv(\"esteh-test.csv\", index = False)"
      ]
    },
    {
      "cell_type": "code",
      "execution_count": null,
      "metadata": {
        "id": "As1LiP3fBnyX"
      },
      "outputs": [],
      "source": [
        "# Split X and y pada data train dan test set\n",
        "\n",
        "X_train = train[\"ulasan\"]\n",
        "X_test = test[\"ulasan\"]\n",
        "y_train = train.drop(\"ulasan\", axis = 1)\n",
        "y_test = test.drop(\"ulasan\", axis = 1)"
      ]
    },
    {
      "cell_type": "markdown",
      "metadata": {
        "id": "ZXNJ9b1O2YVN"
      },
      "source": [
        "# Explorasi Dan Analisis Data"
      ]
    },
    {
      "cell_type": "code",
      "execution_count": null,
      "metadata": {
        "id": "j2I-nvvT2dbJ"
      },
      "outputs": [],
      "source": [
        "from wordcloud import WordCloud\n",
        "\n",
        "kritik_review_texts = \" \".join(list(df[df.kritik == 1][\"ulasan\"]))\n",
        "\n",
        "apresiasi_review_texts = \" \".join(list(df[df.apresiasi == 1][\"ulasan\"]))\n",
        "\n",
        "wordcloud_apresiasi = WordCloud(\n",
        "    width = 1280,\n",
        "    height = 720,\n",
        "    background_color = \"white\",\n",
        ").generate(apresiasi_review_texts)\n",
        "\n",
        "wordcloud_kritik = WordCloud(\n",
        "    width = 1280,\n",
        "    height = 720,\n",
        "    background_color = \"white\",\n",
        ").generate(kritik_review_texts)"
      ]
    },
    {
      "cell_type": "code",
      "execution_count": null,
      "metadata": {
        "colab": {
          "base_uri": "https://localhost:8080/"
        },
        "id": "mG0InjzB28Zp",
        "outputId": "40b1d867-976d-4026-9732-e4db8c0d9ad5"
      },
      "outputs": [
        {
          "data": {
            "image/png": "[encoded data removed]",
            "text/plain": [
              "<Figure size 800x800 with 1 Axes>"
            ]
          },
          "metadata": {},
          "output_type": "display_data"
        }
      ],
      "source": [
        "plt.figure(figsize = (8, 8))\n",
        "plt.imshow(wordcloud_apresiasi)\n",
        "\n",
        "plt.show();"
      ]
    },
    {
      "cell_type": "code",
      "execution_count": null,
      "metadata": {
        "colab": {
          "base_uri": "https://localhost:8080/"
        },
        "id": "hU6Mzrsd3FVe",
        "outputId": "6ee3a996-8ae7-4490-b0df-4cd4bd706e42"
      },
      "outputs": [
        {
          "data": {
            "image/png": "[encoded data removed]",
            "text/plain": [
              "<Figure size 800x800 with 1 Axes>"
            ]
          },
          "metadata": {},
          "output_type": "display_data"
        }
      ],
      "source": [
        "plt.figure(figsize = (8, 8))\n",
        "plt.imshow(wordcloud_kritik)\n",
        "\n",
        "plt.show();"
      ]
    },
    {
      "cell_type": "markdown",
      "metadata": {
        "id": "jUmFMGIbQt4S"
      },
      "source": [
        "# RNN Model"
      ]
    },
    {
      "cell_type": "markdown",
      "metadata": {
        "id": "lIZcWXWd2xhQ"
      },
      "source": [
        "## Inisiasi Tokenizer RNN"
      ]
    },
    {
      "cell_type": "code",
      "execution_count": null,
      "metadata": {
        "id": "6mM63MSReDL1"
      },
      "outputs": [],
      "source": [
        "VOCAB_SIZE = 1200\n",
        "encoder = tf.keras.layers.TextVectorization(\n",
        "    max_tokens=VOCAB_SIZE)\n",
        "encoder.adapt(X_train)"
      ]
    },
    {
      "cell_type": "code",
      "execution_count": null,
      "metadata": {
        "colab": {
          "base_uri": "https://localhost:8080/"
        },
        "id": "2mtDb4lwipJ8",
        "outputId": "b03b827b-3dd3-4a21-b603-912f679a5d7c"
      },
      "outputs": [
        {
          "data": {
            "text/plain": [
              "1200"
            ]
          },
          "execution_count": 83,
          "metadata": {},
          "output_type": "execute_result"
        }
      ],
      "source": [
        "len(encoder.get_vocabulary())"
      ]
    },
    {
      "cell_type": "markdown",
      "metadata": {
        "id": "X2BmtjrM2DMP"
      },
      "source": [
        "## Membangun Arsitektur Model"
      ]
    },
    {
      "cell_type": "code",
      "execution_count": null,
      "metadata": {
        "id": "cvvuitMdQwG9"
      },
      "outputs": [],
      "source": [
        "# Membuat arsitektur model RNN meliputi LSTM, stacked LSTM, Bi-LSTM, stacked Bi-LSTM, GRU, stacked GRU, Bi-GRU, dan stacked Bi-GRU\n",
        "\n",
        "lstm = tf.keras.Sequential([\n",
        "    tf.keras.layers.Input(shape=(), dtype = \"string\"),\n",
        "    encoder,\n",
        "    tf.keras.layers.Embedding(\n",
        "        input_dim=len(encoder.get_vocabulary()),\n",
        "        output_dim=100,\n",
        "        # Use masking to handle the variable sequence lengths\n",
        "        mask_zero=True),\n",
        "    tf.keras.layers.LSTM(64),\n",
        "    tf.keras.layers.Dense(32, activation='relu'),\n",
        "    tf.keras.layers.Dropout(0.2),\n",
        "    tf.keras.layers.Dense(2, activation='sigmoid'),\n",
        "])\n",
        "\n",
        "bi_lstm = tf.keras.Sequential([\n",
        "    tf.keras.layers.Input(shape=(), dtype = \"string\"),\n",
        "    encoder,\n",
        "    tf.keras.layers.Embedding(\n",
        "        input_dim=len(encoder.get_vocabulary()),\n",
        "        output_dim=100,\n",
        "        # Use masking to handle the variable sequence lengths\n",
        "        mask_zero=True),\n",
        "    tf.keras.layers.Bidirectional(tf.keras.layers.LSTM(64)),\n",
        "    tf.keras.layers.Dense(32, activation='relu'),\n",
        "    tf.keras.layers.Dropout(0.2),\n",
        "    tf.keras.layers.Dense(2, activation='sigmoid'),\n",
        "])\n",
        "\n",
        "stacked_bi_lstm = tf.keras.Sequential([\n",
        "    tf.keras.layers.Input(shape=(), dtype = \"string\"),\n",
        "    encoder,\n",
        "    tf.keras.layers.Embedding(\n",
        "        input_dim=len(encoder.get_vocabulary()),\n",
        "        output_dim=100,\n",
        "        # Use masking to handle the variable sequence lengths\n",
        "        mask_zero=True),\n",
        "    tf.keras.layers.Bidirectional(tf.keras.layers.LSTM(64, return_sequences = True)),\n",
        "    tf.keras.layers.Bidirectional(tf.keras.layers.LSTM(64)),\n",
        "    tf.keras.layers.Dense(32, activation='relu'),\n",
        "    tf.keras.layers.Dropout(0.2),\n",
        "    tf.keras.layers.Dense(2, activation='sigmoid'),\n",
        "])\n",
        "\n",
        "gru = tf.keras.Sequential([\n",
        "    tf.keras.layers.Input(shape=(), dtype = \"string\"),\n",
        "    encoder,\n",
        "    tf.keras.layers.Embedding(\n",
        "        input_dim=len(encoder.get_vocabulary()),\n",
        "        output_dim=100,\n",
        "        # Use masking to handle the variable sequence lengths\n",
        "        mask_zero=True),\n",
        "    tf.keras.layers.GRU(64),\n",
        "    tf.keras.layers.Dense(32, activation='relu'),\n",
        "    tf.keras.layers.Dropout(0.2),\n",
        "    tf.keras.layers.Dense(2, activation='sigmoid'),\n",
        "])\n",
        "\n",
        "bi_gru= tf.keras.Sequential([\n",
        "    tf.keras.layers.Input(shape=(), dtype = \"string\"),\n",
        "    encoder,\n",
        "    tf.keras.layers.Embedding(\n",
        "        input_dim=len(encoder.get_vocabulary()),\n",
        "        output_dim=100,\n",
        "        # Use masking to handle the variable sequence lengths\n",
        "        mask_zero=True),\n",
        "    tf.keras.layers.Bidirectional(tf.keras.layers.GRU(64)),\n",
        "    tf.keras.layers.Dense(32, activation='relu'),\n",
        "    tf.keras.layers.Dropout(0.2),\n",
        "    tf.keras.layers.Dense(2, activation='sigmoid'),\n",
        "])\n",
        "\n",
        "stacked_bi_gru = tf.keras.Sequential([\n",
        "    tf.keras.layers.Input(shape=(), dtype = \"string\"),\n",
        "    encoder,\n",
        "    tf.keras.layers.Embedding(\n",
        "        input_dim=len(encoder.get_vocabulary()),\n",
        "        output_dim=100,\n",
        "        # Use masking to handle the variable sequence lengths\n",
        "        mask_zero=True),\n",
        "    tf.keras.layers.Bidirectional(tf.keras.layers.GRU(64, return_sequences = True)),\n",
        "    tf.keras.layers.Bidirectional(tf.keras.layers.GRU(64)),\n",
        "    tf.keras.layers.Dense(32, activation='relu'),\n",
        "    tf.keras.layers.Dropout(0.2),\n",
        "    tf.keras.layers.Dense(2, activation='sigmoid'),\n",
        "])"
      ]
    },
    {
      "cell_type": "code",
      "execution_count": null,
      "metadata": {
        "id": "GudjHKBY-bio"
      },
      "outputs": [],
      "source": [
        "stacked_lstm = tf.keras.Sequential([\n",
        "    tf.keras.layers.Input(shape=(), dtype = \"string\"),\n",
        "    encoder,\n",
        "    tf.keras.layers.Embedding(\n",
        "        input_dim=len(encoder.get_vocabulary()),\n",
        "        output_dim=100,\n",
        "        # Use masking to handle the variable sequence lengths\n",
        "        mask_zero=True),\n",
        "    tf.keras.layers.LSTM(64, return_sequences = True),\n",
        "    tf.keras.layers.LSTM(64),\n",
        "    tf.keras.layers.Dense(32, activation='relu'),\n",
        "    tf.keras.layers.Dropout(0.2),\n",
        "    tf.keras.layers.Dense(2, activation='sigmoid'),\n",
        "])\n",
        "\n",
        "stacked_gru = tf.keras.Sequential([\n",
        "    tf.keras.layers.Input(shape=(), dtype = \"string\"),\n",
        "    encoder,\n",
        "    tf.keras.layers.Embedding(\n",
        "        input_dim=len(encoder.get_vocabulary()),\n",
        "        output_dim=100,\n",
        "        # Use masking to handle the variable sequence lengths\n",
        "        mask_zero=True),\n",
        "    tf.keras.layers.GRU(64, return_sequences = True),\n",
        "    tf.keras.layers.GRU(64),\n",
        "    tf.keras.layers.Dense(32, activation='relu'),\n",
        "    tf.keras.layers.Dropout(0.2),\n",
        "    tf.keras.layers.Dense(2, activation='sigmoid'),\n",
        "])"
      ]
    },
    {
      "cell_type": "markdown",
      "metadata": {
        "id": "Kj_eJv9L2G_W"
      },
      "source": [
        "## Model Compiling"
      ]
    },
    {
      "cell_type": "code",
      "execution_count": null,
      "metadata": {
        "id": "WZt4kLBZdYT4"
      },
      "outputs": [],
      "source": [
        "# Melakukan compile pada seluruh arsitektur yang telah dibuat\n",
        "\n",
        "lstm.compile(\n",
        "    optimizer = tf.keras.optimizers.Adam(learning_rate = 0.00003),\n",
        "    loss = tf.keras.losses.BinaryCrossentropy(),\n",
        "    metrics = tf.keras.metrics.BinaryAccuracy(),\n",
        ")\n",
        "\n",
        "stacked_lstm.compile(\n",
        "    optimizer = tf.keras.optimizers.Adam(learning_rate = 0.00003),\n",
        "    loss = tf.keras.losses.BinaryCrossentropy(),\n",
        "    metrics = tf.keras.metrics.BinaryAccuracy(),\n",
        ")\n",
        "\n",
        "bi_lstm.compile(\n",
        "    optimizer = tf.keras.optimizers.Adam(learning_rate = 0.00003),\n",
        "    loss = tf.keras.losses.BinaryCrossentropy(),\n",
        "    metrics = tf.keras.metrics.BinaryAccuracy(),\n",
        ")\n",
        "\n",
        "\n",
        "\n",
        "stacked_bi_lstm.compile(\n",
        "    optimizer = tf.keras.optimizers.Adam(learning_rate = 0.00003),\n",
        "    loss = tf.keras.losses.BinaryCrossentropy(),\n",
        "    metrics = tf.keras.metrics.BinaryAccuracy(),\n",
        ")\n",
        "\n",
        "\n",
        "\n",
        "gru.compile(\n",
        "    optimizer = tf.keras.optimizers.Adam(learning_rate = 0.00003),\n",
        "    loss = tf.keras.losses.BinaryCrossentropy(),\n",
        "    metrics = tf.keras.metrics.BinaryAccuracy(),\n",
        ")\n",
        "\n",
        "\n",
        "bi_gru.compile(\n",
        "    optimizer = tf.keras.optimizers.Adam(learning_rate = 0.00003),\n",
        "    loss = tf.keras.losses.BinaryCrossentropy(),\n",
        "    metrics = tf.keras.metrics.BinaryAccuracy(),\n",
        ")\n",
        "\n",
        "\n",
        "stacked_bi_gru.compile(\n",
        "    optimizer = tf.keras.optimizers.Adam(learning_rate = 0.00003),\n",
        "    loss = tf.keras.losses.BinaryCrossentropy(),\n",
        "    metrics = tf.keras.metrics.BinaryAccuracy(),\n",
        ")\n"
      ]
    },
    {
      "cell_type": "code",
      "execution_count": null,
      "metadata": {
        "id": "WRMdJpfuYau8"
      },
      "outputs": [],
      "source": [
        "stacked_lstm.compile(\n",
        "    optimizer = tf.keras.optimizers.Adam(learning_rate = 0.00003),\n",
        "    loss = tf.keras.losses.BinaryCrossentropy(),\n",
        "    metrics = tf.keras.metrics.BinaryAccuracy(),\n",
        ")\n",
        "\n",
        "stacked_gru.compile(\n",
        "    optimizer = tf.keras.optimizers.Adam(learning_rate = 0.00003),\n",
        "    loss = tf.keras.losses.BinaryCrossentropy(),\n",
        "    metrics = tf.keras.metrics.BinaryAccuracy(),\n",
        ")\n"
      ]
    },
    {
      "cell_type": "markdown",
      "metadata": {
        "id": "TgUoRqSTFvsK"
      },
      "source": [
        "## Model Training"
      ]
    },
    {
      "cell_type": "code",
      "execution_count": null,
      "metadata": {
        "colab": {
          "base_uri": "https://localhost:8080/"
        },
        "id": "oJdtNTKiXIa9",
        "outputId": "91d2cfa6-da0a-4275-9d4b-661c362616c9"
      },
      "outputs": [
        {
          "name": "stdout",
          "output_type": "stream",
          "text": [
            "Epoch 1/25\n",
            "85/85 [==============================] - 12s 66ms/step - loss: 0.6902 - binary_accuracy: 0.6406 - val_loss: 0.6868 - val_binary_accuracy: 0.7000\n",
            "Epoch 2/25\n",
            "85/85 [==============================] - 6s 72ms/step - loss: 0.6822 - binary_accuracy: 0.6940 - val_loss: 0.6765 - val_binary_accuracy: 0.6896\n",
            "Epoch 3/25\n",
            "85/85 [==============================] - 4s 50ms/step - loss: 0.6667 - binary_accuracy: 0.6929 - val_loss: 0.6553 - val_binary_accuracy: 0.6896\n",
            "Epoch 4/25\n",
            "85/85 [==============================] - 4s 46ms/step - loss: 0.6237 - binary_accuracy: 0.6925 - val_loss: 0.5876 - val_binary_accuracy: 0.6896\n",
            "Epoch 5/25\n",
            "85/85 [==============================] - 6s 72ms/step - loss: 0.5607 - binary_accuracy: 0.6929 - val_loss: 0.5598 - val_binary_accuracy: 0.6896\n",
            "Epoch 6/25\n",
            "85/85 [==============================] - 7s 85ms/step - loss: 0.5379 - binary_accuracy: 0.6925 - val_loss: 0.5444 - val_binary_accuracy: 0.6896\n",
            "Epoch 7/25\n",
            "85/85 [==============================] - 4s 46ms/step - loss: 0.5247 - binary_accuracy: 0.6973 - val_loss: 0.5299 - val_binary_accuracy: 0.6955\n",
            "Epoch 8/25\n",
            "85/85 [==============================] - 4s 44ms/step - loss: 0.5046 - binary_accuracy: 0.7122 - val_loss: 0.5146 - val_binary_accuracy: 0.7149\n",
            "Epoch 9/25\n",
            "85/85 [==============================] - 5s 56ms/step - loss: 0.4880 - binary_accuracy: 0.7352 - val_loss: 0.4966 - val_binary_accuracy: 0.7478\n",
            "Epoch 10/25\n",
            "85/85 [==============================] - 5s 64ms/step - loss: 0.4743 - binary_accuracy: 0.7552 - val_loss: 0.4819 - val_binary_accuracy: 0.7836\n",
            "Epoch 11/25\n",
            "85/85 [==============================] - 4s 46ms/step - loss: 0.4519 - binary_accuracy: 0.7834 - val_loss: 0.4653 - val_binary_accuracy: 0.8149\n",
            "Epoch 12/25\n",
            "85/85 [==============================] - 4s 46ms/step - loss: 0.4343 - binary_accuracy: 0.8116 - val_loss: 0.4506 - val_binary_accuracy: 0.8239\n",
            "Epoch 13/25\n",
            "85/85 [==============================] - 6s 73ms/step - loss: 0.4211 - binary_accuracy: 0.8412 - val_loss: 0.4348 - val_binary_accuracy: 0.8493\n",
            "Epoch 14/25\n",
            "85/85 [==============================] - 4s 47ms/step - loss: 0.4046 - binary_accuracy: 0.8561 - val_loss: 0.4253 - val_binary_accuracy: 0.8657\n",
            "Epoch 15/25\n",
            "85/85 [==============================] - 4s 46ms/step - loss: 0.3933 - binary_accuracy: 0.8705 - val_loss: 0.4108 - val_binary_accuracy: 0.8746\n",
            "Epoch 16/25\n",
            "85/85 [==============================] - 6s 67ms/step - loss: 0.3768 - binary_accuracy: 0.8776 - val_loss: 0.3997 - val_binary_accuracy: 0.8836\n",
            "Epoch 17/25\n",
            "85/85 [==============================] - 5s 63ms/step - loss: 0.3639 - binary_accuracy: 0.8865 - val_loss: 0.3864 - val_binary_accuracy: 0.8896\n",
            "Epoch 18/25\n",
            "85/85 [==============================] - 4s 44ms/step - loss: 0.3530 - binary_accuracy: 0.8898 - val_loss: 0.3788 - val_binary_accuracy: 0.8955\n",
            "Epoch 19/25\n",
            "85/85 [==============================] - 4s 46ms/step - loss: 0.3430 - binary_accuracy: 0.8954 - val_loss: 0.3701 - val_binary_accuracy: 0.8955\n",
            "Epoch 20/25\n",
            "85/85 [==============================] - 6s 70ms/step - loss: 0.3323 - binary_accuracy: 0.9028 - val_loss: 0.3616 - val_binary_accuracy: 0.8985\n",
            "Epoch 21/25\n",
            "85/85 [==============================] - 4s 49ms/step - loss: 0.3212 - binary_accuracy: 0.9054 - val_loss: 0.3493 - val_binary_accuracy: 0.8955\n",
            "Epoch 22/25\n",
            "85/85 [==============================] - 4s 45ms/step - loss: 0.3121 - binary_accuracy: 0.9050 - val_loss: 0.3407 - val_binary_accuracy: 0.8955\n",
            "Epoch 23/25\n",
            "85/85 [==============================] - 4s 50ms/step - loss: 0.2994 - binary_accuracy: 0.9099 - val_loss: 0.3329 - val_binary_accuracy: 0.8940\n",
            "Epoch 24/25\n",
            "85/85 [==============================] - 6s 70ms/step - loss: 0.2934 - binary_accuracy: 0.9128 - val_loss: 0.3254 - val_binary_accuracy: 0.8940\n",
            "Epoch 25/25\n",
            "85/85 [==============================] - 6s 65ms/step - loss: 0.2812 - binary_accuracy: 0.9188 - val_loss: 0.3199 - val_binary_accuracy: 0.8896\n"
          ]
        },
        {
          "data": {
            "text/plain": [
              "<keras.callbacks.History at 0x7fe3900cf3a0>"
            ]
          },
          "execution_count": 88,
          "metadata": {},
          "output_type": "execute_result"
        }
      ],
      "source": [
        "lstm.fit(\n",
        "    x = X_train,\n",
        "    y = y_train,\n",
        "    batch_size = 16,\n",
        "    validation_data = (X_test, y_test),\n",
        "    epochs = 25,\n",
        ")"
      ]
    },
    {
      "cell_type": "code",
      "execution_count": null,
      "metadata": {
        "colab": {
          "base_uri": "https://localhost:8080/"
        },
        "id": "l7qCOHsXU0vj",
        "outputId": "5e7af2ec-dda4-4559-f91c-534f1bec53d6"
      },
      "outputs": [
        {
          "name": "stdout",
          "output_type": "stream",
          "text": [
            "Epoch 1/25\n",
            "85/85 [==============================] - 23s 148ms/step - loss: 0.6908 - binary_accuracy: 0.6139 - val_loss: 0.6879 - val_binary_accuracy: 0.6836\n",
            "Epoch 2/25\n",
            "85/85 [==============================] - 8s 94ms/step - loss: 0.6817 - binary_accuracy: 0.6843 - val_loss: 0.6743 - val_binary_accuracy: 0.6896\n",
            "Epoch 3/25\n",
            "85/85 [==============================] - 11s 132ms/step - loss: 0.6425 - binary_accuracy: 0.6940 - val_loss: 0.6030 - val_binary_accuracy: 0.6896\n",
            "Epoch 4/25\n",
            "85/85 [==============================] - 9s 111ms/step - loss: 0.5584 - binary_accuracy: 0.6866 - val_loss: 0.5550 - val_binary_accuracy: 0.6896\n",
            "Epoch 5/25\n",
            "85/85 [==============================] - 7s 81ms/step - loss: 0.5334 - binary_accuracy: 0.6914 - val_loss: 0.5398 - val_binary_accuracy: 0.6896\n",
            "Epoch 6/25\n",
            "85/85 [==============================] - 9s 111ms/step - loss: 0.5184 - binary_accuracy: 0.6992 - val_loss: 0.5251 - val_binary_accuracy: 0.7000\n",
            "Epoch 7/25\n",
            "85/85 [==============================] - 7s 81ms/step - loss: 0.5018 - binary_accuracy: 0.7166 - val_loss: 0.5059 - val_binary_accuracy: 0.7313\n",
            "Epoch 8/25\n",
            "85/85 [==============================] - 9s 112ms/step - loss: 0.4807 - binary_accuracy: 0.7622 - val_loss: 0.4869 - val_binary_accuracy: 0.7851\n",
            "Epoch 9/25\n",
            "85/85 [==============================] - 7s 79ms/step - loss: 0.4625 - binary_accuracy: 0.8042 - val_loss: 0.4655 - val_binary_accuracy: 0.8373\n",
            "Epoch 10/25\n",
            "85/85 [==============================] - 10s 112ms/step - loss: 0.4355 - binary_accuracy: 0.8386 - val_loss: 0.4445 - val_binary_accuracy: 0.8687\n",
            "Epoch 11/25\n",
            "85/85 [==============================] - 7s 86ms/step - loss: 0.4099 - binary_accuracy: 0.8661 - val_loss: 0.4234 - val_binary_accuracy: 0.8806\n",
            "Epoch 12/25\n",
            "85/85 [==============================] - 10s 113ms/step - loss: 0.3895 - binary_accuracy: 0.8809 - val_loss: 0.4047 - val_binary_accuracy: 0.8866\n",
            "Epoch 13/25\n",
            "85/85 [==============================] - 7s 82ms/step - loss: 0.3624 - binary_accuracy: 0.8984 - val_loss: 0.3833 - val_binary_accuracy: 0.8866\n",
            "Epoch 14/25\n",
            "85/85 [==============================] - 9s 112ms/step - loss: 0.3419 - binary_accuracy: 0.9043 - val_loss: 0.3655 - val_binary_accuracy: 0.8910\n",
            "Epoch 15/25\n",
            "85/85 [==============================] - 7s 83ms/step - loss: 0.3225 - binary_accuracy: 0.9080 - val_loss: 0.3499 - val_binary_accuracy: 0.8881\n",
            "Epoch 16/25\n",
            "85/85 [==============================] - 9s 112ms/step - loss: 0.3106 - binary_accuracy: 0.9088 - val_loss: 0.3378 - val_binary_accuracy: 0.8821\n",
            "Epoch 17/25\n",
            "85/85 [==============================] - 7s 83ms/step - loss: 0.2920 - binary_accuracy: 0.9136 - val_loss: 0.3297 - val_binary_accuracy: 0.8821\n",
            "Epoch 18/25\n",
            "85/85 [==============================] - 9s 110ms/step - loss: 0.2766 - binary_accuracy: 0.9139 - val_loss: 0.3159 - val_binary_accuracy: 0.8866\n",
            "Epoch 19/25\n",
            "85/85 [==============================] - 7s 83ms/step - loss: 0.2713 - binary_accuracy: 0.9147 - val_loss: 0.3107 - val_binary_accuracy: 0.8866\n",
            "Epoch 20/25\n",
            "85/85 [==============================] - 10s 113ms/step - loss: 0.2611 - binary_accuracy: 0.9206 - val_loss: 0.3002 - val_binary_accuracy: 0.8881\n",
            "Epoch 21/25\n",
            "85/85 [==============================] - 8s 89ms/step - loss: 0.2500 - binary_accuracy: 0.9210 - val_loss: 0.2988 - val_binary_accuracy: 0.8851\n",
            "Epoch 22/25\n",
            "85/85 [==============================] - 12s 142ms/step - loss: 0.2484 - binary_accuracy: 0.9251 - val_loss: 0.2891 - val_binary_accuracy: 0.8866\n",
            "Epoch 23/25\n",
            "85/85 [==============================] - 7s 81ms/step - loss: 0.2386 - binary_accuracy: 0.9247 - val_loss: 0.2877 - val_binary_accuracy: 0.8851\n",
            "Epoch 24/25\n",
            "85/85 [==============================] - 9s 112ms/step - loss: 0.2324 - binary_accuracy: 0.9277 - val_loss: 0.2827 - val_binary_accuracy: 0.8821\n",
            "Epoch 25/25\n",
            "85/85 [==============================] - 7s 80ms/step - loss: 0.2250 - binary_accuracy: 0.9280 - val_loss: 0.2767 - val_binary_accuracy: 0.8836\n"
          ]
        },
        {
          "data": {
            "text/plain": [
              "<keras.callbacks.History at 0x7fe389362920>"
            ]
          },
          "execution_count": 89,
          "metadata": {},
          "output_type": "execute_result"
        }
      ],
      "source": [
        "stacked_lstm.fit(\n",
        "    x = X_train,\n",
        "    y = y_train,\n",
        "    batch_size = 16,\n",
        "    validation_data = (X_test, y_test),\n",
        "    epochs = 25,\n",
        ")"
      ]
    },
    {
      "cell_type": "code",
      "execution_count": null,
      "metadata": {
        "colab": {
          "base_uri": "https://localhost:8080/"
        },
        "id": "fouKNe-6XIjy",
        "outputId": "59c81e18-ebd5-42f8-ea24-6c1fd0558fc6"
      },
      "outputs": [
        {
          "name": "stdout",
          "output_type": "stream",
          "text": [
            "Epoch 1/25\n",
            "85/85 [==============================] - 23s 146ms/step - loss: 0.6906 - binary_accuracy: 0.6513 - val_loss: 0.6873 - val_binary_accuracy: 0.6940\n",
            "Epoch 2/25\n",
            "85/85 [==============================] - 7s 78ms/step - loss: 0.6829 - binary_accuracy: 0.6977 - val_loss: 0.6766 - val_binary_accuracy: 0.6896\n",
            "Epoch 3/25\n",
            "85/85 [==============================] - 9s 105ms/step - loss: 0.6646 - binary_accuracy: 0.6921 - val_loss: 0.6491 - val_binary_accuracy: 0.6896\n",
            "Epoch 4/25\n",
            "85/85 [==============================] - 6s 76ms/step - loss: 0.6012 - binary_accuracy: 0.6925 - val_loss: 0.5778 - val_binary_accuracy: 0.6896\n",
            "Epoch 5/25\n",
            "85/85 [==============================] - 9s 107ms/step - loss: 0.5604 - binary_accuracy: 0.6932 - val_loss: 0.5612 - val_binary_accuracy: 0.6896\n",
            "Epoch 6/25\n",
            "85/85 [==============================] - 6s 76ms/step - loss: 0.5434 - binary_accuracy: 0.6966 - val_loss: 0.5471 - val_binary_accuracy: 0.6940\n",
            "Epoch 7/25\n",
            "85/85 [==============================] - 9s 110ms/step - loss: 0.5307 - binary_accuracy: 0.7062 - val_loss: 0.5349 - val_binary_accuracy: 0.7104\n",
            "Epoch 8/25\n",
            "85/85 [==============================] - 9s 106ms/step - loss: 0.5140 - binary_accuracy: 0.7281 - val_loss: 0.5202 - val_binary_accuracy: 0.7418\n",
            "Epoch 9/25\n",
            "85/85 [==============================] - 10s 116ms/step - loss: 0.4977 - binary_accuracy: 0.7585 - val_loss: 0.5018 - val_binary_accuracy: 0.7836\n",
            "Epoch 10/25\n",
            "85/85 [==============================] - 6s 75ms/step - loss: 0.4692 - binary_accuracy: 0.7908 - val_loss: 0.4823 - val_binary_accuracy: 0.8119\n",
            "Epoch 11/25\n",
            "85/85 [==============================] - 9s 110ms/step - loss: 0.4537 - binary_accuracy: 0.8223 - val_loss: 0.4622 - val_binary_accuracy: 0.8463\n",
            "Epoch 12/25\n",
            "85/85 [==============================] - 11s 136ms/step - loss: 0.4310 - binary_accuracy: 0.8520 - val_loss: 0.4405 - val_binary_accuracy: 0.8642\n",
            "Epoch 13/25\n",
            "85/85 [==============================] - 9s 100ms/step - loss: 0.4012 - binary_accuracy: 0.8702 - val_loss: 0.4161 - val_binary_accuracy: 0.8821\n",
            "Epoch 14/25\n",
            "85/85 [==============================] - 6s 75ms/step - loss: 0.3802 - binary_accuracy: 0.8839 - val_loss: 0.3935 - val_binary_accuracy: 0.8881\n",
            "Epoch 15/25\n",
            "85/85 [==============================] - 9s 110ms/step - loss: 0.3533 - binary_accuracy: 0.8943 - val_loss: 0.3704 - val_binary_accuracy: 0.8925\n",
            "Epoch 16/25\n",
            "85/85 [==============================] - 6s 76ms/step - loss: 0.3303 - binary_accuracy: 0.9024 - val_loss: 0.3481 - val_binary_accuracy: 0.9015\n",
            "Epoch 17/25\n",
            "85/85 [==============================] - 9s 108ms/step - loss: 0.3102 - binary_accuracy: 0.9128 - val_loss: 0.3318 - val_binary_accuracy: 0.9075\n",
            "Epoch 18/25\n",
            "85/85 [==============================] - 6s 76ms/step - loss: 0.2909 - binary_accuracy: 0.9143 - val_loss: 0.3166 - val_binary_accuracy: 0.9194\n",
            "Epoch 19/25\n",
            "85/85 [==============================] - 10s 117ms/step - loss: 0.2796 - binary_accuracy: 0.9188 - val_loss: 0.3042 - val_binary_accuracy: 0.9209\n",
            "Epoch 20/25\n",
            "85/85 [==============================] - 7s 78ms/step - loss: 0.2676 - binary_accuracy: 0.9221 - val_loss: 0.2925 - val_binary_accuracy: 0.9209\n",
            "Epoch 21/25\n",
            "85/85 [==============================] - 9s 109ms/step - loss: 0.2587 - binary_accuracy: 0.9269 - val_loss: 0.2840 - val_binary_accuracy: 0.9209\n",
            "Epoch 22/25\n",
            "85/85 [==============================] - 6s 76ms/step - loss: 0.2487 - binary_accuracy: 0.9273 - val_loss: 0.2768 - val_binary_accuracy: 0.9284\n",
            "Epoch 23/25\n",
            "85/85 [==============================] - 9s 109ms/step - loss: 0.2428 - binary_accuracy: 0.9310 - val_loss: 0.2680 - val_binary_accuracy: 0.9269\n",
            "Epoch 24/25\n",
            "85/85 [==============================] - 6s 76ms/step - loss: 0.2360 - binary_accuracy: 0.9295 - val_loss: 0.2613 - val_binary_accuracy: 0.9284\n",
            "Epoch 25/25\n",
            "85/85 [==============================] - 9s 110ms/step - loss: 0.2296 - binary_accuracy: 0.9332 - val_loss: 0.2559 - val_binary_accuracy: 0.9299\n"
          ]
        },
        {
          "data": {
            "text/plain": [
              "<keras.callbacks.History at 0x7fe3804457e0>"
            ]
          },
          "execution_count": 90,
          "metadata": {},
          "output_type": "execute_result"
        }
      ],
      "source": [
        "bi_lstm.fit(\n",
        "    x = X_train,\n",
        "    y = y_train,\n",
        "    batch_size = 16,\n",
        "    validation_data = (X_test, y_test),\n",
        "    epochs = 25,\n",
        ")"
      ]
    },
    {
      "cell_type": "code",
      "execution_count": null,
      "metadata": {
        "colab": {
          "background_save": true,
          "base_uri": "https://localhost:8080/"
        },
        "id": "I3Jl6uUBXIxV",
        "outputId": "2dfe5922-c167-49aa-c523-72a35004deb2"
      },
      "outputs": [
        {
          "name": "stdout",
          "output_type": "stream",
          "text": [
            "Epoch 1/25\n",
            "85/85 [==============================] - 45s 261ms/step - loss: 0.6893 - binary_accuracy: 0.6469 - val_loss: 0.6843 - val_binary_accuracy: 0.6896\n",
            "Epoch 2/25\n",
            "85/85 [==============================] - 14s 161ms/step - loss: 0.6741 - binary_accuracy: 0.6914 - val_loss: 0.6603 - val_binary_accuracy: 0.6896\n",
            "Epoch 3/25\n",
            "85/85 [==============================] - 13s 157ms/step - loss: 0.6096 - binary_accuracy: 0.6925 - val_loss: 0.5670 - val_binary_accuracy: 0.6896\n",
            "Epoch 4/25\n",
            "85/85 [==============================] - 15s 174ms/step - loss: 0.5471 - binary_accuracy: 0.6929 - val_loss: 0.5488 - val_binary_accuracy: 0.6896\n",
            "Epoch 5/25\n",
            "85/85 [==============================] - 15s 176ms/step - loss: 0.5322 - binary_accuracy: 0.6929 - val_loss: 0.5343 - val_binary_accuracy: 0.6896\n",
            "Epoch 6/25\n",
            "85/85 [==============================] - 14s 167ms/step - loss: 0.5115 - binary_accuracy: 0.7051 - val_loss: 0.5117 - val_binary_accuracy: 0.6940\n",
            "Epoch 7/25\n",
            "85/85 [==============================] - 14s 169ms/step - loss: 0.4834 - binary_accuracy: 0.7226 - val_loss: 0.4885 - val_binary_accuracy: 0.7239\n",
            "Epoch 8/25\n",
            "85/85 [==============================] - 14s 171ms/step - loss: 0.4555 - binary_accuracy: 0.7600 - val_loss: 0.4611 - val_binary_accuracy: 0.7806\n",
            "Epoch 9/25\n",
            "85/85 [==============================] - 14s 170ms/step - loss: 0.4234 - binary_accuracy: 0.8249 - val_loss: 0.4300 - val_binary_accuracy: 0.8507\n",
            "Epoch 10/25\n",
            "85/85 [==============================] - 14s 170ms/step - loss: 0.3892 - binary_accuracy: 0.8583 - val_loss: 0.4012 - val_binary_accuracy: 0.8806\n",
            "Epoch 11/25\n",
            "85/85 [==============================] - 17s 198ms/step - loss: 0.3584 - binary_accuracy: 0.8828 - val_loss: 0.3735 - val_binary_accuracy: 0.8851\n",
            "Epoch 12/25\n",
            "85/85 [==============================] - 14s 168ms/step - loss: 0.3271 - binary_accuracy: 0.8991 - val_loss: 0.3453 - val_binary_accuracy: 0.8940\n",
            "Epoch 13/25\n",
            "85/85 [==============================] - 14s 165ms/step - loss: 0.3051 - binary_accuracy: 0.9024 - val_loss: 0.3359 - val_binary_accuracy: 0.8896\n",
            "Epoch 14/25\n",
            "85/85 [==============================] - 14s 164ms/step - loss: 0.2824 - binary_accuracy: 0.9043 - val_loss: 0.3160 - val_binary_accuracy: 0.8955\n",
            "Epoch 15/25\n",
            "85/85 [==============================] - 14s 169ms/step - loss: 0.2696 - binary_accuracy: 0.9128 - val_loss: 0.3067 - val_binary_accuracy: 0.9000\n",
            "Epoch 16/25\n",
            "85/85 [==============================] - 14s 162ms/step - loss: 0.2578 - binary_accuracy: 0.9165 - val_loss: 0.2964 - val_binary_accuracy: 0.8970\n",
            "Epoch 17/25\n",
            "85/85 [==============================] - 13s 156ms/step - loss: 0.2431 - binary_accuracy: 0.9199 - val_loss: 0.2878 - val_binary_accuracy: 0.9045\n",
            "Epoch 18/25\n",
            "85/85 [==============================] - 14s 166ms/step - loss: 0.2350 - binary_accuracy: 0.9225 - val_loss: 0.2867 - val_binary_accuracy: 0.8985\n",
            "Epoch 19/25\n",
            "85/85 [==============================] - 13s 153ms/step - loss: 0.2235 - binary_accuracy: 0.9243 - val_loss: 0.2747 - val_binary_accuracy: 0.9000\n",
            "Epoch 20/25\n",
            "85/85 [==============================] - 14s 161ms/step - loss: 0.2143 - binary_accuracy: 0.9310 - val_loss: 0.2647 - val_binary_accuracy: 0.9045\n",
            "Epoch 21/25\n",
            "85/85 [==============================] - 14s 165ms/step - loss: 0.2034 - binary_accuracy: 0.9403 - val_loss: 0.2548 - val_binary_accuracy: 0.9119\n",
            "Epoch 22/25\n",
            "85/85 [==============================] - 14s 170ms/step - loss: 0.1875 - binary_accuracy: 0.9440 - val_loss: 0.2501 - val_binary_accuracy: 0.9179\n",
            "Epoch 23/25\n",
            "85/85 [==============================] - 17s 199ms/step - loss: 0.1805 - binary_accuracy: 0.9477 - val_loss: 0.2432 - val_binary_accuracy: 0.9209\n",
            "Epoch 24/25\n",
            "85/85 [==============================] - 14s 166ms/step - loss: 0.1691 - binary_accuracy: 0.9514 - val_loss: 0.2426 - val_binary_accuracy: 0.9194\n",
            "Epoch 25/25\n",
            "85/85 [==============================] - 14s 167ms/step - loss: 0.1623 - binary_accuracy: 0.9555 - val_loss: 0.2347 - val_binary_accuracy: 0.9299\n"
          ]
        },
        {
          "data": {
            "text/plain": [
              "<keras.callbacks.History at 0x7fe377f79e70>"
            ]
          },
          "execution_count": 91,
          "metadata": {},
          "output_type": "execute_result"
        }
      ],
      "source": [
        "stacked_bi_lstm.fit(\n",
        "    x = X_train,\n",
        "    y = y_train,\n",
        "    batch_size = 16,\n",
        "    validation_data = (X_test, y_test),\n",
        "    epochs = 25,\n",
        ")"
      ]
    },
    {
      "cell_type": "code",
      "execution_count": null,
      "metadata": {
        "colab": {
          "background_save": true
        },
        "id": "qyZu_OFWXI6Z",
        "outputId": "fc824bea-c556-4a60-fe78-935574a91066"
      },
      "outputs": [
        {
          "name": "stdout",
          "output_type": "stream",
          "text": [
            "Epoch 1/25\n",
            "85/85 [==============================] - 12s 60ms/step - loss: 0.6933 - binary_accuracy: 0.4796 - val_loss: 0.6909 - val_binary_accuracy: 0.5612\n",
            "Epoch 2/25\n",
            "85/85 [==============================] - 4s 44ms/step - loss: 0.6887 - binary_accuracy: 0.5898 - val_loss: 0.6865 - val_binary_accuracy: 0.5821\n",
            "Epoch 3/25\n",
            "85/85 [==============================] - 6s 67ms/step - loss: 0.6837 - binary_accuracy: 0.6109 - val_loss: 0.6811 - val_binary_accuracy: 0.5940\n",
            "Epoch 4/25\n",
            "85/85 [==============================] - 4s 43ms/step - loss: 0.6777 - binary_accuracy: 0.6280 - val_loss: 0.6741 - val_binary_accuracy: 0.6328\n",
            "Epoch 5/25\n",
            "85/85 [==============================] - 3s 41ms/step - loss: 0.6687 - binary_accuracy: 0.6654 - val_loss: 0.6642 - val_binary_accuracy: 0.6791\n",
            "Epoch 6/25\n",
            "85/85 [==============================] - 4s 49ms/step - loss: 0.6561 - binary_accuracy: 0.6632 - val_loss: 0.6485 - val_binary_accuracy: 0.6925\n",
            "Epoch 7/25\n",
            "85/85 [==============================] - 5s 59ms/step - loss: 0.6357 - binary_accuracy: 0.6747 - val_loss: 0.6223 - val_binary_accuracy: 0.6896\n",
            "Epoch 8/25\n",
            "85/85 [==============================] - 4s 42ms/step - loss: 0.5968 - binary_accuracy: 0.6832 - val_loss: 0.5751 - val_binary_accuracy: 0.6896\n",
            "Epoch 9/25\n",
            "85/85 [==============================] - 4s 43ms/step - loss: 0.5566 - binary_accuracy: 0.6869 - val_loss: 0.5501 - val_binary_accuracy: 0.6896\n",
            "Epoch 10/25\n",
            "85/85 [==============================] - 5s 63ms/step - loss: 0.5383 - binary_accuracy: 0.6895 - val_loss: 0.5343 - val_binary_accuracy: 0.6896\n",
            "Epoch 11/25\n",
            "85/85 [==============================] - 4s 43ms/step - loss: 0.5150 - binary_accuracy: 0.6944 - val_loss: 0.5183 - val_binary_accuracy: 0.6955\n",
            "Epoch 12/25\n",
            "85/85 [==============================] - 4s 41ms/step - loss: 0.4990 - binary_accuracy: 0.7070 - val_loss: 0.5031 - val_binary_accuracy: 0.7104\n",
            "Epoch 13/25\n",
            "85/85 [==============================] - 4s 42ms/step - loss: 0.4804 - binary_accuracy: 0.7322 - val_loss: 0.4859 - val_binary_accuracy: 0.7403\n",
            "Epoch 14/25\n",
            "85/85 [==============================] - 6s 67ms/step - loss: 0.4595 - binary_accuracy: 0.7537 - val_loss: 0.4678 - val_binary_accuracy: 0.7776\n",
            "Epoch 15/25\n",
            "85/85 [==============================] - 4s 42ms/step - loss: 0.4339 - binary_accuracy: 0.7789 - val_loss: 0.4468 - val_binary_accuracy: 0.8030\n",
            "Epoch 16/25\n",
            "85/85 [==============================] - 4s 43ms/step - loss: 0.4255 - binary_accuracy: 0.8056 - val_loss: 0.4379 - val_binary_accuracy: 0.8313\n",
            "Epoch 17/25\n",
            "85/85 [==============================] - 5s 56ms/step - loss: 0.4052 - binary_accuracy: 0.8301 - val_loss: 0.4243 - val_binary_accuracy: 0.8418\n",
            "Epoch 18/25\n",
            "85/85 [==============================] - 4s 53ms/step - loss: 0.3899 - binary_accuracy: 0.8550 - val_loss: 0.4107 - val_binary_accuracy: 0.8582\n",
            "Epoch 19/25\n",
            "85/85 [==============================] - 4s 42ms/step - loss: 0.3747 - binary_accuracy: 0.8698 - val_loss: 0.3941 - val_binary_accuracy: 0.8701\n",
            "Epoch 20/25\n",
            "85/85 [==============================] - 4s 42ms/step - loss: 0.3583 - binary_accuracy: 0.8846 - val_loss: 0.3832 - val_binary_accuracy: 0.8806\n",
            "Epoch 21/25\n",
            "85/85 [==============================] - 6s 67ms/step - loss: 0.3435 - binary_accuracy: 0.8950 - val_loss: 0.3675 - val_binary_accuracy: 0.8836\n",
            "Epoch 22/25\n",
            "85/85 [==============================] - 3s 40ms/step - loss: 0.3336 - binary_accuracy: 0.8943 - val_loss: 0.3577 - val_binary_accuracy: 0.8806\n",
            "Epoch 23/25\n",
            "85/85 [==============================] - 4s 43ms/step - loss: 0.3143 - binary_accuracy: 0.9006 - val_loss: 0.3422 - val_binary_accuracy: 0.8821\n",
            "Epoch 24/25\n",
            "85/85 [==============================] - 4s 49ms/step - loss: 0.3069 - binary_accuracy: 0.9058 - val_loss: 0.3304 - val_binary_accuracy: 0.8866\n",
            "Epoch 25/25\n",
            "85/85 [==============================] - 5s 57ms/step - loss: 0.2917 - binary_accuracy: 0.9084 - val_loss: 0.3252 - val_binary_accuracy: 0.8866\n"
          ]
        },
        {
          "data": {
            "text/plain": [
              "<keras.callbacks.History at 0x7fe3748ccd60>"
            ]
          },
          "execution_count": 92,
          "metadata": {},
          "output_type": "execute_result"
        }
      ],
      "source": [
        "gru.fit(\n",
        "    x = X_train,\n",
        "    y = y_train,\n",
        "    batch_size = 16,\n",
        "    validation_data = (X_test, y_test),\n",
        "    epochs = 25,\n",
        ")"
      ]
    },
    {
      "cell_type": "code",
      "execution_count": null,
      "metadata": {
        "colab": {
          "background_save": true
        },
        "id": "joeKAivZVAIq",
        "outputId": "18e3970d-0a6f-4f2a-e276-b6fd998a5253"
      },
      "outputs": [
        {
          "name": "stdout",
          "output_type": "stream",
          "text": [
            "Epoch 1/25\n",
            "85/85 [==============================] - 22s 110ms/step - loss: 0.6882 - binary_accuracy: 0.6636 - val_loss: 0.6820 - val_binary_accuracy: 0.6896\n",
            "Epoch 2/25\n",
            "85/85 [==============================] - 8s 100ms/step - loss: 0.6748 - binary_accuracy: 0.6929 - val_loss: 0.6640 - val_binary_accuracy: 0.6896\n",
            "Epoch 3/25\n",
            "85/85 [==============================] - 6s 75ms/step - loss: 0.6497 - binary_accuracy: 0.6914 - val_loss: 0.6304 - val_binary_accuracy: 0.6896\n",
            "Epoch 4/25\n",
            "85/85 [==============================] - 8s 100ms/step - loss: 0.6068 - binary_accuracy: 0.6925 - val_loss: 0.5798 - val_binary_accuracy: 0.6896\n",
            "Epoch 5/25\n",
            "85/85 [==============================] - 6s 74ms/step - loss: 0.5602 - binary_accuracy: 0.6921 - val_loss: 0.5449 - val_binary_accuracy: 0.6896\n",
            "Epoch 6/25\n",
            "85/85 [==============================] - 8s 98ms/step - loss: 0.5308 - binary_accuracy: 0.6929 - val_loss: 0.5214 - val_binary_accuracy: 0.6910\n",
            "Epoch 7/25\n",
            "85/85 [==============================] - 6s 74ms/step - loss: 0.5028 - binary_accuracy: 0.7022 - val_loss: 0.4933 - val_binary_accuracy: 0.7030\n",
            "Epoch 8/25\n",
            "85/85 [==============================] - 8s 99ms/step - loss: 0.4666 - binary_accuracy: 0.7415 - val_loss: 0.4558 - val_binary_accuracy: 0.7537\n",
            "Epoch 9/25\n",
            "85/85 [==============================] - 6s 75ms/step - loss: 0.4282 - binary_accuracy: 0.8016 - val_loss: 0.4258 - val_binary_accuracy: 0.8328\n",
            "Epoch 10/25\n",
            "85/85 [==============================] - 8s 99ms/step - loss: 0.3941 - binary_accuracy: 0.8483 - val_loss: 0.4010 - val_binary_accuracy: 0.8746\n",
            "Epoch 11/25\n",
            "85/85 [==============================] - 6s 76ms/step - loss: 0.3662 - binary_accuracy: 0.8694 - val_loss: 0.3819 - val_binary_accuracy: 0.8896\n",
            "Epoch 12/25\n",
            "85/85 [==============================] - 9s 103ms/step - loss: 0.3358 - binary_accuracy: 0.8917 - val_loss: 0.3540 - val_binary_accuracy: 0.8836\n",
            "Epoch 13/25\n",
            "85/85 [==============================] - 7s 78ms/step - loss: 0.3097 - binary_accuracy: 0.8991 - val_loss: 0.3327 - val_binary_accuracy: 0.8836\n",
            "Epoch 14/25\n",
            "85/85 [==============================] - 8s 97ms/step - loss: 0.2894 - binary_accuracy: 0.9050 - val_loss: 0.3180 - val_binary_accuracy: 0.8821\n",
            "Epoch 15/25\n",
            "85/85 [==============================] - 6s 76ms/step - loss: 0.2741 - binary_accuracy: 0.9076 - val_loss: 0.3049 - val_binary_accuracy: 0.8896\n",
            "Epoch 16/25\n",
            "85/85 [==============================] - 9s 101ms/step - loss: 0.2559 - binary_accuracy: 0.9128 - val_loss: 0.2960 - val_binary_accuracy: 0.8836\n",
            "Epoch 17/25\n",
            "85/85 [==============================] - 6s 73ms/step - loss: 0.2467 - binary_accuracy: 0.9154 - val_loss: 0.2852 - val_binary_accuracy: 0.8896\n",
            "Epoch 18/25\n",
            "85/85 [==============================] - 8s 98ms/step - loss: 0.2356 - binary_accuracy: 0.9165 - val_loss: 0.2805 - val_binary_accuracy: 0.8851\n",
            "Epoch 19/25\n",
            "85/85 [==============================] - 7s 77ms/step - loss: 0.2312 - binary_accuracy: 0.9180 - val_loss: 0.2755 - val_binary_accuracy: 0.8836\n",
            "Epoch 20/25\n",
            "85/85 [==============================] - 8s 100ms/step - loss: 0.2214 - binary_accuracy: 0.9203 - val_loss: 0.2732 - val_binary_accuracy: 0.8821\n",
            "Epoch 21/25\n",
            "85/85 [==============================] - 7s 78ms/step - loss: 0.2147 - binary_accuracy: 0.9236 - val_loss: 0.2688 - val_binary_accuracy: 0.8821\n",
            "Epoch 22/25\n",
            "85/85 [==============================] - 11s 127ms/step - loss: 0.2130 - binary_accuracy: 0.9236 - val_loss: 0.2656 - val_binary_accuracy: 0.8866\n",
            "Epoch 23/25\n",
            "85/85 [==============================] - 6s 76ms/step - loss: 0.2018 - binary_accuracy: 0.9258 - val_loss: 0.2570 - val_binary_accuracy: 0.8881\n",
            "Epoch 24/25\n",
            "85/85 [==============================] - 8s 97ms/step - loss: 0.1975 - binary_accuracy: 0.9266 - val_loss: 0.2555 - val_binary_accuracy: 0.8866\n",
            "Epoch 25/25\n",
            "85/85 [==============================] - 7s 77ms/step - loss: 0.1911 - binary_accuracy: 0.9273 - val_loss: 0.2516 - val_binary_accuracy: 0.8955\n"
          ]
        },
        {
          "data": {
            "text/plain": [
              "<keras.callbacks.History at 0x7fe3754a1240>"
            ]
          },
          "execution_count": 93,
          "metadata": {},
          "output_type": "execute_result"
        }
      ],
      "source": [
        "stacked_gru.fit(\n",
        "    x = X_train,\n",
        "    y = y_train,\n",
        "    batch_size = 16,\n",
        "    validation_data = (X_test, y_test),\n",
        "    epochs = 25,\n",
        ")"
      ]
    },
    {
      "cell_type": "code",
      "execution_count": null,
      "metadata": {
        "colab": {
          "background_save": true
        },
        "id": "cPhlEtsiXJA_",
        "outputId": "44ea3a93-753c-4751-9607-ca80235c30bb"
      },
      "outputs": [
        {
          "name": "stdout",
          "output_type": "stream",
          "text": [
            "Epoch 1/25\n",
            "85/85 [==============================] - 20s 114ms/step - loss: 0.6906 - binary_accuracy: 0.5983 - val_loss: 0.6877 - val_binary_accuracy: 0.6806\n",
            "Epoch 2/25\n",
            "85/85 [==============================] - 7s 77ms/step - loss: 0.6829 - binary_accuracy: 0.6818 - val_loss: 0.6783 - val_binary_accuracy: 0.6896\n",
            "Epoch 3/25\n",
            "85/85 [==============================] - 6s 69ms/step - loss: 0.6712 - binary_accuracy: 0.6921 - val_loss: 0.6651 - val_binary_accuracy: 0.6896\n",
            "Epoch 4/25\n",
            "85/85 [==============================] - 8s 90ms/step - loss: 0.6560 - binary_accuracy: 0.6925 - val_loss: 0.6479 - val_binary_accuracy: 0.6896\n",
            "Epoch 5/25\n",
            "85/85 [==============================] - 6s 65ms/step - loss: 0.6318 - binary_accuracy: 0.6925 - val_loss: 0.6217 - val_binary_accuracy: 0.6896\n",
            "Epoch 6/25\n",
            "85/85 [==============================] - 8s 96ms/step - loss: 0.6001 - binary_accuracy: 0.6925 - val_loss: 0.5855 - val_binary_accuracy: 0.6896\n",
            "Epoch 7/25\n",
            "85/85 [==============================] - 6s 68ms/step - loss: 0.5591 - binary_accuracy: 0.6925 - val_loss: 0.5464 - val_binary_accuracy: 0.6896\n",
            "Epoch 8/25\n",
            "85/85 [==============================] - 8s 94ms/step - loss: 0.5210 - binary_accuracy: 0.6996 - val_loss: 0.5150 - val_binary_accuracy: 0.6940\n",
            "Epoch 9/25\n",
            "85/85 [==============================] - 6s 66ms/step - loss: 0.4873 - binary_accuracy: 0.7166 - val_loss: 0.4862 - val_binary_accuracy: 0.7119\n",
            "Epoch 10/25\n",
            "85/85 [==============================] - 8s 90ms/step - loss: 0.4581 - binary_accuracy: 0.7437 - val_loss: 0.4679 - val_binary_accuracy: 0.7463\n",
            "Epoch 11/25\n",
            "85/85 [==============================] - 6s 71ms/step - loss: 0.4377 - binary_accuracy: 0.7815 - val_loss: 0.4446 - val_binary_accuracy: 0.7821\n",
            "Epoch 12/25\n",
            "85/85 [==============================] - 7s 83ms/step - loss: 0.4078 - binary_accuracy: 0.8127 - val_loss: 0.4216 - val_binary_accuracy: 0.8119\n",
            "Epoch 13/25\n",
            "85/85 [==============================] - 7s 80ms/step - loss: 0.3924 - binary_accuracy: 0.8398 - val_loss: 0.4048 - val_binary_accuracy: 0.8388\n",
            "Epoch 14/25\n",
            "85/85 [==============================] - 6s 68ms/step - loss: 0.3742 - binary_accuracy: 0.8654 - val_loss: 0.3883 - val_binary_accuracy: 0.8657\n",
            "Epoch 15/25\n",
            "85/85 [==============================] - 8s 93ms/step - loss: 0.3569 - binary_accuracy: 0.8783 - val_loss: 0.3779 - val_binary_accuracy: 0.8866\n",
            "Epoch 16/25\n",
            "85/85 [==============================] - 6s 66ms/step - loss: 0.3436 - binary_accuracy: 0.8839 - val_loss: 0.3624 - val_binary_accuracy: 0.8970\n",
            "Epoch 17/25\n",
            "85/85 [==============================] - 8s 96ms/step - loss: 0.3257 - binary_accuracy: 0.8932 - val_loss: 0.3480 - val_binary_accuracy: 0.8985\n",
            "Epoch 18/25\n",
            "85/85 [==============================] - 6s 68ms/step - loss: 0.3139 - binary_accuracy: 0.9043 - val_loss: 0.3316 - val_binary_accuracy: 0.9104\n",
            "Epoch 19/25\n",
            "85/85 [==============================] - 11s 124ms/step - loss: 0.2935 - binary_accuracy: 0.9076 - val_loss: 0.3212 - val_binary_accuracy: 0.9119\n",
            "Epoch 20/25\n",
            "85/85 [==============================] - 6s 67ms/step - loss: 0.2865 - binary_accuracy: 0.9147 - val_loss: 0.3089 - val_binary_accuracy: 0.9060\n",
            "Epoch 21/25\n",
            "85/85 [==============================] - 8s 95ms/step - loss: 0.2724 - binary_accuracy: 0.9191 - val_loss: 0.2968 - val_binary_accuracy: 0.9119\n",
            "Epoch 22/25\n",
            "85/85 [==============================] - 6s 69ms/step - loss: 0.2626 - binary_accuracy: 0.9191 - val_loss: 0.2874 - val_binary_accuracy: 0.9134\n",
            "Epoch 23/25\n",
            "85/85 [==============================] - 7s 81ms/step - loss: 0.2486 - binary_accuracy: 0.9199 - val_loss: 0.2773 - val_binary_accuracy: 0.9179\n",
            "Epoch 24/25\n",
            "85/85 [==============================] - 7s 80ms/step - loss: 0.2359 - binary_accuracy: 0.9243 - val_loss: 0.2658 - val_binary_accuracy: 0.9209\n",
            "Epoch 25/25\n",
            "85/85 [==============================] - 6s 66ms/step - loss: 0.2208 - binary_accuracy: 0.9292 - val_loss: 0.2565 - val_binary_accuracy: 0.9209\n"
          ]
        },
        {
          "data": {
            "text/plain": [
              "<keras.callbacks.History at 0x7fe373126bc0>"
            ]
          },
          "execution_count": 94,
          "metadata": {},
          "output_type": "execute_result"
        }
      ],
      "source": [
        "bi_gru.fit(\n",
        "    x = X_train,\n",
        "    y = y_train,\n",
        "    batch_size = 16,\n",
        "    validation_data = (X_test, y_test),\n",
        "    epochs = 25,\n",
        ")"
      ]
    },
    {
      "cell_type": "code",
      "execution_count": null,
      "metadata": {
        "colab": {
          "background_save": true
        },
        "id": "xVKsRu2UXJGk",
        "outputId": "28797e91-4aab-47a4-8489-34f8a6afb00f"
      },
      "outputs": [
        {
          "name": "stdout",
          "output_type": "stream",
          "text": [
            "Epoch 1/25\n",
            "85/85 [==============================] - 40s 220ms/step - loss: 0.6886 - binary_accuracy: 0.6380 - val_loss: 0.6807 - val_binary_accuracy: 0.6881\n",
            "Epoch 2/25\n",
            "85/85 [==============================] - 13s 157ms/step - loss: 0.6723 - binary_accuracy: 0.6907 - val_loss: 0.6602 - val_binary_accuracy: 0.6896\n",
            "Epoch 3/25\n",
            "85/85 [==============================] - 13s 155ms/step - loss: 0.6419 - binary_accuracy: 0.6932 - val_loss: 0.6213 - val_binary_accuracy: 0.6896\n",
            "Epoch 4/25\n",
            "85/85 [==============================] - 13s 158ms/step - loss: 0.5943 - binary_accuracy: 0.6929 - val_loss: 0.5696 - val_binary_accuracy: 0.6896\n",
            "Epoch 5/25\n",
            "85/85 [==============================] - 13s 151ms/step - loss: 0.5462 - binary_accuracy: 0.6940 - val_loss: 0.5309 - val_binary_accuracy: 0.6910\n",
            "Epoch 6/25\n",
            "85/85 [==============================] - 11s 133ms/step - loss: 0.5080 - binary_accuracy: 0.7059 - val_loss: 0.4918 - val_binary_accuracy: 0.7104\n",
            "Epoch 7/25\n",
            "85/85 [==============================] - 13s 150ms/step - loss: 0.4575 - binary_accuracy: 0.7615 - val_loss: 0.4430 - val_binary_accuracy: 0.7836\n",
            "Epoch 8/25\n",
            "85/85 [==============================] - 16s 186ms/step - loss: 0.4067 - binary_accuracy: 0.8279 - val_loss: 0.3937 - val_binary_accuracy: 0.8433\n",
            "Epoch 9/25\n",
            "85/85 [==============================] - 13s 155ms/step - loss: 0.3620 - binary_accuracy: 0.8676 - val_loss: 0.3519 - val_binary_accuracy: 0.8806\n",
            "Epoch 10/25\n",
            "85/85 [==============================] - 13s 157ms/step - loss: 0.3213 - binary_accuracy: 0.8876 - val_loss: 0.3223 - val_binary_accuracy: 0.8985\n",
            "Epoch 11/25\n",
            "85/85 [==============================] - 13s 156ms/step - loss: 0.2918 - binary_accuracy: 0.8954 - val_loss: 0.2959 - val_binary_accuracy: 0.9030\n",
            "Epoch 12/25\n",
            "85/85 [==============================] - 13s 158ms/step - loss: 0.2740 - binary_accuracy: 0.9047 - val_loss: 0.2740 - val_binary_accuracy: 0.9030\n",
            "Epoch 13/25\n",
            "85/85 [==============================] - 13s 157ms/step - loss: 0.2552 - binary_accuracy: 0.9099 - val_loss: 0.2604 - val_binary_accuracy: 0.9015\n",
            "Epoch 14/25\n",
            "85/85 [==============================] - 13s 150ms/step - loss: 0.2378 - binary_accuracy: 0.9154 - val_loss: 0.2469 - val_binary_accuracy: 0.9000\n",
            "Epoch 15/25\n",
            "85/85 [==============================] - 12s 137ms/step - loss: 0.2217 - binary_accuracy: 0.9203 - val_loss: 0.2328 - val_binary_accuracy: 0.9015\n",
            "Epoch 16/25\n",
            "85/85 [==============================] - 13s 149ms/step - loss: 0.2081 - binary_accuracy: 0.9295 - val_loss: 0.2242 - val_binary_accuracy: 0.9090\n",
            "Epoch 17/25\n",
            "85/85 [==============================] - 13s 156ms/step - loss: 0.1953 - binary_accuracy: 0.9325 - val_loss: 0.2198 - val_binary_accuracy: 0.9119\n",
            "Epoch 18/25\n",
            "85/85 [==============================] - 13s 157ms/step - loss: 0.1865 - binary_accuracy: 0.9362 - val_loss: 0.2130 - val_binary_accuracy: 0.9134\n",
            "Epoch 19/25\n",
            "85/85 [==============================] - 13s 157ms/step - loss: 0.1727 - binary_accuracy: 0.9414 - val_loss: 0.2060 - val_binary_accuracy: 0.9179\n",
            "Epoch 20/25\n",
            "85/85 [==============================] - 14s 159ms/step - loss: 0.1654 - binary_accuracy: 0.9455 - val_loss: 0.2029 - val_binary_accuracy: 0.9209\n",
            "Epoch 21/25\n",
            "85/85 [==============================] - 15s 173ms/step - loss: 0.1530 - binary_accuracy: 0.9492 - val_loss: 0.1999 - val_binary_accuracy: 0.9149\n",
            "Epoch 22/25\n",
            "85/85 [==============================] - 12s 145ms/step - loss: 0.1511 - binary_accuracy: 0.9503 - val_loss: 0.1999 - val_binary_accuracy: 0.9209\n",
            "Epoch 23/25\n",
            "85/85 [==============================] - 13s 157ms/step - loss: 0.1433 - binary_accuracy: 0.9533 - val_loss: 0.1940 - val_binary_accuracy: 0.9269\n",
            "Epoch 24/25\n",
            "85/85 [==============================] - 13s 159ms/step - loss: 0.1310 - binary_accuracy: 0.9566 - val_loss: 0.1938 - val_binary_accuracy: 0.9269\n",
            "Epoch 25/25\n",
            "85/85 [==============================] - 13s 155ms/step - loss: 0.1295 - binary_accuracy: 0.9599 - val_loss: 0.1947 - val_binary_accuracy: 0.9284\n"
          ]
        },
        {
          "data": {
            "text/plain": [
              "<keras.callbacks.History at 0x7fe36e5443d0>"
            ]
          },
          "execution_count": 95,
          "metadata": {},
          "output_type": "execute_result"
        }
      ],
      "source": [
        "stacked_bi_gru.fit(\n",
        "    x = X_train,\n",
        "    y = y_train,\n",
        "    batch_size = 16,\n",
        "    validation_data = (X_test, y_test),\n",
        "    epochs = 25,\n",
        ")"
      ]
    },
    {
      "cell_type": "markdown",
      "metadata": {
        "id": "1pqPbCoB2Rzu"
      },
      "source": [
        "## Evaluasi Model"
      ]
    },
    {
      "cell_type": "code",
      "execution_count": null,
      "metadata": {
        "colab": {
          "background_save": true
        },
        "id": "aE7S_l9Odg-O"
      },
      "outputs": [],
      "source": [
        "from sklearn.metrics import classification_report\n",
        "\n",
        "# Label kelas target untuk penamaan pada tabel classification report\n",
        "class_labels = [\"apresiasi\", \"kritik\"]"
      ]
    },
    {
      "cell_type": "code",
      "execution_count": null,
      "metadata": {
        "colab": {
          "background_save": true
        },
        "id": "w3Cl563egMyQ",
        "outputId": "5f0bdd8b-d65e-4cc7-9b11-726633d31fdc"
      },
      "outputs": [
        {
          "name": "stdout",
          "output_type": "stream",
          "text": [
            "11/11 [==============================] - 2s 20ms/step\n",
            "              precision    recall  f1-score   support\n",
            "\n",
            "   apresiasi       0.86      0.80      0.83       121\n",
            "      kritik       0.96      0.90      0.93       248\n",
            "\n",
            "   micro avg       0.93      0.87      0.90       369\n",
            "   macro avg       0.91      0.85      0.88       369\n",
            "weighted avg       0.93      0.87      0.90       369\n",
            " samples avg       0.94      0.90      0.91       369\n",
            "\n"
          ]
        }
      ],
      "source": [
        "# Evaluasi LSTM\n",
        "y_pred = lstm.predict(X_test) > 0.5\n",
        "print(classification_report(y_test, y_pred, target_names=class_labels))"
      ]
    },
    {
      "cell_type": "code",
      "execution_count": null,
      "metadata": {
        "colab": {
          "background_save": true
        },
        "id": "CJiWwujVUpUM",
        "outputId": "5c3295bd-10b6-4d37-8d6d-fb6e60cf3833"
      },
      "outputs": [
        {
          "name": "stdout",
          "output_type": "stream",
          "text": [
            "11/11 [==============================] - 3s 22ms/step\n",
            "              precision    recall  f1-score   support\n",
            "\n",
            "   apresiasi       0.84      0.89      0.87       121\n",
            "      kritik       0.97      0.85      0.90       248\n",
            "\n",
            "   micro avg       0.92      0.86      0.89       369\n",
            "   macro avg       0.91      0.87      0.89       369\n",
            "weighted avg       0.93      0.86      0.89       369\n",
            " samples avg       0.93      0.90      0.90       369\n",
            "\n"
          ]
        }
      ],
      "source": [
        "# Evaluasi Stacked LSTM\n",
        "\n",
        "y_pred = stacked_lstm.predict(X_test) > 0.5\n",
        "print(classification_report(y_test, y_pred, target_names=class_labels))"
      ]
    },
    {
      "cell_type": "code",
      "execution_count": null,
      "metadata": {
        "colab": {
          "background_save": true
        },
        "id": "MkofvwLyVFWm",
        "outputId": "1e33943c-796b-452c-f642-8a055789d5bd"
      },
      "outputs": [
        {
          "name": "stdout",
          "output_type": "stream",
          "text": [
            "11/11 [==============================] - 3s 17ms/step\n",
            "              precision    recall  f1-score   support\n",
            "\n",
            "   apresiasi       0.86      0.89      0.88       121\n",
            "      kritik       0.97      0.96      0.97       248\n",
            "\n",
            "   micro avg       0.93      0.94      0.94       369\n",
            "   macro avg       0.92      0.93      0.92       369\n",
            "weighted avg       0.93      0.94      0.94       369\n",
            " samples avg       0.95      0.95      0.94       369\n",
            "\n"
          ]
        }
      ],
      "source": [
        "# Evaluasi Bi-LSTM\n",
        "\n",
        "y_pred = bi_lstm.predict(X_test) > 0.5\n",
        "print(classification_report(y_test, y_pred, target_names=class_labels))"
      ]
    },
    {
      "cell_type": "code",
      "execution_count": null,
      "metadata": {
        "colab": {
          "background_save": true
        },
        "id": "6AG3_TVmVGGO",
        "outputId": "840d3b4e-ae5f-4dc8-e3fd-b7ce649f8a3e"
      },
      "outputs": [
        {
          "name": "stdout",
          "output_type": "stream",
          "text": [
            "11/11 [==============================] - 7s 65ms/step\n",
            "              precision    recall  f1-score   support\n",
            "\n",
            "   apresiasi       0.86      0.95      0.90       121\n",
            "      kritik       0.98      0.93      0.95       248\n",
            "\n",
            "   micro avg       0.94      0.94      0.94       369\n",
            "   macro avg       0.92      0.94      0.93       369\n",
            "weighted avg       0.94      0.94      0.94       369\n",
            " samples avg       0.95      0.95      0.94       369\n",
            "\n"
          ]
        }
      ],
      "source": [
        "# Evaluasi Stacked Bi-LSTM\n",
        "\n",
        "y_pred = stacked_bi_lstm.predict(X_test) > 0.5\n",
        "print(classification_report(y_test, y_pred, target_names=class_labels))"
      ]
    },
    {
      "cell_type": "code",
      "execution_count": null,
      "metadata": {
        "colab": {
          "background_save": true
        },
        "id": "0mZOHJfpVGNb",
        "outputId": "53ba3351-a51b-46a5-b5d0-b09232c34351"
      },
      "outputs": [
        {
          "name": "stdout",
          "output_type": "stream",
          "text": [
            "11/11 [==============================] - 3s 10ms/step\n",
            "              precision    recall  f1-score   support\n",
            "\n",
            "   apresiasi       0.85      0.79      0.82       121\n",
            "      kritik       0.97      0.90      0.93       248\n",
            "\n",
            "   micro avg       0.93      0.86      0.89       369\n",
            "   macro avg       0.91      0.84      0.87       369\n",
            "weighted avg       0.93      0.86      0.89       369\n",
            " samples avg       0.93      0.89      0.90       369\n",
            "\n"
          ]
        }
      ],
      "source": [
        "# Evaluasi GRU\n",
        "\n",
        "y_pred = gru.predict(X_test) > 0.5\n",
        "print(classification_report(y_test, y_pred, target_names=class_labels))"
      ]
    },
    {
      "cell_type": "code",
      "execution_count": null,
      "metadata": {
        "colab": {
          "background_save": true
        },
        "id": "5bNBZlk5UvT6",
        "outputId": "1d0431ba-db83-47a6-d540-c70fcc61e110"
      },
      "outputs": [
        {
          "name": "stdout",
          "output_type": "stream",
          "text": [
            "11/11 [==============================] - 3s 17ms/step\n",
            "              precision    recall  f1-score   support\n",
            "\n",
            "   apresiasi       0.84      0.87      0.85       121\n",
            "      kritik       0.98      0.88      0.93       248\n",
            "\n",
            "   micro avg       0.93      0.88      0.90       369\n",
            "   macro avg       0.91      0.87      0.89       369\n",
            "weighted avg       0.94      0.88      0.90       369\n",
            " samples avg       0.94      0.91      0.91       369\n",
            "\n"
          ]
        }
      ],
      "source": [
        "# Evaluasi Stacked GRU\n",
        "\n",
        "y_pred = stacked_gru.predict(X_test) > 0.5\n",
        "print(classification_report(y_test, y_pred, target_names=class_labels))"
      ]
    },
    {
      "cell_type": "code",
      "execution_count": null,
      "metadata": {
        "colab": {
          "background_save": true
        },
        "id": "IEG0LF_ZVGTa",
        "outputId": "97bb2e84-c759-4cd0-9817-0417c718e15a"
      },
      "outputs": [
        {
          "name": "stdout",
          "output_type": "stream",
          "text": [
            "11/11 [==============================] - 3s 17ms/step\n",
            "              precision    recall  f1-score   support\n",
            "\n",
            "   apresiasi       0.84      0.90      0.87       121\n",
            "      kritik       0.96      0.96      0.96       248\n",
            "\n",
            "   micro avg       0.92      0.94      0.93       369\n",
            "   macro avg       0.90      0.93      0.91       369\n",
            "weighted avg       0.92      0.94      0.93       369\n",
            " samples avg       0.94      0.96      0.94       369\n",
            "\n"
          ]
        }
      ],
      "source": [
        "# Evaluasi Bi-GRU\n",
        "\n",
        "y_pred = bi_gru.predict(X_test) > 0.5\n",
        "print(classification_report(y_test, y_pred, target_names=class_labels))"
      ]
    },
    {
      "cell_type": "code",
      "execution_count": null,
      "metadata": {
        "colab": {
          "background_save": true
        },
        "id": "sKvWW3VoVGYG",
        "outputId": "2e18ae1b-ad23-4bf5-93b9-07488ce0322c"
      },
      "outputs": [
        {
          "name": "stdout",
          "output_type": "stream",
          "text": [
            "11/11 [==============================] - 7s 28ms/step\n",
            "              precision    recall  f1-score   support\n",
            "\n",
            "   apresiasi       0.85      0.91      0.88       121\n",
            "      kritik       0.98      0.95      0.97       248\n",
            "\n",
            "   micro avg       0.93      0.94      0.94       369\n",
            "   macro avg       0.91      0.93      0.92       369\n",
            "weighted avg       0.94      0.94      0.94       369\n",
            " samples avg       0.95      0.96      0.95       369\n",
            "\n"
          ]
        }
      ],
      "source": [
        "# Evaluasi Stacked Bi-GRU\n",
        "\n",
        "y_pred = stacked_bi_gru.predict(X_test) > 0.5\n",
        "print(classification_report(y_test, y_pred, target_names=class_labels))"
      ]
    },
    {
      "cell_type": "markdown",
      "metadata": {
        "id": "boUQrPKHg-Gl"
      },
      "source": [
        "## Menyimpan Model"
      ]
    },
    {
      "cell_type": "code",
      "execution_count": null,
      "metadata": {
        "colab": {
          "background_save": true
        },
        "id": "-rCP33ROgD6Z"
      },
      "outputs": [],
      "source": [
        "# Menyimpan model ke directory\n",
        "\n",
        "# lstm.save(\"lstm-1\")\n",
        "# bi_lstm.save(\"bi-lstm-1\")\n",
        "# stacked_bi_lstm.save(\"stacked-bi-lstm-1\")\n",
        "# gru.save(\"gru-1\")\n",
        "# bi_gru.save(\"bi-gru-1\")\n",
        "# stacked_bi_gru.save(\"stacked-bi-gru-1\")"
      ]
    },
    {
      "cell_type": "markdown",
      "metadata": {
        "id": "YmLs3lAgDmKU"
      },
      "source": [
        "# BERT Model"
      ]
    },
    {
      "cell_type": "markdown",
      "metadata": {
        "id": "WTG1qtG12WQD"
      },
      "source": [
        "## Mapping BERT Preprocesser and Encoder"
      ]
    },
    {
      "cell_type": "code",
      "execution_count": null,
      "metadata": {
        "id": "7bJfLsKuEua0"
      },
      "outputs": [],
      "source": [
        "# Map kata kunci untuk menuju URL dependencies BERT preprocesser dan BERT encoder\n",
        "\n",
        "map_name_to_handle = {\n",
        "    'bert_en_uncased_L-12_H-768_A-12':\n",
        "        'https://tfhub.dev/tensorflow/bert_en_uncased_L-12_H-768_A-12/3',\n",
        "    'bert_en_cased_L-12_H-768_A-12':\n",
        "        'https://tfhub.dev/tensorflow/bert_en_cased_L-12_H-768_A-12/3',\n",
        "    'bert_multi_cased_L-12_H-768_A-12':\n",
        "        'https://tfhub.dev/tensorflow/bert_multi_cased_L-12_H-768_A-12/3',\n",
        "    'small_bert/bert_en_uncased_L-2_H-128_A-2':\n",
        "        'https://tfhub.dev/tensorflow/small_bert/bert_en_uncased_L-2_H-128_A-2/1',\n",
        "    'small_bert/bert_en_uncased_L-2_H-256_A-4':\n",
        "        'https://tfhub.dev/tensorflow/small_bert/bert_en_uncased_L-2_H-256_A-4/1',\n",
        "    'small_bert/bert_en_uncased_L-2_H-512_A-8':\n",
        "        'https://tfhub.dev/tensorflow/small_bert/bert_en_uncased_L-2_H-512_A-8/1',\n",
        "    'small_bert/bert_en_uncased_L-2_H-768_A-12':\n",
        "        'https://tfhub.dev/tensorflow/small_bert/bert_en_uncased_L-2_H-768_A-12/1',\n",
        "    'small_bert/bert_en_uncased_L-4_H-128_A-2':\n",
        "        'https://tfhub.dev/tensorflow/small_bert/bert_en_uncased_L-4_H-128_A-2/1',\n",
        "    'small_bert/bert_en_uncased_L-4_H-256_A-4':\n",
        "        'https://tfhub.dev/tensorflow/small_bert/bert_en_uncased_L-4_H-256_A-4/1',\n",
        "    'small_bert/bert_en_uncased_L-4_H-512_A-8':\n",
        "        'https://tfhub.dev/tensorflow/small_bert/bert_en_uncased_L-4_H-512_A-8/1',\n",
        "    'small_bert/bert_en_uncased_L-4_H-768_A-12':\n",
        "        'https://tfhub.dev/tensorflow/small_bert/bert_en_uncased_L-4_H-768_A-12/1',\n",
        "    'small_bert/bert_en_uncased_L-6_H-128_A-2':\n",
        "        'https://tfhub.dev/tensorflow/small_bert/bert_en_uncased_L-6_H-128_A-2/1',\n",
        "    'small_bert/bert_en_uncased_L-6_H-256_A-4':\n",
        "        'https://tfhub.dev/tensorflow/small_bert/bert_en_uncased_L-6_H-256_A-4/1',\n",
        "    'small_bert/bert_en_uncased_L-6_H-512_A-8':\n",
        "        'https://tfhub.dev/tensorflow/small_bert/bert_en_uncased_L-6_H-512_A-8/1',\n",
        "    'small_bert/bert_en_uncased_L-6_H-768_A-12':\n",
        "        'https://tfhub.dev/tensorflow/small_bert/bert_en_uncased_L-6_H-768_A-12/1',\n",
        "    'small_bert/bert_en_uncased_L-8_H-128_A-2':\n",
        "        'https://tfhub.dev/tensorflow/small_bert/bert_en_uncased_L-8_H-128_A-2/1',\n",
        "    'small_bert/bert_en_uncased_L-8_H-256_A-4':\n",
        "        'https://tfhub.dev/tensorflow/small_bert/bert_en_uncased_L-8_H-256_A-4/1',\n",
        "    'small_bert/bert_en_uncased_L-8_H-512_A-8':\n",
        "        'https://tfhub.dev/tensorflow/small_bert/bert_en_uncased_L-8_H-512_A-8/1',\n",
        "    'small_bert/bert_en_uncased_L-8_H-768_A-12':\n",
        "        'https://tfhub.dev/tensorflow/small_bert/bert_en_uncased_L-8_H-768_A-12/1',\n",
        "    'small_bert/bert_en_uncased_L-10_H-128_A-2':\n",
        "        'https://tfhub.dev/tensorflow/small_bert/bert_en_uncased_L-10_H-128_A-2/1',\n",
        "    'small_bert/bert_en_uncased_L-10_H-256_A-4':\n",
        "        'https://tfhub.dev/tensorflow/small_bert/bert_en_uncased_L-10_H-256_A-4/1',\n",
        "    'small_bert/bert_en_uncased_L-10_H-512_A-8':\n",
        "        'https://tfhub.dev/tensorflow/small_bert/bert_en_uncased_L-10_H-512_A-8/1',\n",
        "    'small_bert/bert_en_uncased_L-10_H-768_A-12':\n",
        "        'https://tfhub.dev/tensorflow/small_bert/bert_en_uncased_L-10_H-768_A-12/1',\n",
        "    'small_bert/bert_en_uncased_L-12_H-128_A-2':\n",
        "        'https://tfhub.dev/tensorflow/small_bert/bert_en_uncased_L-12_H-128_A-2/1',\n",
        "    'small_bert/bert_en_uncased_L-12_H-256_A-4':\n",
        "        'https://tfhub.dev/tensorflow/small_bert/bert_en_uncased_L-12_H-256_A-4/1',\n",
        "    'small_bert/bert_en_uncased_L-12_H-512_A-8':\n",
        "        'https://tfhub.dev/tensorflow/small_bert/bert_en_uncased_L-12_H-512_A-8/1',\n",
        "    'small_bert/bert_en_uncased_L-12_H-768_A-12':\n",
        "        'https://tfhub.dev/tensorflow/small_bert/bert_en_uncased_L-12_H-768_A-12/1',\n",
        "    'albert_en_base':\n",
        "        'https://tfhub.dev/tensorflow/albert_en_base/2',\n",
        "    'electra_small':\n",
        "        'https://tfhub.dev/google/electra_small/2',\n",
        "    'electra_base':\n",
        "        'https://tfhub.dev/google/electra_base/2',\n",
        "    'experts_pubmed':\n",
        "        'https://tfhub.dev/google/experts/bert/pubmed/2',\n",
        "    'experts_wiki_books':\n",
        "        'https://tfhub.dev/google/experts/bert/wiki_books/2',\n",
        "    'talking-heads_base':\n",
        "        'https://tfhub.dev/tensorflow/talkheads_ggelu_bert_en_base/1',\n",
        "}\n",
        "\n",
        "map_model_to_preprocess = {\n",
        "    'bert_en_uncased_L-12_H-768_A-12':\n",
        "        'https://tfhub.dev/tensorflow/bert_en_uncased_preprocess/3',\n",
        "    'bert_en_cased_L-12_H-768_A-12':\n",
        "        'https://tfhub.dev/tensorflow/bert_en_cased_preprocess/3',\n",
        "    'small_bert/bert_en_uncased_L-2_H-128_A-2':\n",
        "        'https://tfhub.dev/tensorflow/bert_en_uncased_preprocess/3',\n",
        "    'small_bert/bert_en_uncased_L-2_H-256_A-4':\n",
        "        'https://tfhub.dev/tensorflow/bert_en_uncased_preprocess/3',\n",
        "    'small_bert/bert_en_uncased_L-2_H-512_A-8':\n",
        "        'https://tfhub.dev/tensorflow/bert_en_uncased_preprocess/3',\n",
        "    'small_bert/bert_en_uncased_L-2_H-768_A-12':\n",
        "        'https://tfhub.dev/tensorflow/bert_en_uncased_preprocess/3',\n",
        "    'small_bert/bert_en_uncased_L-4_H-128_A-2':\n",
        "        'https://tfhub.dev/tensorflow/bert_en_uncased_preprocess/3',\n",
        "    'small_bert/bert_en_uncased_L-4_H-256_A-4':\n",
        "        'https://tfhub.dev/tensorflow/bert_en_uncased_preprocess/3',\n",
        "    'small_bert/bert_en_uncased_L-4_H-512_A-8':\n",
        "        'https://tfhub.dev/tensorflow/bert_en_uncased_preprocess/3',\n",
        "    'small_bert/bert_en_uncased_L-4_H-768_A-12':\n",
        "        'https://tfhub.dev/tensorflow/bert_en_uncased_preprocess/3',\n",
        "    'small_bert/bert_en_uncased_L-6_H-128_A-2':\n",
        "        'https://tfhub.dev/tensorflow/bert_en_uncased_preprocess/3',\n",
        "    'small_bert/bert_en_uncased_L-6_H-256_A-4':\n",
        "        'https://tfhub.dev/tensorflow/bert_en_uncased_preprocess/3',\n",
        "    'small_bert/bert_en_uncased_L-6_H-512_A-8':\n",
        "        'https://tfhub.dev/tensorflow/bert_en_uncased_preprocess/3',\n",
        "    'small_bert/bert_en_uncased_L-6_H-768_A-12':\n",
        "        'https://tfhub.dev/tensorflow/bert_en_uncased_preprocess/3',\n",
        "    'small_bert/bert_en_uncased_L-8_H-128_A-2':\n",
        "        'https://tfhub.dev/tensorflow/bert_en_uncased_preprocess/3',\n",
        "    'small_bert/bert_en_uncased_L-8_H-256_A-4':\n",
        "        'https://tfhub.dev/tensorflow/bert_en_uncased_preprocess/3',\n",
        "    'small_bert/bert_en_uncased_L-8_H-512_A-8':\n",
        "        'https://tfhub.dev/tensorflow/bert_en_uncased_preprocess/3',\n",
        "    'small_bert/bert_en_uncased_L-8_H-768_A-12':\n",
        "        'https://tfhub.dev/tensorflow/bert_en_uncased_preprocess/3',\n",
        "    'small_bert/bert_en_uncased_L-10_H-128_A-2':\n",
        "        'https://tfhub.dev/tensorflow/bert_en_uncased_preprocess/3',\n",
        "    'small_bert/bert_en_uncased_L-10_H-256_A-4':\n",
        "        'https://tfhub.dev/tensorflow/bert_en_uncased_preprocess/3',\n",
        "    'small_bert/bert_en_uncased_L-10_H-512_A-8':\n",
        "        'https://tfhub.dev/tensorflow/bert_en_uncased_preprocess/3',\n",
        "    'small_bert/bert_en_uncased_L-10_H-768_A-12':\n",
        "        'https://tfhub.dev/tensorflow/bert_en_uncased_preprocess/3',\n",
        "    'small_bert/bert_en_uncased_L-12_H-128_A-2':\n",
        "        'https://tfhub.dev/tensorflow/bert_en_uncased_preprocess/3',\n",
        "    'small_bert/bert_en_uncased_L-12_H-256_A-4':\n",
        "        'https://tfhub.dev/tensorflow/bert_en_uncased_preprocess/3',\n",
        "    'small_bert/bert_en_uncased_L-12_H-512_A-8':\n",
        "        'https://tfhub.dev/tensorflow/bert_en_uncased_preprocess/3',\n",
        "    'small_bert/bert_en_uncased_L-12_H-768_A-12':\n",
        "        'https://tfhub.dev/tensorflow/bert_en_uncased_preprocess/3',\n",
        "    'bert_multi_cased_L-12_H-768_A-12':\n",
        "        'https://tfhub.dev/tensorflow/bert_multi_cased_preprocess/3',\n",
        "    'albert_en_base':\n",
        "        'https://tfhub.dev/tensorflow/albert_en_preprocess/3',\n",
        "    'electra_small':\n",
        "        'https://tfhub.dev/tensorflow/bert_en_uncased_preprocess/3',\n",
        "    'electra_base':\n",
        "        'https://tfhub.dev/tensorflow/bert_en_uncased_preprocess/3',\n",
        "    'experts_pubmed':\n",
        "        'https://tfhub.dev/tensorflow/bert_en_uncased_preprocess/3',\n",
        "    'experts_wiki_books':\n",
        "        'https://tfhub.dev/tensorflow/bert_en_uncased_preprocess/3',\n",
        "    'talking-heads_base':\n",
        "        'https://tfhub.dev/tensorflow/bert_en_uncased_preprocess/3',\n",
        "}"
      ]
    },
    {
      "cell_type": "markdown",
      "metadata": {
        "id": "uOTHQGcV2dvy"
      },
      "source": [
        "## Membangun Arsitektur Model"
      ]
    },
    {
      "cell_type": "code",
      "execution_count": null,
      "metadata": {
        "id": "PiI_f3HVkzSc"
      },
      "outputs": [],
      "source": [
        "# Mendefinisikan fungsi untuk membuat model large BERT, small BERT, Electra, dan Albert\n",
        "\n",
        "def build_bert_model(bert_model_name: str):\n",
        "  tfhub_handle_encoder = map_name_to_handle[bert_model_name]\n",
        "  tfhub_handle_preprocess = map_model_to_preprocess[bert_model_name]\n",
        "\n",
        "  text_input = tf.keras.layers.Input(shape=(), dtype=\"string\")\n",
        "  preprocessing_layer = hub.KerasLayer(tfhub_handle_preprocess)\n",
        "  encoder_inputs = preprocessing_layer(text_input)\n",
        "  encoder = hub.KerasLayer(tfhub_handle_encoder, trainable=True)\n",
        "  outputs = encoder(encoder_inputs)\n",
        "  net = outputs['pooled_output']\n",
        "  net = tf.keras.layers.Dropout(0.2)(net)\n",
        "  net = tf.keras.layers.Dense(2, activation='sigmoid', name='classifier')(net)\n",
        "  return tf.keras.Model(text_input, net)"
      ]
    },
    {
      "cell_type": "code",
      "execution_count": null,
      "metadata": {
        "colab": {
          "base_uri": "https://localhost:8080/",
          "referenced_widgets": [
            "275fd7f86bae4058bc9af45a4d8187d4",
            "eda5fc5a09084209a44275603370a279",
            "615e0ce14bf24a208223c4c20c816635",
            "0841dcb7b73443c681d4f90db74b7fd5",
            "db381cf7b9124dcf9c320b5eeb483263",
            "cefdc0ebfaa74198975b331d928b4a89",
            "48675d05b14a4c00b71a130d42490ca8",
            "a1ee05ef98804cf1b853bd51464c4252",
            "2aff9a2cd1ff4677a10ffcbdc6e9c412",
            "32d70f1972954e74a68ef9b7bde40829",
            "f96711e470b142b58de7d32f7eb78810",
            "5e0f4b6f96c34c23a7166abb028e1ff0",
            "7a0a86f368a640229efaa1b8b782c504",
            "2e12e6a7db1f45f98836efa6ff2feae1",
            "0e8ca0d7bf284c359fa35d6e3fcd61d5",
            "10cabca677a84a9288fb2da2e1ab2afc",
            "c929a2cdb17f4f3193602e602e74e777",
            "2874dc597a024865bd2a064edd071995",
            "0cfc4e1bfd654ae6bb3b98e15874c8a4",
            "22a2193b7b044a8bb052d8ebe0fba5bc",
            "a0b3a9ad031b4ca3b61a84c6f4cb1e8c",
            "b4b781e3bdec47de9eb7c65a8b2ea56f",
            "dbacb72ecca040cea3829f1db744ce4c",
            "b4a2d21d784b4becb4ff069a85eaf75a",
            "b61503ff1e80407ab6ffeee7e390c5db",
            "906c525fceb043479282478f59258d21",
            "d927dd8b2a974abf949682d35285bbc6",
            "ac53bec419bb4262aa59dbb2f7ce0979",
            "09c8e5a3d116493ab08682f2cc5726af",
            "3688aa6af2e74a81987ffb8702e2427f",
            "84a46774224d4da0a41857cf32b3ad53",
            "e3d10cfc65c34a9f9d236fbecd35c5e2",
            "2017160c27a24862bca329840414c0d6",
            "df31c5172d75455ebeb1e2b690500e63",
            "b1f15f67feae4174a5bf1eeee983f9ce",
            "a190f816f01c4e6fae14c0f7eb4fe91d",
            "d8b588b9a655485bbf37d9f5fe910798",
            "06c7e49c82d74fa79122922c8152d00e",
            "4176e06fffc34c81959806cfca6e7bc0",
            "5fba862f1f4748ffac3a25006b73806a",
            "a0a4849ee93344cfb646564137c03951",
            "1fa69a5b3b1646a1bed1e2122dc11be2",
            "09ed18f6611642b6b3f6efabbf09a857",
            "1df5662ff6c34423833960cb8e754f87",
            "7e30701e0c40465a9c62ecbd6f4d30a1",
            "e55b7928bbf3407c9865f4e591f8b192",
            "069e30cf7147436da29f801611aae793",
            "e53bb4543f6a46cc85e10fc4c2e33a0e",
            "1821462800c5468caf310bd2668cae0f",
            "a4eb193777c843c0a47e2bd20d31175e",
            "d784a520596e40d9abfd998b2937e6ea",
            "5120c376fce343e095b31f3258d38c37",
            "0a3c6fd2c3aa4fb6bf37d3803dbc513d",
            "f349b53181da4cebaead823c148bc52d",
            "9670f385e0a84e78893355dfed98e028",
            "b17a224637e8456ea4d108ba357a6857",
            "03f92845fde44c4b9a13cd39d5ac15c7",
            "a633af699c534f5faa35a07e0a328111",
            "962ba324ebf14f1883570a19d361b99a",
            "0e232295dd2643ed8cc41c32ff045f2b",
            "768074738ecb4e2a8ac9f7d483606aa0",
            "639ad182dbd145448c0cc391d5a3af9e",
            "9ec722970a4a4ba8a0025e5ef0174ad0",
            "6c46dc5f7f4649a28966e99ebd37ed3f",
            "5bc84db2dd6e49b88996617148d19025",
            "7d0b218fc9164d77ad6c947f8c638d6f"
          ]
        },
        "id": "1zMKzr5MXkQ2",
        "outputId": "c3901ec9-50ac-4b14-9197-37257cccb5ee"
      },
      "outputs": [
        {
          "output_type": "display_data",
          "data": {
            "text/plain": [
              "Downloading (…)okenizer_config.json:   0%|          | 0.00/42.0 [00:00<?, ?B/s]"
            ],
            "application/vnd.jupyter.widget-view+json": {
              "version_major": 2,
              "version_minor": 0,
              "model_id": "275fd7f86bae4058bc9af45a4d8187d4"
            }
          },
          "metadata": {}
        },
        {
          "output_type": "display_data",
          "data": {
            "text/plain": [
              "Downloading (…)lve/main/config.json:   0%|          | 0.00/1.01k [00:00<?, ?B/s]"
            ],
            "application/vnd.jupyter.widget-view+json": {
              "version_major": 2,
              "version_minor": 0,
              "model_id": "5e0f4b6f96c34c23a7166abb028e1ff0"
            }
          },
          "metadata": {}
        },
        {
          "output_type": "display_data",
          "data": {
            "text/plain": [
              "Downloading (…)solve/main/vocab.txt:   0%|          | 0.00/234k [00:00<?, ?B/s]"
            ],
            "application/vnd.jupyter.widget-view+json": {
              "version_major": 2,
              "version_minor": 0,
              "model_id": "dbacb72ecca040cea3829f1db744ce4c"
            }
          },
          "metadata": {}
        },
        {
          "output_type": "display_data",
          "data": {
            "text/plain": [
              "Downloading (…)in/added_tokens.json:   0%|          | 0.00/2.00 [00:00<?, ?B/s]"
            ],
            "application/vnd.jupyter.widget-view+json": {
              "version_major": 2,
              "version_minor": 0,
              "model_id": "df31c5172d75455ebeb1e2b690500e63"
            }
          },
          "metadata": {}
        },
        {
          "output_type": "display_data",
          "data": {
            "text/plain": [
              "Downloading (…)cial_tokens_map.json:   0%|          | 0.00/112 [00:00<?, ?B/s]"
            ],
            "application/vnd.jupyter.widget-view+json": {
              "version_major": 2,
              "version_minor": 0,
              "model_id": "7e30701e0c40465a9c62ecbd6f4d30a1"
            }
          },
          "metadata": {}
        },
        {
          "output_type": "display_data",
          "data": {
            "text/plain": [
              "Downloading pytorch_model.bin:   0%|          | 0.00/445M [00:00<?, ?B/s]"
            ],
            "application/vnd.jupyter.widget-view+json": {
              "version_major": 2,
              "version_minor": 0,
              "model_id": "b17a224637e8456ea4d108ba357a6857"
            }
          },
          "metadata": {}
        },
        {
          "output_type": "stream",
          "name": "stderr",
          "text": [
            "All PyTorch model weights were used when initializing TFBertForSequenceClassification.\n",
            "\n",
            "Some weights or buffers of the TF 2.0 model TFBertForSequenceClassification were not initialized from the PyTorch model and are newly initialized: ['classifier.weight', 'classifier.bias']\n",
            "You should probably TRAIN this model on a down-stream task to be able to use it for predictions and inference.\n"
          ]
        }
      ],
      "source": [
        "# Membuat IndoBERT architecture\n",
        "\n",
        "from transformers import AutoTokenizer,  TFAutoModelForSequenceClassification\n",
        "indobert_tokenizer = AutoTokenizer.from_pretrained(\"indolem/indobert-base-uncased\")\n",
        "indobert_fine_tune_model = TFAutoModelForSequenceClassification.from_pretrained(\"indolem/indobert-base-uncased\",\n",
        "                                                                                from_pt=True,\n",
        "                                                                                num_labels = 2,\n",
        "                                                                                problem_type = \"multi-label-classification\")\n",
        "\n",
        "\n",
        "# Tokenize dataset using IndoBERT tokenizer\n",
        "X_train_indobert = indobert_tokenizer(list(X_train), return_tensors = \"np\", padding = True)\n",
        "X_train_indobert = dict(X_train_indobert)\n",
        "\n",
        "X_test_indobert = indobert_tokenizer(list(X_test), return_tensors = \"np\", padding = True)\n",
        "X_test_indobert = dict(X_test_indobert)"
      ]
    },
    {
      "cell_type": "code",
      "execution_count": null,
      "metadata": {
        "id": "2rwYSA8MqRyD"
      },
      "outputs": [],
      "source": [
        "# Membuat model BERT selain IndoBERT\n",
        "\n",
        "bert_uncased_model = build_bert_model('bert_en_uncased_L-12_H-768_A-12')\n",
        "small_bert_model = build_bert_model('small_bert/bert_en_uncased_L-4_H-512_A-8')\n",
        "albert_model = build_bert_model('albert_en_base')\n",
        "electra_model = build_bert_model('electra_base')"
      ]
    },
    {
      "cell_type": "markdown",
      "metadata": {
        "id": "3ikxZreZ2gwn"
      },
      "source": [
        "## Model Compiling"
      ]
    },
    {
      "cell_type": "code",
      "execution_count": null,
      "metadata": {
        "id": "3ViZwJNzZf2b"
      },
      "outputs": [],
      "source": [
        "indobert_fine_tune_model.compile(\n",
        "    optimizer = tf.keras.optimizers.Adam(learning_rate = 0.00001),\n",
        "    loss = tf.keras.losses.BinaryCrossentropy(),\n",
        "    metrics = tf.keras.metrics.BinaryAccuracy(),\n",
        ")"
      ]
    },
    {
      "cell_type": "code",
      "execution_count": null,
      "metadata": {
        "id": "qqxIjajsqYNu"
      },
      "outputs": [],
      "source": [
        "bert_uncased_model.compile(\n",
        "    optimizer = tf.keras.optimizers.Adam(learning_rate = 0.00003),\n",
        "    loss = tf.keras.losses.BinaryCrossentropy(),\n",
        "    metrics = tf.keras.metrics.BinaryAccuracy(),\n",
        ")\n",
        "\n",
        "small_bert_model.compile(\n",
        "    optimizer = tf.keras.optimizers.Adam(learning_rate = 0.00003),\n",
        "    loss = tf.keras.losses.BinaryCrossentropy(),\n",
        "    metrics = tf.keras.metrics.BinaryAccuracy(),\n",
        ")\n",
        "\n",
        "albert_model.compile(\n",
        "    optimizer = tf.keras.optimizers.Adam(learning_rate = 0.00003),\n",
        "    loss = tf.keras.losses.BinaryCrossentropy(),\n",
        "    metrics = tf.keras.metrics.BinaryAccuracy(),\n",
        ")\n",
        "\n",
        "electra_model.compile(\n",
        "    optimizer = tf.keras.optimizers.Adam(learning_rate = 0.00003),\n",
        "    loss = tf.keras.losses.BinaryCrossentropy(),\n",
        "    metrics = tf.keras.metrics.BinaryAccuracy(),\n",
        ")"
      ]
    },
    {
      "cell_type": "markdown",
      "metadata": {
        "id": "1dtSQ02j2i7o"
      },
      "source": [
        "## Model Training"
      ]
    },
    {
      "cell_type": "code",
      "execution_count": null,
      "metadata": {
        "colab": {
          "base_uri": "https://localhost:8080/"
        },
        "id": "nF2Hvls2ZLms",
        "outputId": "96db5757-b957-4a85-8d73-c2cbeeea1b65"
      },
      "outputs": [
        {
          "output_type": "stream",
          "name": "stdout",
          "text": [
            "Epoch 1/3\n",
            "85/85 [==============================] - 108s 480ms/step - loss: 0.8048 - binary_accuracy: 0.6539 - val_loss: 0.5360 - val_binary_accuracy: 0.7134\n",
            "Epoch 2/3\n",
            "85/85 [==============================] - 35s 413ms/step - loss: 0.5876 - binary_accuracy: 0.7355 - val_loss: 0.4804 - val_binary_accuracy: 0.7806\n",
            "Epoch 3/3\n",
            "85/85 [==============================] - 33s 389ms/step - loss: 0.6454 - binary_accuracy: 0.7329 - val_loss: 0.5170 - val_binary_accuracy: 0.7642\n"
          ]
        },
        {
          "output_type": "execute_result",
          "data": {
            "text/plain": [
              "<keras.callbacks.History at 0x7f9b10265510>"
            ]
          },
          "metadata": {},
          "execution_count": 26
        }
      ],
      "source": [
        "indobert_fine_tune_model.fit(\n",
        "    x = X_train_indobert,\n",
        "    y = y_train,\n",
        "    batch_size = 16,\n",
        "    validation_data = (X_test_indobert, y_test),\n",
        "    epochs = 3,\n",
        ")"
      ]
    },
    {
      "cell_type": "code",
      "execution_count": null,
      "metadata": {
        "id": "CU7C8-TWrQeU",
        "colab": {
          "base_uri": "https://localhost:8080/"
        },
        "outputId": "8b001882-9cbf-42f0-8703-dcfa120eb216"
      },
      "outputs": [
        {
          "output_type": "stream",
          "name": "stdout",
          "text": [
            "Epoch 1/3\n",
            "85/85 [==============================] - 97s 589ms/step - loss: 0.5240 - binary_accuracy: 0.7448 - val_loss: 0.3569 - val_binary_accuracy: 0.8582\n",
            "Epoch 2/3\n",
            "85/85 [==============================] - 47s 558ms/step - loss: 0.3034 - binary_accuracy: 0.8731 - val_loss: 0.4417 - val_binary_accuracy: 0.8299\n",
            "Epoch 3/3\n",
            "85/85 [==============================] - 46s 539ms/step - loss: 0.2047 - binary_accuracy: 0.9184 - val_loss: 0.1944 - val_binary_accuracy: 0.9328\n"
          ]
        },
        {
          "output_type": "execute_result",
          "data": {
            "text/plain": [
              "<keras.callbacks.History at 0x7f99e56e4400>"
            ]
          },
          "metadata": {},
          "execution_count": 27
        }
      ],
      "source": [
        "bert_uncased_model.fit(\n",
        "    x = X_train,\n",
        "    y = y_train,\n",
        "    batch_size = 16,\n",
        "    validation_data = (X_test, y_test),\n",
        "    epochs = 3,\n",
        ")\n"
      ]
    },
    {
      "cell_type": "code",
      "execution_count": null,
      "metadata": {
        "id": "9lGWfIwkW8uQ",
        "colab": {
          "base_uri": "https://localhost:8080/"
        },
        "outputId": "e051fcf7-6ac4-4c71-c81e-666093d46605"
      },
      "outputs": [
        {
          "output_type": "stream",
          "name": "stdout",
          "text": [
            "Epoch 1/3\n",
            "85/85 [==============================] - 41s 292ms/step - loss: 0.4874 - binary_accuracy: 0.7700 - val_loss: 0.4115 - val_binary_accuracy: 0.8224\n",
            "Epoch 2/3\n",
            "85/85 [==============================] - 17s 203ms/step - loss: 0.3354 - binary_accuracy: 0.8594 - val_loss: 0.3070 - val_binary_accuracy: 0.8672\n",
            "Epoch 3/3\n",
            "85/85 [==============================] - 14s 160ms/step - loss: 0.2564 - binary_accuracy: 0.9024 - val_loss: 0.2610 - val_binary_accuracy: 0.8940\n"
          ]
        },
        {
          "output_type": "execute_result",
          "data": {
            "text/plain": [
              "<keras.callbacks.History at 0x7f99d9a2c820>"
            ]
          },
          "metadata": {},
          "execution_count": 28
        }
      ],
      "source": [
        "small_bert_model.fit(\n",
        "    x = X_train,\n",
        "    y = y_train,\n",
        "    batch_size = 16,\n",
        "    validation_data = (X_test, y_test),\n",
        "    epochs = 3,\n",
        ")"
      ]
    },
    {
      "cell_type": "code",
      "execution_count": null,
      "metadata": {
        "id": "xVbFsh1hW83G",
        "colab": {
          "base_uri": "https://localhost:8080/"
        },
        "outputId": "9e8e405b-6740-4307-dfcb-68bd9d1a472f"
      },
      "outputs": [
        {
          "output_type": "stream",
          "name": "stdout",
          "text": [
            "Epoch 1/3\n",
            "85/85 [==============================] - 71s 632ms/step - loss: 0.5895 - binary_accuracy: 0.6955 - val_loss: 0.5972 - val_binary_accuracy: 0.6642\n",
            "Epoch 2/3\n",
            "85/85 [==============================] - 53s 625ms/step - loss: 0.6194 - binary_accuracy: 0.6907 - val_loss: 0.6081 - val_binary_accuracy: 0.6896\n",
            "Epoch 3/3\n",
            "85/85 [==============================] - 54s 640ms/step - loss: 0.5225 - binary_accuracy: 0.7530 - val_loss: 0.4722 - val_binary_accuracy: 0.8090\n"
          ]
        },
        {
          "output_type": "execute_result",
          "data": {
            "text/plain": [
              "<keras.callbacks.History at 0x7f99da412ec0>"
            ]
          },
          "metadata": {},
          "execution_count": 29
        }
      ],
      "source": [
        "albert_model.fit(\n",
        "    x = X_train,\n",
        "    y = y_train,\n",
        "    batch_size = 16,\n",
        "    validation_data = (X_test, y_test),\n",
        "    epochs = 3,\n",
        ")"
      ]
    },
    {
      "cell_type": "code",
      "execution_count": null,
      "metadata": {
        "id": "zOUwdG-TW9sq",
        "colab": {
          "base_uri": "https://localhost:8080/"
        },
        "outputId": "6b52d0ab-8ba3-4dc2-b79b-ae208b9c5337"
      },
      "outputs": [
        {
          "output_type": "stream",
          "name": "stdout",
          "text": [
            "Epoch 1/3\n",
            "85/85 [==============================] - 52s 614ms/step - loss: 0.1741 - binary_accuracy: 0.9266 - val_loss: 0.2487 - val_binary_accuracy: 0.8970\n",
            "Epoch 2/3\n",
            "85/85 [==============================] - 46s 537ms/step - loss: 0.1628 - binary_accuracy: 0.9366 - val_loss: 0.2439 - val_binary_accuracy: 0.9015\n",
            "Epoch 3/3\n",
            "85/85 [==============================] - 47s 549ms/step - loss: 0.1316 - binary_accuracy: 0.9473 - val_loss: 0.2067 - val_binary_accuracy: 0.9328\n"
          ]
        },
        {
          "output_type": "execute_result",
          "data": {
            "text/plain": [
              "<keras.callbacks.History at 0x7f9b10265600>"
            ]
          },
          "metadata": {},
          "execution_count": 38
        }
      ],
      "source": [
        "electra_model.fit(\n",
        "    x = X_train,\n",
        "    y = y_train,\n",
        "    batch_size = 16,\n",
        "    validation_data = (X_test, y_test),\n",
        "    epochs = 3,\n",
        ")"
      ]
    },
    {
      "cell_type": "markdown",
      "metadata": {
        "id": "DwJw2NrO2m1R"
      },
      "source": [
        "## Evaluasi Model"
      ]
    },
    {
      "cell_type": "code",
      "execution_count": null,
      "metadata": {
        "id": "yqLTg4VOmvPM"
      },
      "outputs": [],
      "source": [
        "from sklearn.metrics import classification_report\n",
        "\n",
        "class_labels = [\"apresiasi\", \"kritik\"]"
      ]
    },
    {
      "cell_type": "code",
      "execution_count": null,
      "metadata": {
        "id": "VH-H9IEJ41yu",
        "colab": {
          "base_uri": "https://localhost:8080/"
        },
        "outputId": "dfde33f7-c7b4-4dee-8096-cbb06f0ec5c8"
      },
      "outputs": [
        {
          "output_type": "stream",
          "name": "stdout",
          "text": [
            "11/11 [==============================] - 5s 200ms/step\n",
            "              precision    recall  f1-score   support\n",
            "\n",
            "   apresiasi       0.68      0.47      0.56       121\n",
            "      kritik       0.82      0.94      0.87       248\n",
            "\n",
            "   micro avg       0.78      0.79      0.79       369\n",
            "   macro avg       0.75      0.71      0.72       369\n",
            "weighted avg       0.77      0.79      0.77       369\n",
            " samples avg       0.78      0.80      0.78       369\n",
            "\n"
          ]
        },
        {
          "output_type": "stream",
          "name": "stderr",
          "text": [
            "/usr/local/lib/python3.10/dist-packages/sklearn/metrics/_classification.py:1344: UndefinedMetricWarning: Precision and F-score are ill-defined and being set to 0.0 in samples with no predicted labels. Use `zero_division` parameter to control this behavior.\n",
            "  _warn_prf(average, modifier, msg_start, len(result))\n"
          ]
        }
      ],
      "source": [
        "# Evaluasi Model IndoBERT\n",
        "\n",
        "y_pred = indobert_fine_tune_model.predict(X_test_indobert)[\"logits\"] > 0.5\n",
        "print(classification_report(y_test, y_pred, target_names=class_labels))"
      ]
    },
    {
      "cell_type": "code",
      "execution_count": null,
      "metadata": {
        "id": "MSi-FZLOgyLL",
        "colab": {
          "base_uri": "https://localhost:8080/"
        },
        "outputId": "d7c5e0d1-1275-4168-fce5-f397a1b1751c"
      },
      "outputs": [
        {
          "output_type": "stream",
          "name": "stdout",
          "text": [
            "11/11 [==============================] - 5s 383ms/step\n",
            "              precision    recall  f1-score   support\n",
            "\n",
            "   apresiasi       0.88      0.93      0.91       121\n",
            "      kritik       0.97      0.94      0.96       248\n",
            "\n",
            "   micro avg       0.94      0.94      0.94       369\n",
            "   macro avg       0.92      0.94      0.93       369\n",
            "weighted avg       0.94      0.94      0.94       369\n",
            " samples avg       0.95      0.95      0.95       369\n",
            "\n"
          ]
        }
      ],
      "source": [
        "# Evaluasi Model Large BERT\n",
        "\n",
        "y_pred = bert_uncased_model.predict(X_test) > 0.5\n",
        "print(classification_report(y_test, y_pred, target_names=class_labels))"
      ]
    },
    {
      "cell_type": "code",
      "execution_count": null,
      "metadata": {
        "id": "0MwmVyugXbBZ",
        "colab": {
          "base_uri": "https://localhost:8080/"
        },
        "outputId": "00ec59d7-02b4-42a1-876d-014cadc60870"
      },
      "outputs": [
        {
          "output_type": "stream",
          "name": "stdout",
          "text": [
            "11/11 [==============================] - 1s 94ms/step\n",
            "              precision    recall  f1-score   support\n",
            "\n",
            "   apresiasi       0.84      0.80      0.82       121\n",
            "      kritik       0.95      0.94      0.94       248\n",
            "\n",
            "   micro avg       0.91      0.89      0.90       369\n",
            "   macro avg       0.90      0.87      0.88       369\n",
            "weighted avg       0.91      0.89      0.90       369\n",
            " samples avg       0.92      0.91      0.91       369\n",
            "\n"
          ]
        },
        {
          "output_type": "stream",
          "name": "stderr",
          "text": [
            "/usr/local/lib/python3.10/dist-packages/sklearn/metrics/_classification.py:1344: UndefinedMetricWarning: Precision and F-score are ill-defined and being set to 0.0 in samples with no predicted labels. Use `zero_division` parameter to control this behavior.\n",
            "  _warn_prf(average, modifier, msg_start, len(result))\n"
          ]
        }
      ],
      "source": [
        "# Evaluasi Model Small BERT\n",
        "\n",
        "y_pred = small_bert_model.predict(X_test) > 0.5\n",
        "print(classification_report(y_test, y_pred, target_names=class_labels))"
      ]
    },
    {
      "cell_type": "code",
      "execution_count": null,
      "metadata": {
        "id": "epEFGg5MXbF0",
        "colab": {
          "base_uri": "https://localhost:8080/"
        },
        "outputId": "51d8c292-32a5-4554-9818-721ca16aa4ca"
      },
      "outputs": [
        {
          "output_type": "stream",
          "name": "stdout",
          "text": [
            "11/11 [==============================] - 4s 343ms/step\n",
            "              precision    recall  f1-score   support\n",
            "\n",
            "   apresiasi       0.78      0.57      0.66       121\n",
            "      kritik       0.85      0.94      0.89       248\n",
            "\n",
            "   micro avg       0.83      0.82      0.83       369\n",
            "   macro avg       0.81      0.76      0.78       369\n",
            "weighted avg       0.82      0.82      0.82       369\n",
            " samples avg       0.86      0.85      0.84       369\n",
            "\n"
          ]
        }
      ],
      "source": [
        "# Evaluasi Model Albert\n",
        "\n",
        "y_pred = albert_model.predict(X_test) > 0.5\n",
        "print(classification_report(y_test, y_pred, target_names=class_labels))"
      ]
    },
    {
      "cell_type": "code",
      "source": [
        "# Evaluasi Model Electra\n",
        "\n",
        "y_pred = electra_model.predict(X_test) > 0.5\n",
        "print(classification_report(y_test, y_pred, target_names=class_labels))"
      ],
      "metadata": {
        "colab": {
          "base_uri": "https://localhost:8080/"
        },
        "id": "qT64pXt3DGGD",
        "outputId": "6fb0f480-bc37-45ee-f379-c113f52c4ebc"
      },
      "execution_count": null,
      "outputs": [
        {
          "output_type": "stream",
          "name": "stdout",
          "text": [
            "11/11 [==============================] - 4s 412ms/step\n",
            "              precision    recall  f1-score   support\n",
            "\n",
            "   apresiasi       0.85      0.93      0.89       121\n",
            "      kritik       0.98      0.96      0.97       248\n",
            "\n",
            "   micro avg       0.93      0.95      0.94       369\n",
            "   macro avg       0.91      0.94      0.93       369\n",
            "weighted avg       0.93      0.95      0.94       369\n",
            " samples avg       0.95      0.96      0.95       369\n",
            "\n"
          ]
        }
      ]
    },
    {
      "cell_type": "markdown",
      "metadata": {
        "id": "Z8PDVx2djOZf"
      },
      "source": [
        "## Save Model"
      ]
    },
    {
      "cell_type": "code",
      "execution_count": null,
      "metadata": {
        "id": "aT1AzI3RhDN9"
      },
      "outputs": [],
      "source": [
        "# Menyimpan model ke directory\n",
        "\n",
        "# bert_uncased_model.save(\"bert-1\")\n",
        "# small_bert_model.save(\"small-bert-1\")\n",
        "# albert_model.save(\"albert-1\")\n",
        "# electra_model.save(\"electra-1\")"
      ]
    }
  ],
  "metadata": {
    "colab": {
      "collapsed_sections": [
        "IFe9eYWJEedj",
        "gpSVyqCX1sCO",
        "vzO3rNoS1y9U",
        "LkeZdf-f11na",
        "AmbXc0g-178k",
        "ZXNJ9b1O2YVN",
        "jUmFMGIbQt4S",
        "lIZcWXWd2xhQ",
        "X2BmtjrM2DMP",
        "Kj_eJv9L2G_W",
        "TgUoRqSTFvsK",
        "1pqPbCoB2Rzu",
        "boUQrPKHg-Gl",
        "WTG1qtG12WQD",
        "uOTHQGcV2dvy",
        "3ikxZreZ2gwn"
      ],
      "provenance": [],
      "gpuType": "T4",
      "mount_file_id": "1eTVst4IuSJrrk0k_si769vybcEJOIR-r",
      "authorship_tag": "ABX9TyNiya3lu1KdwudmfJS4fPaC",
      "include_colab_link": true
    },
    "kernelspec": {
      "display_name": "Python 3",
      "name": "python3"
    },
    "language_info": {
      "name": "python"
    },
    "accelerator": "GPU",
    "widgets": {
      "application/vnd.jupyter.widget-state+json": {
        "275fd7f86bae4058bc9af45a4d8187d4": {
          "model_module": "@jupyter-widgets/controls",
          "model_name": "HBoxModel",
          "model_module_version": "1.5.0",
          "state": {
            "_dom_classes": [],
            "_model_module": "@jupyter-widgets/controls",
            "_model_module_version": "1.5.0",
            "_model_name": "HBoxModel",
            "_view_count": null,
            "_view_module": "@jupyter-widgets/controls",
            "_view_module_version": "1.5.0",
            "_view_name": "HBoxView",
            "box_style": "",
            "children": [
              "IPY_MODEL_eda5fc5a09084209a44275603370a279",
              "IPY_MODEL_615e0ce14bf24a208223c4c20c816635",
              "IPY_MODEL_0841dcb7b73443c681d4f90db74b7fd5"
            ],
            "layout": "IPY_MODEL_db381cf7b9124dcf9c320b5eeb483263"
          }
        },
        "eda5fc5a09084209a44275603370a279": {
          "model_module": "@jupyter-widgets/controls",
          "model_name": "HTMLModel",
          "model_module_version": "1.5.0",
          "state": {
            "_dom_classes": [],
            "_model_module": "@jupyter-widgets/controls",
            "_model_module_version": "1.5.0",
            "_model_name": "HTMLModel",
            "_view_count": null,
            "_view_module": "@jupyter-widgets/controls",
            "_view_module_version": "1.5.0",
            "_view_name": "HTMLView",
            "description": "",
            "description_tooltip": null,
            "layout": "IPY_MODEL_cefdc0ebfaa74198975b331d928b4a89",
            "placeholder": "​",
            "style": "IPY_MODEL_48675d05b14a4c00b71a130d42490ca8",
            "value": "Downloading (…)okenizer_config.json: 100%"
          }
        },
        "615e0ce14bf24a208223c4c20c816635": {
          "model_module": "@jupyter-widgets/controls",
          "model_name": "FloatProgressModel",
          "model_module_version": "1.5.0",
          "state": {
            "_dom_classes": [],
            "_model_module": "@jupyter-widgets/controls",
            "_model_module_version": "1.5.0",
            "_model_name": "FloatProgressModel",
            "_view_count": null,
            "_view_module": "@jupyter-widgets/controls",
            "_view_module_version": "1.5.0",
            "_view_name": "ProgressView",
            "bar_style": "success",
            "description": "",
            "description_tooltip": null,
            "layout": "IPY_MODEL_a1ee05ef98804cf1b853bd51464c4252",
            "max": 42,
            "min": 0,
            "orientation": "horizontal",
            "style": "IPY_MODEL_2aff9a2cd1ff4677a10ffcbdc6e9c412",
            "value": 42
          }
        },
        "0841dcb7b73443c681d4f90db74b7fd5": {
          "model_module": "@jupyter-widgets/controls",
          "model_name": "HTMLModel",
          "model_module_version": "1.5.0",
          "state": {
            "_dom_classes": [],
            "_model_module": "@jupyter-widgets/controls",
            "_model_module_version": "1.5.0",
            "_model_name": "HTMLModel",
            "_view_count": null,
            "_view_module": "@jupyter-widgets/controls",
            "_view_module_version": "1.5.0",
            "_view_name": "HTMLView",
            "description": "",
            "description_tooltip": null,
            "layout": "IPY_MODEL_32d70f1972954e74a68ef9b7bde40829",
            "placeholder": "​",
            "style": "IPY_MODEL_f96711e470b142b58de7d32f7eb78810",
            "value": " 42.0/42.0 [00:00&lt;00:00, 1.72kB/s]"
          }
        },
        "db381cf7b9124dcf9c320b5eeb483263": {
          "model_module": "@jupyter-widgets/base",
          "model_name": "LayoutModel",
          "model_module_version": "1.2.0",
          "state": {
            "_model_module": "@jupyter-widgets/base",
            "_model_module_version": "1.2.0",
            "_model_name": "LayoutModel",
            "_view_count": null,
            "_view_module": "@jupyter-widgets/base",
            "_view_module_version": "1.2.0",
            "_view_name": "LayoutView",
            "align_content": null,
            "align_items": null,
            "align_self": null,
            "border": null,
            "bottom": null,
            "display": null,
            "flex": null,
            "flex_flow": null,
            "grid_area": null,
            "grid_auto_columns": null,
            "grid_auto_flow": null,
            "grid_auto_rows": null,
            "grid_column": null,
            "grid_gap": null,
            "grid_row": null,
            "grid_template_areas": null,
            "grid_template_columns": null,
            "grid_template_rows": null,
            "height": null,
            "justify_content": null,
            "justify_items": null,
            "left": null,
            "margin": null,
            "max_height": null,
            "max_width": null,
            "min_height": null,
            "min_width": null,
            "object_fit": null,
            "object_position": null,
            "order": null,
            "overflow": null,
            "overflow_x": null,
            "overflow_y": null,
            "padding": null,
            "right": null,
            "top": null,
            "visibility": null,
            "width": null
          }
        },
        "cefdc0ebfaa74198975b331d928b4a89": {
          "model_module": "@jupyter-widgets/base",
          "model_name": "LayoutModel",
          "model_module_version": "1.2.0",
          "state": {
            "_model_module": "@jupyter-widgets/base",
            "_model_module_version": "1.2.0",
            "_model_name": "LayoutModel",
            "_view_count": null,
            "_view_module": "@jupyter-widgets/base",
            "_view_module_version": "1.2.0",
            "_view_name": "LayoutView",
            "align_content": null,
            "align_items": null,
            "align_self": null,
            "border": null,
            "bottom": null,
            "display": null,
            "flex": null,
            "flex_flow": null,
            "grid_area": null,
            "grid_auto_columns": null,
            "grid_auto_flow": null,
            "grid_auto_rows": null,
            "grid_column": null,
            "grid_gap": null,
            "grid_row": null,
            "grid_template_areas": null,
            "grid_template_columns": null,
            "grid_template_rows": null,
            "height": null,
            "justify_content": null,
            "justify_items": null,
            "left": null,
            "margin": null,
            "max_height": null,
            "max_width": null,
            "min_height": null,
            "min_width": null,
            "object_fit": null,
            "object_position": null,
            "order": null,
            "overflow": null,
            "overflow_x": null,
            "overflow_y": null,
            "padding": null,
            "right": null,
            "top": null,
            "visibility": null,
            "width": null
          }
        },
        "48675d05b14a4c00b71a130d42490ca8": {
          "model_module": "@jupyter-widgets/controls",
          "model_name": "DescriptionStyleModel",
          "model_module_version": "1.5.0",
          "state": {
            "_model_module": "@jupyter-widgets/controls",
            "_model_module_version": "1.5.0",
            "_model_name": "DescriptionStyleModel",
            "_view_count": null,
            "_view_module": "@jupyter-widgets/base",
            "_view_module_version": "1.2.0",
            "_view_name": "StyleView",
            "description_width": ""
          }
        },
        "a1ee05ef98804cf1b853bd51464c4252": {
          "model_module": "@jupyter-widgets/base",
          "model_name": "LayoutModel",
          "model_module_version": "1.2.0",
          "state": {
            "_model_module": "@jupyter-widgets/base",
            "_model_module_version": "1.2.0",
            "_model_name": "LayoutModel",
            "_view_count": null,
            "_view_module": "@jupyter-widgets/base",
            "_view_module_version": "1.2.0",
            "_view_name": "LayoutView",
            "align_content": null,
            "align_items": null,
            "align_self": null,
            "border": null,
            "bottom": null,
            "display": null,
            "flex": null,
            "flex_flow": null,
            "grid_area": null,
            "grid_auto_columns": null,
            "grid_auto_flow": null,
            "grid_auto_rows": null,
            "grid_column": null,
            "grid_gap": null,
            "grid_row": null,
            "grid_template_areas": null,
            "grid_template_columns": null,
            "grid_template_rows": null,
            "height": null,
            "justify_content": null,
            "justify_items": null,
            "left": null,
            "margin": null,
            "max_height": null,
            "max_width": null,
            "min_height": null,
            "min_width": null,
            "object_fit": null,
            "object_position": null,
            "order": null,
            "overflow": null,
            "overflow_x": null,
            "overflow_y": null,
            "padding": null,
            "right": null,
            "top": null,
            "visibility": null,
            "width": null
          }
        },
        "2aff9a2cd1ff4677a10ffcbdc6e9c412": {
          "model_module": "@jupyter-widgets/controls",
          "model_name": "ProgressStyleModel",
          "model_module_version": "1.5.0",
          "state": {
            "_model_module": "@jupyter-widgets/controls",
            "_model_module_version": "1.5.0",
            "_model_name": "ProgressStyleModel",
            "_view_count": null,
            "_view_module": "@jupyter-widgets/base",
            "_view_module_version": "1.2.0",
            "_view_name": "StyleView",
            "bar_color": null,
            "description_width": ""
          }
        },
        "32d70f1972954e74a68ef9b7bde40829": {
          "model_module": "@jupyter-widgets/base",
          "model_name": "LayoutModel",
          "model_module_version": "1.2.0",
          "state": {
            "_model_module": "@jupyter-widgets/base",
            "_model_module_version": "1.2.0",
            "_model_name": "LayoutModel",
            "_view_count": null,
            "_view_module": "@jupyter-widgets/base",
            "_view_module_version": "1.2.0",
            "_view_name": "LayoutView",
            "align_content": null,
            "align_items": null,
            "align_self": null,
            "border": null,
            "bottom": null,
            "display": null,
            "flex": null,
            "flex_flow": null,
            "grid_area": null,
            "grid_auto_columns": null,
            "grid_auto_flow": null,
            "grid_auto_rows": null,
            "grid_column": null,
            "grid_gap": null,
            "grid_row": null,
            "grid_template_areas": null,
            "grid_template_columns": null,
            "grid_template_rows": null,
            "height": null,
            "justify_content": null,
            "justify_items": null,
            "left": null,
            "margin": null,
            "max_height": null,
            "max_width": null,
            "min_height": null,
            "min_width": null,
            "object_fit": null,
            "object_position": null,
            "order": null,
            "overflow": null,
            "overflow_x": null,
            "overflow_y": null,
            "padding": null,
            "right": null,
            "top": null,
            "visibility": null,
            "width": null
          }
        },
        "f96711e470b142b58de7d32f7eb78810": {
          "model_module": "@jupyter-widgets/controls",
          "model_name": "DescriptionStyleModel",
          "model_module_version": "1.5.0",
          "state": {
            "_model_module": "@jupyter-widgets/controls",
            "_model_module_version": "1.5.0",
            "_model_name": "DescriptionStyleModel",
            "_view_count": null,
            "_view_module": "@jupyter-widgets/base",
            "_view_module_version": "1.2.0",
            "_view_name": "StyleView",
            "description_width": ""
          }
        },
        "5e0f4b6f96c34c23a7166abb028e1ff0": {
          "model_module": "@jupyter-widgets/controls",
          "model_name": "HBoxModel",
          "model_module_version": "1.5.0",
          "state": {
            "_dom_classes": [],
            "_model_module": "@jupyter-widgets/controls",
            "_model_module_version": "1.5.0",
            "_model_name": "HBoxModel",
            "_view_count": null,
            "_view_module": "@jupyter-widgets/controls",
            "_view_module_version": "1.5.0",
            "_view_name": "HBoxView",
            "box_style": "",
            "children": [
              "IPY_MODEL_7a0a86f368a640229efaa1b8b782c504",
              "IPY_MODEL_2e12e6a7db1f45f98836efa6ff2feae1",
              "IPY_MODEL_0e8ca0d7bf284c359fa35d6e3fcd61d5"
            ],
            "layout": "IPY_MODEL_10cabca677a84a9288fb2da2e1ab2afc"
          }
        },
        "7a0a86f368a640229efaa1b8b782c504": {
          "model_module": "@jupyter-widgets/controls",
          "model_name": "HTMLModel",
          "model_module_version": "1.5.0",
          "state": {
            "_dom_classes": [],
            "_model_module": "@jupyter-widgets/controls",
            "_model_module_version": "1.5.0",
            "_model_name": "HTMLModel",
            "_view_count": null,
            "_view_module": "@jupyter-widgets/controls",
            "_view_module_version": "1.5.0",
            "_view_name": "HTMLView",
            "description": "",
            "description_tooltip": null,
            "layout": "IPY_MODEL_c929a2cdb17f4f3193602e602e74e777",
            "placeholder": "​",
            "style": "IPY_MODEL_2874dc597a024865bd2a064edd071995",
            "value": "Downloading (…)lve/main/config.json: 100%"
          }
        },
        "2e12e6a7db1f45f98836efa6ff2feae1": {
          "model_module": "@jupyter-widgets/controls",
          "model_name": "FloatProgressModel",
          "model_module_version": "1.5.0",
          "state": {
            "_dom_classes": [],
            "_model_module": "@jupyter-widgets/controls",
            "_model_module_version": "1.5.0",
            "_model_name": "FloatProgressModel",
            "_view_count": null,
            "_view_module": "@jupyter-widgets/controls",
            "_view_module_version": "1.5.0",
            "_view_name": "ProgressView",
            "bar_style": "success",
            "description": "",
            "description_tooltip": null,
            "layout": "IPY_MODEL_0cfc4e1bfd654ae6bb3b98e15874c8a4",
            "max": 1014,
            "min": 0,
            "orientation": "horizontal",
            "style": "IPY_MODEL_22a2193b7b044a8bb052d8ebe0fba5bc",
            "value": 1014
          }
        },
        "0e8ca0d7bf284c359fa35d6e3fcd61d5": {
          "model_module": "@jupyter-widgets/controls",
          "model_name": "HTMLModel",
          "model_module_version": "1.5.0",
          "state": {
            "_dom_classes": [],
            "_model_module": "@jupyter-widgets/controls",
            "_model_module_version": "1.5.0",
            "_model_name": "HTMLModel",
            "_view_count": null,
            "_view_module": "@jupyter-widgets/controls",
            "_view_module_version": "1.5.0",
            "_view_name": "HTMLView",
            "description": "",
            "description_tooltip": null,
            "layout": "IPY_MODEL_a0b3a9ad031b4ca3b61a84c6f4cb1e8c",
            "placeholder": "​",
            "style": "IPY_MODEL_b4b781e3bdec47de9eb7c65a8b2ea56f",
            "value": " 1.01k/1.01k [00:00&lt;00:00, 47.0kB/s]"
          }
        },
        "10cabca677a84a9288fb2da2e1ab2afc": {
          "model_module": "@jupyter-widgets/base",
          "model_name": "LayoutModel",
          "model_module_version": "1.2.0",
          "state": {
            "_model_module": "@jupyter-widgets/base",
            "_model_module_version": "1.2.0",
            "_model_name": "LayoutModel",
            "_view_count": null,
            "_view_module": "@jupyter-widgets/base",
            "_view_module_version": "1.2.0",
            "_view_name": "LayoutView",
            "align_content": null,
            "align_items": null,
            "align_self": null,
            "border": null,
            "bottom": null,
            "display": null,
            "flex": null,
            "flex_flow": null,
            "grid_area": null,
            "grid_auto_columns": null,
            "grid_auto_flow": null,
            "grid_auto_rows": null,
            "grid_column": null,
            "grid_gap": null,
            "grid_row": null,
            "grid_template_areas": null,
            "grid_template_columns": null,
            "grid_template_rows": null,
            "height": null,
            "justify_content": null,
            "justify_items": null,
            "left": null,
            "margin": null,
            "max_height": null,
            "max_width": null,
            "min_height": null,
            "min_width": null,
            "object_fit": null,
            "object_position": null,
            "order": null,
            "overflow": null,
            "overflow_x": null,
            "overflow_y": null,
            "padding": null,
            "right": null,
            "top": null,
            "visibility": null,
            "width": null
          }
        },
        "c929a2cdb17f4f3193602e602e74e777": {
          "model_module": "@jupyter-widgets/base",
          "model_name": "LayoutModel",
          "model_module_version": "1.2.0",
          "state": {
            "_model_module": "@jupyter-widgets/base",
            "_model_module_version": "1.2.0",
            "_model_name": "LayoutModel",
            "_view_count": null,
            "_view_module": "@jupyter-widgets/base",
            "_view_module_version": "1.2.0",
            "_view_name": "LayoutView",
            "align_content": null,
            "align_items": null,
            "align_self": null,
            "border": null,
            "bottom": null,
            "display": null,
            "flex": null,
            "flex_flow": null,
            "grid_area": null,
            "grid_auto_columns": null,
            "grid_auto_flow": null,
            "grid_auto_rows": null,
            "grid_column": null,
            "grid_gap": null,
            "grid_row": null,
            "grid_template_areas": null,
            "grid_template_columns": null,
            "grid_template_rows": null,
            "height": null,
            "justify_content": null,
            "justify_items": null,
            "left": null,
            "margin": null,
            "max_height": null,
            "max_width": null,
            "min_height": null,
            "min_width": null,
            "object_fit": null,
            "object_position": null,
            "order": null,
            "overflow": null,
            "overflow_x": null,
            "overflow_y": null,
            "padding": null,
            "right": null,
            "top": null,
            "visibility": null,
            "width": null
          }
        },
        "2874dc597a024865bd2a064edd071995": {
          "model_module": "@jupyter-widgets/controls",
          "model_name": "DescriptionStyleModel",
          "model_module_version": "1.5.0",
          "state": {
            "_model_module": "@jupyter-widgets/controls",
            "_model_module_version": "1.5.0",
            "_model_name": "DescriptionStyleModel",
            "_view_count": null,
            "_view_module": "@jupyter-widgets/base",
            "_view_module_version": "1.2.0",
            "_view_name": "StyleView",
            "description_width": ""
          }
        },
        "0cfc4e1bfd654ae6bb3b98e15874c8a4": {
          "model_module": "@jupyter-widgets/base",
          "model_name": "LayoutModel",
          "model_module_version": "1.2.0",
          "state": {
            "_model_module": "@jupyter-widgets/base",
            "_model_module_version": "1.2.0",
            "_model_name": "LayoutModel",
            "_view_count": null,
            "_view_module": "@jupyter-widgets/base",
            "_view_module_version": "1.2.0",
            "_view_name": "LayoutView",
            "align_content": null,
            "align_items": null,
            "align_self": null,
            "border": null,
            "bottom": null,
            "display": null,
            "flex": null,
            "flex_flow": null,
            "grid_area": null,
            "grid_auto_columns": null,
            "grid_auto_flow": null,
            "grid_auto_rows": null,
            "grid_column": null,
            "grid_gap": null,
            "grid_row": null,
            "grid_template_areas": null,
            "grid_template_columns": null,
            "grid_template_rows": null,
            "height": null,
            "justify_content": null,
            "justify_items": null,
            "left": null,
            "margin": null,
            "max_height": null,
            "max_width": null,
            "min_height": null,
            "min_width": null,
            "object_fit": null,
            "object_position": null,
            "order": null,
            "overflow": null,
            "overflow_x": null,
            "overflow_y": null,
            "padding": null,
            "right": null,
            "top": null,
            "visibility": null,
            "width": null
          }
        },
        "22a2193b7b044a8bb052d8ebe0fba5bc": {
          "model_module": "@jupyter-widgets/controls",
          "model_name": "ProgressStyleModel",
          "model_module_version": "1.5.0",
          "state": {
            "_model_module": "@jupyter-widgets/controls",
            "_model_module_version": "1.5.0",
            "_model_name": "ProgressStyleModel",
            "_view_count": null,
            "_view_module": "@jupyter-widgets/base",
            "_view_module_version": "1.2.0",
            "_view_name": "StyleView",
            "bar_color": null,
            "description_width": ""
          }
        },
        "a0b3a9ad031b4ca3b61a84c6f4cb1e8c": {
          "model_module": "@jupyter-widgets/base",
          "model_name": "LayoutModel",
          "model_module_version": "1.2.0",
          "state": {
            "_model_module": "@jupyter-widgets/base",
            "_model_module_version": "1.2.0",
            "_model_name": "LayoutModel",
            "_view_count": null,
            "_view_module": "@jupyter-widgets/base",
            "_view_module_version": "1.2.0",
            "_view_name": "LayoutView",
            "align_content": null,
            "align_items": null,
            "align_self": null,
            "border": null,
            "bottom": null,
            "display": null,
            "flex": null,
            "flex_flow": null,
            "grid_area": null,
            "grid_auto_columns": null,
            "grid_auto_flow": null,
            "grid_auto_rows": null,
            "grid_column": null,
            "grid_gap": null,
            "grid_row": null,
            "grid_template_areas": null,
            "grid_template_columns": null,
            "grid_template_rows": null,
            "height": null,
            "justify_content": null,
            "justify_items": null,
            "left": null,
            "margin": null,
            "max_height": null,
            "max_width": null,
            "min_height": null,
            "min_width": null,
            "object_fit": null,
            "object_position": null,
            "order": null,
            "overflow": null,
            "overflow_x": null,
            "overflow_y": null,
            "padding": null,
            "right": null,
            "top": null,
            "visibility": null,
            "width": null
          }
        },
        "b4b781e3bdec47de9eb7c65a8b2ea56f": {
          "model_module": "@jupyter-widgets/controls",
          "model_name": "DescriptionStyleModel",
          "model_module_version": "1.5.0",
          "state": {
            "_model_module": "@jupyter-widgets/controls",
            "_model_module_version": "1.5.0",
            "_model_name": "DescriptionStyleModel",
            "_view_count": null,
            "_view_module": "@jupyter-widgets/base",
            "_view_module_version": "1.2.0",
            "_view_name": "StyleView",
            "description_width": ""
          }
        },
        "dbacb72ecca040cea3829f1db744ce4c": {
          "model_module": "@jupyter-widgets/controls",
          "model_name": "HBoxModel",
          "model_module_version": "1.5.0",
          "state": {
            "_dom_classes": [],
            "_model_module": "@jupyter-widgets/controls",
            "_model_module_version": "1.5.0",
            "_model_name": "HBoxModel",
            "_view_count": null,
            "_view_module": "@jupyter-widgets/controls",
            "_view_module_version": "1.5.0",
            "_view_name": "HBoxView",
            "box_style": "",
            "children": [
              "IPY_MODEL_b4a2d21d784b4becb4ff069a85eaf75a",
              "IPY_MODEL_b61503ff1e80407ab6ffeee7e390c5db",
              "IPY_MODEL_906c525fceb043479282478f59258d21"
            ],
            "layout": "IPY_MODEL_d927dd8b2a974abf949682d35285bbc6"
          }
        },
        "b4a2d21d784b4becb4ff069a85eaf75a": {
          "model_module": "@jupyter-widgets/controls",
          "model_name": "HTMLModel",
          "model_module_version": "1.5.0",
          "state": {
            "_dom_classes": [],
            "_model_module": "@jupyter-widgets/controls",
            "_model_module_version": "1.5.0",
            "_model_name": "HTMLModel",
            "_view_count": null,
            "_view_module": "@jupyter-widgets/controls",
            "_view_module_version": "1.5.0",
            "_view_name": "HTMLView",
            "description": "",
            "description_tooltip": null,
            "layout": "IPY_MODEL_ac53bec419bb4262aa59dbb2f7ce0979",
            "placeholder": "​",
            "style": "IPY_MODEL_09c8e5a3d116493ab08682f2cc5726af",
            "value": "Downloading (…)solve/main/vocab.txt: 100%"
          }
        },
        "b61503ff1e80407ab6ffeee7e390c5db": {
          "model_module": "@jupyter-widgets/controls",
          "model_name": "FloatProgressModel",
          "model_module_version": "1.5.0",
          "state": {
            "_dom_classes": [],
            "_model_module": "@jupyter-widgets/controls",
            "_model_module_version": "1.5.0",
            "_model_name": "FloatProgressModel",
            "_view_count": null,
            "_view_module": "@jupyter-widgets/controls",
            "_view_module_version": "1.5.0",
            "_view_name": "ProgressView",
            "bar_style": "success",
            "description": "",
            "description_tooltip": null,
            "layout": "IPY_MODEL_3688aa6af2e74a81987ffb8702e2427f",
            "max": 234118,
            "min": 0,
            "orientation": "horizontal",
            "style": "IPY_MODEL_84a46774224d4da0a41857cf32b3ad53",
            "value": 234118
          }
        },
        "906c525fceb043479282478f59258d21": {
          "model_module": "@jupyter-widgets/controls",
          "model_name": "HTMLModel",
          "model_module_version": "1.5.0",
          "state": {
            "_dom_classes": [],
            "_model_module": "@jupyter-widgets/controls",
            "_model_module_version": "1.5.0",
            "_model_name": "HTMLModel",
            "_view_count": null,
            "_view_module": "@jupyter-widgets/controls",
            "_view_module_version": "1.5.0",
            "_view_name": "HTMLView",
            "description": "",
            "description_tooltip": null,
            "layout": "IPY_MODEL_e3d10cfc65c34a9f9d236fbecd35c5e2",
            "placeholder": "​",
            "style": "IPY_MODEL_2017160c27a24862bca329840414c0d6",
            "value": " 234k/234k [00:00&lt;00:00, 3.24MB/s]"
          }
        },
        "d927dd8b2a974abf949682d35285bbc6": {
          "model_module": "@jupyter-widgets/base",
          "model_name": "LayoutModel",
          "model_module_version": "1.2.0",
          "state": {
            "_model_module": "@jupyter-widgets/base",
            "_model_module_version": "1.2.0",
            "_model_name": "LayoutModel",
            "_view_count": null,
            "_view_module": "@jupyter-widgets/base",
            "_view_module_version": "1.2.0",
            "_view_name": "LayoutView",
            "align_content": null,
            "align_items": null,
            "align_self": null,
            "border": null,
            "bottom": null,
            "display": null,
            "flex": null,
            "flex_flow": null,
            "grid_area": null,
            "grid_auto_columns": null,
            "grid_auto_flow": null,
            "grid_auto_rows": null,
            "grid_column": null,
            "grid_gap": null,
            "grid_row": null,
            "grid_template_areas": null,
            "grid_template_columns": null,
            "grid_template_rows": null,
            "height": null,
            "justify_content": null,
            "justify_items": null,
            "left": null,
            "margin": null,
            "max_height": null,
            "max_width": null,
            "min_height": null,
            "min_width": null,
            "object_fit": null,
            "object_position": null,
            "order": null,
            "overflow": null,
            "overflow_x": null,
            "overflow_y": null,
            "padding": null,
            "right": null,
            "top": null,
            "visibility": null,
            "width": null
          }
        },
        "ac53bec419bb4262aa59dbb2f7ce0979": {
          "model_module": "@jupyter-widgets/base",
          "model_name": "LayoutModel",
          "model_module_version": "1.2.0",
          "state": {
            "_model_module": "@jupyter-widgets/base",
            "_model_module_version": "1.2.0",
            "_model_name": "LayoutModel",
            "_view_count": null,
            "_view_module": "@jupyter-widgets/base",
            "_view_module_version": "1.2.0",
            "_view_name": "LayoutView",
            "align_content": null,
            "align_items": null,
            "align_self": null,
            "border": null,
            "bottom": null,
            "display": null,
            "flex": null,
            "flex_flow": null,
            "grid_area": null,
            "grid_auto_columns": null,
            "grid_auto_flow": null,
            "grid_auto_rows": null,
            "grid_column": null,
            "grid_gap": null,
            "grid_row": null,
            "grid_template_areas": null,
            "grid_template_columns": null,
            "grid_template_rows": null,
            "height": null,
            "justify_content": null,
            "justify_items": null,
            "left": null,
            "margin": null,
            "max_height": null,
            "max_width": null,
            "min_height": null,
            "min_width": null,
            "object_fit": null,
            "object_position": null,
            "order": null,
            "overflow": null,
            "overflow_x": null,
            "overflow_y": null,
            "padding": null,
            "right": null,
            "top": null,
            "visibility": null,
            "width": null
          }
        },
        "09c8e5a3d116493ab08682f2cc5726af": {
          "model_module": "@jupyter-widgets/controls",
          "model_name": "DescriptionStyleModel",
          "model_module_version": "1.5.0",
          "state": {
            "_model_module": "@jupyter-widgets/controls",
            "_model_module_version": "1.5.0",
            "_model_name": "DescriptionStyleModel",
            "_view_count": null,
            "_view_module": "@jupyter-widgets/base",
            "_view_module_version": "1.2.0",
            "_view_name": "StyleView",
            "description_width": ""
          }
        },
        "3688aa6af2e74a81987ffb8702e2427f": {
          "model_module": "@jupyter-widgets/base",
          "model_name": "LayoutModel",
          "model_module_version": "1.2.0",
          "state": {
            "_model_module": "@jupyter-widgets/base",
            "_model_module_version": "1.2.0",
            "_model_name": "LayoutModel",
            "_view_count": null,
            "_view_module": "@jupyter-widgets/base",
            "_view_module_version": "1.2.0",
            "_view_name": "LayoutView",
            "align_content": null,
            "align_items": null,
            "align_self": null,
            "border": null,
            "bottom": null,
            "display": null,
            "flex": null,
            "flex_flow": null,
            "grid_area": null,
            "grid_auto_columns": null,
            "grid_auto_flow": null,
            "grid_auto_rows": null,
            "grid_column": null,
            "grid_gap": null,
            "grid_row": null,
            "grid_template_areas": null,
            "grid_template_columns": null,
            "grid_template_rows": null,
            "height": null,
            "justify_content": null,
            "justify_items": null,
            "left": null,
            "margin": null,
            "max_height": null,
            "max_width": null,
            "min_height": null,
            "min_width": null,
            "object_fit": null,
            "object_position": null,
            "order": null,
            "overflow": null,
            "overflow_x": null,
            "overflow_y": null,
            "padding": null,
            "right": null,
            "top": null,
            "visibility": null,
            "width": null
          }
        },
        "84a46774224d4da0a41857cf32b3ad53": {
          "model_module": "@jupyter-widgets/controls",
          "model_name": "ProgressStyleModel",
          "model_module_version": "1.5.0",
          "state": {
            "_model_module": "@jupyter-widgets/controls",
            "_model_module_version": "1.5.0",
            "_model_name": "ProgressStyleModel",
            "_view_count": null,
            "_view_module": "@jupyter-widgets/base",
            "_view_module_version": "1.2.0",
            "_view_name": "StyleView",
            "bar_color": null,
            "description_width": ""
          }
        },
        "e3d10cfc65c34a9f9d236fbecd35c5e2": {
          "model_module": "@jupyter-widgets/base",
          "model_name": "LayoutModel",
          "model_module_version": "1.2.0",
          "state": {
            "_model_module": "@jupyter-widgets/base",
            "_model_module_version": "1.2.0",
            "_model_name": "LayoutModel",
            "_view_count": null,
            "_view_module": "@jupyter-widgets/base",
            "_view_module_version": "1.2.0",
            "_view_name": "LayoutView",
            "align_content": null,
            "align_items": null,
            "align_self": null,
            "border": null,
            "bottom": null,
            "display": null,
            "flex": null,
            "flex_flow": null,
            "grid_area": null,
            "grid_auto_columns": null,
            "grid_auto_flow": null,
            "grid_auto_rows": null,
            "grid_column": null,
            "grid_gap": null,
            "grid_row": null,
            "grid_template_areas": null,
            "grid_template_columns": null,
            "grid_template_rows": null,
            "height": null,
            "justify_content": null,
            "justify_items": null,
            "left": null,
            "margin": null,
            "max_height": null,
            "max_width": null,
            "min_height": null,
            "min_width": null,
            "object_fit": null,
            "object_position": null,
            "order": null,
            "overflow": null,
            "overflow_x": null,
            "overflow_y": null,
            "padding": null,
            "right": null,
            "top": null,
            "visibility": null,
            "width": null
          }
        },
        "2017160c27a24862bca329840414c0d6": {
          "model_module": "@jupyter-widgets/controls",
          "model_name": "DescriptionStyleModel",
          "model_module_version": "1.5.0",
          "state": {
            "_model_module": "@jupyter-widgets/controls",
            "_model_module_version": "1.5.0",
            "_model_name": "DescriptionStyleModel",
            "_view_count": null,
            "_view_module": "@jupyter-widgets/base",
            "_view_module_version": "1.2.0",
            "_view_name": "StyleView",
            "description_width": ""
          }
        },
        "df31c5172d75455ebeb1e2b690500e63": {
          "model_module": "@jupyter-widgets/controls",
          "model_name": "HBoxModel",
          "model_module_version": "1.5.0",
          "state": {
            "_dom_classes": [],
            "_model_module": "@jupyter-widgets/controls",
            "_model_module_version": "1.5.0",
            "_model_name": "HBoxModel",
            "_view_count": null,
            "_view_module": "@jupyter-widgets/controls",
            "_view_module_version": "1.5.0",
            "_view_name": "HBoxView",
            "box_style": "",
            "children": [
              "IPY_MODEL_b1f15f67feae4174a5bf1eeee983f9ce",
              "IPY_MODEL_a190f816f01c4e6fae14c0f7eb4fe91d",
              "IPY_MODEL_d8b588b9a655485bbf37d9f5fe910798"
            ],
            "layout": "IPY_MODEL_06c7e49c82d74fa79122922c8152d00e"
          }
        },
        "b1f15f67feae4174a5bf1eeee983f9ce": {
          "model_module": "@jupyter-widgets/controls",
          "model_name": "HTMLModel",
          "model_module_version": "1.5.0",
          "state": {
            "_dom_classes": [],
            "_model_module": "@jupyter-widgets/controls",
            "_model_module_version": "1.5.0",
            "_model_name": "HTMLModel",
            "_view_count": null,
            "_view_module": "@jupyter-widgets/controls",
            "_view_module_version": "1.5.0",
            "_view_name": "HTMLView",
            "description": "",
            "description_tooltip": null,
            "layout": "IPY_MODEL_4176e06fffc34c81959806cfca6e7bc0",
            "placeholder": "​",
            "style": "IPY_MODEL_5fba862f1f4748ffac3a25006b73806a",
            "value": "Downloading (…)in/added_tokens.json: 100%"
          }
        },
        "a190f816f01c4e6fae14c0f7eb4fe91d": {
          "model_module": "@jupyter-widgets/controls",
          "model_name": "FloatProgressModel",
          "model_module_version": "1.5.0",
          "state": {
            "_dom_classes": [],
            "_model_module": "@jupyter-widgets/controls",
            "_model_module_version": "1.5.0",
            "_model_name": "FloatProgressModel",
            "_view_count": null,
            "_view_module": "@jupyter-widgets/controls",
            "_view_module_version": "1.5.0",
            "_view_name": "ProgressView",
            "bar_style": "success",
            "description": "",
            "description_tooltip": null,
            "layout": "IPY_MODEL_a0a4849ee93344cfb646564137c03951",
            "max": 2,
            "min": 0,
            "orientation": "horizontal",
            "style": "IPY_MODEL_1fa69a5b3b1646a1bed1e2122dc11be2",
            "value": 2
          }
        },
        "d8b588b9a655485bbf37d9f5fe910798": {
          "model_module": "@jupyter-widgets/controls",
          "model_name": "HTMLModel",
          "model_module_version": "1.5.0",
          "state": {
            "_dom_classes": [],
            "_model_module": "@jupyter-widgets/controls",
            "_model_module_version": "1.5.0",
            "_model_name": "HTMLModel",
            "_view_count": null,
            "_view_module": "@jupyter-widgets/controls",
            "_view_module_version": "1.5.0",
            "_view_name": "HTMLView",
            "description": "",
            "description_tooltip": null,
            "layout": "IPY_MODEL_09ed18f6611642b6b3f6efabbf09a857",
            "placeholder": "​",
            "style": "IPY_MODEL_1df5662ff6c34423833960cb8e754f87",
            "value": " 2.00/2.00 [00:00&lt;00:00, 150B/s]"
          }
        },
        "06c7e49c82d74fa79122922c8152d00e": {
          "model_module": "@jupyter-widgets/base",
          "model_name": "LayoutModel",
          "model_module_version": "1.2.0",
          "state": {
            "_model_module": "@jupyter-widgets/base",
            "_model_module_version": "1.2.0",
            "_model_name": "LayoutModel",
            "_view_count": null,
            "_view_module": "@jupyter-widgets/base",
            "_view_module_version": "1.2.0",
            "_view_name": "LayoutView",
            "align_content": null,
            "align_items": null,
            "align_self": null,
            "border": null,
            "bottom": null,
            "display": null,
            "flex": null,
            "flex_flow": null,
            "grid_area": null,
            "grid_auto_columns": null,
            "grid_auto_flow": null,
            "grid_auto_rows": null,
            "grid_column": null,
            "grid_gap": null,
            "grid_row": null,
            "grid_template_areas": null,
            "grid_template_columns": null,
            "grid_template_rows": null,
            "height": null,
            "justify_content": null,
            "justify_items": null,
            "left": null,
            "margin": null,
            "max_height": null,
            "max_width": null,
            "min_height": null,
            "min_width": null,
            "object_fit": null,
            "object_position": null,
            "order": null,
            "overflow": null,
            "overflow_x": null,
            "overflow_y": null,
            "padding": null,
            "right": null,
            "top": null,
            "visibility": null,
            "width": null
          }
        },
        "4176e06fffc34c81959806cfca6e7bc0": {
          "model_module": "@jupyter-widgets/base",
          "model_name": "LayoutModel",
          "model_module_version": "1.2.0",
          "state": {
            "_model_module": "@jupyter-widgets/base",
            "_model_module_version": "1.2.0",
            "_model_name": "LayoutModel",
            "_view_count": null,
            "_view_module": "@jupyter-widgets/base",
            "_view_module_version": "1.2.0",
            "_view_name": "LayoutView",
            "align_content": null,
            "align_items": null,
            "align_self": null,
            "border": null,
            "bottom": null,
            "display": null,
            "flex": null,
            "flex_flow": null,
            "grid_area": null,
            "grid_auto_columns": null,
            "grid_auto_flow": null,
            "grid_auto_rows": null,
            "grid_column": null,
            "grid_gap": null,
            "grid_row": null,
            "grid_template_areas": null,
            "grid_template_columns": null,
            "grid_template_rows": null,
            "height": null,
            "justify_content": null,
            "justify_items": null,
            "left": null,
            "margin": null,
            "max_height": null,
            "max_width": null,
            "min_height": null,
            "min_width": null,
            "object_fit": null,
            "object_position": null,
            "order": null,
            "overflow": null,
            "overflow_x": null,
            "overflow_y": null,
            "padding": null,
            "right": null,
            "top": null,
            "visibility": null,
            "width": null
          }
        },
        "5fba862f1f4748ffac3a25006b73806a": {
          "model_module": "@jupyter-widgets/controls",
          "model_name": "DescriptionStyleModel",
          "model_module_version": "1.5.0",
          "state": {
            "_model_module": "@jupyter-widgets/controls",
            "_model_module_version": "1.5.0",
            "_model_name": "DescriptionStyleModel",
            "_view_count": null,
            "_view_module": "@jupyter-widgets/base",
            "_view_module_version": "1.2.0",
            "_view_name": "StyleView",
            "description_width": ""
          }
        },
        "a0a4849ee93344cfb646564137c03951": {
          "model_module": "@jupyter-widgets/base",
          "model_name": "LayoutModel",
          "model_module_version": "1.2.0",
          "state": {
            "_model_module": "@jupyter-widgets/base",
            "_model_module_version": "1.2.0",
            "_model_name": "LayoutModel",
            "_view_count": null,
            "_view_module": "@jupyter-widgets/base",
            "_view_module_version": "1.2.0",
            "_view_name": "LayoutView",
            "align_content": null,
            "align_items": null,
            "align_self": null,
            "border": null,
            "bottom": null,
            "display": null,
            "flex": null,
            "flex_flow": null,
            "grid_area": null,
            "grid_auto_columns": null,
            "grid_auto_flow": null,
            "grid_auto_rows": null,
            "grid_column": null,
            "grid_gap": null,
            "grid_row": null,
            "grid_template_areas": null,
            "grid_template_columns": null,
            "grid_template_rows": null,
            "height": null,
            "justify_content": null,
            "justify_items": null,
            "left": null,
            "margin": null,
            "max_height": null,
            "max_width": null,
            "min_height": null,
            "min_width": null,
            "object_fit": null,
            "object_position": null,
            "order": null,
            "overflow": null,
            "overflow_x": null,
            "overflow_y": null,
            "padding": null,
            "right": null,
            "top": null,
            "visibility": null,
            "width": null
          }
        },
        "1fa69a5b3b1646a1bed1e2122dc11be2": {
          "model_module": "@jupyter-widgets/controls",
          "model_name": "ProgressStyleModel",
          "model_module_version": "1.5.0",
          "state": {
            "_model_module": "@jupyter-widgets/controls",
            "_model_module_version": "1.5.0",
            "_model_name": "ProgressStyleModel",
            "_view_count": null,
            "_view_module": "@jupyter-widgets/base",
            "_view_module_version": "1.2.0",
            "_view_name": "StyleView",
            "bar_color": null,
            "description_width": ""
          }
        },
        "09ed18f6611642b6b3f6efabbf09a857": {
          "model_module": "@jupyter-widgets/base",
          "model_name": "LayoutModel",
          "model_module_version": "1.2.0",
          "state": {
            "_model_module": "@jupyter-widgets/base",
            "_model_module_version": "1.2.0",
            "_model_name": "LayoutModel",
            "_view_count": null,
            "_view_module": "@jupyter-widgets/base",
            "_view_module_version": "1.2.0",
            "_view_name": "LayoutView",
            "align_content": null,
            "align_items": null,
            "align_self": null,
            "border": null,
            "bottom": null,
            "display": null,
            "flex": null,
            "flex_flow": null,
            "grid_area": null,
            "grid_auto_columns": null,
            "grid_auto_flow": null,
            "grid_auto_rows": null,
            "grid_column": null,
            "grid_gap": null,
            "grid_row": null,
            "grid_template_areas": null,
            "grid_template_columns": null,
            "grid_template_rows": null,
            "height": null,
            "justify_content": null,
            "justify_items": null,
            "left": null,
            "margin": null,
            "max_height": null,
            "max_width": null,
            "min_height": null,
            "min_width": null,
            "object_fit": null,
            "object_position": null,
            "order": null,
            "overflow": null,
            "overflow_x": null,
            "overflow_y": null,
            "padding": null,
            "right": null,
            "top": null,
            "visibility": null,
            "width": null
          }
        },
        "1df5662ff6c34423833960cb8e754f87": {
          "model_module": "@jupyter-widgets/controls",
          "model_name": "DescriptionStyleModel",
          "model_module_version": "1.5.0",
          "state": {
            "_model_module": "@jupyter-widgets/controls",
            "_model_module_version": "1.5.0",
            "_model_name": "DescriptionStyleModel",
            "_view_count": null,
            "_view_module": "@jupyter-widgets/base",
            "_view_module_version": "1.2.0",
            "_view_name": "StyleView",
            "description_width": ""
          }
        },
        "7e30701e0c40465a9c62ecbd6f4d30a1": {
          "model_module": "@jupyter-widgets/controls",
          "model_name": "HBoxModel",
          "model_module_version": "1.5.0",
          "state": {
            "_dom_classes": [],
            "_model_module": "@jupyter-widgets/controls",
            "_model_module_version": "1.5.0",
            "_model_name": "HBoxModel",
            "_view_count": null,
            "_view_module": "@jupyter-widgets/controls",
            "_view_module_version": "1.5.0",
            "_view_name": "HBoxView",
            "box_style": "",
            "children": [
              "IPY_MODEL_e55b7928bbf3407c9865f4e591f8b192",
              "IPY_MODEL_069e30cf7147436da29f801611aae793",
              "IPY_MODEL_e53bb4543f6a46cc85e10fc4c2e33a0e"
            ],
            "layout": "IPY_MODEL_1821462800c5468caf310bd2668cae0f"
          }
        },
        "e55b7928bbf3407c9865f4e591f8b192": {
          "model_module": "@jupyter-widgets/controls",
          "model_name": "HTMLModel",
          "model_module_version": "1.5.0",
          "state": {
            "_dom_classes": [],
            "_model_module": "@jupyter-widgets/controls",
            "_model_module_version": "1.5.0",
            "_model_name": "HTMLModel",
            "_view_count": null,
            "_view_module": "@jupyter-widgets/controls",
            "_view_module_version": "1.5.0",
            "_view_name": "HTMLView",
            "description": "",
            "description_tooltip": null,
            "layout": "IPY_MODEL_a4eb193777c843c0a47e2bd20d31175e",
            "placeholder": "​",
            "style": "IPY_MODEL_d784a520596e40d9abfd998b2937e6ea",
            "value": "Downloading (…)cial_tokens_map.json: 100%"
          }
        },
        "069e30cf7147436da29f801611aae793": {
          "model_module": "@jupyter-widgets/controls",
          "model_name": "FloatProgressModel",
          "model_module_version": "1.5.0",
          "state": {
            "_dom_classes": [],
            "_model_module": "@jupyter-widgets/controls",
            "_model_module_version": "1.5.0",
            "_model_name": "FloatProgressModel",
            "_view_count": null,
            "_view_module": "@jupyter-widgets/controls",
            "_view_module_version": "1.5.0",
            "_view_name": "ProgressView",
            "bar_style": "success",
            "description": "",
            "description_tooltip": null,
            "layout": "IPY_MODEL_5120c376fce343e095b31f3258d38c37",
            "max": 112,
            "min": 0,
            "orientation": "horizontal",
            "style": "IPY_MODEL_0a3c6fd2c3aa4fb6bf37d3803dbc513d",
            "value": 112
          }
        },
        "e53bb4543f6a46cc85e10fc4c2e33a0e": {
          "model_module": "@jupyter-widgets/controls",
          "model_name": "HTMLModel",
          "model_module_version": "1.5.0",
          "state": {
            "_dom_classes": [],
            "_model_module": "@jupyter-widgets/controls",
            "_model_module_version": "1.5.0",
            "_model_name": "HTMLModel",
            "_view_count": null,
            "_view_module": "@jupyter-widgets/controls",
            "_view_module_version": "1.5.0",
            "_view_name": "HTMLView",
            "description": "",
            "description_tooltip": null,
            "layout": "IPY_MODEL_f349b53181da4cebaead823c148bc52d",
            "placeholder": "​",
            "style": "IPY_MODEL_9670f385e0a84e78893355dfed98e028",
            "value": " 112/112 [00:00&lt;00:00, 8.59kB/s]"
          }
        },
        "1821462800c5468caf310bd2668cae0f": {
          "model_module": "@jupyter-widgets/base",
          "model_name": "LayoutModel",
          "model_module_version": "1.2.0",
          "state": {
            "_model_module": "@jupyter-widgets/base",
            "_model_module_version": "1.2.0",
            "_model_name": "LayoutModel",
            "_view_count": null,
            "_view_module": "@jupyter-widgets/base",
            "_view_module_version": "1.2.0",
            "_view_name": "LayoutView",
            "align_content": null,
            "align_items": null,
            "align_self": null,
            "border": null,
            "bottom": null,
            "display": null,
            "flex": null,
            "flex_flow": null,
            "grid_area": null,
            "grid_auto_columns": null,
            "grid_auto_flow": null,
            "grid_auto_rows": null,
            "grid_column": null,
            "grid_gap": null,
            "grid_row": null,
            "grid_template_areas": null,
            "grid_template_columns": null,
            "grid_template_rows": null,
            "height": null,
            "justify_content": null,
            "justify_items": null,
            "left": null,
            "margin": null,
            "max_height": null,
            "max_width": null,
            "min_height": null,
            "min_width": null,
            "object_fit": null,
            "object_position": null,
            "order": null,
            "overflow": null,
            "overflow_x": null,
            "overflow_y": null,
            "padding": null,
            "right": null,
            "top": null,
            "visibility": null,
            "width": null
          }
        },
        "a4eb193777c843c0a47e2bd20d31175e": {
          "model_module": "@jupyter-widgets/base",
          "model_name": "LayoutModel",
          "model_module_version": "1.2.0",
          "state": {
            "_model_module": "@jupyter-widgets/base",
            "_model_module_version": "1.2.0",
            "_model_name": "LayoutModel",
            "_view_count": null,
            "_view_module": "@jupyter-widgets/base",
            "_view_module_version": "1.2.0",
            "_view_name": "LayoutView",
            "align_content": null,
            "align_items": null,
            "align_self": null,
            "border": null,
            "bottom": null,
            "display": null,
            "flex": null,
            "flex_flow": null,
            "grid_area": null,
            "grid_auto_columns": null,
            "grid_auto_flow": null,
            "grid_auto_rows": null,
            "grid_column": null,
            "grid_gap": null,
            "grid_row": null,
            "grid_template_areas": null,
            "grid_template_columns": null,
            "grid_template_rows": null,
            "height": null,
            "justify_content": null,
            "justify_items": null,
            "left": null,
            "margin": null,
            "max_height": null,
            "max_width": null,
            "min_height": null,
            "min_width": null,
            "object_fit": null,
            "object_position": null,
            "order": null,
            "overflow": null,
            "overflow_x": null,
            "overflow_y": null,
            "padding": null,
            "right": null,
            "top": null,
            "visibility": null,
            "width": null
          }
        },
        "d784a520596e40d9abfd998b2937e6ea": {
          "model_module": "@jupyter-widgets/controls",
          "model_name": "DescriptionStyleModel",
          "model_module_version": "1.5.0",
          "state": {
            "_model_module": "@jupyter-widgets/controls",
            "_model_module_version": "1.5.0",
            "_model_name": "DescriptionStyleModel",
            "_view_count": null,
            "_view_module": "@jupyter-widgets/base",
            "_view_module_version": "1.2.0",
            "_view_name": "StyleView",
            "description_width": ""
          }
        },
        "5120c376fce343e095b31f3258d38c37": {
          "model_module": "@jupyter-widgets/base",
          "model_name": "LayoutModel",
          "model_module_version": "1.2.0",
          "state": {
            "_model_module": "@jupyter-widgets/base",
            "_model_module_version": "1.2.0",
            "_model_name": "LayoutModel",
            "_view_count": null,
            "_view_module": "@jupyter-widgets/base",
            "_view_module_version": "1.2.0",
            "_view_name": "LayoutView",
            "align_content": null,
            "align_items": null,
            "align_self": null,
            "border": null,
            "bottom": null,
            "display": null,
            "flex": null,
            "flex_flow": null,
            "grid_area": null,
            "grid_auto_columns": null,
            "grid_auto_flow": null,
            "grid_auto_rows": null,
            "grid_column": null,
            "grid_gap": null,
            "grid_row": null,
            "grid_template_areas": null,
            "grid_template_columns": null,
            "grid_template_rows": null,
            "height": null,
            "justify_content": null,
            "justify_items": null,
            "left": null,
            "margin": null,
            "max_height": null,
            "max_width": null,
            "min_height": null,
            "min_width": null,
            "object_fit": null,
            "object_position": null,
            "order": null,
            "overflow": null,
            "overflow_x": null,
            "overflow_y": null,
            "padding": null,
            "right": null,
            "top": null,
            "visibility": null,
            "width": null
          }
        },
        "0a3c6fd2c3aa4fb6bf37d3803dbc513d": {
          "model_module": "@jupyter-widgets/controls",
          "model_name": "ProgressStyleModel",
          "model_module_version": "1.5.0",
          "state": {
            "_model_module": "@jupyter-widgets/controls",
            "_model_module_version": "1.5.0",
            "_model_name": "ProgressStyleModel",
            "_view_count": null,
            "_view_module": "@jupyter-widgets/base",
            "_view_module_version": "1.2.0",
            "_view_name": "StyleView",
            "bar_color": null,
            "description_width": ""
          }
        },
        "f349b53181da4cebaead823c148bc52d": {
          "model_module": "@jupyter-widgets/base",
          "model_name": "LayoutModel",
          "model_module_version": "1.2.0",
          "state": {
            "_model_module": "@jupyter-widgets/base",
            "_model_module_version": "1.2.0",
            "_model_name": "LayoutModel",
            "_view_count": null,
            "_view_module": "@jupyter-widgets/base",
            "_view_module_version": "1.2.0",
            "_view_name": "LayoutView",
            "align_content": null,
            "align_items": null,
            "align_self": null,
            "border": null,
            "bottom": null,
            "display": null,
            "flex": null,
            "flex_flow": null,
            "grid_area": null,
            "grid_auto_columns": null,
            "grid_auto_flow": null,
            "grid_auto_rows": null,
            "grid_column": null,
            "grid_gap": null,
            "grid_row": null,
            "grid_template_areas": null,
            "grid_template_columns": null,
            "grid_template_rows": null,
            "height": null,
            "justify_content": null,
            "justify_items": null,
            "left": null,
            "margin": null,
            "max_height": null,
            "max_width": null,
            "min_height": null,
            "min_width": null,
            "object_fit": null,
            "object_position": null,
            "order": null,
            "overflow": null,
            "overflow_x": null,
            "overflow_y": null,
            "padding": null,
            "right": null,
            "top": null,
            "visibility": null,
            "width": null
          }
        },
        "9670f385e0a84e78893355dfed98e028": {
          "model_module": "@jupyter-widgets/controls",
          "model_name": "DescriptionStyleModel",
          "model_module_version": "1.5.0",
          "state": {
            "_model_module": "@jupyter-widgets/controls",
            "_model_module_version": "1.5.0",
            "_model_name": "DescriptionStyleModel",
            "_view_count": null,
            "_view_module": "@jupyter-widgets/base",
            "_view_module_version": "1.2.0",
            "_view_name": "StyleView",
            "description_width": ""
          }
        },
        "b17a224637e8456ea4d108ba357a6857": {
          "model_module": "@jupyter-widgets/controls",
          "model_name": "HBoxModel",
          "model_module_version": "1.5.0",
          "state": {
            "_dom_classes": [],
            "_model_module": "@jupyter-widgets/controls",
            "_model_module_version": "1.5.0",
            "_model_name": "HBoxModel",
            "_view_count": null,
            "_view_module": "@jupyter-widgets/controls",
            "_view_module_version": "1.5.0",
            "_view_name": "HBoxView",
            "box_style": "",
            "children": [
              "IPY_MODEL_03f92845fde44c4b9a13cd39d5ac15c7",
              "IPY_MODEL_a633af699c534f5faa35a07e0a328111",
              "IPY_MODEL_962ba324ebf14f1883570a19d361b99a"
            ],
            "layout": "IPY_MODEL_0e232295dd2643ed8cc41c32ff045f2b"
          }
        },
        "03f92845fde44c4b9a13cd39d5ac15c7": {
          "model_module": "@jupyter-widgets/controls",
          "model_name": "HTMLModel",
          "model_module_version": "1.5.0",
          "state": {
            "_dom_classes": [],
            "_model_module": "@jupyter-widgets/controls",
            "_model_module_version": "1.5.0",
            "_model_name": "HTMLModel",
            "_view_count": null,
            "_view_module": "@jupyter-widgets/controls",
            "_view_module_version": "1.5.0",
            "_view_name": "HTMLView",
            "description": "",
            "description_tooltip": null,
            "layout": "IPY_MODEL_768074738ecb4e2a8ac9f7d483606aa0",
            "placeholder": "​",
            "style": "IPY_MODEL_639ad182dbd145448c0cc391d5a3af9e",
            "value": "Downloading pytorch_model.bin: 100%"
          }
        },
        "a633af699c534f5faa35a07e0a328111": {
          "model_module": "@jupyter-widgets/controls",
          "model_name": "FloatProgressModel",
          "model_module_version": "1.5.0",
          "state": {
            "_dom_classes": [],
            "_model_module": "@jupyter-widgets/controls",
            "_model_module_version": "1.5.0",
            "_model_name": "FloatProgressModel",
            "_view_count": null,
            "_view_module": "@jupyter-widgets/controls",
            "_view_module_version": "1.5.0",
            "_view_name": "ProgressView",
            "bar_style": "success",
            "description": "",
            "description_tooltip": null,
            "layout": "IPY_MODEL_9ec722970a4a4ba8a0025e5ef0174ad0",
            "max": 444780374,
            "min": 0,
            "orientation": "horizontal",
            "style": "IPY_MODEL_6c46dc5f7f4649a28966e99ebd37ed3f",
            "value": 444780374
          }
        },
        "962ba324ebf14f1883570a19d361b99a": {
          "model_module": "@jupyter-widgets/controls",
          "model_name": "HTMLModel",
          "model_module_version": "1.5.0",
          "state": {
            "_dom_classes": [],
            "_model_module": "@jupyter-widgets/controls",
            "_model_module_version": "1.5.0",
            "_model_name": "HTMLModel",
            "_view_count": null,
            "_view_module": "@jupyter-widgets/controls",
            "_view_module_version": "1.5.0",
            "_view_name": "HTMLView",
            "description": "",
            "description_tooltip": null,
            "layout": "IPY_MODEL_5bc84db2dd6e49b88996617148d19025",
            "placeholder": "​",
            "style": "IPY_MODEL_7d0b218fc9164d77ad6c947f8c638d6f",
            "value": " 445M/445M [00:05&lt;00:00, 47.5MB/s]"
          }
        },
        "0e232295dd2643ed8cc41c32ff045f2b": {
          "model_module": "@jupyter-widgets/base",
          "model_name": "LayoutModel",
          "model_module_version": "1.2.0",
          "state": {
            "_model_module": "@jupyter-widgets/base",
            "_model_module_version": "1.2.0",
            "_model_name": "LayoutModel",
            "_view_count": null,
            "_view_module": "@jupyter-widgets/base",
            "_view_module_version": "1.2.0",
            "_view_name": "LayoutView",
            "align_content": null,
            "align_items": null,
            "align_self": null,
            "border": null,
            "bottom": null,
            "display": null,
            "flex": null,
            "flex_flow": null,
            "grid_area": null,
            "grid_auto_columns": null,
            "grid_auto_flow": null,
            "grid_auto_rows": null,
            "grid_column": null,
            "grid_gap": null,
            "grid_row": null,
            "grid_template_areas": null,
            "grid_template_columns": null,
            "grid_template_rows": null,
            "height": null,
            "justify_content": null,
            "justify_items": null,
            "left": null,
            "margin": null,
            "max_height": null,
            "max_width": null,
            "min_height": null,
            "min_width": null,
            "object_fit": null,
            "object_position": null,
            "order": null,
            "overflow": null,
            "overflow_x": null,
            "overflow_y": null,
            "padding": null,
            "right": null,
            "top": null,
            "visibility": null,
            "width": null
          }
        },
        "768074738ecb4e2a8ac9f7d483606aa0": {
          "model_module": "@jupyter-widgets/base",
          "model_name": "LayoutModel",
          "model_module_version": "1.2.0",
          "state": {
            "_model_module": "@jupyter-widgets/base",
            "_model_module_version": "1.2.0",
            "_model_name": "LayoutModel",
            "_view_count": null,
            "_view_module": "@jupyter-widgets/base",
            "_view_module_version": "1.2.0",
            "_view_name": "LayoutView",
            "align_content": null,
            "align_items": null,
            "align_self": null,
            "border": null,
            "bottom": null,
            "display": null,
            "flex": null,
            "flex_flow": null,
            "grid_area": null,
            "grid_auto_columns": null,
            "grid_auto_flow": null,
            "grid_auto_rows": null,
            "grid_column": null,
            "grid_gap": null,
            "grid_row": null,
            "grid_template_areas": null,
            "grid_template_columns": null,
            "grid_template_rows": null,
            "height": null,
            "justify_content": null,
            "justify_items": null,
            "left": null,
            "margin": null,
            "max_height": null,
            "max_width": null,
            "min_height": null,
            "min_width": null,
            "object_fit": null,
            "object_position": null,
            "order": null,
            "overflow": null,
            "overflow_x": null,
            "overflow_y": null,
            "padding": null,
            "right": null,
            "top": null,
            "visibility": null,
            "width": null
          }
        },
        "639ad182dbd145448c0cc391d5a3af9e": {
          "model_module": "@jupyter-widgets/controls",
          "model_name": "DescriptionStyleModel",
          "model_module_version": "1.5.0",
          "state": {
            "_model_module": "@jupyter-widgets/controls",
            "_model_module_version": "1.5.0",
            "_model_name": "DescriptionStyleModel",
            "_view_count": null,
            "_view_module": "@jupyter-widgets/base",
            "_view_module_version": "1.2.0",
            "_view_name": "StyleView",
            "description_width": ""
          }
        },
        "9ec722970a4a4ba8a0025e5ef0174ad0": {
          "model_module": "@jupyter-widgets/base",
          "model_name": "LayoutModel",
          "model_module_version": "1.2.0",
          "state": {
            "_model_module": "@jupyter-widgets/base",
            "_model_module_version": "1.2.0",
            "_model_name": "LayoutModel",
            "_view_count": null,
            "_view_module": "@jupyter-widgets/base",
            "_view_module_version": "1.2.0",
            "_view_name": "LayoutView",
            "align_content": null,
            "align_items": null,
            "align_self": null,
            "border": null,
            "bottom": null,
            "display": null,
            "flex": null,
            "flex_flow": null,
            "grid_area": null,
            "grid_auto_columns": null,
            "grid_auto_flow": null,
            "grid_auto_rows": null,
            "grid_column": null,
            "grid_gap": null,
            "grid_row": null,
            "grid_template_areas": null,
            "grid_template_columns": null,
            "grid_template_rows": null,
            "height": null,
            "justify_content": null,
            "justify_items": null,
            "left": null,
            "margin": null,
            "max_height": null,
            "max_width": null,
            "min_height": null,
            "min_width": null,
            "object_fit": null,
            "object_position": null,
            "order": null,
            "overflow": null,
            "overflow_x": null,
            "overflow_y": null,
            "padding": null,
            "right": null,
            "top": null,
            "visibility": null,
            "width": null
          }
        },
        "6c46dc5f7f4649a28966e99ebd37ed3f": {
          "model_module": "@jupyter-widgets/controls",
          "model_name": "ProgressStyleModel",
          "model_module_version": "1.5.0",
          "state": {
            "_model_module": "@jupyter-widgets/controls",
            "_model_module_version": "1.5.0",
            "_model_name": "ProgressStyleModel",
            "_view_count": null,
            "_view_module": "@jupyter-widgets/base",
            "_view_module_version": "1.2.0",
            "_view_name": "StyleView",
            "bar_color": null,
            "description_width": ""
          }
        },
        "5bc84db2dd6e49b88996617148d19025": {
          "model_module": "@jupyter-widgets/base",
          "model_name": "LayoutModel",
          "model_module_version": "1.2.0",
          "state": {
            "_model_module": "@jupyter-widgets/base",
            "_model_module_version": "1.2.0",
            "_model_name": "LayoutModel",
            "_view_count": null,
            "_view_module": "@jupyter-widgets/base",
            "_view_module_version": "1.2.0",
            "_view_name": "LayoutView",
            "align_content": null,
            "align_items": null,
            "align_self": null,
            "border": null,
            "bottom": null,
            "display": null,
            "flex": null,
            "flex_flow": null,
            "grid_area": null,
            "grid_auto_columns": null,
            "grid_auto_flow": null,
            "grid_auto_rows": null,
            "grid_column": null,
            "grid_gap": null,
            "grid_row": null,
            "grid_template_areas": null,
            "grid_template_columns": null,
            "grid_template_rows": null,
            "height": null,
            "justify_content": null,
            "justify_items": null,
            "left": null,
            "margin": null,
            "max_height": null,
            "max_width": null,
            "min_height": null,
            "min_width": null,
            "object_fit": null,
            "object_position": null,
            "order": null,
            "overflow": null,
            "overflow_x": null,
            "overflow_y": null,
            "padding": null,
            "right": null,
            "top": null,
            "visibility": null,
            "width": null
          }
        },
        "7d0b218fc9164d77ad6c947f8c638d6f": {
          "model_module": "@jupyter-widgets/controls",
          "model_name": "DescriptionStyleModel",
          "model_module_version": "1.5.0",
          "state": {
            "_model_module": "@jupyter-widgets/controls",
            "_model_module_version": "1.5.0",
            "_model_name": "DescriptionStyleModel",
            "_view_count": null,
            "_view_module": "@jupyter-widgets/base",
            "_view_module_version": "1.2.0",
            "_view_name": "StyleView",
            "description_width": ""
          }
        }
      }
    }
  },
  "nbformat": 4,
  "nbformat_minor": 0
}