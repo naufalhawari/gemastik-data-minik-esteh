{
  "cells": [
    {
      "cell_type": "markdown",
      "metadata": {
        "id": "view-in-github",
        "colab_type": "text"
      },
      "source": [
        "<a href=\"https://colab.research.google.com/github/naufalhawari/gemastik-data-minik-esteh/blob/main/esteh_juara.ipynb\" target=\"_parent\"><img src=\"https://colab.research.google.com/assets/colab-badge.svg\" alt=\"Open In Colab\"/></a>"
      ]
    },
    {
      "cell_type": "markdown",
      "metadata": {
        "id": "IFe9eYWJEedj"
      },
      "source": [
        "# Set Up Environment dan Membuat Dataset"
      ]
    },
    {
      "cell_type": "markdown",
      "metadata": {
        "id": "gpSVyqCX1sCO"
      },
      "source": [
        "## Mengunduh Library yang Dibutuhkan"
      ]
    },
    {
      "cell_type": "code",
      "execution_count": 1,
      "metadata": {
        "colab": {
          "base_uri": "https://localhost:8080/"
        },
        "id": "jrRj6kvWXcJS",
        "outputId": "65f5426f-b099-48d3-c8dd-641ac20f7a79"
      },
      "outputs": [
        {
          "output_type": "stream",
          "name": "stdout",
          "text": [
            "Looking in indexes: https://pypi.org/simple, https://us-python.pkg.dev/colab-wheels/public/simple/\n",
            "Collecting transformers\n",
            "  Downloading transformers-4.30.2-py3-none-any.whl (7.2 MB)\n",
            "\u001b[2K     \u001b[90m━━━━━━━━━━━━━━━━━━━━━━━━━━━━━━━━━━━━━━━━\u001b[0m \u001b[32m7.2/7.2 MB\u001b[0m \u001b[31m89.8 MB/s\u001b[0m eta \u001b[36m0:00:00\u001b[0m\n",
            "\u001b[?25hRequirement already satisfied: filelock in /usr/local/lib/python3.10/dist-packages (from transformers) (3.12.0)\n",
            "Collecting huggingface-hub<1.0,>=0.14.1 (from transformers)\n",
            "  Downloading huggingface_hub-0.15.1-py3-none-any.whl (236 kB)\n",
            "\u001b[2K     \u001b[90m━━━━━━━━━━━━━━━━━━━━━━━━━━━━━━━━━━━━━━\u001b[0m \u001b[32m236.8/236.8 kB\u001b[0m \u001b[31m29.1 MB/s\u001b[0m eta \u001b[36m0:00:00\u001b[0m\n",
            "\u001b[?25hRequirement already satisfied: numpy>=1.17 in /usr/local/lib/python3.10/dist-packages (from transformers) (1.22.4)\n",
            "Requirement already satisfied: packaging>=20.0 in /usr/local/lib/python3.10/dist-packages (from transformers) (23.1)\n",
            "Requirement already satisfied: pyyaml>=5.1 in /usr/local/lib/python3.10/dist-packages (from transformers) (6.0)\n",
            "Requirement already satisfied: regex!=2019.12.17 in /usr/local/lib/python3.10/dist-packages (from transformers) (2022.10.31)\n",
            "Requirement already satisfied: requests in /usr/local/lib/python3.10/dist-packages (from transformers) (2.27.1)\n",
            "Collecting tokenizers!=0.11.3,<0.14,>=0.11.1 (from transformers)\n",
            "  Downloading tokenizers-0.13.3-cp310-cp310-manylinux_2_17_x86_64.manylinux2014_x86_64.whl (7.8 MB)\n",
            "\u001b[2K     \u001b[90m━━━━━━━━━━━━━━━━━━━━━━━━━━━━━━━━━━━━━━━━\u001b[0m \u001b[32m7.8/7.8 MB\u001b[0m \u001b[31m121.4 MB/s\u001b[0m eta \u001b[36m0:00:00\u001b[0m\n",
            "\u001b[?25hCollecting safetensors>=0.3.1 (from transformers)\n",
            "  Downloading safetensors-0.3.1-cp310-cp310-manylinux_2_17_x86_64.manylinux2014_x86_64.whl (1.3 MB)\n",
            "\u001b[2K     \u001b[90m━━━━━━━━━━━━━━━━━━━━━━━━━━━━━━━━━━━━━━━━\u001b[0m \u001b[32m1.3/1.3 MB\u001b[0m \u001b[31m81.4 MB/s\u001b[0m eta \u001b[36m0:00:00\u001b[0m\n",
            "\u001b[?25hRequirement already satisfied: tqdm>=4.27 in /usr/local/lib/python3.10/dist-packages (from transformers) (4.65.0)\n",
            "Requirement already satisfied: fsspec in /usr/local/lib/python3.10/dist-packages (from huggingface-hub<1.0,>=0.14.1->transformers) (2023.4.0)\n",
            "Requirement already satisfied: typing-extensions>=3.7.4.3 in /usr/local/lib/python3.10/dist-packages (from huggingface-hub<1.0,>=0.14.1->transformers) (4.5.0)\n",
            "Requirement already satisfied: urllib3<1.27,>=1.21.1 in /usr/local/lib/python3.10/dist-packages (from requests->transformers) (1.26.15)\n",
            "Requirement already satisfied: certifi>=2017.4.17 in /usr/local/lib/python3.10/dist-packages (from requests->transformers) (2022.12.7)\n",
            "Requirement already satisfied: charset-normalizer~=2.0.0 in /usr/local/lib/python3.10/dist-packages (from requests->transformers) (2.0.12)\n",
            "Requirement already satisfied: idna<4,>=2.5 in /usr/local/lib/python3.10/dist-packages (from requests->transformers) (3.4)\n",
            "Installing collected packages: tokenizers, safetensors, huggingface-hub, transformers\n",
            "Successfully installed huggingface-hub-0.15.1 safetensors-0.3.1 tokenizers-0.13.3 transformers-4.30.2\n"
          ]
        }
      ],
      "source": [
        "!pip install transformers"
      ]
    },
    {
      "cell_type": "code",
      "execution_count": 2,
      "metadata": {
        "colab": {
          "base_uri": "https://localhost:8080/"
        },
        "id": "OyXTjXg6svmX",
        "outputId": "25083cee-f838-46c4-ef98-468b92aec621"
      },
      "outputs": [
        {
          "output_type": "stream",
          "name": "stdout",
          "text": [
            "Looking in indexes: https://pypi.org/simple, https://us-python.pkg.dev/colab-wheels/public/simple/\n",
            "Collecting tensorflow_text\n",
            "  Downloading tensorflow_text-2.12.1-cp310-cp310-manylinux_2_17_x86_64.manylinux2014_x86_64.whl (6.0 MB)\n",
            "\u001b[2K     \u001b[90m━━━━━━━━━━━━━━━━━━━━━━━━━━━━━━━━━━━━━━━━\u001b[0m \u001b[32m6.0/6.0 MB\u001b[0m \u001b[31m59.8 MB/s\u001b[0m eta \u001b[36m0:00:00\u001b[0m\n",
            "\u001b[?25hRequirement already satisfied: tensorflow-hub>=0.8.0 in /usr/local/lib/python3.10/dist-packages (from tensorflow_text) (0.13.0)\n",
            "Requirement already satisfied: tensorflow<2.13,>=2.12.0 in /usr/local/lib/python3.10/dist-packages (from tensorflow_text) (2.12.0)\n",
            "Requirement already satisfied: absl-py>=1.0.0 in /usr/local/lib/python3.10/dist-packages (from tensorflow<2.13,>=2.12.0->tensorflow_text) (1.4.0)\n",
            "Requirement already satisfied: astunparse>=1.6.0 in /usr/local/lib/python3.10/dist-packages (from tensorflow<2.13,>=2.12.0->tensorflow_text) (1.6.3)\n",
            "Requirement already satisfied: flatbuffers>=2.0 in /usr/local/lib/python3.10/dist-packages (from tensorflow<2.13,>=2.12.0->tensorflow_text) (23.3.3)\n",
            "Requirement already satisfied: gast<=0.4.0,>=0.2.1 in /usr/local/lib/python3.10/dist-packages (from tensorflow<2.13,>=2.12.0->tensorflow_text) (0.4.0)\n",
            "Requirement already satisfied: google-pasta>=0.1.1 in /usr/local/lib/python3.10/dist-packages (from tensorflow<2.13,>=2.12.0->tensorflow_text) (0.2.0)\n",
            "Requirement already satisfied: grpcio<2.0,>=1.24.3 in /usr/local/lib/python3.10/dist-packages (from tensorflow<2.13,>=2.12.0->tensorflow_text) (1.54.0)\n",
            "Requirement already satisfied: h5py>=2.9.0 in /usr/local/lib/python3.10/dist-packages (from tensorflow<2.13,>=2.12.0->tensorflow_text) (3.8.0)\n",
            "Requirement already satisfied: jax>=0.3.15 in /usr/local/lib/python3.10/dist-packages (from tensorflow<2.13,>=2.12.0->tensorflow_text) (0.4.10)\n",
            "Requirement already satisfied: keras<2.13,>=2.12.0 in /usr/local/lib/python3.10/dist-packages (from tensorflow<2.13,>=2.12.0->tensorflow_text) (2.12.0)\n",
            "Requirement already satisfied: libclang>=13.0.0 in /usr/local/lib/python3.10/dist-packages (from tensorflow<2.13,>=2.12.0->tensorflow_text) (16.0.0)\n",
            "Requirement already satisfied: numpy<1.24,>=1.22 in /usr/local/lib/python3.10/dist-packages (from tensorflow<2.13,>=2.12.0->tensorflow_text) (1.22.4)\n",
            "Requirement already satisfied: opt-einsum>=2.3.2 in /usr/local/lib/python3.10/dist-packages (from tensorflow<2.13,>=2.12.0->tensorflow_text) (3.3.0)\n",
            "Requirement already satisfied: packaging in /usr/local/lib/python3.10/dist-packages (from tensorflow<2.13,>=2.12.0->tensorflow_text) (23.1)\n",
            "Requirement already satisfied: protobuf!=4.21.0,!=4.21.1,!=4.21.2,!=4.21.3,!=4.21.4,!=4.21.5,<5.0.0dev,>=3.20.3 in /usr/local/lib/python3.10/dist-packages (from tensorflow<2.13,>=2.12.0->tensorflow_text) (3.20.3)\n",
            "Requirement already satisfied: setuptools in /usr/local/lib/python3.10/dist-packages (from tensorflow<2.13,>=2.12.0->tensorflow_text) (67.7.2)\n",
            "Requirement already satisfied: six>=1.12.0 in /usr/local/lib/python3.10/dist-packages (from tensorflow<2.13,>=2.12.0->tensorflow_text) (1.16.0)\n",
            "Requirement already satisfied: tensorboard<2.13,>=2.12 in /usr/local/lib/python3.10/dist-packages (from tensorflow<2.13,>=2.12.0->tensorflow_text) (2.12.2)\n",
            "Requirement already satisfied: tensorflow-estimator<2.13,>=2.12.0 in /usr/local/lib/python3.10/dist-packages (from tensorflow<2.13,>=2.12.0->tensorflow_text) (2.12.0)\n",
            "Requirement already satisfied: termcolor>=1.1.0 in /usr/local/lib/python3.10/dist-packages (from tensorflow<2.13,>=2.12.0->tensorflow_text) (2.3.0)\n",
            "Requirement already satisfied: typing-extensions>=3.6.6 in /usr/local/lib/python3.10/dist-packages (from tensorflow<2.13,>=2.12.0->tensorflow_text) (4.5.0)\n",
            "Requirement already satisfied: wrapt<1.15,>=1.11.0 in /usr/local/lib/python3.10/dist-packages (from tensorflow<2.13,>=2.12.0->tensorflow_text) (1.14.1)\n",
            "Requirement already satisfied: tensorflow-io-gcs-filesystem>=0.23.1 in /usr/local/lib/python3.10/dist-packages (from tensorflow<2.13,>=2.12.0->tensorflow_text) (0.32.0)\n",
            "Requirement already satisfied: wheel<1.0,>=0.23.0 in /usr/local/lib/python3.10/dist-packages (from astunparse>=1.6.0->tensorflow<2.13,>=2.12.0->tensorflow_text) (0.40.0)\n",
            "Requirement already satisfied: ml-dtypes>=0.1.0 in /usr/local/lib/python3.10/dist-packages (from jax>=0.3.15->tensorflow<2.13,>=2.12.0->tensorflow_text) (0.1.0)\n",
            "Requirement already satisfied: scipy>=1.7 in /usr/local/lib/python3.10/dist-packages (from jax>=0.3.15->tensorflow<2.13,>=2.12.0->tensorflow_text) (1.10.1)\n",
            "Requirement already satisfied: google-auth<3,>=1.6.3 in /usr/local/lib/python3.10/dist-packages (from tensorboard<2.13,>=2.12->tensorflow<2.13,>=2.12.0->tensorflow_text) (2.17.3)\n",
            "Requirement already satisfied: google-auth-oauthlib<1.1,>=0.5 in /usr/local/lib/python3.10/dist-packages (from tensorboard<2.13,>=2.12->tensorflow<2.13,>=2.12.0->tensorflow_text) (1.0.0)\n",
            "Requirement already satisfied: markdown>=2.6.8 in /usr/local/lib/python3.10/dist-packages (from tensorboard<2.13,>=2.12->tensorflow<2.13,>=2.12.0->tensorflow_text) (3.4.3)\n",
            "Requirement already satisfied: requests<3,>=2.21.0 in /usr/local/lib/python3.10/dist-packages (from tensorboard<2.13,>=2.12->tensorflow<2.13,>=2.12.0->tensorflow_text) (2.27.1)\n",
            "Requirement already satisfied: tensorboard-data-server<0.8.0,>=0.7.0 in /usr/local/lib/python3.10/dist-packages (from tensorboard<2.13,>=2.12->tensorflow<2.13,>=2.12.0->tensorflow_text) (0.7.0)\n",
            "Requirement already satisfied: tensorboard-plugin-wit>=1.6.0 in /usr/local/lib/python3.10/dist-packages (from tensorboard<2.13,>=2.12->tensorflow<2.13,>=2.12.0->tensorflow_text) (1.8.1)\n",
            "Requirement already satisfied: werkzeug>=1.0.1 in /usr/local/lib/python3.10/dist-packages (from tensorboard<2.13,>=2.12->tensorflow<2.13,>=2.12.0->tensorflow_text) (2.3.0)\n",
            "Requirement already satisfied: cachetools<6.0,>=2.0.0 in /usr/local/lib/python3.10/dist-packages (from google-auth<3,>=1.6.3->tensorboard<2.13,>=2.12->tensorflow<2.13,>=2.12.0->tensorflow_text) (5.3.0)\n",
            "Requirement already satisfied: pyasn1-modules>=0.2.1 in /usr/local/lib/python3.10/dist-packages (from google-auth<3,>=1.6.3->tensorboard<2.13,>=2.12->tensorflow<2.13,>=2.12.0->tensorflow_text) (0.3.0)\n",
            "Requirement already satisfied: rsa<5,>=3.1.4 in /usr/local/lib/python3.10/dist-packages (from google-auth<3,>=1.6.3->tensorboard<2.13,>=2.12->tensorflow<2.13,>=2.12.0->tensorflow_text) (4.9)\n",
            "Requirement already satisfied: requests-oauthlib>=0.7.0 in /usr/local/lib/python3.10/dist-packages (from google-auth-oauthlib<1.1,>=0.5->tensorboard<2.13,>=2.12->tensorflow<2.13,>=2.12.0->tensorflow_text) (1.3.1)\n",
            "Requirement already satisfied: urllib3<1.27,>=1.21.1 in /usr/local/lib/python3.10/dist-packages (from requests<3,>=2.21.0->tensorboard<2.13,>=2.12->tensorflow<2.13,>=2.12.0->tensorflow_text) (1.26.15)\n",
            "Requirement already satisfied: certifi>=2017.4.17 in /usr/local/lib/python3.10/dist-packages (from requests<3,>=2.21.0->tensorboard<2.13,>=2.12->tensorflow<2.13,>=2.12.0->tensorflow_text) (2022.12.7)\n",
            "Requirement already satisfied: charset-normalizer~=2.0.0 in /usr/local/lib/python3.10/dist-packages (from requests<3,>=2.21.0->tensorboard<2.13,>=2.12->tensorflow<2.13,>=2.12.0->tensorflow_text) (2.0.12)\n",
            "Requirement already satisfied: idna<4,>=2.5 in /usr/local/lib/python3.10/dist-packages (from requests<3,>=2.21.0->tensorboard<2.13,>=2.12->tensorflow<2.13,>=2.12.0->tensorflow_text) (3.4)\n",
            "Requirement already satisfied: MarkupSafe>=2.1.1 in /usr/local/lib/python3.10/dist-packages (from werkzeug>=1.0.1->tensorboard<2.13,>=2.12->tensorflow<2.13,>=2.12.0->tensorflow_text) (2.1.2)\n",
            "Requirement already satisfied: pyasn1<0.6.0,>=0.4.6 in /usr/local/lib/python3.10/dist-packages (from pyasn1-modules>=0.2.1->google-auth<3,>=1.6.3->tensorboard<2.13,>=2.12->tensorflow<2.13,>=2.12.0->tensorflow_text) (0.5.0)\n",
            "Requirement already satisfied: oauthlib>=3.0.0 in /usr/local/lib/python3.10/dist-packages (from requests-oauthlib>=0.7.0->google-auth-oauthlib<1.1,>=0.5->tensorboard<2.13,>=2.12->tensorflow<2.13,>=2.12.0->tensorflow_text) (3.2.2)\n",
            "Installing collected packages: tensorflow_text\n",
            "Successfully installed tensorflow_text-2.12.1\n"
          ]
        }
      ],
      "source": [
        "!pip install tensorflow_text"
      ]
    },
    {
      "cell_type": "code",
      "execution_count": 3,
      "metadata": {
        "colab": {
          "base_uri": "https://localhost:8080/"
        },
        "id": "itI8vQSCD_Az",
        "outputId": "0a34baa4-eaa9-4bfb-d1b9-4d3ffc16d777"
      },
      "outputs": [
        {
          "output_type": "stream",
          "name": "stdout",
          "text": [
            "Looking in indexes: https://pypi.org/simple, https://us-python.pkg.dev/colab-wheels/public/simple/\n",
            "Collecting sastrawi\n",
            "  Downloading Sastrawi-1.0.1-py2.py3-none-any.whl (209 kB)\n",
            "\u001b[2K     \u001b[90m━━━━━━━━━━━━━━━━━━━━━━━━━━━━━━━━━━━━━━━\u001b[0m \u001b[32m209.7/209.7 kB\u001b[0m \u001b[31m7.6 MB/s\u001b[0m eta \u001b[36m0:00:00\u001b[0m\n",
            "\u001b[?25hInstalling collected packages: sastrawi\n",
            "Successfully installed sastrawi-1.0.1\n"
          ]
        }
      ],
      "source": [
        "!pip install sastrawi"
      ]
    },
    {
      "cell_type": "markdown",
      "metadata": {
        "id": "vzO3rNoS1y9U"
      },
      "source": [
        "## Import Libraries"
      ]
    },
    {
      "cell_type": "code",
      "execution_count": 4,
      "metadata": {
        "id": "OXo6kWIR3zDQ"
      },
      "outputs": [],
      "source": [
        "import pandas as pd\n",
        "import numpy as np\n",
        "\n",
        "import tensorflow as tf\n",
        "import tensorflow_hub as hub\n",
        "import tensorflow_text as text\n",
        "\n",
        "import seaborn as sns\n",
        "import matplotlib.pyplot as plt\n",
        "\n",
        "pd.set_option(\"display.max.columns\", 50)"
      ]
    },
    {
      "cell_type": "markdown",
      "metadata": {
        "id": "LkeZdf-f11na"
      },
      "source": [
        "## Mendapatkan Dan Praproses Dataset"
      ]
    },
    {
      "cell_type": "code",
      "execution_count": 5,
      "metadata": {
        "id": "NZf-LJal6SyX"
      },
      "outputs": [],
      "source": [
        "# File path yang berisi dataset yang telah dilakukan labeling dalam format file .csv\n",
        "file_path = \"https://raw.githubusercontent.com/naufalhawari/gemastik-data-minik-esteh/main/esteh-df.csv\"\n"
      ]
    },
    {
      "cell_type": "code",
      "execution_count": 6,
      "metadata": {
        "id": "E6AJF9vB5Lzr"
      },
      "outputs": [],
      "source": [
        "# Import kelas StemmerFactory untuk melakukan ekstraksi kata dasar (stemming) pada teks\n",
        "from Sastrawi.Stemmer.StemmerFactory import StemmerFactory\n",
        "from Sastrawi.StopWordRemover.StopWordRemoverFactory import StopWordRemoverFactory\n",
        "\n",
        "\n",
        "peta_perbaikan = {\n",
        "    \" ga \": \" tidak \",\n",
        "    \" engga \": \" tidak \",\n",
        "    \" ngga \": \" tidak \",\n",
        "    \" nggak \": \" tidak \",\n",
        "    \" gak \": \" tidak \",\n",
        "    \"ngak\": \" tidak \",\n",
        "    \" tdk \": \" tidak \",\n",
        "    \" g \": \" tidak \",\n",
        "    \"pdhl\": \" padahal \",\n",
        "    \"adlh\": \" adalah \",\n",
        "    \"cuman\": \" hanya \",\n",
        "    \" cuma \": \" hanya \",\n",
        "    \" tapi \": \" tetapi \",\n",
        "    \" tp \": \" tetapi \",\n",
        "    \"bngt\": \" banget \",\n",
        "    \"hny\": \" hanya \",\n",
        "    \"spt\": \" seperti \",\n",
        "    \"sprt\": \" seperti \",\n",
        "    \"apk\": \" aplikasi \",\n",
        "    \"jgn\": \" jangan \",\n",
        "    \" jg \": \" juga \",\n",
        "    \"trs\": \" terus \",\n",
        "    \"utk\": \" untuk \",\n",
        "    \" sampe \": \" sampai \",\n",
        "    \" ampe \": \" sampai \",\n",
        "    \" d \": \" \",\n",
        "    \" n \": \" \",\n",
        "    \" bs \": \" bisa \",\n",
        "    \" k \": \" \",\n",
        "    \" e \": \" \",\n",
        "    \"tlg\": \" tolong \",\n",
        "    \" sm \": \" sama \",\n",
        "    \"matursuwun\": \" terima kasih \",\n",
        "    \"msh\": \" masih \",\n",
        "    \" jd \": \" jadi \",\n",
        "    \" dlu \": \" \",\n",
        "    \"dahulu\": \" \",\n",
        "    \" yg \": \" \",\n",
        "    \"apk\": \" aplikasi \",\n",
        "    \"apps\": \" aplikasi \",\n",
        "    \" app \": \" aplikasi \",\n",
        "    \" tuk \": \" \",\n",
        "    \"untk\": \" \",\n",
        "    \"utk\": \" \",\n",
        "    \"org\": \" orang \",\n",
        "    \"cpt\": \" cepat \",\n",
        "    \"cepet\": \" cepat \",\n",
        "    \"sempet\": \" sempat \",\n",
        "    \"mksd\": \" maksud \",\n",
        "    \"maksd\": \" maksud \",\n",
        "    \"mksud\": \" maksud \",\n",
        "    \"mantaf\": \" mantap \",\n",
        "    \" udah \": \" \",\n",
        "    \"sudah\": \" \",\n",
        "    \" suda \": \" \",\n",
        "    \" dah \": \" \",\n",
        "    \" dh \": \" \",\n",
        "    \" da \": \" \",\n",
        "    \" ud \": \" \",\n",
        "    \" sudh \": \"\",\n",
        "    \"trims\": \" terima kasih \",\n",
        "    \"makasih\": \" terima kasih \",\n",
        "    \"ngaco\": \" kacau \",\n",
        "    \" dr \": \"\",\n",
        "    \"resiko\": \" risiko \",\n",
        "    \"klw\": \"kalau\",\n",
        "    \"kalo\": \"kalau\",\n",
        "    \" klo \": \"kalau\",\n",
        "    \",\": \" , \",\n",
        "    \"-\": \" - \",\n",
        "    \".\": \" . \",\n",
        "    \"/\": \" / \",\n",
        "    \"error\": \" eror \",\n",
        "    \" erro \": \" eror \",\n",
        "    \"knp\": \" kenapa \",\n",
        "    \"knapa\": \" kenapa \",\n",
        "    \" gmn \": \" bagaimana \",\n",
        "    \"bgmn\": \" bagaimana \",\n",
        "    \" ko \": \" kok \",\n",
        "    \"koq\": \" kok \",\n",
        "    \"sgt\": \" \",\n",
        "    \"sangat\": \"\",\n",
        "    \"blm\": \" belum \",\n",
        "    \"belom\": \" belum \",\n",
        "    \"sbg\": \" \",\n",
        "    \"sebagai\": \"\",\n",
        "    \"jgn\": \" jangan \",\n",
        "    \"bwt\": \" \",\n",
        "    \"buat\": \" \",\n",
        "    \"skli\": \" sekali \",\n",
        "    \"tetep\": \" tetap \",\n",
        "    \"bth\": \" butuh \",\n",
        "    \" gada \": \" tidak ada \",\n",
        "    \"dgn\": \" \",\n",
        "    \"rspn\": \" respon \",\n",
        "    \" ati \": \" hati \",\n",
        "    \"pls\": \" tolong \",\n",
        "    \"please\": \" tolong \",\n",
        "    \"plis\": \" tolong \",\n",
        "    \"sring\": \" sering \",\n",
        "    \"kluar\": \" keluar \",\n",
        "    \" adm \": \" admin \",\n",
        "    \"tsb\": \" \",\n",
        "    \"tersebut\": \" \",\n",
        "    \" mau \": \" \",\n",
        "    \" nya \": \" \",\n",
        "    \" terus \": \" \",\n",
        "    \" trus \": \" \",\n",
        "    \" sama \": \" \",\n",
        "    \" apa \": \" \",\n",
        "    \" sangat \": \" \",\n",
        "    \" banget \": \" \",\n",
        "    \" jarang \": \" \",\n",
        "    \" sering \": \" \",\n",
        "    \" min \": \" \",\n",
        "    \" gimana \": \" \",\n",
        "    \" mana \": \" \",\n",
        "    \" di \": \" \",\n",
        "    \" sdh \": \" \",\n",
        "    \" gk \": \" \",\n",
        "    \" atas \": \" \",\n",
        "    \" aja \": \" \",\n",
        "    \" saja \": \" \",\n",
        "    \" udh \": \" \",\n",
        "    \" bgt \": \" \",\n",
        "    \" lg \": \" \",\n",
        "    \" lagi \": \" \",\n",
        "    \" lalu \": \" \",\n",
        "    \" sy \": \" \",\n",
        "    \" saya \": \" \",\n",
        "    \" aplikasi \": \" \",\n",
        "}\n",
        "\n",
        "# Standarisasi Penulisan Kata dan Penghapusan Kata-Kata yang Sering Ditemukan di Semua Label Klasifikasi\n",
        "def correcting_and_remove_unused_words(teks: pd.Series):\n",
        "  for key, value in peta_perbaikan.items():\n",
        "    teks = teks.str.replace(key, value)\n",
        "  return teks\n",
        "\n",
        "\n",
        "# Mendefinisikan fungsi untuk ekstraksi kata dasar (stemming) pada teks\n",
        "def remove_stop_word_and_stemming(teks):\n",
        "  stemmerFactory = StemmerFactory().create_stemmer()\n",
        "  stopWordRemoverFactory = StopWordRemoverFactory().create_stop_word_remover()\n",
        "\n",
        "  hasil = stemmerFactory.stem(teks)\n",
        "  hasil = stopWordRemoverFactory.remove(teks)\n",
        "\n",
        "  return hasil\n",
        "\n",
        "\n",
        "# Mendefinisikan fungsi untuk pembuatan dan pengolahan dataset\n",
        "def create_dataset(file_path, sheet_names = None) :\n",
        "\n",
        "  # Membaca file .csv dari URL\n",
        "  dataset = pd.read_csv(file_path)\n",
        "\n",
        "  dataset = dataset.copy().dropna() # Membuang data yang memiliki nilai kosong pada minimal satu kolom\n",
        "\n",
        "  # Kritik bernilai satu jika teks ulasan berupa keluhan atau saran\n",
        "  # dataset[\"kritik\"] = dataset[[\"keluhan\", \"saran\"]].max(axis = 1)\n",
        "\n",
        "  # Membuang kolom saran dan keluhan\n",
        "  # dataset = dataset.drop([\"saran\", \"keluhan\"], axis = 1)\n",
        "\n",
        "  dataset[\"ulasan\"] = dataset[\"ulasan\"].str.lower() # Semua karakter pada teks ulasan diubah menjadi huruf kecil\n",
        "  dataset[\"ulasan\"] = \" \" + dataset[\"ulasan\"] + \" \"\n",
        "  dataset[\"ulasan\"] = correcting_and_remove_unused_words(dataset[\"ulasan\"]) # Menghapus Kesalahan Penulisan\n",
        "  dataset[\"ulasan\"] = dataset[\"ulasan\"].apply(lambda x: remove_stop_word_and_stemming(x)) # Melakukan ekstraksi kata dasar (stemming) pada dataset teks ulasan\n",
        "\n",
        "  dataset = dataset.loc[~dataset.duplicated()].copy() # Menghapus data duplikasi\n",
        "\n",
        "  return dataset"
      ]
    },
    {
      "cell_type": "code",
      "execution_count": 7,
      "metadata": {
        "id": "GXE7OgI986Op"
      },
      "outputs": [],
      "source": [
        "# Inisiasi dataset baru\n",
        "# df = create_dataset(file_path)\n",
        "\n",
        "# Impor dataset yang sudah terlebih dahulu diproses\n",
        "df = pd.read_csv(file_path)\n",
        "\n",
        "# Impor dataset yang sudah terpisah sebelumnya menjadi himpunan data latih dan data uji (pemisahan data dapat dilihat di bagian pemisahan data)\n",
        "train = pd.read_csv(\"https://raw.githubusercontent.com/naufalhawari/gemastik-data-minik-esteh/main/esteh-train.csv\")\n",
        "test = pd.read_csv(\"https://raw.githubusercontent.com/naufalhawari/gemastik-data-minik-esteh/main/esteh-test.csv\")"
      ]
    },
    {
      "cell_type": "code",
      "execution_count": 8,
      "metadata": {
        "colab": {
          "base_uri": "https://localhost:8080/",
          "height": 0
        },
        "id": "ttAbi08UDiH_",
        "outputId": "c55c312f-ac4e-438c-e5f4-5ade76887a56"
      },
      "outputs": [
        {
          "output_type": "execute_result",
          "data": {
            "text/plain": [
              "                                              ulasan  apresiasi  kritik\n",
              "0    bagus   lapor kritik soal jak wifi ribet aks...          1       1\n",
              "1    menu jaki vaksin sih minggu gabiza akses men...          0       1\n",
              "2    hello jaki lapor jakarta aman  eror  bantu j...          0       1\n",
              "3    enak pake jakikalaumau lapor tinggal foto la...          1       0\n",
              "4    pernah daftar dadak kalau tebet ecopark misa...          0       1"
            ],
            "text/html": [
              "\n",
              "  <div id=\"df-cc15e8be-675b-4077-9952-6eceae4fd146\">\n",
              "    <div class=\"colab-df-container\">\n",
              "      <div>\n",
              "<style scoped>\n",
              "    .dataframe tbody tr th:only-of-type {\n",
              "        vertical-align: middle;\n",
              "    }\n",
              "\n",
              "    .dataframe tbody tr th {\n",
              "        vertical-align: top;\n",
              "    }\n",
              "\n",
              "    .dataframe thead th {\n",
              "        text-align: right;\n",
              "    }\n",
              "</style>\n",
              "<table border=\"1\" class=\"dataframe\">\n",
              "  <thead>\n",
              "    <tr style=\"text-align: right;\">\n",
              "      <th></th>\n",
              "      <th>ulasan</th>\n",
              "      <th>apresiasi</th>\n",
              "      <th>kritik</th>\n",
              "    </tr>\n",
              "  </thead>\n",
              "  <tbody>\n",
              "    <tr>\n",
              "      <th>0</th>\n",
              "      <td>bagus   lapor kritik soal jak wifi ribet aks...</td>\n",
              "      <td>1</td>\n",
              "      <td>1</td>\n",
              "    </tr>\n",
              "    <tr>\n",
              "      <th>1</th>\n",
              "      <td>menu jaki vaksin sih minggu gabiza akses men...</td>\n",
              "      <td>0</td>\n",
              "      <td>1</td>\n",
              "    </tr>\n",
              "    <tr>\n",
              "      <th>2</th>\n",
              "      <td>hello jaki lapor jakarta aman  eror  bantu j...</td>\n",
              "      <td>0</td>\n",
              "      <td>1</td>\n",
              "    </tr>\n",
              "    <tr>\n",
              "      <th>3</th>\n",
              "      <td>enak pake jakikalaumau lapor tinggal foto la...</td>\n",
              "      <td>1</td>\n",
              "      <td>0</td>\n",
              "    </tr>\n",
              "    <tr>\n",
              "      <th>4</th>\n",
              "      <td>pernah daftar dadak kalau tebet ecopark misa...</td>\n",
              "      <td>0</td>\n",
              "      <td>1</td>\n",
              "    </tr>\n",
              "  </tbody>\n",
              "</table>\n",
              "</div>\n",
              "      <button class=\"colab-df-convert\" onclick=\"convertToInteractive('df-cc15e8be-675b-4077-9952-6eceae4fd146')\"\n",
              "              title=\"Convert this dataframe to an interactive table.\"\n",
              "              style=\"display:none;\">\n",
              "        \n",
              "  <svg xmlns=\"http://www.w3.org/2000/svg\" height=\"24px\"viewBox=\"0 0 24 24\"\n",
              "       width=\"24px\">\n",
              "    <path d=\"M0 0h24v24H0V0z\" fill=\"none\"/>\n",
              "    <path d=\"M18.56 5.44l.94 2.06.94-2.06 2.06-.94-2.06-.94-.94-2.06-.94 2.06-2.06.94zm-11 1L8.5 8.5l.94-2.06 2.06-.94-2.06-.94L8.5 2.5l-.94 2.06-2.06.94zm10 10l.94 2.06.94-2.06 2.06-.94-2.06-.94-.94-2.06-.94 2.06-2.06.94z\"/><path d=\"M17.41 7.96l-1.37-1.37c-.4-.4-.92-.59-1.43-.59-.52 0-1.04.2-1.43.59L10.3 9.45l-7.72 7.72c-.78.78-.78 2.05 0 2.83L4 21.41c.39.39.9.59 1.41.59.51 0 1.02-.2 1.41-.59l7.78-7.78 2.81-2.81c.8-.78.8-2.07 0-2.86zM5.41 20L4 18.59l7.72-7.72 1.47 1.35L5.41 20z\"/>\n",
              "  </svg>\n",
              "      </button>\n",
              "      \n",
              "  <style>\n",
              "    .colab-df-container {\n",
              "      display:flex;\n",
              "      flex-wrap:wrap;\n",
              "      gap: 12px;\n",
              "    }\n",
              "\n",
              "    .colab-df-convert {\n",
              "      background-color: #E8F0FE;\n",
              "      border: none;\n",
              "      border-radius: 50%;\n",
              "      cursor: pointer;\n",
              "      display: none;\n",
              "      fill: #1967D2;\n",
              "      height: 32px;\n",
              "      padding: 0 0 0 0;\n",
              "      width: 32px;\n",
              "    }\n",
              "\n",
              "    .colab-df-convert:hover {\n",
              "      background-color: #E2EBFA;\n",
              "      box-shadow: 0px 1px 2px rgba(60, 64, 67, 0.3), 0px 1px 3px 1px rgba(60, 64, 67, 0.15);\n",
              "      fill: #174EA6;\n",
              "    }\n",
              "\n",
              "    [theme=dark] .colab-df-convert {\n",
              "      background-color: #3B4455;\n",
              "      fill: #D2E3FC;\n",
              "    }\n",
              "\n",
              "    [theme=dark] .colab-df-convert:hover {\n",
              "      background-color: #434B5C;\n",
              "      box-shadow: 0px 1px 3px 1px rgba(0, 0, 0, 0.15);\n",
              "      filter: drop-shadow(0px 1px 2px rgba(0, 0, 0, 0.3));\n",
              "      fill: #FFFFFF;\n",
              "    }\n",
              "  </style>\n",
              "\n",
              "      <script>\n",
              "        const buttonEl =\n",
              "          document.querySelector('#df-cc15e8be-675b-4077-9952-6eceae4fd146 button.colab-df-convert');\n",
              "        buttonEl.style.display =\n",
              "          google.colab.kernel.accessAllowed ? 'block' : 'none';\n",
              "\n",
              "        async function convertToInteractive(key) {\n",
              "          const element = document.querySelector('#df-cc15e8be-675b-4077-9952-6eceae4fd146');\n",
              "          const dataTable =\n",
              "            await google.colab.kernel.invokeFunction('convertToInteractive',\n",
              "                                                     [key], {});\n",
              "          if (!dataTable) return;\n",
              "\n",
              "          const docLinkHtml = 'Like what you see? Visit the ' +\n",
              "            '<a target=\"_blank\" href=https://colab.research.google.com/notebooks/data_table.ipynb>data table notebook</a>'\n",
              "            + ' to learn more about interactive tables.';\n",
              "          element.innerHTML = '';\n",
              "          dataTable['output_type'] = 'display_data';\n",
              "          await google.colab.output.renderOutput(dataTable, element);\n",
              "          const docLink = document.createElement('div');\n",
              "          docLink.innerHTML = docLinkHtml;\n",
              "          element.appendChild(docLink);\n",
              "        }\n",
              "      </script>\n",
              "    </div>\n",
              "  </div>\n",
              "  "
            ]
          },
          "metadata": {},
          "execution_count": 8
        }
      ],
      "source": [
        "# Eksplorasi beberapa data\n",
        "\n",
        "df.head()\n",
        "# train.head()"
      ]
    },
    {
      "cell_type": "code",
      "execution_count": 9,
      "metadata": {
        "id": "KVhXYnTRAFOE"
      },
      "outputs": [],
      "source": [
        "# Menyimpan dataset yang telah diproses terlebih dahulu\n",
        "\n",
        "# df.to_csv(\"esteh-df.csv\", index = False)"
      ]
    },
    {
      "cell_type": "code",
      "execution_count": 10,
      "metadata": {
        "colab": {
          "base_uri": "https://localhost:8080/"
        },
        "id": "2keYzNuA89xw",
        "outputId": "1c293eea-ec7e-4e64-de1e-89facbe16707"
      },
      "outputs": [
        {
          "output_type": "execute_result",
          "data": {
            "text/plain": [
              "0"
            ]
          },
          "metadata": {},
          "execution_count": 10
        }
      ],
      "source": [
        "# Memeriksa kembali data duplikasi\n",
        "\n",
        "df.duplicated().sum()\n",
        "# train.duplicated().sum(), test.duplicated().sum()"
      ]
    },
    {
      "cell_type": "code",
      "execution_count": 11,
      "metadata": {
        "colab": {
          "base_uri": "https://localhost:8080/"
        },
        "id": "doEsZznYAWxp",
        "outputId": "daf28f44-262b-4650-90fa-4b6cf4f27384"
      },
      "outputs": [
        {
          "output_type": "execute_result",
          "data": {
            "text/plain": [
              "ulasan       0\n",
              "apresiasi    0\n",
              "kritik       0\n",
              "dtype: int64"
            ]
          },
          "metadata": {},
          "execution_count": 11
        }
      ],
      "source": [
        "# Memeriksa adanya missing values\n",
        "\n",
        "df.isnull().sum()\n",
        "# train.isnull().sum(), test.isnull().sum()"
      ]
    },
    {
      "cell_type": "code",
      "execution_count": 12,
      "metadata": {
        "colab": {
          "base_uri": "https://localhost:8080/"
        },
        "id": "hKZHuXU2ToMU",
        "outputId": "39083d3d-48c5-4428-e717-52773f0b6739"
      },
      "outputs": [
        {
          "output_type": "stream",
          "name": "stdout",
          "text": [
            "Banyak Keseluruhan Dataset:  1675\n",
            "Banyak Data Latih:  1348\n",
            "Banyak Data Uji:  335\n"
          ]
        }
      ],
      "source": [
        "# Memeriksa distribusi banyaknya data latih dan data uji\n",
        "\n",
        "print(\"Banyak Keseluruhan Dataset: \", len(df))\n",
        "print(\"Banyak Data Latih: \", len(train))\n",
        "print(\"Banyak Data Uji: \", len(test))"
      ]
    },
    {
      "cell_type": "markdown",
      "metadata": {
        "id": "AmbXc0g-178k"
      },
      "source": [
        "## Pemisahan Data"
      ]
    },
    {
      "cell_type": "code",
      "execution_count": 13,
      "metadata": {
        "id": "IrkFA_wOpXGR"
      },
      "outputs": [],
      "source": [
        "# Melakukan pemisahan data baru\n",
        "\n",
        "# from sklearn.model_selection import train_test_split\n",
        "\n",
        "# X = df.ulasan\n",
        "# y = df.drop(\"ulasan\", axis = 1)\n",
        "\n",
        "# X_train, X_test, y_train, y_test = train_test_split(X, y, test_size = 0.2, stratify = df.apresiasi)\n",
        "\n",
        "# Memisahkan data menjadi train set dan test set untuk disimpan ke sebuah file csv\n",
        "# train = y_train.copy()\n",
        "# test = y_test.copy()\n",
        "\n",
        "# train[\"ulasan\"] = X_train\n",
        "# test[\"ulasan\"] = X_test\n"
      ]
    },
    {
      "cell_type": "code",
      "execution_count": 14,
      "metadata": {
        "id": "uDPDMiwE0Tr3"
      },
      "outputs": [],
      "source": [
        "# Menyimpan data yang telah terpisah\n",
        "\n",
        "# train.to_csv(\"esteh-train.csv\", index = False)\n",
        "# test.to_csv(\"esteh-test.csv\", index = False)"
      ]
    },
    {
      "cell_type": "code",
      "execution_count": 15,
      "metadata": {
        "id": "As1LiP3fBnyX"
      },
      "outputs": [],
      "source": [
        "# Split X and y pada data train dan test set\n",
        "\n",
        "X_train = train[\"ulasan\"]\n",
        "X_test = test[\"ulasan\"]\n",
        "y_train = train.drop(\"ulasan\", axis = 1)\n",
        "y_test = test.drop(\"ulasan\", axis = 1)"
      ]
    },
    {
      "cell_type": "markdown",
      "metadata": {
        "id": "ZXNJ9b1O2YVN"
      },
      "source": [
        "# Explorasi Dan Analisis Data"
      ]
    },
    {
      "cell_type": "code",
      "execution_count": 16,
      "metadata": {
        "id": "j2I-nvvT2dbJ"
      },
      "outputs": [],
      "source": [
        "from wordcloud import WordCloud\n",
        "\n",
        "kritik_review_texts = \" \".join(list(df[df.kritik == 1][\"ulasan\"]))\n",
        "\n",
        "apresiasi_review_texts = \" \".join(list(df[df.apresiasi == 1][\"ulasan\"]))\n",
        "\n",
        "wordcloud_apresiasi = WordCloud(\n",
        "    width = 1280,\n",
        "    height = 720,\n",
        "    background_color = \"white\",\n",
        ").generate(apresiasi_review_texts)\n",
        "\n",
        "wordcloud_kritik = WordCloud(\n",
        "    width = 1280,\n",
        "    height = 720,\n",
        "    background_color = \"white\",\n",
        ").generate(kritik_review_texts)"
      ]
    },
    {
      "cell_type": "code",
      "execution_count": 17,
      "metadata": {
        "colab": {
          "base_uri": "https://localhost:8080/",
          "height": 414
        },
        "id": "mG0InjzB28Zp",
        "outputId": "b67571fd-f473-47bd-b2d7-af63b0e069ef"
      },
      "outputs": [
        {
          "output_type": "display_data",
          "data": {
            "text/plain": [
              "<Figure size 800x800 with 1 Axes>"
            ],
            "image/png": "[encoded data removed]"
          },
          "metadata": {}
        }
      ],
      "source": [
        "plt.figure(figsize = (8, 8))\n",
        "plt.imshow(wordcloud_apresiasi)\n",
        "\n",
        "plt.show();"
      ]
    },
    {
      "cell_type": "code",
      "execution_count": 18,
      "metadata": {
        "colab": {
          "base_uri": "https://localhost:8080/",
          "height": 414
        },
        "id": "hU6Mzrsd3FVe",
        "outputId": "eade5ca1-7800-4685-a992-9d46af16ed27"
      },
      "outputs": [
        {
          "output_type": "display_data",
          "data": {
            "text/plain": [
              "<Figure size 800x800 with 1 Axes>"
            ],
            "image/png": "[encoded data removed]"
          },
          "metadata": {}
        }
      ],
      "source": [
        "plt.figure(figsize = (8, 8))\n",
        "plt.imshow(wordcloud_kritik)\n",
        "\n",
        "plt.show();"
      ]
    },
    {
      "cell_type": "markdown",
      "metadata": {
        "id": "jUmFMGIbQt4S"
      },
      "source": [
        "# RNN Model"
      ]
    },
    {
      "cell_type": "markdown",
      "metadata": {
        "id": "lIZcWXWd2xhQ"
      },
      "source": [
        "## Inisiasi Tokenizer RNN"
      ]
    },
    {
      "cell_type": "code",
      "execution_count": 19,
      "metadata": {
        "id": "6mM63MSReDL1"
      },
      "outputs": [],
      "source": [
        "VOCAB_SIZE = 1200\n",
        "encoder = tf.keras.layers.TextVectorization(\n",
        "    max_tokens=VOCAB_SIZE)\n",
        "encoder.adapt(X_train)"
      ]
    },
    {
      "cell_type": "code",
      "execution_count": 20,
      "metadata": {
        "colab": {
          "base_uri": "https://localhost:8080/"
        },
        "id": "2mtDb4lwipJ8",
        "outputId": "18f54b56-b042-451a-cf04-9cdc5ce4b5b8"
      },
      "outputs": [
        {
          "output_type": "execute_result",
          "data": {
            "text/plain": [
              "1200"
            ]
          },
          "metadata": {},
          "execution_count": 20
        }
      ],
      "source": [
        "len(encoder.get_vocabulary())"
      ]
    },
    {
      "cell_type": "markdown",
      "metadata": {
        "id": "X2BmtjrM2DMP"
      },
      "source": [
        "## Membangun Arsitektur Model"
      ]
    },
    {
      "cell_type": "code",
      "execution_count": 37,
      "metadata": {
        "id": "cvvuitMdQwG9"
      },
      "outputs": [],
      "source": [
        "# Membuat arsitektur model RNN meliputi LSTM, stacked LSTM, Bi-LSTM, stacked Bi-LSTM, GRU, stacked GRU, Bi-GRU, dan stacked Bi-GRU\n",
        "\n",
        "lstm = tf.keras.Sequential([\n",
        "    tf.keras.layers.Input(shape=(), dtype = \"string\"),\n",
        "    encoder,\n",
        "    tf.keras.layers.Embedding(\n",
        "        input_dim=len(encoder.get_vocabulary()),\n",
        "        output_dim=100,\n",
        "        # Use masking to handle the variable sequence lengths\n",
        "        mask_zero=True),\n",
        "    tf.keras.layers.LSTM(64),\n",
        "    tf.keras.layers.Dense(32, activation='relu'),\n",
        "    tf.keras.layers.Dropout(0.2),\n",
        "    tf.keras.layers.Dense(2, activation='sigmoid'),\n",
        "])\n",
        "\n",
        "bi_lstm = tf.keras.Sequential([\n",
        "    tf.keras.layers.Input(shape=(), dtype = \"string\"),\n",
        "    encoder,\n",
        "    tf.keras.layers.Embedding(\n",
        "        input_dim=len(encoder.get_vocabulary()),\n",
        "        output_dim=100,\n",
        "        # Use masking to handle the variable sequence lengths\n",
        "        mask_zero=True),\n",
        "    tf.keras.layers.Bidirectional(tf.keras.layers.LSTM(64)),\n",
        "    tf.keras.layers.Dense(32, activation='relu'),\n",
        "    tf.keras.layers.Dropout(0.2),\n",
        "    tf.keras.layers.Dense(2, activation='sigmoid'),\n",
        "])\n",
        "\n",
        "stacked_bi_lstm = tf.keras.Sequential([\n",
        "    tf.keras.layers.Input(shape=(), dtype = \"string\"),\n",
        "    encoder,\n",
        "    tf.keras.layers.Embedding(\n",
        "        input_dim=len(encoder.get_vocabulary()),\n",
        "        output_dim=100,\n",
        "        # Use masking to handle the variable sequence lengths\n",
        "        mask_zero=True),\n",
        "    tf.keras.layers.Bidirectional(tf.keras.layers.LSTM(64, return_sequences = True)),\n",
        "    tf.keras.layers.Bidirectional(tf.keras.layers.LSTM(64)),\n",
        "    tf.keras.layers.Dense(32, activation='relu'),\n",
        "    tf.keras.layers.Dropout(0.2),\n",
        "    tf.keras.layers.Dense(2, activation='sigmoid'),\n",
        "])\n",
        "\n",
        "gru = tf.keras.Sequential([\n",
        "    tf.keras.layers.Input(shape=(), dtype = \"string\"),\n",
        "    encoder,\n",
        "    tf.keras.layers.Embedding(\n",
        "        input_dim=len(encoder.get_vocabulary()),\n",
        "        output_dim=100,\n",
        "        # Use masking to handle the variable sequence lengths\n",
        "        mask_zero=True),\n",
        "    tf.keras.layers.GRU(64),\n",
        "    tf.keras.layers.Dense(32, activation='relu'),\n",
        "    tf.keras.layers.Dropout(0.2),\n",
        "    tf.keras.layers.Dense(2, activation='sigmoid'),\n",
        "])\n",
        "\n",
        "bi_gru= tf.keras.Sequential([\n",
        "    tf.keras.layers.Input(shape=(), dtype = \"string\"),\n",
        "    encoder,\n",
        "    tf.keras.layers.Embedding(\n",
        "        input_dim=len(encoder.get_vocabulary()),\n",
        "        output_dim=100,\n",
        "        # Use masking to handle the variable sequence lengths\n",
        "        mask_zero=True),\n",
        "    tf.keras.layers.Bidirectional(tf.keras.layers.GRU(64)),\n",
        "    tf.keras.layers.Dense(32, activation='relu'),\n",
        "    tf.keras.layers.Dropout(0.2),\n",
        "    tf.keras.layers.Dense(2, activation='sigmoid'),\n",
        "])\n",
        "\n",
        "stacked_bi_gru = tf.keras.Sequential([\n",
        "    tf.keras.layers.Input(shape=(), dtype = \"string\"),\n",
        "    encoder,\n",
        "    tf.keras.layers.Embedding(\n",
        "        input_dim=len(encoder.get_vocabulary()),\n",
        "        output_dim=100,\n",
        "        # Use masking to handle the variable sequence lengths\n",
        "        mask_zero=True),\n",
        "    tf.keras.layers.Bidirectional(tf.keras.layers.GRU(64, return_sequences = True)),\n",
        "    tf.keras.layers.Bidirectional(tf.keras.layers.GRU(64)),\n",
        "    tf.keras.layers.Dense(32, activation='relu'),\n",
        "    tf.keras.layers.Dropout(0.2),\n",
        "    tf.keras.layers.Dense(2, activation='sigmoid'),\n",
        "])"
      ]
    },
    {
      "cell_type": "code",
      "execution_count": 38,
      "metadata": {
        "id": "GudjHKBY-bio"
      },
      "outputs": [],
      "source": [
        "stacked_lstm = tf.keras.Sequential([\n",
        "    tf.keras.layers.Input(shape=(), dtype = \"string\"),\n",
        "    encoder,\n",
        "    tf.keras.layers.Embedding(\n",
        "        input_dim=len(encoder.get_vocabulary()),\n",
        "        output_dim=100,\n",
        "        # Use masking to handle the variable sequence lengths\n",
        "        mask_zero=True),\n",
        "    tf.keras.layers.LSTM(64, return_sequences = True),\n",
        "    tf.keras.layers.LSTM(64),\n",
        "    tf.keras.layers.Dense(32, activation='relu'),\n",
        "    tf.keras.layers.Dropout(0.2),\n",
        "    tf.keras.layers.Dense(2, activation='sigmoid'),\n",
        "])\n",
        "\n",
        "stacked_gru = tf.keras.Sequential([\n",
        "    tf.keras.layers.Input(shape=(), dtype = \"string\"),\n",
        "    encoder,\n",
        "    tf.keras.layers.Embedding(\n",
        "        input_dim=len(encoder.get_vocabulary()),\n",
        "        output_dim=100,\n",
        "        # Use masking to handle the variable sequence lengths\n",
        "        mask_zero=True),\n",
        "    tf.keras.layers.GRU(64, return_sequences = True),\n",
        "    tf.keras.layers.GRU(64),\n",
        "    tf.keras.layers.Dense(32, activation='relu'),\n",
        "    tf.keras.layers.Dropout(0.2),\n",
        "    tf.keras.layers.Dense(2, activation='sigmoid'),\n",
        "])"
      ]
    },
    {
      "cell_type": "markdown",
      "metadata": {
        "id": "Kj_eJv9L2G_W"
      },
      "source": [
        "## Model Compiling"
      ]
    },
    {
      "cell_type": "code",
      "execution_count": 39,
      "metadata": {
        "id": "WZt4kLBZdYT4"
      },
      "outputs": [],
      "source": [
        "# Melakukan compile pada seluruh arsitektur yang telah dibuat\n",
        "\n",
        "lstm.compile(\n",
        "    optimizer = tf.keras.optimizers.Adam(learning_rate = 0.00003),\n",
        "    loss = tf.keras.losses.BinaryCrossentropy(),\n",
        "    metrics = tf.keras.metrics.BinaryAccuracy(),\n",
        ")\n",
        "\n",
        "stacked_lstm.compile(\n",
        "    optimizer = tf.keras.optimizers.Adam(learning_rate = 0.00003),\n",
        "    loss = tf.keras.losses.BinaryCrossentropy(),\n",
        "    metrics = tf.keras.metrics.BinaryAccuracy(),\n",
        ")\n",
        "\n",
        "bi_lstm.compile(\n",
        "    optimizer = tf.keras.optimizers.Adam(learning_rate = 0.00003),\n",
        "    loss = tf.keras.losses.BinaryCrossentropy(),\n",
        "    metrics = tf.keras.metrics.BinaryAccuracy(),\n",
        ")\n",
        "\n",
        "\n",
        "\n",
        "stacked_bi_lstm.compile(\n",
        "    optimizer = tf.keras.optimizers.Adam(learning_rate = 0.00003),\n",
        "    loss = tf.keras.losses.BinaryCrossentropy(),\n",
        "    metrics = tf.keras.metrics.BinaryAccuracy(),\n",
        ")\n",
        "\n",
        "\n",
        "\n",
        "gru.compile(\n",
        "    optimizer = tf.keras.optimizers.Adam(learning_rate = 0.00003),\n",
        "    loss = tf.keras.losses.BinaryCrossentropy(),\n",
        "    metrics = tf.keras.metrics.BinaryAccuracy(),\n",
        ")\n",
        "\n",
        "\n",
        "bi_gru.compile(\n",
        "    optimizer = tf.keras.optimizers.Adam(learning_rate = 0.00003),\n",
        "    loss = tf.keras.losses.BinaryCrossentropy(),\n",
        "    metrics = tf.keras.metrics.BinaryAccuracy(),\n",
        ")\n",
        "\n",
        "\n",
        "stacked_bi_gru.compile(\n",
        "    optimizer = tf.keras.optimizers.Adam(learning_rate = 0.00003),\n",
        "    loss = tf.keras.losses.BinaryCrossentropy(),\n",
        "    metrics = tf.keras.metrics.BinaryAccuracy(),\n",
        ")\n"
      ]
    },
    {
      "cell_type": "code",
      "execution_count": 40,
      "metadata": {
        "id": "WRMdJpfuYau8"
      },
      "outputs": [],
      "source": [
        "stacked_lstm.compile(\n",
        "    optimizer = tf.keras.optimizers.Adam(learning_rate = 0.00003),\n",
        "    loss = tf.keras.losses.BinaryCrossentropy(),\n",
        "    metrics = tf.keras.metrics.BinaryAccuracy(),\n",
        ")\n",
        "\n",
        "stacked_gru.compile(\n",
        "    optimizer = tf.keras.optimizers.Adam(learning_rate = 0.00003),\n",
        "    loss = tf.keras.losses.BinaryCrossentropy(),\n",
        "    metrics = tf.keras.metrics.BinaryAccuracy(),\n",
        ")\n"
      ]
    },
    {
      "cell_type": "markdown",
      "metadata": {
        "id": "TgUoRqSTFvsK"
      },
      "source": [
        "## Model Training"
      ]
    },
    {
      "cell_type": "code",
      "source": [
        "early_stopper = tf.keras.callbacks.EarlyStopping(\n",
        "    monitor='val_loss',\n",
        "    min_delta=0,\n",
        "    patience=3,\n",
        "    verbose=0,\n",
        "    mode='auto',\n",
        "    baseline=None,\n",
        "    restore_best_weights=False,\n",
        "    start_from_epoch=0\n",
        ")"
      ],
      "metadata": {
        "id": "sXeMwbuWr5wM"
      },
      "execution_count": 41,
      "outputs": []
    },
    {
      "cell_type": "code",
      "execution_count": 42,
      "metadata": {
        "colab": {
          "base_uri": "https://localhost:8080/"
        },
        "id": "oJdtNTKiXIa9",
        "outputId": "635de654-679c-4aed-96c4-a44d03550717"
      },
      "outputs": [
        {
          "output_type": "stream",
          "name": "stdout",
          "text": [
            "Epoch 1/35\n",
            "85/85 [==============================] - 17s 132ms/step - loss: 0.6893 - binary_accuracy: 0.6495 - val_loss: 0.6856 - val_binary_accuracy: 0.7075\n",
            "Epoch 2/35\n",
            "85/85 [==============================] - 7s 80ms/step - loss: 0.6803 - binary_accuracy: 0.6947 - val_loss: 0.6741 - val_binary_accuracy: 0.6910\n",
            "Epoch 3/35\n",
            "85/85 [==============================] - 3s 37ms/step - loss: 0.6608 - binary_accuracy: 0.6925 - val_loss: 0.6443 - val_binary_accuracy: 0.6896\n",
            "Epoch 4/35\n",
            "85/85 [==============================] - 2s 27ms/step - loss: 0.5920 - binary_accuracy: 0.6929 - val_loss: 0.5707 - val_binary_accuracy: 0.6896\n",
            "Epoch 5/35\n",
            "85/85 [==============================] - 2s 21ms/step - loss: 0.5476 - binary_accuracy: 0.6932 - val_loss: 0.5528 - val_binary_accuracy: 0.6896\n",
            "Epoch 6/35\n",
            "85/85 [==============================] - 1s 16ms/step - loss: 0.5333 - binary_accuracy: 0.6984 - val_loss: 0.5404 - val_binary_accuracy: 0.6985\n",
            "Epoch 7/35\n",
            "85/85 [==============================] - 1s 17ms/step - loss: 0.5181 - binary_accuracy: 0.7114 - val_loss: 0.5263 - val_binary_accuracy: 0.7134\n",
            "Epoch 8/35\n",
            "85/85 [==============================] - 2s 24ms/step - loss: 0.5023 - binary_accuracy: 0.7326 - val_loss: 0.5114 - val_binary_accuracy: 0.7507\n",
            "Epoch 9/35\n",
            "85/85 [==============================] - 3s 31ms/step - loss: 0.4858 - binary_accuracy: 0.7600 - val_loss: 0.4949 - val_binary_accuracy: 0.7881\n",
            "Epoch 10/35\n",
            "85/85 [==============================] - 1s 15ms/step - loss: 0.4652 - binary_accuracy: 0.8045 - val_loss: 0.4776 - val_binary_accuracy: 0.8358\n",
            "Epoch 11/35\n",
            "85/85 [==============================] - 2s 22ms/step - loss: 0.4514 - binary_accuracy: 0.8353 - val_loss: 0.4609 - val_binary_accuracy: 0.8642\n",
            "Epoch 12/35\n",
            "85/85 [==============================] - 2s 19ms/step - loss: 0.4342 - binary_accuracy: 0.8624 - val_loss: 0.4463 - val_binary_accuracy: 0.8806\n",
            "Epoch 13/35\n",
            "85/85 [==============================] - 2s 21ms/step - loss: 0.4139 - binary_accuracy: 0.8809 - val_loss: 0.4297 - val_binary_accuracy: 0.8910\n",
            "Epoch 14/35\n",
            "85/85 [==============================] - 1s 11ms/step - loss: 0.3929 - binary_accuracy: 0.8891 - val_loss: 0.4155 - val_binary_accuracy: 0.9015\n",
            "Epoch 15/35\n",
            "85/85 [==============================] - 1s 13ms/step - loss: 0.3749 - binary_accuracy: 0.8987 - val_loss: 0.3979 - val_binary_accuracy: 0.9000\n",
            "Epoch 16/35\n",
            "85/85 [==============================] - 1s 12ms/step - loss: 0.3568 - binary_accuracy: 0.9010 - val_loss: 0.3840 - val_binary_accuracy: 0.8970\n",
            "Epoch 17/35\n",
            "85/85 [==============================] - 2s 18ms/step - loss: 0.3457 - binary_accuracy: 0.9058 - val_loss: 0.3736 - val_binary_accuracy: 0.8940\n",
            "Epoch 18/35\n",
            "85/85 [==============================] - 2s 21ms/step - loss: 0.3309 - binary_accuracy: 0.9080 - val_loss: 0.3603 - val_binary_accuracy: 0.8940\n",
            "Epoch 19/35\n",
            "85/85 [==============================] - 2s 27ms/step - loss: 0.3164 - binary_accuracy: 0.9095 - val_loss: 0.3485 - val_binary_accuracy: 0.8925\n",
            "Epoch 20/35\n",
            "85/85 [==============================] - 2s 20ms/step - loss: 0.3029 - binary_accuracy: 0.9110 - val_loss: 0.3414 - val_binary_accuracy: 0.8881\n",
            "Epoch 21/35\n",
            "85/85 [==============================] - 1s 12ms/step - loss: 0.2922 - binary_accuracy: 0.9151 - val_loss: 0.3317 - val_binary_accuracy: 0.8896\n",
            "Epoch 22/35\n",
            "85/85 [==============================] - 1s 15ms/step - loss: 0.2802 - binary_accuracy: 0.9147 - val_loss: 0.3222 - val_binary_accuracy: 0.8910\n",
            "Epoch 23/35\n",
            "85/85 [==============================] - 1s 15ms/step - loss: 0.2698 - binary_accuracy: 0.9154 - val_loss: 0.3139 - val_binary_accuracy: 0.8881\n",
            "Epoch 24/35\n",
            "85/85 [==============================] - 1s 13ms/step - loss: 0.2613 - binary_accuracy: 0.9173 - val_loss: 0.3062 - val_binary_accuracy: 0.8896\n",
            "Epoch 25/35\n",
            "85/85 [==============================] - 1s 15ms/step - loss: 0.2576 - binary_accuracy: 0.9188 - val_loss: 0.3017 - val_binary_accuracy: 0.8896\n",
            "Epoch 26/35\n",
            "85/85 [==============================] - 1s 12ms/step - loss: 0.2515 - binary_accuracy: 0.9210 - val_loss: 0.2959 - val_binary_accuracy: 0.8896\n",
            "Epoch 27/35\n",
            "85/85 [==============================] - 1s 10ms/step - loss: 0.2452 - binary_accuracy: 0.9217 - val_loss: 0.2908 - val_binary_accuracy: 0.8896\n",
            "Epoch 28/35\n",
            "85/85 [==============================] - 1s 17ms/step - loss: 0.2410 - binary_accuracy: 0.9228 - val_loss: 0.2859 - val_binary_accuracy: 0.8910\n",
            "Epoch 29/35\n",
            "85/85 [==============================] - 2s 24ms/step - loss: 0.2345 - binary_accuracy: 0.9243 - val_loss: 0.2822 - val_binary_accuracy: 0.8866\n",
            "Epoch 30/35\n",
            "85/85 [==============================] - 2s 24ms/step - loss: 0.2306 - binary_accuracy: 0.9262 - val_loss: 0.2781 - val_binary_accuracy: 0.8881\n",
            "Epoch 31/35\n",
            "85/85 [==============================] - 2s 18ms/step - loss: 0.2232 - binary_accuracy: 0.9280 - val_loss: 0.2740 - val_binary_accuracy: 0.8925\n",
            "Epoch 32/35\n",
            "85/85 [==============================] - 1s 13ms/step - loss: 0.2209 - binary_accuracy: 0.9299 - val_loss: 0.2722 - val_binary_accuracy: 0.8925\n",
            "Epoch 33/35\n",
            "85/85 [==============================] - 1s 13ms/step - loss: 0.2201 - binary_accuracy: 0.9318 - val_loss: 0.2672 - val_binary_accuracy: 0.8910\n",
            "Epoch 34/35\n",
            "85/85 [==============================] - 1s 12ms/step - loss: 0.2138 - binary_accuracy: 0.9310 - val_loss: 0.2658 - val_binary_accuracy: 0.8896\n",
            "Epoch 35/35\n",
            "85/85 [==============================] - 1s 11ms/step - loss: 0.2078 - binary_accuracy: 0.9343 - val_loss: 0.2630 - val_binary_accuracy: 0.8955\n"
          ]
        },
        {
          "output_type": "execute_result",
          "data": {
            "text/plain": [
              "<keras.callbacks.History at 0x7fba1b6ce5f0>"
            ]
          },
          "metadata": {},
          "execution_count": 42
        }
      ],
      "source": [
        "lstm.fit(\n",
        "    x = X_train,\n",
        "    y = y_train,\n",
        "    batch_size = 16,\n",
        "    validation_data = (X_test, y_test),\n",
        "    epochs = 35,\n",
        "    callbacks = [early_stopper],\n",
        ")"
      ]
    },
    {
      "cell_type": "code",
      "execution_count": 43,
      "metadata": {
        "colab": {
          "base_uri": "https://localhost:8080/"
        },
        "id": "l7qCOHsXU0vj",
        "outputId": "e00030da-43db-45db-aa29-39b2b8fc5f0e"
      },
      "outputs": [
        {
          "output_type": "stream",
          "name": "stdout",
          "text": [
            "Epoch 1/35\n",
            "85/85 [==============================] - 22s 161ms/step - loss: 0.6913 - binary_accuracy: 0.6369 - val_loss: 0.6886 - val_binary_accuracy: 0.6896\n",
            "Epoch 2/35\n",
            "85/85 [==============================] - 6s 76ms/step - loss: 0.6829 - binary_accuracy: 0.6925 - val_loss: 0.6745 - val_binary_accuracy: 0.6896\n",
            "Epoch 3/35\n",
            "85/85 [==============================] - 3s 41ms/step - loss: 0.6343 - binary_accuracy: 0.6925 - val_loss: 0.5956 - val_binary_accuracy: 0.6896\n",
            "Epoch 4/35\n",
            "85/85 [==============================] - 2s 27ms/step - loss: 0.5614 - binary_accuracy: 0.6925 - val_loss: 0.5617 - val_binary_accuracy: 0.6896\n",
            "Epoch 5/35\n",
            "85/85 [==============================] - 3s 33ms/step - loss: 0.5435 - binary_accuracy: 0.6929 - val_loss: 0.5468 - val_binary_accuracy: 0.6896\n",
            "Epoch 6/35\n",
            "85/85 [==============================] - 4s 45ms/step - loss: 0.5236 - binary_accuracy: 0.7036 - val_loss: 0.5300 - val_binary_accuracy: 0.6925\n",
            "Epoch 7/35\n",
            "85/85 [==============================] - 3s 34ms/step - loss: 0.5023 - binary_accuracy: 0.7355 - val_loss: 0.5101 - val_binary_accuracy: 0.7284\n",
            "Epoch 8/35\n",
            "85/85 [==============================] - 2s 23ms/step - loss: 0.4809 - binary_accuracy: 0.7730 - val_loss: 0.4888 - val_binary_accuracy: 0.8000\n",
            "Epoch 9/35\n",
            "85/85 [==============================] - 2s 20ms/step - loss: 0.4570 - binary_accuracy: 0.8093 - val_loss: 0.4672 - val_binary_accuracy: 0.8478\n",
            "Epoch 10/35\n",
            "85/85 [==============================] - 2s 21ms/step - loss: 0.4347 - binary_accuracy: 0.8498 - val_loss: 0.4425 - val_binary_accuracy: 0.8642\n",
            "Epoch 11/35\n",
            "85/85 [==============================] - 2s 21ms/step - loss: 0.4072 - binary_accuracy: 0.8631 - val_loss: 0.4195 - val_binary_accuracy: 0.8716\n",
            "Epoch 12/35\n",
            "85/85 [==============================] - 2s 22ms/step - loss: 0.3786 - binary_accuracy: 0.8858 - val_loss: 0.3958 - val_binary_accuracy: 0.8836\n",
            "Epoch 13/35\n",
            "85/85 [==============================] - 3s 40ms/step - loss: 0.3563 - binary_accuracy: 0.8954 - val_loss: 0.3754 - val_binary_accuracy: 0.8791\n",
            "Epoch 14/35\n",
            "85/85 [==============================] - 3s 35ms/step - loss: 0.3347 - binary_accuracy: 0.9036 - val_loss: 0.3581 - val_binary_accuracy: 0.8806\n",
            "Epoch 15/35\n",
            "85/85 [==============================] - 2s 18ms/step - loss: 0.3168 - binary_accuracy: 0.9039 - val_loss: 0.3406 - val_binary_accuracy: 0.8851\n",
            "Epoch 16/35\n",
            "85/85 [==============================] - 2s 20ms/step - loss: 0.3036 - binary_accuracy: 0.9047 - val_loss: 0.3288 - val_binary_accuracy: 0.8881\n",
            "Epoch 17/35\n",
            "85/85 [==============================] - 2s 19ms/step - loss: 0.2950 - binary_accuracy: 0.9088 - val_loss: 0.3194 - val_binary_accuracy: 0.8866\n",
            "Epoch 18/35\n",
            "85/85 [==============================] - 2s 18ms/step - loss: 0.2867 - binary_accuracy: 0.9102 - val_loss: 0.3108 - val_binary_accuracy: 0.8866\n",
            "Epoch 19/35\n",
            "85/85 [==============================] - 2s 20ms/step - loss: 0.2756 - binary_accuracy: 0.9128 - val_loss: 0.3022 - val_binary_accuracy: 0.8925\n",
            "Epoch 20/35\n",
            "85/85 [==============================] - 2s 27ms/step - loss: 0.2705 - binary_accuracy: 0.9128 - val_loss: 0.2957 - val_binary_accuracy: 0.8896\n",
            "Epoch 21/35\n",
            "85/85 [==============================] - 3s 35ms/step - loss: 0.2638 - binary_accuracy: 0.9173 - val_loss: 0.2912 - val_binary_accuracy: 0.8925\n",
            "Epoch 22/35\n",
            "85/85 [==============================] - 2s 24ms/step - loss: 0.2544 - binary_accuracy: 0.9195 - val_loss: 0.2866 - val_binary_accuracy: 0.8910\n",
            "Epoch 23/35\n",
            "85/85 [==============================] - 2s 21ms/step - loss: 0.2514 - binary_accuracy: 0.9188 - val_loss: 0.2829 - val_binary_accuracy: 0.8910\n",
            "Epoch 24/35\n",
            "85/85 [==============================] - 2s 20ms/step - loss: 0.2426 - binary_accuracy: 0.9203 - val_loss: 0.2774 - val_binary_accuracy: 0.8910\n",
            "Epoch 25/35\n",
            "85/85 [==============================] - 2s 21ms/step - loss: 0.2409 - binary_accuracy: 0.9180 - val_loss: 0.2727 - val_binary_accuracy: 0.8910\n",
            "Epoch 26/35\n",
            "85/85 [==============================] - 1s 17ms/step - loss: 0.2324 - binary_accuracy: 0.9236 - val_loss: 0.2754 - val_binary_accuracy: 0.8896\n",
            "Epoch 27/35\n",
            "85/85 [==============================] - 2s 19ms/step - loss: 0.2298 - binary_accuracy: 0.9247 - val_loss: 0.2642 - val_binary_accuracy: 0.8955\n",
            "Epoch 28/35\n",
            "85/85 [==============================] - 2s 27ms/step - loss: 0.2257 - binary_accuracy: 0.9269 - val_loss: 0.2606 - val_binary_accuracy: 0.8955\n",
            "Epoch 29/35\n",
            "85/85 [==============================] - 3s 31ms/step - loss: 0.2193 - binary_accuracy: 0.9269 - val_loss: 0.2623 - val_binary_accuracy: 0.8910\n",
            "Epoch 30/35\n",
            "85/85 [==============================] - 2s 24ms/step - loss: 0.2100 - binary_accuracy: 0.9336 - val_loss: 0.2584 - val_binary_accuracy: 0.8970\n",
            "Epoch 31/35\n",
            "85/85 [==============================] - 1s 16ms/step - loss: 0.2052 - binary_accuracy: 0.9373 - val_loss: 0.2561 - val_binary_accuracy: 0.8955\n",
            "Epoch 32/35\n",
            "85/85 [==============================] - 2s 21ms/step - loss: 0.1999 - binary_accuracy: 0.9351 - val_loss: 0.2548 - val_binary_accuracy: 0.8970\n",
            "Epoch 33/35\n",
            "85/85 [==============================] - 2s 20ms/step - loss: 0.1969 - binary_accuracy: 0.9362 - val_loss: 0.2541 - val_binary_accuracy: 0.8970\n",
            "Epoch 34/35\n",
            "85/85 [==============================] - 2s 18ms/step - loss: 0.1902 - binary_accuracy: 0.9395 - val_loss: 0.2430 - val_binary_accuracy: 0.9075\n",
            "Epoch 35/35\n",
            "85/85 [==============================] - 2s 19ms/step - loss: 0.1860 - binary_accuracy: 0.9432 - val_loss: 0.2445 - val_binary_accuracy: 0.9000\n"
          ]
        },
        {
          "output_type": "execute_result",
          "data": {
            "text/plain": [
              "<keras.callbacks.History at 0x7fba324832e0>"
            ]
          },
          "metadata": {},
          "execution_count": 43
        }
      ],
      "source": [
        "stacked_lstm.fit(\n",
        "    x = X_train,\n",
        "    y = y_train,\n",
        "    batch_size = 16,\n",
        "    validation_data = (X_test, y_test),\n",
        "    epochs = 35,\n",
        "    callbacks = [early_stopper]\n",
        ")"
      ]
    },
    {
      "cell_type": "code",
      "execution_count": 44,
      "metadata": {
        "colab": {
          "base_uri": "https://localhost:8080/"
        },
        "id": "fouKNe-6XIjy",
        "outputId": "186597bf-78f6-4f41-cc9d-fad5ea180c00"
      },
      "outputs": [
        {
          "output_type": "stream",
          "name": "stdout",
          "text": [
            "Epoch 1/35\n",
            "85/85 [==============================] - 24s 172ms/step - loss: 0.6917 - binary_accuracy: 0.5534 - val_loss: 0.6893 - val_binary_accuracy: 0.5836\n",
            "Epoch 2/35\n",
            "85/85 [==============================] - 4s 50ms/step - loss: 0.6855 - binary_accuracy: 0.6536 - val_loss: 0.6820 - val_binary_accuracy: 0.6582\n",
            "Epoch 3/35\n",
            "85/85 [==============================] - 4s 40ms/step - loss: 0.6750 - binary_accuracy: 0.6881 - val_loss: 0.6694 - val_binary_accuracy: 0.7358\n",
            "Epoch 4/35\n",
            "85/85 [==============================] - 4s 47ms/step - loss: 0.6522 - binary_accuracy: 0.7059 - val_loss: 0.6355 - val_binary_accuracy: 0.7209\n",
            "Epoch 5/35\n",
            "85/85 [==============================] - 3s 36ms/step - loss: 0.5911 - binary_accuracy: 0.6944 - val_loss: 0.5799 - val_binary_accuracy: 0.7090\n",
            "Epoch 6/35\n",
            "85/85 [==============================] - 2s 26ms/step - loss: 0.5542 - binary_accuracy: 0.7018 - val_loss: 0.5574 - val_binary_accuracy: 0.7164\n",
            "Epoch 7/35\n",
            "85/85 [==============================] - 2s 26ms/step - loss: 0.5422 - binary_accuracy: 0.7248 - val_loss: 0.5430 - val_binary_accuracy: 0.7373\n",
            "Epoch 8/35\n",
            "85/85 [==============================] - 2s 23ms/step - loss: 0.5223 - binary_accuracy: 0.7481 - val_loss: 0.5276 - val_binary_accuracy: 0.7597\n",
            "Epoch 9/35\n",
            "85/85 [==============================] - 2s 20ms/step - loss: 0.5025 - binary_accuracy: 0.7760 - val_loss: 0.5105 - val_binary_accuracy: 0.7896\n",
            "Epoch 10/35\n",
            "85/85 [==============================] - 3s 38ms/step - loss: 0.4799 - binary_accuracy: 0.7975 - val_loss: 0.4921 - val_binary_accuracy: 0.8194\n",
            "Epoch 11/35\n",
            "85/85 [==============================] - 3s 38ms/step - loss: 0.4611 - binary_accuracy: 0.8234 - val_loss: 0.4735 - val_binary_accuracy: 0.8433\n",
            "Epoch 12/35\n",
            "85/85 [==============================] - 2s 20ms/step - loss: 0.4408 - binary_accuracy: 0.8498 - val_loss: 0.4531 - val_binary_accuracy: 0.8687\n",
            "Epoch 13/35\n",
            "85/85 [==============================] - 2s 20ms/step - loss: 0.4125 - binary_accuracy: 0.8657 - val_loss: 0.4283 - val_binary_accuracy: 0.8761\n",
            "Epoch 14/35\n",
            "85/85 [==============================] - 2s 18ms/step - loss: 0.3908 - binary_accuracy: 0.8772 - val_loss: 0.4085 - val_binary_accuracy: 0.8940\n",
            "Epoch 15/35\n",
            "85/85 [==============================] - 2s 19ms/step - loss: 0.3585 - binary_accuracy: 0.8935 - val_loss: 0.3766 - val_binary_accuracy: 0.8910\n",
            "Epoch 16/35\n",
            "85/85 [==============================] - 2s 20ms/step - loss: 0.3362 - binary_accuracy: 0.8969 - val_loss: 0.3561 - val_binary_accuracy: 0.9000\n",
            "Epoch 17/35\n",
            "85/85 [==============================] - 2s 18ms/step - loss: 0.3154 - binary_accuracy: 0.9047 - val_loss: 0.3379 - val_binary_accuracy: 0.9015\n",
            "Epoch 18/35\n",
            "85/85 [==============================] - 3s 34ms/step - loss: 0.3004 - binary_accuracy: 0.9121 - val_loss: 0.3245 - val_binary_accuracy: 0.9090\n",
            "Epoch 19/35\n",
            "85/85 [==============================] - 3s 33ms/step - loss: 0.2851 - binary_accuracy: 0.9132 - val_loss: 0.3098 - val_binary_accuracy: 0.9119\n",
            "Epoch 20/35\n",
            "85/85 [==============================] - 1s 16ms/step - loss: 0.2764 - binary_accuracy: 0.9173 - val_loss: 0.2990 - val_binary_accuracy: 0.9194\n",
            "Epoch 21/35\n",
            "85/85 [==============================] - 2s 22ms/step - loss: 0.2546 - binary_accuracy: 0.9254 - val_loss: 0.2836 - val_binary_accuracy: 0.9194\n",
            "Epoch 22/35\n",
            "85/85 [==============================] - 1s 17ms/step - loss: 0.2470 - binary_accuracy: 0.9247 - val_loss: 0.2826 - val_binary_accuracy: 0.9224\n",
            "Epoch 23/35\n",
            "85/85 [==============================] - 1s 17ms/step - loss: 0.2374 - binary_accuracy: 0.9299 - val_loss: 0.2695 - val_binary_accuracy: 0.9209\n",
            "Epoch 24/35\n",
            "85/85 [==============================] - 2s 19ms/step - loss: 0.2251 - binary_accuracy: 0.9343 - val_loss: 0.2577 - val_binary_accuracy: 0.9224\n",
            "Epoch 25/35\n",
            "85/85 [==============================] - 2s 18ms/step - loss: 0.2177 - binary_accuracy: 0.9358 - val_loss: 0.2583 - val_binary_accuracy: 0.9209\n",
            "Epoch 26/35\n",
            "85/85 [==============================] - 3s 30ms/step - loss: 0.2094 - binary_accuracy: 0.9436 - val_loss: 0.2456 - val_binary_accuracy: 0.9224\n",
            "Epoch 27/35\n",
            "85/85 [==============================] - 3s 34ms/step - loss: 0.2031 - binary_accuracy: 0.9425 - val_loss: 0.2444 - val_binary_accuracy: 0.9209\n",
            "Epoch 28/35\n",
            "85/85 [==============================] - 2s 21ms/step - loss: 0.2001 - binary_accuracy: 0.9447 - val_loss: 0.2351 - val_binary_accuracy: 0.9224\n",
            "Epoch 29/35\n",
            "85/85 [==============================] - 1s 16ms/step - loss: 0.1882 - binary_accuracy: 0.9484 - val_loss: 0.2310 - val_binary_accuracy: 0.9224\n",
            "Epoch 30/35\n",
            "85/85 [==============================] - 2s 19ms/step - loss: 0.1816 - binary_accuracy: 0.9514 - val_loss: 0.2256 - val_binary_accuracy: 0.9224\n",
            "Epoch 31/35\n",
            "85/85 [==============================] - 1s 18ms/step - loss: 0.1761 - binary_accuracy: 0.9525 - val_loss: 0.2226 - val_binary_accuracy: 0.9209\n",
            "Epoch 32/35\n",
            "85/85 [==============================] - 2s 20ms/step - loss: 0.1748 - binary_accuracy: 0.9540 - val_loss: 0.2228 - val_binary_accuracy: 0.9179\n",
            "Epoch 33/35\n",
            "85/85 [==============================] - 1s 17ms/step - loss: 0.1689 - binary_accuracy: 0.9536 - val_loss: 0.2136 - val_binary_accuracy: 0.9209\n",
            "Epoch 34/35\n",
            "85/85 [==============================] - 2s 19ms/step - loss: 0.1601 - binary_accuracy: 0.9551 - val_loss: 0.2126 - val_binary_accuracy: 0.9239\n",
            "Epoch 35/35\n",
            "85/85 [==============================] - 3s 33ms/step - loss: 0.1575 - binary_accuracy: 0.9566 - val_loss: 0.2133 - val_binary_accuracy: 0.9209\n"
          ]
        },
        {
          "output_type": "execute_result",
          "data": {
            "text/plain": [
              "<keras.callbacks.History at 0x7fba4c552dd0>"
            ]
          },
          "metadata": {},
          "execution_count": 44
        }
      ],
      "source": [
        "bi_lstm.fit(\n",
        "    x = X_train,\n",
        "    y = y_train,\n",
        "    batch_size = 16,\n",
        "    validation_data = (X_test, y_test),\n",
        "    epochs = 35,\n",
        "    callbacks = [early_stopper]\n",
        ")"
      ]
    },
    {
      "cell_type": "code",
      "execution_count": 45,
      "metadata": {
        "colab": {
          "base_uri": "https://localhost:8080/"
        },
        "id": "I3Jl6uUBXIxV",
        "outputId": "2f551e73-16dd-432f-fa68-9c75cb3aa18c"
      },
      "outputs": [
        {
          "output_type": "stream",
          "name": "stdout",
          "text": [
            "Epoch 1/35\n",
            "85/85 [==============================] - 35s 185ms/step - loss: 0.6881 - binary_accuracy: 0.6780 - val_loss: 0.6825 - val_binary_accuracy: 0.6896\n",
            "Epoch 2/35\n",
            "85/85 [==============================] - 5s 65ms/step - loss: 0.6674 - binary_accuracy: 0.6925 - val_loss: 0.6495 - val_binary_accuracy: 0.6896\n",
            "Epoch 3/35\n",
            "85/85 [==============================] - 5s 61ms/step - loss: 0.6005 - binary_accuracy: 0.6925 - val_loss: 0.5718 - val_binary_accuracy: 0.6896\n",
            "Epoch 4/35\n",
            "85/85 [==============================] - 5s 61ms/step - loss: 0.5484 - binary_accuracy: 0.6925 - val_loss: 0.5492 - val_binary_accuracy: 0.6896\n",
            "Epoch 5/35\n",
            "85/85 [==============================] - 4s 44ms/step - loss: 0.5202 - binary_accuracy: 0.6929 - val_loss: 0.5270 - val_binary_accuracy: 0.6896\n",
            "Epoch 6/35\n",
            "85/85 [==============================] - 3s 34ms/step - loss: 0.4938 - binary_accuracy: 0.7070 - val_loss: 0.4943 - val_binary_accuracy: 0.7030\n",
            "Epoch 7/35\n",
            "85/85 [==============================] - 4s 42ms/step - loss: 0.4526 - binary_accuracy: 0.7526 - val_loss: 0.4572 - val_binary_accuracy: 0.7657\n",
            "Epoch 8/35\n",
            "85/85 [==============================] - 5s 60ms/step - loss: 0.4215 - binary_accuracy: 0.8127 - val_loss: 0.4310 - val_binary_accuracy: 0.8254\n",
            "Epoch 9/35\n",
            "85/85 [==============================] - 3s 32ms/step - loss: 0.3938 - binary_accuracy: 0.8494 - val_loss: 0.4049 - val_binary_accuracy: 0.8627\n",
            "Epoch 10/35\n",
            "85/85 [==============================] - 3s 36ms/step - loss: 0.3684 - binary_accuracy: 0.8698 - val_loss: 0.3893 - val_binary_accuracy: 0.8866\n",
            "Epoch 11/35\n",
            "85/85 [==============================] - 2s 29ms/step - loss: 0.3439 - binary_accuracy: 0.8906 - val_loss: 0.3679 - val_binary_accuracy: 0.8970\n",
            "Epoch 12/35\n",
            "85/85 [==============================] - 4s 52ms/step - loss: 0.3266 - binary_accuracy: 0.8969 - val_loss: 0.3495 - val_binary_accuracy: 0.8985\n",
            "Epoch 13/35\n",
            "85/85 [==============================] - 3s 39ms/step - loss: 0.3070 - binary_accuracy: 0.9039 - val_loss: 0.3371 - val_binary_accuracy: 0.9015\n",
            "Epoch 14/35\n",
            "85/85 [==============================] - 2s 28ms/step - loss: 0.2877 - binary_accuracy: 0.9069 - val_loss: 0.3288 - val_binary_accuracy: 0.8985\n",
            "Epoch 15/35\n",
            "85/85 [==============================] - 3s 31ms/step - loss: 0.2751 - binary_accuracy: 0.9114 - val_loss: 0.3172 - val_binary_accuracy: 0.8985\n",
            "Epoch 16/35\n",
            "85/85 [==============================] - 2s 28ms/step - loss: 0.2601 - binary_accuracy: 0.9147 - val_loss: 0.3060 - val_binary_accuracy: 0.8970\n",
            "Epoch 17/35\n",
            "85/85 [==============================] - 4s 48ms/step - loss: 0.2469 - binary_accuracy: 0.9177 - val_loss: 0.2971 - val_binary_accuracy: 0.8970\n",
            "Epoch 18/35\n",
            "85/85 [==============================] - 4s 41ms/step - loss: 0.2388 - binary_accuracy: 0.9199 - val_loss: 0.2939 - val_binary_accuracy: 0.8881\n",
            "Epoch 19/35\n",
            "85/85 [==============================] - 3s 32ms/step - loss: 0.2271 - binary_accuracy: 0.9240 - val_loss: 0.2857 - val_binary_accuracy: 0.8925\n",
            "Epoch 20/35\n",
            "85/85 [==============================] - 3s 34ms/step - loss: 0.2195 - binary_accuracy: 0.9280 - val_loss: 0.2782 - val_binary_accuracy: 0.8940\n",
            "Epoch 21/35\n",
            "85/85 [==============================] - 2s 28ms/step - loss: 0.2108 - binary_accuracy: 0.9295 - val_loss: 0.2717 - val_binary_accuracy: 0.8925\n",
            "Epoch 22/35\n",
            "85/85 [==============================] - 4s 43ms/step - loss: 0.2022 - binary_accuracy: 0.9329 - val_loss: 0.2678 - val_binary_accuracy: 0.8985\n",
            "Epoch 23/35\n",
            "85/85 [==============================] - 4s 44ms/step - loss: 0.1894 - binary_accuracy: 0.9362 - val_loss: 0.2605 - val_binary_accuracy: 0.8955\n",
            "Epoch 24/35\n",
            "85/85 [==============================] - 2s 29ms/step - loss: 0.1840 - binary_accuracy: 0.9440 - val_loss: 0.2521 - val_binary_accuracy: 0.8970\n",
            "Epoch 25/35\n",
            "85/85 [==============================] - 3s 30ms/step - loss: 0.1694 - binary_accuracy: 0.9462 - val_loss: 0.2484 - val_binary_accuracy: 0.9015\n",
            "Epoch 26/35\n",
            "85/85 [==============================] - 3s 33ms/step - loss: 0.1611 - binary_accuracy: 0.9525 - val_loss: 0.2447 - val_binary_accuracy: 0.9045\n",
            "Epoch 27/35\n",
            "85/85 [==============================] - 4s 48ms/step - loss: 0.1562 - binary_accuracy: 0.9592 - val_loss: 0.2367 - val_binary_accuracy: 0.9134\n",
            "Epoch 28/35\n",
            "85/85 [==============================] - 4s 41ms/step - loss: 0.1477 - binary_accuracy: 0.9592 - val_loss: 0.2359 - val_binary_accuracy: 0.9149\n",
            "Epoch 29/35\n",
            "85/85 [==============================] - 2s 29ms/step - loss: 0.1379 - binary_accuracy: 0.9648 - val_loss: 0.2367 - val_binary_accuracy: 0.9194\n",
            "Epoch 30/35\n",
            "85/85 [==============================] - 2s 28ms/step - loss: 0.1318 - binary_accuracy: 0.9655 - val_loss: 0.2392 - val_binary_accuracy: 0.9134\n",
            "Epoch 31/35\n",
            "85/85 [==============================] - 2s 27ms/step - loss: 0.1241 - binary_accuracy: 0.9711 - val_loss: 0.2342 - val_binary_accuracy: 0.9194\n",
            "Epoch 32/35\n",
            "85/85 [==============================] - 3s 39ms/step - loss: 0.1210 - binary_accuracy: 0.9707 - val_loss: 0.2349 - val_binary_accuracy: 0.9164\n",
            "Epoch 33/35\n",
            "85/85 [==============================] - 4s 46ms/step - loss: 0.1127 - binary_accuracy: 0.9726 - val_loss: 0.2340 - val_binary_accuracy: 0.9194\n",
            "Epoch 34/35\n",
            "85/85 [==============================] - 2s 29ms/step - loss: 0.1126 - binary_accuracy: 0.9711 - val_loss: 0.2337 - val_binary_accuracy: 0.9209\n",
            "Epoch 35/35\n",
            "85/85 [==============================] - 3s 31ms/step - loss: 0.1030 - binary_accuracy: 0.9763 - val_loss: 0.2367 - val_binary_accuracy: 0.9239\n"
          ]
        },
        {
          "output_type": "execute_result",
          "data": {
            "text/plain": [
              "<keras.callbacks.History at 0x7fba5c375150>"
            ]
          },
          "metadata": {},
          "execution_count": 45
        }
      ],
      "source": [
        "stacked_bi_lstm.fit(\n",
        "    x = X_train,\n",
        "    y = y_train,\n",
        "    batch_size = 16,\n",
        "    validation_data = (X_test, y_test),\n",
        "    epochs = 35,\n",
        "    callbacks = [early_stopper]\n",
        ")"
      ]
    },
    {
      "cell_type": "code",
      "execution_count": 46,
      "metadata": {
        "colab": {
          "base_uri": "https://localhost:8080/"
        },
        "id": "qyZu_OFWXI6Z",
        "outputId": "99cfdb06-b6d4-423b-cf9f-9ac1f46dd87f"
      },
      "outputs": [
        {
          "output_type": "stream",
          "name": "stdout",
          "text": [
            "Epoch 1/35\n",
            "85/85 [==============================] - 16s 131ms/step - loss: 0.6927 - binary_accuracy: 0.5297 - val_loss: 0.6908 - val_binary_accuracy: 0.6104\n",
            "Epoch 2/35\n",
            "85/85 [==============================] - 5s 60ms/step - loss: 0.6878 - binary_accuracy: 0.6651 - val_loss: 0.6853 - val_binary_accuracy: 0.6925\n",
            "Epoch 3/35\n",
            "85/85 [==============================] - 5s 57ms/step - loss: 0.6812 - binary_accuracy: 0.6895 - val_loss: 0.6777 - val_binary_accuracy: 0.6910\n",
            "Epoch 4/35\n",
            "85/85 [==============================] - 3s 30ms/step - loss: 0.6721 - binary_accuracy: 0.6951 - val_loss: 0.6667 - val_binary_accuracy: 0.6896\n",
            "Epoch 5/35\n",
            "85/85 [==============================] - 2s 22ms/step - loss: 0.6573 - binary_accuracy: 0.6921 - val_loss: 0.6481 - val_binary_accuracy: 0.6896\n",
            "Epoch 6/35\n",
            "85/85 [==============================] - 2s 19ms/step - loss: 0.6271 - binary_accuracy: 0.6929 - val_loss: 0.6051 - val_binary_accuracy: 0.6896\n",
            "Epoch 7/35\n",
            "85/85 [==============================] - 2s 19ms/step - loss: 0.5669 - binary_accuracy: 0.6925 - val_loss: 0.5515 - val_binary_accuracy: 0.6896\n",
            "Epoch 8/35\n",
            "85/85 [==============================] - 2s 21ms/step - loss: 0.5392 - binary_accuracy: 0.6936 - val_loss: 0.5421 - val_binary_accuracy: 0.6910\n",
            "Epoch 9/35\n",
            "85/85 [==============================] - 2s 28ms/step - loss: 0.5243 - binary_accuracy: 0.6977 - val_loss: 0.5248 - val_binary_accuracy: 0.6955\n",
            "Epoch 10/35\n",
            "85/85 [==============================] - 2s 24ms/step - loss: 0.5043 - binary_accuracy: 0.7114 - val_loss: 0.5114 - val_binary_accuracy: 0.7119\n",
            "Epoch 11/35\n",
            "85/85 [==============================] - 2s 19ms/step - loss: 0.4904 - binary_accuracy: 0.7289 - val_loss: 0.4927 - val_binary_accuracy: 0.7418\n",
            "Epoch 12/35\n",
            "85/85 [==============================] - 1s 17ms/step - loss: 0.4660 - binary_accuracy: 0.7493 - val_loss: 0.4814 - val_binary_accuracy: 0.7881\n",
            "Epoch 13/35\n",
            "85/85 [==============================] - 1s 15ms/step - loss: 0.4551 - binary_accuracy: 0.7771 - val_loss: 0.4681 - val_binary_accuracy: 0.8045\n",
            "Epoch 14/35\n",
            "85/85 [==============================] - 1s 15ms/step - loss: 0.4373 - binary_accuracy: 0.8001 - val_loss: 0.4517 - val_binary_accuracy: 0.8224\n",
            "Epoch 15/35\n",
            "85/85 [==============================] - 1s 14ms/step - loss: 0.4189 - binary_accuracy: 0.8309 - val_loss: 0.4351 - val_binary_accuracy: 0.8418\n",
            "Epoch 16/35\n",
            "85/85 [==============================] - 1s 14ms/step - loss: 0.4061 - binary_accuracy: 0.8487 - val_loss: 0.4294 - val_binary_accuracy: 0.8612\n",
            "Epoch 17/35\n",
            "85/85 [==============================] - 1s 13ms/step - loss: 0.3905 - binary_accuracy: 0.8631 - val_loss: 0.4082 - val_binary_accuracy: 0.8731\n",
            "Epoch 18/35\n",
            "85/85 [==============================] - 1s 14ms/step - loss: 0.3736 - binary_accuracy: 0.8728 - val_loss: 0.3942 - val_binary_accuracy: 0.8851\n",
            "Epoch 19/35\n",
            "85/85 [==============================] - 2s 24ms/step - loss: 0.3570 - binary_accuracy: 0.8817 - val_loss: 0.3787 - val_binary_accuracy: 0.8881\n",
            "Epoch 20/35\n",
            "85/85 [==============================] - 2s 22ms/step - loss: 0.3436 - binary_accuracy: 0.8884 - val_loss: 0.3708 - val_binary_accuracy: 0.8925\n",
            "Epoch 21/35\n",
            "85/85 [==============================] - 1s 15ms/step - loss: 0.3306 - binary_accuracy: 0.8954 - val_loss: 0.3551 - val_binary_accuracy: 0.8955\n",
            "Epoch 22/35\n",
            "85/85 [==============================] - 1s 12ms/step - loss: 0.3211 - binary_accuracy: 0.9002 - val_loss: 0.3418 - val_binary_accuracy: 0.9015\n",
            "Epoch 23/35\n",
            "85/85 [==============================] - 1s 15ms/step - loss: 0.3069 - binary_accuracy: 0.9024 - val_loss: 0.3293 - val_binary_accuracy: 0.8940\n",
            "Epoch 24/35\n",
            "85/85 [==============================] - 1s 12ms/step - loss: 0.2895 - binary_accuracy: 0.9091 - val_loss: 0.3215 - val_binary_accuracy: 0.8910\n",
            "Epoch 25/35\n",
            "85/85 [==============================] - 1s 12ms/step - loss: 0.2795 - binary_accuracy: 0.9091 - val_loss: 0.3103 - val_binary_accuracy: 0.8881\n",
            "Epoch 26/35\n",
            "85/85 [==============================] - 1s 15ms/step - loss: 0.2735 - binary_accuracy: 0.9099 - val_loss: 0.3021 - val_binary_accuracy: 0.8836\n",
            "Epoch 27/35\n",
            "85/85 [==============================] - 1s 12ms/step - loss: 0.2626 - binary_accuracy: 0.9121 - val_loss: 0.2985 - val_binary_accuracy: 0.8806\n",
            "Epoch 28/35\n",
            "85/85 [==============================] - 1s 10ms/step - loss: 0.2596 - binary_accuracy: 0.9165 - val_loss: 0.2905 - val_binary_accuracy: 0.8866\n",
            "Epoch 29/35\n",
            "85/85 [==============================] - 1s 14ms/step - loss: 0.2477 - binary_accuracy: 0.9217 - val_loss: 0.2879 - val_binary_accuracy: 0.8776\n",
            "Epoch 30/35\n",
            "85/85 [==============================] - 2s 20ms/step - loss: 0.2401 - binary_accuracy: 0.9217 - val_loss: 0.2804 - val_binary_accuracy: 0.8881\n",
            "Epoch 31/35\n",
            "85/85 [==============================] - 2s 22ms/step - loss: 0.2347 - binary_accuracy: 0.9254 - val_loss: 0.2806 - val_binary_accuracy: 0.8776\n",
            "Epoch 32/35\n",
            "85/85 [==============================] - 2s 22ms/step - loss: 0.2284 - binary_accuracy: 0.9266 - val_loss: 0.2769 - val_binary_accuracy: 0.8821\n",
            "Epoch 33/35\n",
            "85/85 [==============================] - 1s 17ms/step - loss: 0.2243 - binary_accuracy: 0.9269 - val_loss: 0.2739 - val_binary_accuracy: 0.8821\n",
            "Epoch 34/35\n",
            "85/85 [==============================] - 1s 13ms/step - loss: 0.2203 - binary_accuracy: 0.9262 - val_loss: 0.2696 - val_binary_accuracy: 0.8836\n",
            "Epoch 35/35\n",
            "85/85 [==============================] - 1s 13ms/step - loss: 0.2144 - binary_accuracy: 0.9258 - val_loss: 0.2675 - val_binary_accuracy: 0.8881\n"
          ]
        },
        {
          "output_type": "execute_result",
          "data": {
            "text/plain": [
              "<keras.callbacks.History at 0x7fba10aa5d20>"
            ]
          },
          "metadata": {},
          "execution_count": 46
        }
      ],
      "source": [
        "gru.fit(\n",
        "    x = X_train,\n",
        "    y = y_train,\n",
        "    batch_size = 16,\n",
        "    validation_data = (X_test, y_test),\n",
        "    epochs = 35,\n",
        "    callbacks = [early_stopper]\n",
        ")"
      ]
    },
    {
      "cell_type": "code",
      "execution_count": 47,
      "metadata": {
        "colab": {
          "base_uri": "https://localhost:8080/"
        },
        "id": "joeKAivZVAIq",
        "outputId": "2d3ba614-378f-4cd0-fafc-32715fd4b3aa"
      },
      "outputs": [
        {
          "output_type": "stream",
          "name": "stdout",
          "text": [
            "Epoch 1/35\n",
            "85/85 [==============================] - 23s 160ms/step - loss: 0.6911 - binary_accuracy: 0.5994 - val_loss: 0.6880 - val_binary_accuracy: 0.6552\n",
            "Epoch 2/35\n",
            "85/85 [==============================] - 7s 84ms/step - loss: 0.6832 - binary_accuracy: 0.6832 - val_loss: 0.6786 - val_binary_accuracy: 0.6925\n",
            "Epoch 3/35\n",
            "85/85 [==============================] - 3s 36ms/step - loss: 0.6714 - binary_accuracy: 0.6821 - val_loss: 0.6635 - val_binary_accuracy: 0.6896\n",
            "Epoch 4/35\n",
            "85/85 [==============================] - 3s 36ms/step - loss: 0.6490 - binary_accuracy: 0.6843 - val_loss: 0.6333 - val_binary_accuracy: 0.6896\n",
            "Epoch 5/35\n",
            "85/85 [==============================] - 2s 23ms/step - loss: 0.6061 - binary_accuracy: 0.6881 - val_loss: 0.5803 - val_binary_accuracy: 0.6896\n",
            "Epoch 6/35\n",
            "85/85 [==============================] - 4s 42ms/step - loss: 0.5607 - binary_accuracy: 0.6925 - val_loss: 0.5482 - val_binary_accuracy: 0.6896\n",
            "Epoch 7/35\n",
            "85/85 [==============================] - 3s 33ms/step - loss: 0.5388 - binary_accuracy: 0.6929 - val_loss: 0.5283 - val_binary_accuracy: 0.6896\n",
            "Epoch 8/35\n",
            "85/85 [==============================] - 2s 23ms/step - loss: 0.5113 - binary_accuracy: 0.6973 - val_loss: 0.5022 - val_binary_accuracy: 0.6970\n",
            "Epoch 9/35\n",
            "85/85 [==============================] - 1s 16ms/step - loss: 0.4756 - binary_accuracy: 0.7322 - val_loss: 0.4706 - val_binary_accuracy: 0.7627\n",
            "Epoch 10/35\n",
            "85/85 [==============================] - 2s 21ms/step - loss: 0.4385 - binary_accuracy: 0.7893 - val_loss: 0.4357 - val_binary_accuracy: 0.8239\n",
            "Epoch 11/35\n",
            "85/85 [==============================] - 2s 20ms/step - loss: 0.3964 - binary_accuracy: 0.8520 - val_loss: 0.4024 - val_binary_accuracy: 0.8642\n",
            "Epoch 12/35\n",
            "85/85 [==============================] - 2s 19ms/step - loss: 0.3589 - binary_accuracy: 0.8802 - val_loss: 0.3657 - val_binary_accuracy: 0.8672\n",
            "Epoch 13/35\n",
            "85/85 [==============================] - 2s 22ms/step - loss: 0.3266 - binary_accuracy: 0.8913 - val_loss: 0.3488 - val_binary_accuracy: 0.8672\n",
            "Epoch 14/35\n",
            "85/85 [==============================] - 3s 40ms/step - loss: 0.3032 - binary_accuracy: 0.8969 - val_loss: 0.3275 - val_binary_accuracy: 0.8642\n",
            "Epoch 15/35\n",
            "85/85 [==============================] - 2s 28ms/step - loss: 0.2845 - binary_accuracy: 0.9013 - val_loss: 0.3182 - val_binary_accuracy: 0.8716\n",
            "Epoch 16/35\n",
            "85/85 [==============================] - 2s 18ms/step - loss: 0.2667 - binary_accuracy: 0.9073 - val_loss: 0.3075 - val_binary_accuracy: 0.8746\n",
            "Epoch 17/35\n",
            "85/85 [==============================] - 1s 17ms/step - loss: 0.2624 - binary_accuracy: 0.9139 - val_loss: 0.3038 - val_binary_accuracy: 0.8672\n",
            "Epoch 18/35\n",
            "85/85 [==============================] - 2s 19ms/step - loss: 0.2472 - binary_accuracy: 0.9165 - val_loss: 0.2917 - val_binary_accuracy: 0.8761\n",
            "Epoch 19/35\n",
            "85/85 [==============================] - 2s 20ms/step - loss: 0.2427 - binary_accuracy: 0.9199 - val_loss: 0.2830 - val_binary_accuracy: 0.8776\n",
            "Epoch 20/35\n",
            "85/85 [==============================] - 1s 17ms/step - loss: 0.2314 - binary_accuracy: 0.9221 - val_loss: 0.2835 - val_binary_accuracy: 0.8746\n",
            "Epoch 21/35\n",
            "85/85 [==============================] - 2s 27ms/step - loss: 0.2254 - binary_accuracy: 0.9240 - val_loss: 0.2738 - val_binary_accuracy: 0.8791\n",
            "Epoch 22/35\n",
            "85/85 [==============================] - 3s 34ms/step - loss: 0.2190 - binary_accuracy: 0.9314 - val_loss: 0.2706 - val_binary_accuracy: 0.8791\n",
            "Epoch 23/35\n",
            "85/85 [==============================] - 2s 28ms/step - loss: 0.2114 - binary_accuracy: 0.9280 - val_loss: 0.2672 - val_binary_accuracy: 0.8821\n",
            "Epoch 24/35\n",
            "85/85 [==============================] - 2s 20ms/step - loss: 0.2040 - binary_accuracy: 0.9303 - val_loss: 0.2660 - val_binary_accuracy: 0.8836\n",
            "Epoch 25/35\n",
            "85/85 [==============================] - 2s 21ms/step - loss: 0.1967 - binary_accuracy: 0.9329 - val_loss: 0.2635 - val_binary_accuracy: 0.8836\n",
            "Epoch 26/35\n",
            "85/85 [==============================] - 2s 20ms/step - loss: 0.1946 - binary_accuracy: 0.9362 - val_loss: 0.2571 - val_binary_accuracy: 0.8881\n",
            "Epoch 27/35\n",
            "85/85 [==============================] - 1s 16ms/step - loss: 0.1839 - binary_accuracy: 0.9369 - val_loss: 0.2608 - val_binary_accuracy: 0.8851\n",
            "Epoch 28/35\n",
            "85/85 [==============================] - 1s 18ms/step - loss: 0.1777 - binary_accuracy: 0.9407 - val_loss: 0.2523 - val_binary_accuracy: 0.8881\n",
            "Epoch 29/35\n",
            "85/85 [==============================] - 2s 27ms/step - loss: 0.1699 - binary_accuracy: 0.9462 - val_loss: 0.2524 - val_binary_accuracy: 0.8940\n",
            "Epoch 30/35\n",
            "85/85 [==============================] - 3s 34ms/step - loss: 0.1678 - binary_accuracy: 0.9466 - val_loss: 0.2525 - val_binary_accuracy: 0.8910\n",
            "Epoch 31/35\n",
            "85/85 [==============================] - 2s 23ms/step - loss: 0.1626 - binary_accuracy: 0.9488 - val_loss: 0.2519 - val_binary_accuracy: 0.8925\n",
            "Epoch 32/35\n",
            "85/85 [==============================] - 1s 17ms/step - loss: 0.1553 - binary_accuracy: 0.9525 - val_loss: 0.2502 - val_binary_accuracy: 0.8896\n",
            "Epoch 33/35\n",
            "85/85 [==============================] - 2s 20ms/step - loss: 0.1486 - binary_accuracy: 0.9544 - val_loss: 0.2455 - val_binary_accuracy: 0.8896\n",
            "Epoch 34/35\n",
            "85/85 [==============================] - 2s 20ms/step - loss: 0.1476 - binary_accuracy: 0.9570 - val_loss: 0.2509 - val_binary_accuracy: 0.8896\n",
            "Epoch 35/35\n",
            "85/85 [==============================] - 2s 18ms/step - loss: 0.1429 - binary_accuracy: 0.9611 - val_loss: 0.2445 - val_binary_accuracy: 0.8970\n"
          ]
        },
        {
          "output_type": "execute_result",
          "data": {
            "text/plain": [
              "<keras.callbacks.History at 0x7fba1861a500>"
            ]
          },
          "metadata": {},
          "execution_count": 47
        }
      ],
      "source": [
        "stacked_gru.fit(\n",
        "    x = X_train,\n",
        "    y = y_train,\n",
        "    batch_size = 16,\n",
        "    validation_data = (X_test, y_test),\n",
        "    epochs = 35,\n",
        "    callbacks = [early_stopper]\n",
        ")"
      ]
    },
    {
      "cell_type": "code",
      "execution_count": 48,
      "metadata": {
        "colab": {
          "base_uri": "https://localhost:8080/"
        },
        "id": "cPhlEtsiXJA_",
        "outputId": "8588a279-8f5f-48e5-ff9b-f5d68e498cd6"
      },
      "outputs": [
        {
          "output_type": "stream",
          "name": "stdout",
          "text": [
            "Epoch 1/35\n",
            "85/85 [==============================] - 22s 147ms/step - loss: 0.6943 - binary_accuracy: 0.4562 - val_loss: 0.6908 - val_binary_accuracy: 0.6254\n",
            "Epoch 2/35\n",
            "85/85 [==============================] - 6s 71ms/step - loss: 0.6875 - binary_accuracy: 0.6799 - val_loss: 0.6837 - val_binary_accuracy: 0.6985\n",
            "Epoch 3/35\n",
            "85/85 [==============================] - 3s 31ms/step - loss: 0.6796 - binary_accuracy: 0.6984 - val_loss: 0.6751 - val_binary_accuracy: 0.6910\n",
            "Epoch 4/35\n",
            "85/85 [==============================] - 3s 34ms/step - loss: 0.6691 - binary_accuracy: 0.6962 - val_loss: 0.6636 - val_binary_accuracy: 0.6896\n",
            "Epoch 5/35\n",
            "85/85 [==============================] - 3s 39ms/step - loss: 0.6552 - binary_accuracy: 0.6932 - val_loss: 0.6476 - val_binary_accuracy: 0.6896\n",
            "Epoch 6/35\n",
            "85/85 [==============================] - 3s 35ms/step - loss: 0.6341 - binary_accuracy: 0.6947 - val_loss: 0.6217 - val_binary_accuracy: 0.6896\n",
            "Epoch 7/35\n",
            "85/85 [==============================] - 2s 22ms/step - loss: 0.5954 - binary_accuracy: 0.6966 - val_loss: 0.5701 - val_binary_accuracy: 0.6896\n",
            "Epoch 8/35\n",
            "85/85 [==============================] - 2s 22ms/step - loss: 0.5370 - binary_accuracy: 0.7010 - val_loss: 0.5303 - val_binary_accuracy: 0.6925\n",
            "Epoch 9/35\n",
            "85/85 [==============================] - 2s 23ms/step - loss: 0.5124 - binary_accuracy: 0.7162 - val_loss: 0.5102 - val_binary_accuracy: 0.7090\n",
            "Epoch 10/35\n",
            "85/85 [==============================] - 2s 19ms/step - loss: 0.4925 - binary_accuracy: 0.7404 - val_loss: 0.4894 - val_binary_accuracy: 0.7463\n",
            "Epoch 11/35\n",
            "85/85 [==============================] - 2s 19ms/step - loss: 0.4682 - binary_accuracy: 0.7685 - val_loss: 0.4623 - val_binary_accuracy: 0.7821\n",
            "Epoch 12/35\n",
            "85/85 [==============================] - 3s 33ms/step - loss: 0.4353 - binary_accuracy: 0.8082 - val_loss: 0.4391 - val_binary_accuracy: 0.8284\n",
            "Epoch 13/35\n",
            "85/85 [==============================] - 3s 36ms/step - loss: 0.4122 - binary_accuracy: 0.8379 - val_loss: 0.4166 - val_binary_accuracy: 0.8552\n",
            "Epoch 14/35\n",
            "85/85 [==============================] - 1s 17ms/step - loss: 0.3875 - binary_accuracy: 0.8572 - val_loss: 0.3915 - val_binary_accuracy: 0.8776\n",
            "Epoch 15/35\n",
            "85/85 [==============================] - 2s 24ms/step - loss: 0.3676 - binary_accuracy: 0.8717 - val_loss: 0.3736 - val_binary_accuracy: 0.8881\n",
            "Epoch 16/35\n",
            "85/85 [==============================] - 2s 19ms/step - loss: 0.3497 - binary_accuracy: 0.8798 - val_loss: 0.3567 - val_binary_accuracy: 0.8925\n",
            "Epoch 17/35\n",
            "85/85 [==============================] - 1s 17ms/step - loss: 0.3313 - binary_accuracy: 0.8884 - val_loss: 0.3396 - val_binary_accuracy: 0.9000\n",
            "Epoch 18/35\n",
            "85/85 [==============================] - 2s 20ms/step - loss: 0.3116 - binary_accuracy: 0.8995 - val_loss: 0.3242 - val_binary_accuracy: 0.9015\n",
            "Epoch 19/35\n",
            "85/85 [==============================] - 1s 16ms/step - loss: 0.3009 - binary_accuracy: 0.8991 - val_loss: 0.3137 - val_binary_accuracy: 0.9030\n",
            "Epoch 20/35\n",
            "85/85 [==============================] - 3s 38ms/step - loss: 0.2834 - binary_accuracy: 0.9091 - val_loss: 0.2923 - val_binary_accuracy: 0.9060\n",
            "Epoch 21/35\n",
            "85/85 [==============================] - 3s 34ms/step - loss: 0.2690 - binary_accuracy: 0.9143 - val_loss: 0.2841 - val_binary_accuracy: 0.9015\n",
            "Epoch 22/35\n",
            "85/85 [==============================] - 1s 15ms/step - loss: 0.2601 - binary_accuracy: 0.9151 - val_loss: 0.2718 - val_binary_accuracy: 0.9090\n",
            "Epoch 23/35\n",
            "85/85 [==============================] - 1s 17ms/step - loss: 0.2450 - binary_accuracy: 0.9199 - val_loss: 0.2611 - val_binary_accuracy: 0.9104\n",
            "Epoch 24/35\n",
            "85/85 [==============================] - 1s 17ms/step - loss: 0.2356 - binary_accuracy: 0.9214 - val_loss: 0.2525 - val_binary_accuracy: 0.9134\n",
            "Epoch 25/35\n",
            "85/85 [==============================] - 1s 17ms/step - loss: 0.2308 - binary_accuracy: 0.9225 - val_loss: 0.2465 - val_binary_accuracy: 0.9164\n",
            "Epoch 26/35\n",
            "85/85 [==============================] - 1s 15ms/step - loss: 0.2254 - binary_accuracy: 0.9269 - val_loss: 0.2392 - val_binary_accuracy: 0.9149\n",
            "Epoch 27/35\n",
            "85/85 [==============================] - 1s 17ms/step - loss: 0.2160 - binary_accuracy: 0.9240 - val_loss: 0.2370 - val_binary_accuracy: 0.9060\n",
            "Epoch 28/35\n",
            "85/85 [==============================] - 3s 31ms/step - loss: 0.2049 - binary_accuracy: 0.9318 - val_loss: 0.2243 - val_binary_accuracy: 0.9164\n",
            "Epoch 29/35\n",
            "85/85 [==============================] - 3s 31ms/step - loss: 0.1986 - binary_accuracy: 0.9343 - val_loss: 0.2219 - val_binary_accuracy: 0.9149\n",
            "Epoch 30/35\n",
            "85/85 [==============================] - 2s 20ms/step - loss: 0.1944 - binary_accuracy: 0.9332 - val_loss: 0.2138 - val_binary_accuracy: 0.9179\n",
            "Epoch 31/35\n",
            "85/85 [==============================] - 2s 20ms/step - loss: 0.1874 - binary_accuracy: 0.9388 - val_loss: 0.2093 - val_binary_accuracy: 0.9179\n",
            "Epoch 32/35\n",
            "85/85 [==============================] - 1s 16ms/step - loss: 0.1845 - binary_accuracy: 0.9369 - val_loss: 0.2057 - val_binary_accuracy: 0.9149\n",
            "Epoch 33/35\n",
            "85/85 [==============================] - 2s 19ms/step - loss: 0.1777 - binary_accuracy: 0.9440 - val_loss: 0.2015 - val_binary_accuracy: 0.9149\n",
            "Epoch 34/35\n",
            "85/85 [==============================] - 2s 19ms/step - loss: 0.1711 - binary_accuracy: 0.9403 - val_loss: 0.1990 - val_binary_accuracy: 0.9164\n",
            "Epoch 35/35\n",
            "85/85 [==============================] - 2s 21ms/step - loss: 0.1644 - binary_accuracy: 0.9444 - val_loss: 0.1947 - val_binary_accuracy: 0.9224\n"
          ]
        },
        {
          "output_type": "execute_result",
          "data": {
            "text/plain": [
              "<keras.callbacks.History at 0x7fba0b0d0310>"
            ]
          },
          "metadata": {},
          "execution_count": 48
        }
      ],
      "source": [
        "bi_gru.fit(\n",
        "    x = X_train,\n",
        "    y = y_train,\n",
        "    batch_size = 16,\n",
        "    validation_data = (X_test, y_test),\n",
        "    epochs = 35,\n",
        "    callbacks = [early_stopper]\n",
        ")"
      ]
    },
    {
      "cell_type": "code",
      "execution_count": 49,
      "metadata": {
        "colab": {
          "base_uri": "https://localhost:8080/"
        },
        "id": "xVKsRu2UXJGk",
        "outputId": "f12a21b0-6302-489e-fcaf-4caf5320e3ca"
      },
      "outputs": [
        {
          "output_type": "stream",
          "name": "stdout",
          "text": [
            "Epoch 1/35\n",
            "85/85 [==============================] - 34s 180ms/step - loss: 0.6855 - binary_accuracy: 0.6795 - val_loss: 0.6765 - val_binary_accuracy: 0.6896\n",
            "Epoch 2/35\n",
            "85/85 [==============================] - 7s 77ms/step - loss: 0.6658 - binary_accuracy: 0.6925 - val_loss: 0.6512 - val_binary_accuracy: 0.6896\n",
            "Epoch 3/35\n",
            "85/85 [==============================] - 5s 61ms/step - loss: 0.6309 - binary_accuracy: 0.6925 - val_loss: 0.6083 - val_binary_accuracy: 0.6896\n",
            "Epoch 4/35\n",
            "85/85 [==============================] - 5s 54ms/step - loss: 0.5861 - binary_accuracy: 0.6925 - val_loss: 0.5635 - val_binary_accuracy: 0.6896\n",
            "Epoch 5/35\n",
            "85/85 [==============================] - 3s 37ms/step - loss: 0.5478 - binary_accuracy: 0.6925 - val_loss: 0.5338 - val_binary_accuracy: 0.6910\n",
            "Epoch 6/35\n",
            "85/85 [==============================] - 3s 31ms/step - loss: 0.5113 - binary_accuracy: 0.6992 - val_loss: 0.4997 - val_binary_accuracy: 0.6985\n",
            "Epoch 7/35\n",
            "85/85 [==============================] - 3s 31ms/step - loss: 0.4688 - binary_accuracy: 0.7363 - val_loss: 0.4547 - val_binary_accuracy: 0.7612\n",
            "Epoch 8/35\n",
            "85/85 [==============================] - 5s 58ms/step - loss: 0.4170 - binary_accuracy: 0.7967 - val_loss: 0.4089 - val_binary_accuracy: 0.8134\n",
            "Epoch 9/35\n",
            "85/85 [==============================] - 3s 32ms/step - loss: 0.3763 - binary_accuracy: 0.8509 - val_loss: 0.3761 - val_binary_accuracy: 0.8657\n",
            "Epoch 10/35\n",
            "85/85 [==============================] - 3s 34ms/step - loss: 0.3450 - binary_accuracy: 0.8791 - val_loss: 0.3473 - val_binary_accuracy: 0.8851\n",
            "Epoch 11/35\n",
            "85/85 [==============================] - 3s 31ms/step - loss: 0.3153 - binary_accuracy: 0.8887 - val_loss: 0.3252 - val_binary_accuracy: 0.8940\n",
            "Epoch 12/35\n",
            "85/85 [==============================] - 3s 33ms/step - loss: 0.2905 - binary_accuracy: 0.8976 - val_loss: 0.3012 - val_binary_accuracy: 0.8955\n",
            "Epoch 13/35\n",
            "85/85 [==============================] - 5s 58ms/step - loss: 0.2665 - binary_accuracy: 0.9024 - val_loss: 0.2864 - val_binary_accuracy: 0.8970\n",
            "Epoch 14/35\n",
            "85/85 [==============================] - 3s 33ms/step - loss: 0.2547 - binary_accuracy: 0.9076 - val_loss: 0.2752 - val_binary_accuracy: 0.8940\n",
            "Epoch 15/35\n",
            "85/85 [==============================] - 2s 28ms/step - loss: 0.2357 - binary_accuracy: 0.9132 - val_loss: 0.2622 - val_binary_accuracy: 0.9015\n",
            "Epoch 16/35\n",
            "85/85 [==============================] - 2s 28ms/step - loss: 0.2259 - binary_accuracy: 0.9143 - val_loss: 0.2558 - val_binary_accuracy: 0.9015\n",
            "Epoch 17/35\n",
            "85/85 [==============================] - 4s 50ms/step - loss: 0.2147 - binary_accuracy: 0.9217 - val_loss: 0.2473 - val_binary_accuracy: 0.9090\n",
            "Epoch 18/35\n",
            "85/85 [==============================] - 4s 47ms/step - loss: 0.2063 - binary_accuracy: 0.9247 - val_loss: 0.2403 - val_binary_accuracy: 0.9104\n",
            "Epoch 19/35\n",
            "85/85 [==============================] - 3s 31ms/step - loss: 0.1946 - binary_accuracy: 0.9251 - val_loss: 0.2325 - val_binary_accuracy: 0.9149\n",
            "Epoch 20/35\n",
            "85/85 [==============================] - 2s 28ms/step - loss: 0.1869 - binary_accuracy: 0.9310 - val_loss: 0.2262 - val_binary_accuracy: 0.9164\n",
            "Epoch 21/35\n",
            "85/85 [==============================] - 3s 31ms/step - loss: 0.1806 - binary_accuracy: 0.9336 - val_loss: 0.2201 - val_binary_accuracy: 0.9164\n",
            "Epoch 22/35\n",
            "85/85 [==============================] - 3s 39ms/step - loss: 0.1747 - binary_accuracy: 0.9340 - val_loss: 0.2190 - val_binary_accuracy: 0.9119\n",
            "Epoch 23/35\n",
            "85/85 [==============================] - 4s 45ms/step - loss: 0.1642 - binary_accuracy: 0.9366 - val_loss: 0.2142 - val_binary_accuracy: 0.9134\n",
            "Epoch 24/35\n",
            "85/85 [==============================] - 2s 26ms/step - loss: 0.1561 - binary_accuracy: 0.9410 - val_loss: 0.2120 - val_binary_accuracy: 0.9104\n",
            "Epoch 25/35\n",
            "85/85 [==============================] - 2s 27ms/step - loss: 0.1504 - binary_accuracy: 0.9473 - val_loss: 0.2069 - val_binary_accuracy: 0.9149\n",
            "Epoch 26/35\n",
            "85/85 [==============================] - 3s 29ms/step - loss: 0.1427 - binary_accuracy: 0.9496 - val_loss: 0.2055 - val_binary_accuracy: 0.9104\n",
            "Epoch 27/35\n",
            "85/85 [==============================] - 2s 29ms/step - loss: 0.1364 - binary_accuracy: 0.9566 - val_loss: 0.2004 - val_binary_accuracy: 0.9194\n",
            "Epoch 28/35\n",
            "85/85 [==============================] - 5s 54ms/step - loss: 0.1293 - binary_accuracy: 0.9585 - val_loss: 0.2020 - val_binary_accuracy: 0.9149\n",
            "Epoch 29/35\n",
            "85/85 [==============================] - 3s 30ms/step - loss: 0.1240 - binary_accuracy: 0.9596 - val_loss: 0.1960 - val_binary_accuracy: 0.9179\n",
            "Epoch 30/35\n",
            "85/85 [==============================] - 2s 27ms/step - loss: 0.1203 - binary_accuracy: 0.9629 - val_loss: 0.1951 - val_binary_accuracy: 0.9194\n",
            "Epoch 31/35\n",
            "85/85 [==============================] - 2s 29ms/step - loss: 0.1109 - binary_accuracy: 0.9666 - val_loss: 0.1960 - val_binary_accuracy: 0.9209\n",
            "Epoch 32/35\n",
            "85/85 [==============================] - 2s 29ms/step - loss: 0.1011 - binary_accuracy: 0.9707 - val_loss: 0.1929 - val_binary_accuracy: 0.9284\n",
            "Epoch 33/35\n",
            "85/85 [==============================] - 4s 45ms/step - loss: 0.0946 - binary_accuracy: 0.9722 - val_loss: 0.1964 - val_binary_accuracy: 0.9284\n",
            "Epoch 34/35\n",
            "85/85 [==============================] - 4s 43ms/step - loss: 0.0881 - binary_accuracy: 0.9733 - val_loss: 0.1982 - val_binary_accuracy: 0.9269\n",
            "Epoch 35/35\n",
            "85/85 [==============================] - 2s 28ms/step - loss: 0.0834 - binary_accuracy: 0.9770 - val_loss: 0.1970 - val_binary_accuracy: 0.9269\n"
          ]
        },
        {
          "output_type": "execute_result",
          "data": {
            "text/plain": [
              "<keras.callbacks.History at 0x7fba093ab160>"
            ]
          },
          "metadata": {},
          "execution_count": 49
        }
      ],
      "source": [
        "stacked_bi_gru.fit(\n",
        "    x = X_train,\n",
        "    y = y_train,\n",
        "    batch_size = 16,\n",
        "    validation_data = (X_test, y_test),\n",
        "    epochs = 35,\n",
        "    callbacks = [early_stopper]\n",
        ")"
      ]
    },
    {
      "cell_type": "markdown",
      "metadata": {
        "id": "1pqPbCoB2Rzu"
      },
      "source": [
        "## Evaluasi Model"
      ]
    },
    {
      "cell_type": "code",
      "execution_count": 50,
      "metadata": {
        "id": "aE7S_l9Odg-O"
      },
      "outputs": [],
      "source": [
        "from sklearn.metrics import classification_report\n",
        "\n",
        "# Label kelas target untuk penamaan pada tabel classification report\n",
        "class_labels = [\"apresiasi\", \"kritik\"]"
      ]
    },
    {
      "cell_type": "code",
      "execution_count": 51,
      "metadata": {
        "colab": {
          "base_uri": "https://localhost:8080/"
        },
        "id": "w3Cl563egMyQ",
        "outputId": "b631810e-ba3b-4eb2-f9f6-2854ddeefbaf"
      },
      "outputs": [
        {
          "output_type": "stream",
          "name": "stdout",
          "text": [
            "11/11 [==============================] - 2s 4ms/step\n",
            "              precision    recall  f1-score   support\n",
            "\n",
            "   apresiasi       0.87      0.85      0.86       121\n",
            "      kritik       0.96      0.89      0.92       248\n",
            "\n",
            "   micro avg       0.93      0.88      0.90       369\n",
            "   macro avg       0.92      0.87      0.89       369\n",
            "weighted avg       0.93      0.88      0.90       369\n",
            " samples avg       0.94      0.91      0.92       369\n",
            "\n"
          ]
        }
      ],
      "source": [
        "# Evaluasi LSTM\n",
        "y_pred = lstm.predict(X_test) > 0.5\n",
        "print(classification_report(y_test, y_pred, target_names=class_labels))"
      ]
    },
    {
      "cell_type": "code",
      "execution_count": 52,
      "metadata": {
        "colab": {
          "base_uri": "https://localhost:8080/"
        },
        "id": "CJiWwujVUpUM",
        "outputId": "249d0ff0-a3a5-4ff0-8ca9-3b1e0f23c8fc"
      },
      "outputs": [
        {
          "output_type": "stream",
          "name": "stdout",
          "text": [
            "11/11 [==============================] - 2s 6ms/step\n",
            "              precision    recall  f1-score   support\n",
            "\n",
            "   apresiasi       0.87      0.91      0.89       121\n",
            "      kritik       0.97      0.86      0.91       248\n",
            "\n",
            "   micro avg       0.94      0.88      0.91       369\n",
            "   macro avg       0.92      0.89      0.90       369\n",
            "weighted avg       0.94      0.88      0.91       369\n",
            " samples avg       0.94      0.91      0.92       369\n",
            "\n"
          ]
        }
      ],
      "source": [
        "# Evaluasi Stacked LSTM\n",
        "\n",
        "y_pred = stacked_lstm.predict(X_test) > 0.5\n",
        "print(classification_report(y_test, y_pred, target_names=class_labels))"
      ]
    },
    {
      "cell_type": "code",
      "execution_count": 53,
      "metadata": {
        "colab": {
          "base_uri": "https://localhost:8080/"
        },
        "id": "MkofvwLyVFWm",
        "outputId": "72813b7c-0107-4b13-9b56-aec2b37cf34d"
      },
      "outputs": [
        {
          "output_type": "stream",
          "name": "stdout",
          "text": [
            "11/11 [==============================] - 3s 9ms/step\n",
            "              precision    recall  f1-score   support\n",
            "\n",
            "   apresiasi       0.83      0.95      0.88       121\n",
            "      kritik       0.97      0.94      0.95       248\n",
            "\n",
            "   micro avg       0.92      0.94      0.93       369\n",
            "   macro avg       0.90      0.94      0.92       369\n",
            "weighted avg       0.92      0.94      0.93       369\n",
            " samples avg       0.94      0.95      0.94       369\n",
            "\n"
          ]
        }
      ],
      "source": [
        "# Evaluasi Bi-LSTM\n",
        "\n",
        "y_pred = bi_lstm.predict(X_test) > 0.5\n",
        "print(classification_report(y_test, y_pred, target_names=class_labels))"
      ]
    },
    {
      "cell_type": "code",
      "execution_count": 54,
      "metadata": {
        "colab": {
          "base_uri": "https://localhost:8080/"
        },
        "id": "6AG3_TVmVGGO",
        "outputId": "deaa74d8-a2e9-472d-d1d4-8dcd7a51f740"
      },
      "outputs": [
        {
          "output_type": "stream",
          "name": "stdout",
          "text": [
            "11/11 [==============================] - 5s 9ms/step\n",
            "              precision    recall  f1-score   support\n",
            "\n",
            "   apresiasi       0.85      0.93      0.89       121\n",
            "      kritik       0.98      0.93      0.95       248\n",
            "\n",
            "   micro avg       0.93      0.93      0.93       369\n",
            "   macro avg       0.91      0.93      0.92       369\n",
            "weighted avg       0.94      0.93      0.93       369\n",
            " samples avg       0.95      0.94      0.94       369\n",
            "\n"
          ]
        }
      ],
      "source": [
        "# Evaluasi Stacked Bi-LSTM\n",
        "\n",
        "y_pred = stacked_bi_lstm.predict(X_test) > 0.5\n",
        "print(classification_report(y_test, y_pred, target_names=class_labels))"
      ]
    },
    {
      "cell_type": "code",
      "execution_count": 55,
      "metadata": {
        "colab": {
          "base_uri": "https://localhost:8080/"
        },
        "id": "0mZOHJfpVGNb",
        "outputId": "bd286b3d-5304-435b-ca9e-bb225bb18ed5"
      },
      "outputs": [
        {
          "output_type": "stream",
          "name": "stdout",
          "text": [
            "11/11 [==============================] - 1s 4ms/step\n",
            "              precision    recall  f1-score   support\n",
            "\n",
            "   apresiasi       0.83      0.85      0.84       121\n",
            "      kritik       0.97      0.88      0.92       248\n",
            "\n",
            "   micro avg       0.92      0.87      0.90       369\n",
            "   macro avg       0.90      0.87      0.88       369\n",
            "weighted avg       0.92      0.87      0.90       369\n",
            " samples avg       0.93      0.90      0.91       369\n",
            "\n"
          ]
        }
      ],
      "source": [
        "# Evaluasi GRU\n",
        "\n",
        "y_pred = gru.predict(X_test) > 0.5\n",
        "print(classification_report(y_test, y_pred, target_names=class_labels))"
      ]
    },
    {
      "cell_type": "code",
      "execution_count": 56,
      "metadata": {
        "colab": {
          "base_uri": "https://localhost:8080/"
        },
        "id": "5bNBZlk5UvT6",
        "outputId": "42632b4b-3da6-4803-b560-a85f146ea05e"
      },
      "outputs": [
        {
          "output_type": "stream",
          "name": "stdout",
          "text": [
            "11/11 [==============================] - 2s 6ms/step\n",
            "              precision    recall  f1-score   support\n",
            "\n",
            "   apresiasi       0.81      0.89      0.85       121\n",
            "      kritik       0.97      0.90      0.94       248\n",
            "\n",
            "   micro avg       0.91      0.90      0.91       369\n",
            "   macro avg       0.89      0.90      0.89       369\n",
            "weighted avg       0.92      0.90      0.91       369\n",
            " samples avg       0.93      0.92      0.92       369\n",
            "\n"
          ]
        }
      ],
      "source": [
        "# Evaluasi Stacked GRU\n",
        "\n",
        "y_pred = stacked_gru.predict(X_test) > 0.5\n",
        "print(classification_report(y_test, y_pred, target_names=class_labels))"
      ]
    },
    {
      "cell_type": "code",
      "execution_count": 57,
      "metadata": {
        "colab": {
          "base_uri": "https://localhost:8080/"
        },
        "id": "IEG0LF_ZVGTa",
        "outputId": "4d51679c-7600-428e-bf1d-826fef0875c5"
      },
      "outputs": [
        {
          "output_type": "stream",
          "name": "stdout",
          "text": [
            "11/11 [==============================] - 2s 5ms/step\n",
            "              precision    recall  f1-score   support\n",
            "\n",
            "   apresiasi       0.85      0.89      0.87       121\n",
            "      kritik       0.97      0.95      0.96       248\n",
            "\n",
            "   micro avg       0.93      0.93      0.93       369\n",
            "   macro avg       0.91      0.92      0.92       369\n",
            "weighted avg       0.93      0.93      0.93       369\n",
            " samples avg       0.95      0.95      0.94       369\n",
            "\n"
          ]
        }
      ],
      "source": [
        "# Evaluasi Bi-GRU\n",
        "\n",
        "y_pred = bi_gru.predict(X_test) > 0.5\n",
        "print(classification_report(y_test, y_pred, target_names=class_labels))"
      ]
    },
    {
      "cell_type": "code",
      "execution_count": 58,
      "metadata": {
        "colab": {
          "base_uri": "https://localhost:8080/"
        },
        "id": "sKvWW3VoVGYG",
        "outputId": "ba55e926-5da6-4fe9-b620-5a0d36f4704e"
      },
      "outputs": [
        {
          "output_type": "stream",
          "name": "stdout",
          "text": [
            "11/11 [==============================] - 6s 8ms/step\n",
            "              precision    recall  f1-score   support\n",
            "\n",
            "   apresiasi       0.87      0.90      0.88       121\n",
            "      kritik       0.98      0.94      0.96       248\n",
            "\n",
            "   micro avg       0.94      0.93      0.93       369\n",
            "   macro avg       0.92      0.92      0.92       369\n",
            "weighted avg       0.94      0.93      0.93       369\n",
            " samples avg       0.96      0.95      0.95       369\n",
            "\n"
          ]
        }
      ],
      "source": [
        "# Evaluasi Stacked Bi-GRU\n",
        "\n",
        "y_pred = stacked_bi_gru.predict(X_test) > 0.5\n",
        "print(classification_report(y_test, y_pred, target_names=class_labels))"
      ]
    },
    {
      "cell_type": "markdown",
      "metadata": {
        "id": "boUQrPKHg-Gl"
      },
      "source": [
        "## Menyimpan Model"
      ]
    },
    {
      "cell_type": "code",
      "execution_count": null,
      "metadata": {
        "id": "-rCP33ROgD6Z"
      },
      "outputs": [],
      "source": [
        "# Menyimpan model ke directory\n",
        "\n",
        "# lstm.save(\"lstm-1\")\n",
        "# bi_lstm.save(\"bi-lstm-1\")\n",
        "# stacked_bi_lstm.save(\"stacked-bi-lstm-1\")\n",
        "# gru.save(\"gru-1\")\n",
        "# bi_gru.save(\"bi-gru-1\")\n",
        "# stacked_bi_gru.save(\"stacked-bi-gru-1\")"
      ]
    },
    {
      "cell_type": "markdown",
      "metadata": {
        "id": "YmLs3lAgDmKU"
      },
      "source": [
        "# BERT Model"
      ]
    },
    {
      "cell_type": "markdown",
      "metadata": {
        "id": "WTG1qtG12WQD"
      },
      "source": [
        "## Mapping BERT Preprocesser and Encoder"
      ]
    },
    {
      "cell_type": "code",
      "execution_count": 16,
      "metadata": {
        "id": "7bJfLsKuEua0"
      },
      "outputs": [],
      "source": [
        "# Map kata kunci untuk menuju URL dependencies BERT preprocesser dan BERT encoder\n",
        "\n",
        "map_name_to_handle = {\n",
        "    'bert_en_uncased_L-12_H-768_A-12':\n",
        "        'https://tfhub.dev/tensorflow/bert_en_uncased_L-12_H-768_A-12/3',\n",
        "    'bert_en_cased_L-12_H-768_A-12':\n",
        "        'https://tfhub.dev/tensorflow/bert_en_cased_L-12_H-768_A-12/3',\n",
        "    'bert_multi_cased_L-12_H-768_A-12':\n",
        "        'https://tfhub.dev/tensorflow/bert_multi_cased_L-12_H-768_A-12/3',\n",
        "    'small_bert/bert_en_uncased_L-2_H-128_A-2':\n",
        "        'https://tfhub.dev/tensorflow/small_bert/bert_en_uncased_L-2_H-128_A-2/1',\n",
        "    'small_bert/bert_en_uncased_L-2_H-256_A-4':\n",
        "        'https://tfhub.dev/tensorflow/small_bert/bert_en_uncased_L-2_H-256_A-4/1',\n",
        "    'small_bert/bert_en_uncased_L-2_H-512_A-8':\n",
        "        'https://tfhub.dev/tensorflow/small_bert/bert_en_uncased_L-2_H-512_A-8/1',\n",
        "    'small_bert/bert_en_uncased_L-2_H-768_A-12':\n",
        "        'https://tfhub.dev/tensorflow/small_bert/bert_en_uncased_L-2_H-768_A-12/1',\n",
        "    'small_bert/bert_en_uncased_L-4_H-128_A-2':\n",
        "        'https://tfhub.dev/tensorflow/small_bert/bert_en_uncased_L-4_H-128_A-2/1',\n",
        "    'small_bert/bert_en_uncased_L-4_H-256_A-4':\n",
        "        'https://tfhub.dev/tensorflow/small_bert/bert_en_uncased_L-4_H-256_A-4/1',\n",
        "    'small_bert/bert_en_uncased_L-4_H-512_A-8':\n",
        "        'https://tfhub.dev/tensorflow/small_bert/bert_en_uncased_L-4_H-512_A-8/1',\n",
        "    'small_bert/bert_en_uncased_L-4_H-768_A-12':\n",
        "        'https://tfhub.dev/tensorflow/small_bert/bert_en_uncased_L-4_H-768_A-12/1',\n",
        "    'small_bert/bert_en_uncased_L-6_H-128_A-2':\n",
        "        'https://tfhub.dev/tensorflow/small_bert/bert_en_uncased_L-6_H-128_A-2/1',\n",
        "    'small_bert/bert_en_uncased_L-6_H-256_A-4':\n",
        "        'https://tfhub.dev/tensorflow/small_bert/bert_en_uncased_L-6_H-256_A-4/1',\n",
        "    'small_bert/bert_en_uncased_L-6_H-512_A-8':\n",
        "        'https://tfhub.dev/tensorflow/small_bert/bert_en_uncased_L-6_H-512_A-8/1',\n",
        "    'small_bert/bert_en_uncased_L-6_H-768_A-12':\n",
        "        'https://tfhub.dev/tensorflow/small_bert/bert_en_uncased_L-6_H-768_A-12/1',\n",
        "    'small_bert/bert_en_uncased_L-8_H-128_A-2':\n",
        "        'https://tfhub.dev/tensorflow/small_bert/bert_en_uncased_L-8_H-128_A-2/1',\n",
        "    'small_bert/bert_en_uncased_L-8_H-256_A-4':\n",
        "        'https://tfhub.dev/tensorflow/small_bert/bert_en_uncased_L-8_H-256_A-4/1',\n",
        "    'small_bert/bert_en_uncased_L-8_H-512_A-8':\n",
        "        'https://tfhub.dev/tensorflow/small_bert/bert_en_uncased_L-8_H-512_A-8/1',\n",
        "    'small_bert/bert_en_uncased_L-8_H-768_A-12':\n",
        "        'https://tfhub.dev/tensorflow/small_bert/bert_en_uncased_L-8_H-768_A-12/1',\n",
        "    'small_bert/bert_en_uncased_L-10_H-128_A-2':\n",
        "        'https://tfhub.dev/tensorflow/small_bert/bert_en_uncased_L-10_H-128_A-2/1',\n",
        "    'small_bert/bert_en_uncased_L-10_H-256_A-4':\n",
        "        'https://tfhub.dev/tensorflow/small_bert/bert_en_uncased_L-10_H-256_A-4/1',\n",
        "    'small_bert/bert_en_uncased_L-10_H-512_A-8':\n",
        "        'https://tfhub.dev/tensorflow/small_bert/bert_en_uncased_L-10_H-512_A-8/1',\n",
        "    'small_bert/bert_en_uncased_L-10_H-768_A-12':\n",
        "        'https://tfhub.dev/tensorflow/small_bert/bert_en_uncased_L-10_H-768_A-12/1',\n",
        "    'small_bert/bert_en_uncased_L-12_H-128_A-2':\n",
        "        'https://tfhub.dev/tensorflow/small_bert/bert_en_uncased_L-12_H-128_A-2/1',\n",
        "    'small_bert/bert_en_uncased_L-12_H-256_A-4':\n",
        "        'https://tfhub.dev/tensorflow/small_bert/bert_en_uncased_L-12_H-256_A-4/1',\n",
        "    'small_bert/bert_en_uncased_L-12_H-512_A-8':\n",
        "        'https://tfhub.dev/tensorflow/small_bert/bert_en_uncased_L-12_H-512_A-8/1',\n",
        "    'small_bert/bert_en_uncased_L-12_H-768_A-12':\n",
        "        'https://tfhub.dev/tensorflow/small_bert/bert_en_uncased_L-12_H-768_A-12/1',\n",
        "    'albert_en_base':\n",
        "        'https://tfhub.dev/tensorflow/albert_en_base/2',\n",
        "    'electra_small':\n",
        "        'https://tfhub.dev/google/electra_small/2',\n",
        "    'electra_base':\n",
        "        'https://tfhub.dev/google/electra_base/2',\n",
        "    'experts_pubmed':\n",
        "        'https://tfhub.dev/google/experts/bert/pubmed/2',\n",
        "    'experts_wiki_books':\n",
        "        'https://tfhub.dev/google/experts/bert/wiki_books/2',\n",
        "    'talking-heads_base':\n",
        "        'https://tfhub.dev/tensorflow/talkheads_ggelu_bert_en_base/1',\n",
        "}\n",
        "\n",
        "map_model_to_preprocess = {\n",
        "    'bert_en_uncased_L-12_H-768_A-12':\n",
        "        'https://tfhub.dev/tensorflow/bert_en_uncased_preprocess/3',\n",
        "    'bert_en_cased_L-12_H-768_A-12':\n",
        "        'https://tfhub.dev/tensorflow/bert_en_cased_preprocess/3',\n",
        "    'small_bert/bert_en_uncased_L-2_H-128_A-2':\n",
        "        'https://tfhub.dev/tensorflow/bert_en_uncased_preprocess/3',\n",
        "    'small_bert/bert_en_uncased_L-2_H-256_A-4':\n",
        "        'https://tfhub.dev/tensorflow/bert_en_uncased_preprocess/3',\n",
        "    'small_bert/bert_en_uncased_L-2_H-512_A-8':\n",
        "        'https://tfhub.dev/tensorflow/bert_en_uncased_preprocess/3',\n",
        "    'small_bert/bert_en_uncased_L-2_H-768_A-12':\n",
        "        'https://tfhub.dev/tensorflow/bert_en_uncased_preprocess/3',\n",
        "    'small_bert/bert_en_uncased_L-4_H-128_A-2':\n",
        "        'https://tfhub.dev/tensorflow/bert_en_uncased_preprocess/3',\n",
        "    'small_bert/bert_en_uncased_L-4_H-256_A-4':\n",
        "        'https://tfhub.dev/tensorflow/bert_en_uncased_preprocess/3',\n",
        "    'small_bert/bert_en_uncased_L-4_H-512_A-8':\n",
        "        'https://tfhub.dev/tensorflow/bert_en_uncased_preprocess/3',\n",
        "    'small_bert/bert_en_uncased_L-4_H-768_A-12':\n",
        "        'https://tfhub.dev/tensorflow/bert_en_uncased_preprocess/3',\n",
        "    'small_bert/bert_en_uncased_L-6_H-128_A-2':\n",
        "        'https://tfhub.dev/tensorflow/bert_en_uncased_preprocess/3',\n",
        "    'small_bert/bert_en_uncased_L-6_H-256_A-4':\n",
        "        'https://tfhub.dev/tensorflow/bert_en_uncased_preprocess/3',\n",
        "    'small_bert/bert_en_uncased_L-6_H-512_A-8':\n",
        "        'https://tfhub.dev/tensorflow/bert_en_uncased_preprocess/3',\n",
        "    'small_bert/bert_en_uncased_L-6_H-768_A-12':\n",
        "        'https://tfhub.dev/tensorflow/bert_en_uncased_preprocess/3',\n",
        "    'small_bert/bert_en_uncased_L-8_H-128_A-2':\n",
        "        'https://tfhub.dev/tensorflow/bert_en_uncased_preprocess/3',\n",
        "    'small_bert/bert_en_uncased_L-8_H-256_A-4':\n",
        "        'https://tfhub.dev/tensorflow/bert_en_uncased_preprocess/3',\n",
        "    'small_bert/bert_en_uncased_L-8_H-512_A-8':\n",
        "        'https://tfhub.dev/tensorflow/bert_en_uncased_preprocess/3',\n",
        "    'small_bert/bert_en_uncased_L-8_H-768_A-12':\n",
        "        'https://tfhub.dev/tensorflow/bert_en_uncased_preprocess/3',\n",
        "    'small_bert/bert_en_uncased_L-10_H-128_A-2':\n",
        "        'https://tfhub.dev/tensorflow/bert_en_uncased_preprocess/3',\n",
        "    'small_bert/bert_en_uncased_L-10_H-256_A-4':\n",
        "        'https://tfhub.dev/tensorflow/bert_en_uncased_preprocess/3',\n",
        "    'small_bert/bert_en_uncased_L-10_H-512_A-8':\n",
        "        'https://tfhub.dev/tensorflow/bert_en_uncased_preprocess/3',\n",
        "    'small_bert/bert_en_uncased_L-10_H-768_A-12':\n",
        "        'https://tfhub.dev/tensorflow/bert_en_uncased_preprocess/3',\n",
        "    'small_bert/bert_en_uncased_L-12_H-128_A-2':\n",
        "        'https://tfhub.dev/tensorflow/bert_en_uncased_preprocess/3',\n",
        "    'small_bert/bert_en_uncased_L-12_H-256_A-4':\n",
        "        'https://tfhub.dev/tensorflow/bert_en_uncased_preprocess/3',\n",
        "    'small_bert/bert_en_uncased_L-12_H-512_A-8':\n",
        "        'https://tfhub.dev/tensorflow/bert_en_uncased_preprocess/3',\n",
        "    'small_bert/bert_en_uncased_L-12_H-768_A-12':\n",
        "        'https://tfhub.dev/tensorflow/bert_en_uncased_preprocess/3',\n",
        "    'bert_multi_cased_L-12_H-768_A-12':\n",
        "        'https://tfhub.dev/tensorflow/bert_multi_cased_preprocess/3',\n",
        "    'albert_en_base':\n",
        "        'https://tfhub.dev/tensorflow/albert_en_preprocess/3',\n",
        "    'electra_small':\n",
        "        'https://tfhub.dev/tensorflow/bert_en_uncased_preprocess/3',\n",
        "    'electra_base':\n",
        "        'https://tfhub.dev/tensorflow/bert_en_uncased_preprocess/3',\n",
        "    'experts_pubmed':\n",
        "        'https://tfhub.dev/tensorflow/bert_en_uncased_preprocess/3',\n",
        "    'experts_wiki_books':\n",
        "        'https://tfhub.dev/tensorflow/bert_en_uncased_preprocess/3',\n",
        "    'talking-heads_base':\n",
        "        'https://tfhub.dev/tensorflow/bert_en_uncased_preprocess/3',\n",
        "}"
      ]
    },
    {
      "cell_type": "markdown",
      "metadata": {
        "id": "uOTHQGcV2dvy"
      },
      "source": [
        "## Membangun Arsitektur Model"
      ]
    },
    {
      "cell_type": "code",
      "execution_count": 17,
      "metadata": {
        "id": "PiI_f3HVkzSc"
      },
      "outputs": [],
      "source": [
        "# Mendefinisikan fungsi untuk membuat model large BERT, small BERT, Electra, dan Albert\n",
        "\n",
        "def build_bert_model(bert_model_name: str):\n",
        "  tfhub_handle_encoder = map_name_to_handle[bert_model_name]\n",
        "  tfhub_handle_preprocess = map_model_to_preprocess[bert_model_name]\n",
        "\n",
        "  text_input = tf.keras.layers.Input(shape=(), dtype=\"string\")\n",
        "  preprocessing_layer = hub.KerasLayer(tfhub_handle_preprocess)\n",
        "  encoder_inputs = preprocessing_layer(text_input)\n",
        "  encoder = hub.KerasLayer(tfhub_handle_encoder, trainable=True)\n",
        "  outputs = encoder(encoder_inputs)\n",
        "  net = outputs['pooled_output']\n",
        "  net = tf.keras.layers.Dropout(0.2)(net)\n",
        "  net = tf.keras.layers.Dense(2, activation='sigmoid', name='classifier')(net)\n",
        "  return tf.keras.Model(text_input, net)"
      ]
    },
    {
      "cell_type": "code",
      "execution_count": 18,
      "metadata": {
        "colab": {
          "base_uri": "https://localhost:8080/",
          "height": 298,
          "referenced_widgets": [
            "e4889205d7b8459aa54fa93ec5763136",
            "e1d9c4e48e1f472782c7e542c9207e78",
            "2b5fdd19d8cc48988d682ae8c59d2ed6",
            "160a67ca95da46dab58ca72b1a932374",
            "36b9835d52184d57b5f40dc1818dff4f",
            "a93b32d07c724e10a1247d64938347a1",
            "5e8e9bd14d84480d9956de66337dd542",
            "8c9dbab3702e43ad885180dfbd3185c6",
            "d1fcdca4ddca43a6acc06ff924fbb4f4",
            "2cf611b9b7b548dcb6de452cc48045fb",
            "bc668a3740d344ed975d876df00001de",
            "af6205a6e5fd4350be770fcd86d7e4e9",
            "6fc08cacf65d4a9d92e077c284c00791",
            "eeb77d57b1064477939dbee27c695b48",
            "e5ee5b719d744f1b85fff736cd67e6f7",
            "4e3820cd2296448cbec50a06b39c735c",
            "42a4007f1a704b459ce299a271dc8452",
            "e47f2bbd980e4cc59038fe3104824971",
            "9c2eca58a829440bb190af964205201d",
            "16a0903bc60040619b5dc914bf8c557c",
            "a3561628b186412abc555fcff9a64886",
            "3099dce326a94c09b60ad48bca7ad52a",
            "b1624e77cec24d5da9eeb7afc4116562",
            "c43874e8f7cd42bfb0a461783f42f351",
            "2250d0b5f0cd4f769c9976c05c20f995",
            "b1eb9e13ec01415592119418b77aa1af",
            "5dedf253eea644e5bf5fbb9c20b74131",
            "1cae22ebe0b945f885312ea73a1748ad",
            "bfa0635e799b460f8e0633d923aa0bb1",
            "42b423c83b214bca957bf6c5ae7c3378",
            "c7ee74f8afac4ff29cbd4a77251586e3",
            "fe7c3e549ae74421bd6b52de62a55e56",
            "d9662f4d403f4a97b8d32681ae037a4a",
            "55294cd7168d4b60b9728ed84b14a306",
            "ef9791f8cfef440aa9fb68f5cfacffc1",
            "c0e869bbc4ee4868acac6f22e28f2556",
            "007e20860cc945fd9a55adec80e70d51",
            "72cc1480d42c455eae6c15afdd187e79",
            "706b5418f7a8429e87f7117c86ed3b6b",
            "e1a60192ca8b4b4ea6fd9fe33e2b73d8",
            "5b14c2173b4d4438a46df0405a136fc8",
            "ca315b158c2e4f47965517654ca44d47",
            "2f1e9cebee9942529204159c51d89835",
            "0700de79519641339b4d5ff03a4a0278",
            "caf2c9de707e4554b4b2037bd39e4806",
            "13b4d10a80904c7a89d6d3cce90ae0ed",
            "b5d01c2670d648d3b965a21059add781",
            "5aa0d4da9a8347a5b595c8f0b109e479",
            "a193edf7da534787a888cf2819d460d3",
            "28bb0ff65a7d43a7a8c898ec0590b26c",
            "1254321e78724b4c9d746271c9be6fe3",
            "132d9c92e70d4a8a9df26f76045cd6ab",
            "97290ece3ba946039ce5a7dc8c849a5a",
            "6fb80bf4773b451bb65754bc475a3d06",
            "068958578d9b4ea1b84610f8e45fc1e4",
            "481bde0dfa02481c9f6ebf087cc7a13f",
            "d73e26b152ad4c46bd32941f28eeaab8",
            "0c8aea33bc4b4a0cafcabc0bde20c795",
            "41801f7e26754b3db3d196669cc6c770",
            "ea9a5361fa954d45b0314bfa1c2f99ed",
            "ce65b0d1854c490b831550ddf824bb77",
            "7ffe8a872d77495199729728aeac4889",
            "3fd7195e8ef84175ad0bc4896b6f0697",
            "5b09712c936c4491967b6191a2ac9a65",
            "f61b6e079bd34c09b4ef58d1a2d2117b",
            "07fc0d29abfc43518da21fc20aec675e"
          ]
        },
        "id": "1zMKzr5MXkQ2",
        "outputId": "a50f8b18-98ef-4110-e3d1-b2fcb5f61b39"
      },
      "outputs": [
        {
          "output_type": "display_data",
          "data": {
            "text/plain": [
              "Downloading (…)okenizer_config.json:   0%|          | 0.00/42.0 [00:00<?, ?B/s]"
            ],
            "application/vnd.jupyter.widget-view+json": {
              "version_major": 2,
              "version_minor": 0,
              "model_id": "e4889205d7b8459aa54fa93ec5763136"
            }
          },
          "metadata": {}
        },
        {
          "output_type": "display_data",
          "data": {
            "text/plain": [
              "Downloading (…)lve/main/config.json:   0%|          | 0.00/1.01k [00:00<?, ?B/s]"
            ],
            "application/vnd.jupyter.widget-view+json": {
              "version_major": 2,
              "version_minor": 0,
              "model_id": "af6205a6e5fd4350be770fcd86d7e4e9"
            }
          },
          "metadata": {}
        },
        {
          "output_type": "display_data",
          "data": {
            "text/plain": [
              "Downloading (…)solve/main/vocab.txt:   0%|          | 0.00/234k [00:00<?, ?B/s]"
            ],
            "application/vnd.jupyter.widget-view+json": {
              "version_major": 2,
              "version_minor": 0,
              "model_id": "b1624e77cec24d5da9eeb7afc4116562"
            }
          },
          "metadata": {}
        },
        {
          "output_type": "display_data",
          "data": {
            "text/plain": [
              "Downloading (…)in/added_tokens.json:   0%|          | 0.00/2.00 [00:00<?, ?B/s]"
            ],
            "application/vnd.jupyter.widget-view+json": {
              "version_major": 2,
              "version_minor": 0,
              "model_id": "55294cd7168d4b60b9728ed84b14a306"
            }
          },
          "metadata": {}
        },
        {
          "output_type": "display_data",
          "data": {
            "text/plain": [
              "Downloading (…)cial_tokens_map.json:   0%|          | 0.00/112 [00:00<?, ?B/s]"
            ],
            "application/vnd.jupyter.widget-view+json": {
              "version_major": 2,
              "version_minor": 0,
              "model_id": "caf2c9de707e4554b4b2037bd39e4806"
            }
          },
          "metadata": {}
        },
        {
          "output_type": "display_data",
          "data": {
            "text/plain": [
              "Downloading pytorch_model.bin:   0%|          | 0.00/445M [00:00<?, ?B/s]"
            ],
            "application/vnd.jupyter.widget-view+json": {
              "version_major": 2,
              "version_minor": 0,
              "model_id": "481bde0dfa02481c9f6ebf087cc7a13f"
            }
          },
          "metadata": {}
        },
        {
          "output_type": "stream",
          "name": "stderr",
          "text": [
            "All PyTorch model weights were used when initializing TFBertForSequenceClassification.\n",
            "\n",
            "Some weights or buffers of the TF 2.0 model TFBertForSequenceClassification were not initialized from the PyTorch model and are newly initialized: ['classifier.weight', 'classifier.bias']\n",
            "You should probably TRAIN this model on a down-stream task to be able to use it for predictions and inference.\n"
          ]
        }
      ],
      "source": [
        "# Membuat IndoBERT architecture\n",
        "\n",
        "from transformers import AutoTokenizer,  TFAutoModelForSequenceClassification\n",
        "indobert_tokenizer = AutoTokenizer.from_pretrained(\"indolem/indobert-base-uncased\")\n",
        "indobert_fine_tune_model = TFAutoModelForSequenceClassification.from_pretrained(\"indolem/indobert-base-uncased\",\n",
        "                                                                                from_pt=True,\n",
        "                                                                                num_labels = 2,\n",
        "                                                                                problem_type = \"multi-label-classification\")\n",
        "\n",
        "# Tokenize dataset using IndoBERT tokenizer\n",
        "X_train_indobert = indobert_tokenizer(list(X_train), return_tensors = \"np\", padding = True)\n",
        "X_train_indobert = dict(X_train_indobert)\n",
        "\n",
        "X_test_indobert = indobert_tokenizer(list(X_test), return_tensors = \"np\", padding = True)\n",
        "X_test_indobert = dict(X_test_indobert)"
      ]
    },
    {
      "cell_type": "code",
      "execution_count": 19,
      "metadata": {
        "id": "2rwYSA8MqRyD"
      },
      "outputs": [],
      "source": [
        "# Membuat model BERT selain IndoBERT\n",
        "\n",
        "bert_uncased_model = build_bert_model('bert_en_uncased_L-12_H-768_A-12')\n",
        "small_bert_model = build_bert_model('small_bert/bert_en_uncased_L-4_H-512_A-8')\n",
        "albert_model = build_bert_model('albert_en_base')\n",
        "electra_model = build_bert_model('electra_base')"
      ]
    },
    {
      "cell_type": "markdown",
      "metadata": {
        "id": "3ikxZreZ2gwn"
      },
      "source": [
        "## Model Compiling"
      ]
    },
    {
      "cell_type": "code",
      "execution_count": 20,
      "metadata": {
        "id": "3ViZwJNzZf2b"
      },
      "outputs": [],
      "source": [
        "indobert_fine_tune_model.compile(\n",
        "    optimizer = tf.keras.optimizers.Adam(learning_rate = 0.00001),\n",
        "    loss = tf.keras.losses.BinaryCrossentropy(),\n",
        "    metrics = tf.keras.metrics.BinaryAccuracy(),\n",
        ")"
      ]
    },
    {
      "cell_type": "code",
      "execution_count": 21,
      "metadata": {
        "id": "qqxIjajsqYNu"
      },
      "outputs": [],
      "source": [
        "bert_uncased_model.compile(\n",
        "    optimizer = tf.keras.optimizers.Adam(learning_rate = 0.00003),\n",
        "    loss = tf.keras.losses.BinaryCrossentropy(),\n",
        "    metrics = tf.keras.metrics.BinaryAccuracy(),\n",
        ")\n",
        "\n",
        "small_bert_model.compile(\n",
        "    optimizer = tf.keras.optimizers.Adam(learning_rate = 0.00003),\n",
        "    loss = tf.keras.losses.BinaryCrossentropy(),\n",
        "    metrics = tf.keras.metrics.BinaryAccuracy(),\n",
        ")\n",
        "\n",
        "albert_model.compile(\n",
        "    optimizer = tf.keras.optimizers.Adam(learning_rate = 0.00003),\n",
        "    loss = tf.keras.losses.BinaryCrossentropy(),\n",
        "    metrics = tf.keras.metrics.BinaryAccuracy(),\n",
        ")\n",
        "\n",
        "electra_model.compile(\n",
        "    optimizer = tf.keras.optimizers.Adam(learning_rate = 0.00003),\n",
        "    loss = tf.keras.losses.BinaryCrossentropy(),\n",
        "    metrics = tf.keras.metrics.BinaryAccuracy(),\n",
        ")"
      ]
    },
    {
      "cell_type": "markdown",
      "metadata": {
        "id": "1dtSQ02j2i7o"
      },
      "source": [
        "## Model Training"
      ]
    },
    {
      "cell_type": "code",
      "execution_count": 22,
      "metadata": {
        "colab": {
          "base_uri": "https://localhost:8080/"
        },
        "id": "nF2Hvls2ZLms",
        "outputId": "2c3a436c-afe3-49da-8f0e-c2e60d5332fd"
      },
      "outputs": [
        {
          "output_type": "stream",
          "name": "stdout",
          "text": [
            "Epoch 1/3\n",
            "85/85 [==============================] - 99s 521ms/step - loss: 0.9784 - binary_accuracy: 0.5872 - val_loss: 0.6042 - val_binary_accuracy: 0.6657\n",
            "Epoch 2/3\n",
            "85/85 [==============================] - 34s 400ms/step - loss: 0.5920 - binary_accuracy: 0.7166 - val_loss: 0.5245 - val_binary_accuracy: 0.7194\n",
            "Epoch 3/3\n",
            "85/85 [==============================] - 33s 393ms/step - loss: 0.5411 - binary_accuracy: 0.7585 - val_loss: 0.5532 - val_binary_accuracy: 0.7418\n"
          ]
        },
        {
          "output_type": "execute_result",
          "data": {
            "text/plain": [
              "<keras.callbacks.History at 0x7f468a206d10>"
            ]
          },
          "metadata": {},
          "execution_count": 22
        }
      ],
      "source": [
        "indobert_fine_tune_model.fit(\n",
        "    x = X_train_indobert,\n",
        "    y = y_train,\n",
        "    batch_size = 16,\n",
        "    validation_data = (X_test_indobert, y_test),\n",
        "    epochs = 3\n",
        ")"
      ]
    },
    {
      "cell_type": "code",
      "execution_count": 23,
      "metadata": {
        "id": "CU7C8-TWrQeU",
        "colab": {
          "base_uri": "https://localhost:8080/"
        },
        "outputId": "c3774ed3-318a-4679-bdd9-91ae6a851a9b"
      },
      "outputs": [
        {
          "output_type": "stream",
          "name": "stdout",
          "text": [
            "Epoch 1/3\n",
            "85/85 [==============================] - 99s 597ms/step - loss: 0.4748 - binary_accuracy: 0.7778 - val_loss: 0.3815 - val_binary_accuracy: 0.8388\n",
            "Epoch 2/3\n",
            "85/85 [==============================] - 47s 550ms/step - loss: 0.3373 - binary_accuracy: 0.8613 - val_loss: 0.3076 - val_binary_accuracy: 0.8701\n",
            "Epoch 3/3\n",
            "85/85 [==============================] - 43s 511ms/step - loss: 0.2284 - binary_accuracy: 0.9110 - val_loss: 0.2567 - val_binary_accuracy: 0.9030\n"
          ]
        },
        {
          "output_type": "execute_result",
          "data": {
            "text/plain": [
              "<keras.callbacks.History at 0x7f467aed7d00>"
            ]
          },
          "metadata": {},
          "execution_count": 23
        }
      ],
      "source": [
        "bert_uncased_model.fit(\n",
        "    x = X_train,\n",
        "    y = y_train,\n",
        "    batch_size = 16,\n",
        "    validation_data = (X_test, y_test),\n",
        "    epochs = 3\n",
        ")\n"
      ]
    },
    {
      "cell_type": "code",
      "execution_count": 24,
      "metadata": {
        "id": "9lGWfIwkW8uQ",
        "colab": {
          "base_uri": "https://localhost:8080/"
        },
        "outputId": "4ab05eeb-b78f-4402-87a3-9a42317cb5b8"
      },
      "outputs": [
        {
          "output_type": "stream",
          "name": "stdout",
          "text": [
            "Epoch 1/3\n",
            "85/85 [==============================] - 40s 265ms/step - loss: 0.5335 - binary_accuracy: 0.7392 - val_loss: 0.4775 - val_binary_accuracy: 0.7582\n",
            "Epoch 2/3\n",
            "85/85 [==============================] - 18s 211ms/step - loss: 0.3730 - binary_accuracy: 0.8446 - val_loss: 0.3225 - val_binary_accuracy: 0.8627\n",
            "Epoch 3/3\n",
            "85/85 [==============================] - 16s 183ms/step - loss: 0.2879 - binary_accuracy: 0.8772 - val_loss: 0.2816 - val_binary_accuracy: 0.8821\n"
          ]
        },
        {
          "output_type": "execute_result",
          "data": {
            "text/plain": [
              "<keras.callbacks.History at 0x7f459c204130>"
            ]
          },
          "metadata": {},
          "execution_count": 24
        }
      ],
      "source": [
        "small_bert_model.fit(\n",
        "    x = X_train,\n",
        "    y = y_train,\n",
        "    batch_size = 16,\n",
        "    validation_data = (X_test, y_test),\n",
        "    epochs = 3\n",
        ")"
      ]
    },
    {
      "cell_type": "code",
      "execution_count": 25,
      "metadata": {
        "id": "xVbFsh1hW83G",
        "colab": {
          "base_uri": "https://localhost:8080/"
        },
        "outputId": "ef9a391a-6a8d-4535-a5e9-3122d400d162"
      },
      "outputs": [
        {
          "output_type": "stream",
          "name": "stdout",
          "text": [
            "Epoch 1/3\n",
            "85/85 [==============================] - 70s 611ms/step - loss: 0.5808 - binary_accuracy: 0.7111 - val_loss: 0.4717 - val_binary_accuracy: 0.7881\n",
            "Epoch 2/3\n",
            "85/85 [==============================] - 52s 614ms/step - loss: 0.5413 - binary_accuracy: 0.7348 - val_loss: 0.5228 - val_binary_accuracy: 0.7597\n",
            "Epoch 3/3\n",
            "85/85 [==============================] - 51s 597ms/step - loss: 0.4720 - binary_accuracy: 0.7949 - val_loss: 0.5260 - val_binary_accuracy: 0.7582\n"
          ]
        },
        {
          "output_type": "execute_result",
          "data": {
            "text/plain": [
              "<keras.callbacks.History at 0x7f459c32fee0>"
            ]
          },
          "metadata": {},
          "execution_count": 25
        }
      ],
      "source": [
        "albert_model.fit(\n",
        "    x = X_train,\n",
        "    y = y_train,\n",
        "    batch_size = 16,\n",
        "    validation_data = (X_test, y_test),\n",
        "    epochs = 3\n",
        ")"
      ]
    },
    {
      "cell_type": "code",
      "execution_count": 26,
      "metadata": {
        "id": "zOUwdG-TW9sq",
        "colab": {
          "base_uri": "https://localhost:8080/"
        },
        "outputId": "4e497cc8-e114-448c-de3c-10fd844b51cf"
      },
      "outputs": [
        {
          "output_type": "stream",
          "name": "stdout",
          "text": [
            "Epoch 1/3\n",
            "85/85 [==============================] - 95s 555ms/step - loss: 0.5360 - binary_accuracy: 0.7374 - val_loss: 0.3465 - val_binary_accuracy: 0.8612\n",
            "Epoch 2/3\n",
            "85/85 [==============================] - 43s 509ms/step - loss: 0.3657 - binary_accuracy: 0.8513 - val_loss: 0.3039 - val_binary_accuracy: 0.8731\n",
            "Epoch 3/3\n",
            "85/85 [==============================] - 45s 526ms/step - loss: 0.2577 - binary_accuracy: 0.8958 - val_loss: 0.2589 - val_binary_accuracy: 0.8940\n"
          ]
        },
        {
          "output_type": "execute_result",
          "data": {
            "text/plain": [
              "<keras.callbacks.History at 0x7f459587ac50>"
            ]
          },
          "metadata": {},
          "execution_count": 26
        }
      ],
      "source": [
        "electra_model.fit(\n",
        "    x = X_train,\n",
        "    y = y_train,\n",
        "    batch_size = 16,\n",
        "    validation_data = (X_test, y_test),\n",
        "    epochs = 3\n",
        ")"
      ]
    },
    {
      "cell_type": "markdown",
      "metadata": {
        "id": "DwJw2NrO2m1R"
      },
      "source": [
        "## Evaluasi Model"
      ]
    },
    {
      "cell_type": "code",
      "execution_count": 27,
      "metadata": {
        "id": "yqLTg4VOmvPM"
      },
      "outputs": [],
      "source": [
        "from sklearn.metrics import classification_report\n",
        "\n",
        "class_labels = [\"apresiasi\", \"kritik\"]"
      ]
    },
    {
      "cell_type": "code",
      "execution_count": 28,
      "metadata": {
        "id": "VH-H9IEJ41yu",
        "colab": {
          "base_uri": "https://localhost:8080/"
        },
        "outputId": "95b3b4c7-10e7-41ea-8e43-35c8953fc168"
      },
      "outputs": [
        {
          "output_type": "stream",
          "name": "stdout",
          "text": [
            "11/11 [==============================] - 5s 185ms/step\n",
            "              precision    recall  f1-score   support\n",
            "\n",
            "   apresiasi       0.59      0.65      0.62       121\n",
            "      kritik       0.79      0.95      0.86       248\n",
            "\n",
            "   micro avg       0.73      0.85      0.78       369\n",
            "   macro avg       0.69      0.80      0.74       369\n",
            "weighted avg       0.72      0.85      0.78       369\n",
            " samples avg       0.76      0.87      0.79       369\n",
            "\n"
          ]
        },
        {
          "output_type": "stream",
          "name": "stderr",
          "text": [
            "/usr/local/lib/python3.10/dist-packages/sklearn/metrics/_classification.py:1344: UndefinedMetricWarning: Precision and F-score are ill-defined and being set to 0.0 in samples with no predicted labels. Use `zero_division` parameter to control this behavior.\n",
            "  _warn_prf(average, modifier, msg_start, len(result))\n"
          ]
        }
      ],
      "source": [
        "# Evaluasi Model IndoBERT\n",
        "\n",
        "y_pred = indobert_fine_tune_model.predict(X_test_indobert)[\"logits\"] > 0.5\n",
        "print(classification_report(y_test, y_pred, target_names=class_labels))"
      ]
    },
    {
      "cell_type": "code",
      "execution_count": 29,
      "metadata": {
        "id": "MSi-FZLOgyLL",
        "colab": {
          "base_uri": "https://localhost:8080/"
        },
        "outputId": "085a0a15-54e0-4a69-9619-0ab0dfa224dc"
      },
      "outputs": [
        {
          "output_type": "stream",
          "name": "stdout",
          "text": [
            "11/11 [==============================] - 5s 360ms/step\n",
            "              precision    recall  f1-score   support\n",
            "\n",
            "   apresiasi       0.85      0.87      0.86       121\n",
            "      kritik       0.96      0.92      0.94       248\n",
            "\n",
            "   micro avg       0.92      0.90      0.91       369\n",
            "   macro avg       0.90      0.89      0.90       369\n",
            "weighted avg       0.92      0.90      0.91       369\n",
            " samples avg       0.93      0.92      0.92       369\n",
            "\n"
          ]
        }
      ],
      "source": [
        "# Evaluasi Model Large BERT\n",
        "\n",
        "y_pred = bert_uncased_model.predict(X_test) > 0.5\n",
        "print(classification_report(y_test, y_pred, target_names=class_labels))"
      ]
    },
    {
      "cell_type": "code",
      "execution_count": 30,
      "metadata": {
        "id": "0MwmVyugXbBZ",
        "colab": {
          "base_uri": "https://localhost:8080/"
        },
        "outputId": "b01915ca-cc62-4d52-a02d-1b5b0f9d8fcc"
      },
      "outputs": [
        {
          "output_type": "stream",
          "name": "stdout",
          "text": [
            "11/11 [==============================] - 2s 112ms/step\n",
            "              precision    recall  f1-score   support\n",
            "\n",
            "   apresiasi       0.83      0.86      0.84       121\n",
            "      kritik       0.94      0.90      0.92       248\n",
            "\n",
            "   micro avg       0.90      0.89      0.89       369\n",
            "   macro avg       0.88      0.88      0.88       369\n",
            "weighted avg       0.90      0.89      0.89       369\n",
            " samples avg       0.91      0.91      0.90       369\n",
            "\n"
          ]
        }
      ],
      "source": [
        "# Evaluasi Model Small BERT\n",
        "\n",
        "y_pred = small_bert_model.predict(X_test) > 0.5\n",
        "print(classification_report(y_test, y_pred, target_names=class_labels))"
      ]
    },
    {
      "cell_type": "code",
      "execution_count": 31,
      "metadata": {
        "id": "epEFGg5MXbF0",
        "colab": {
          "base_uri": "https://localhost:8080/"
        },
        "outputId": "99c1840f-4745-41fd-e88b-6a0ea048a267"
      },
      "outputs": [
        {
          "output_type": "stream",
          "name": "stdout",
          "text": [
            "11/11 [==============================] - 4s 319ms/step\n",
            "              precision    recall  f1-score   support\n",
            "\n",
            "   apresiasi       0.63      0.75      0.68       121\n",
            "      kritik       0.91      0.76      0.83       248\n",
            "\n",
            "   micro avg       0.79      0.76      0.77       369\n",
            "   macro avg       0.77      0.76      0.76       369\n",
            "weighted avg       0.82      0.76      0.78       369\n",
            " samples avg       0.77      0.77      0.76       369\n",
            "\n"
          ]
        },
        {
          "output_type": "stream",
          "name": "stderr",
          "text": [
            "/usr/local/lib/python3.10/dist-packages/sklearn/metrics/_classification.py:1344: UndefinedMetricWarning: Precision and F-score are ill-defined and being set to 0.0 in samples with no predicted labels. Use `zero_division` parameter to control this behavior.\n",
            "  _warn_prf(average, modifier, msg_start, len(result))\n"
          ]
        }
      ],
      "source": [
        "# Evaluasi Model Albert\n",
        "\n",
        "y_pred = albert_model.predict(X_test) > 0.5\n",
        "print(classification_report(y_test, y_pred, target_names=class_labels))"
      ]
    },
    {
      "cell_type": "code",
      "source": [
        "# Evaluasi Model Electra\n",
        "\n",
        "y_pred = electra_model.predict(X_test) > 0.5\n",
        "print(classification_report(y_test, y_pred, target_names=class_labels))"
      ],
      "metadata": {
        "colab": {
          "base_uri": "https://localhost:8080/"
        },
        "id": "qT64pXt3DGGD",
        "outputId": "173ff5aa-8cca-42d0-ba8f-e12e10a38db6"
      },
      "execution_count": 32,
      "outputs": [
        {
          "output_type": "stream",
          "name": "stdout",
          "text": [
            "11/11 [==============================] - 4s 317ms/step\n",
            "              precision    recall  f1-score   support\n",
            "\n",
            "   apresiasi       0.78      0.95      0.86       121\n",
            "      kritik       0.96      0.91      0.93       248\n",
            "\n",
            "   micro avg       0.89      0.92      0.91       369\n",
            "   macro avg       0.87      0.93      0.89       369\n",
            "weighted avg       0.90      0.92      0.91       369\n",
            " samples avg       0.92      0.94      0.92       369\n",
            "\n"
          ]
        }
      ]
    },
    {
      "cell_type": "markdown",
      "metadata": {
        "id": "Z8PDVx2djOZf"
      },
      "source": [
        "## Save Model"
      ]
    },
    {
      "cell_type": "code",
      "execution_count": 33,
      "metadata": {
        "id": "aT1AzI3RhDN9"
      },
      "outputs": [],
      "source": [
        "# Menyimpan model ke directory\n",
        "\n",
        "# bert_uncased_model.save(\"bert-1\")\n",
        "# small_bert_model.save(\"small-bert-1\")\n",
        "# albert_model.save(\"albert-1\")\n",
        "# electra_model.save(\"electra-1\")"
      ]
    }
  ],
  "metadata": {
    "colab": {
      "collapsed_sections": [
        "IFe9eYWJEedj",
        "gpSVyqCX1sCO",
        "vzO3rNoS1y9U",
        "LkeZdf-f11na",
        "AmbXc0g-178k",
        "ZXNJ9b1O2YVN",
        "jUmFMGIbQt4S",
        "lIZcWXWd2xhQ",
        "X2BmtjrM2DMP",
        "Kj_eJv9L2G_W",
        "TgUoRqSTFvsK",
        "1pqPbCoB2Rzu",
        "boUQrPKHg-Gl",
        "WTG1qtG12WQD",
        "uOTHQGcV2dvy",
        "3ikxZreZ2gwn"
      ],
      "provenance": [],
      "gpuType": "T4",
      "mount_file_id": "1eTVst4IuSJrrk0k_si769vybcEJOIR-r",
      "authorship_tag": "ABX9TyOJy7exznTmsu+9/opNQUXF",
      "include_colab_link": true
    },
    "kernelspec": {
      "display_name": "Python 3",
      "name": "python3"
    },
    "language_info": {
      "name": "python"
    },
    "accelerator": "GPU",
    "widgets": {
      "application/vnd.jupyter.widget-state+json": {
        "e4889205d7b8459aa54fa93ec5763136": {
          "model_module": "@jupyter-widgets/controls",
          "model_name": "HBoxModel",
          "model_module_version": "1.5.0",
          "state": {
            "_dom_classes": [],
            "_model_module": "@jupyter-widgets/controls",
            "_model_module_version": "1.5.0",
            "_model_name": "HBoxModel",
            "_view_count": null,
            "_view_module": "@jupyter-widgets/controls",
            "_view_module_version": "1.5.0",
            "_view_name": "HBoxView",
            "box_style": "",
            "children": [
              "IPY_MODEL_e1d9c4e48e1f472782c7e542c9207e78",
              "IPY_MODEL_2b5fdd19d8cc48988d682ae8c59d2ed6",
              "IPY_MODEL_160a67ca95da46dab58ca72b1a932374"
            ],
            "layout": "IPY_MODEL_36b9835d52184d57b5f40dc1818dff4f"
          }
        },
        "e1d9c4e48e1f472782c7e542c9207e78": {
          "model_module": "@jupyter-widgets/controls",
          "model_name": "HTMLModel",
          "model_module_version": "1.5.0",
          "state": {
            "_dom_classes": [],
            "_model_module": "@jupyter-widgets/controls",
            "_model_module_version": "1.5.0",
            "_model_name": "HTMLModel",
            "_view_count": null,
            "_view_module": "@jupyter-widgets/controls",
            "_view_module_version": "1.5.0",
            "_view_name": "HTMLView",
            "description": "",
            "description_tooltip": null,
            "layout": "IPY_MODEL_a93b32d07c724e10a1247d64938347a1",
            "placeholder": "​",
            "style": "IPY_MODEL_5e8e9bd14d84480d9956de66337dd542",
            "value": "Downloading (…)okenizer_config.json: 100%"
          }
        },
        "2b5fdd19d8cc48988d682ae8c59d2ed6": {
          "model_module": "@jupyter-widgets/controls",
          "model_name": "FloatProgressModel",
          "model_module_version": "1.5.0",
          "state": {
            "_dom_classes": [],
            "_model_module": "@jupyter-widgets/controls",
            "_model_module_version": "1.5.0",
            "_model_name": "FloatProgressModel",
            "_view_count": null,
            "_view_module": "@jupyter-widgets/controls",
            "_view_module_version": "1.5.0",
            "_view_name": "ProgressView",
            "bar_style": "success",
            "description": "",
            "description_tooltip": null,
            "layout": "IPY_MODEL_8c9dbab3702e43ad885180dfbd3185c6",
            "max": 42,
            "min": 0,
            "orientation": "horizontal",
            "style": "IPY_MODEL_d1fcdca4ddca43a6acc06ff924fbb4f4",
            "value": 42
          }
        },
        "160a67ca95da46dab58ca72b1a932374": {
          "model_module": "@jupyter-widgets/controls",
          "model_name": "HTMLModel",
          "model_module_version": "1.5.0",
          "state": {
            "_dom_classes": [],
            "_model_module": "@jupyter-widgets/controls",
            "_model_module_version": "1.5.0",
            "_model_name": "HTMLModel",
            "_view_count": null,
            "_view_module": "@jupyter-widgets/controls",
            "_view_module_version": "1.5.0",
            "_view_name": "HTMLView",
            "description": "",
            "description_tooltip": null,
            "layout": "IPY_MODEL_2cf611b9b7b548dcb6de452cc48045fb",
            "placeholder": "​",
            "style": "IPY_MODEL_bc668a3740d344ed975d876df00001de",
            "value": " 42.0/42.0 [00:00&lt;00:00, 3.09kB/s]"
          }
        },
        "36b9835d52184d57b5f40dc1818dff4f": {
          "model_module": "@jupyter-widgets/base",
          "model_name": "LayoutModel",
          "model_module_version": "1.2.0",
          "state": {
            "_model_module": "@jupyter-widgets/base",
            "_model_module_version": "1.2.0",
            "_model_name": "LayoutModel",
            "_view_count": null,
            "_view_module": "@jupyter-widgets/base",
            "_view_module_version": "1.2.0",
            "_view_name": "LayoutView",
            "align_content": null,
            "align_items": null,
            "align_self": null,
            "border": null,
            "bottom": null,
            "display": null,
            "flex": null,
            "flex_flow": null,
            "grid_area": null,
            "grid_auto_columns": null,
            "grid_auto_flow": null,
            "grid_auto_rows": null,
            "grid_column": null,
            "grid_gap": null,
            "grid_row": null,
            "grid_template_areas": null,
            "grid_template_columns": null,
            "grid_template_rows": null,
            "height": null,
            "justify_content": null,
            "justify_items": null,
            "left": null,
            "margin": null,
            "max_height": null,
            "max_width": null,
            "min_height": null,
            "min_width": null,
            "object_fit": null,
            "object_position": null,
            "order": null,
            "overflow": null,
            "overflow_x": null,
            "overflow_y": null,
            "padding": null,
            "right": null,
            "top": null,
            "visibility": null,
            "width": null
          }
        },
        "a93b32d07c724e10a1247d64938347a1": {
          "model_module": "@jupyter-widgets/base",
          "model_name": "LayoutModel",
          "model_module_version": "1.2.0",
          "state": {
            "_model_module": "@jupyter-widgets/base",
            "_model_module_version": "1.2.0",
            "_model_name": "LayoutModel",
            "_view_count": null,
            "_view_module": "@jupyter-widgets/base",
            "_view_module_version": "1.2.0",
            "_view_name": "LayoutView",
            "align_content": null,
            "align_items": null,
            "align_self": null,
            "border": null,
            "bottom": null,
            "display": null,
            "flex": null,
            "flex_flow": null,
            "grid_area": null,
            "grid_auto_columns": null,
            "grid_auto_flow": null,
            "grid_auto_rows": null,
            "grid_column": null,
            "grid_gap": null,
            "grid_row": null,
            "grid_template_areas": null,
            "grid_template_columns": null,
            "grid_template_rows": null,
            "height": null,
            "justify_content": null,
            "justify_items": null,
            "left": null,
            "margin": null,
            "max_height": null,
            "max_width": null,
            "min_height": null,
            "min_width": null,
            "object_fit": null,
            "object_position": null,
            "order": null,
            "overflow": null,
            "overflow_x": null,
            "overflow_y": null,
            "padding": null,
            "right": null,
            "top": null,
            "visibility": null,
            "width": null
          }
        },
        "5e8e9bd14d84480d9956de66337dd542": {
          "model_module": "@jupyter-widgets/controls",
          "model_name": "DescriptionStyleModel",
          "model_module_version": "1.5.0",
          "state": {
            "_model_module": "@jupyter-widgets/controls",
            "_model_module_version": "1.5.0",
            "_model_name": "DescriptionStyleModel",
            "_view_count": null,
            "_view_module": "@jupyter-widgets/base",
            "_view_module_version": "1.2.0",
            "_view_name": "StyleView",
            "description_width": ""
          }
        },
        "8c9dbab3702e43ad885180dfbd3185c6": {
          "model_module": "@jupyter-widgets/base",
          "model_name": "LayoutModel",
          "model_module_version": "1.2.0",
          "state": {
            "_model_module": "@jupyter-widgets/base",
            "_model_module_version": "1.2.0",
            "_model_name": "LayoutModel",
            "_view_count": null,
            "_view_module": "@jupyter-widgets/base",
            "_view_module_version": "1.2.0",
            "_view_name": "LayoutView",
            "align_content": null,
            "align_items": null,
            "align_self": null,
            "border": null,
            "bottom": null,
            "display": null,
            "flex": null,
            "flex_flow": null,
            "grid_area": null,
            "grid_auto_columns": null,
            "grid_auto_flow": null,
            "grid_auto_rows": null,
            "grid_column": null,
            "grid_gap": null,
            "grid_row": null,
            "grid_template_areas": null,
            "grid_template_columns": null,
            "grid_template_rows": null,
            "height": null,
            "justify_content": null,
            "justify_items": null,
            "left": null,
            "margin": null,
            "max_height": null,
            "max_width": null,
            "min_height": null,
            "min_width": null,
            "object_fit": null,
            "object_position": null,
            "order": null,
            "overflow": null,
            "overflow_x": null,
            "overflow_y": null,
            "padding": null,
            "right": null,
            "top": null,
            "visibility": null,
            "width": null
          }
        },
        "d1fcdca4ddca43a6acc06ff924fbb4f4": {
          "model_module": "@jupyter-widgets/controls",
          "model_name": "ProgressStyleModel",
          "model_module_version": "1.5.0",
          "state": {
            "_model_module": "@jupyter-widgets/controls",
            "_model_module_version": "1.5.0",
            "_model_name": "ProgressStyleModel",
            "_view_count": null,
            "_view_module": "@jupyter-widgets/base",
            "_view_module_version": "1.2.0",
            "_view_name": "StyleView",
            "bar_color": null,
            "description_width": ""
          }
        },
        "2cf611b9b7b548dcb6de452cc48045fb": {
          "model_module": "@jupyter-widgets/base",
          "model_name": "LayoutModel",
          "model_module_version": "1.2.0",
          "state": {
            "_model_module": "@jupyter-widgets/base",
            "_model_module_version": "1.2.0",
            "_model_name": "LayoutModel",
            "_view_count": null,
            "_view_module": "@jupyter-widgets/base",
            "_view_module_version": "1.2.0",
            "_view_name": "LayoutView",
            "align_content": null,
            "align_items": null,
            "align_self": null,
            "border": null,
            "bottom": null,
            "display": null,
            "flex": null,
            "flex_flow": null,
            "grid_area": null,
            "grid_auto_columns": null,
            "grid_auto_flow": null,
            "grid_auto_rows": null,
            "grid_column": null,
            "grid_gap": null,
            "grid_row": null,
            "grid_template_areas": null,
            "grid_template_columns": null,
            "grid_template_rows": null,
            "height": null,
            "justify_content": null,
            "justify_items": null,
            "left": null,
            "margin": null,
            "max_height": null,
            "max_width": null,
            "min_height": null,
            "min_width": null,
            "object_fit": null,
            "object_position": null,
            "order": null,
            "overflow": null,
            "overflow_x": null,
            "overflow_y": null,
            "padding": null,
            "right": null,
            "top": null,
            "visibility": null,
            "width": null
          }
        },
        "bc668a3740d344ed975d876df00001de": {
          "model_module": "@jupyter-widgets/controls",
          "model_name": "DescriptionStyleModel",
          "model_module_version": "1.5.0",
          "state": {
            "_model_module": "@jupyter-widgets/controls",
            "_model_module_version": "1.5.0",
            "_model_name": "DescriptionStyleModel",
            "_view_count": null,
            "_view_module": "@jupyter-widgets/base",
            "_view_module_version": "1.2.0",
            "_view_name": "StyleView",
            "description_width": ""
          }
        },
        "af6205a6e5fd4350be770fcd86d7e4e9": {
          "model_module": "@jupyter-widgets/controls",
          "model_name": "HBoxModel",
          "model_module_version": "1.5.0",
          "state": {
            "_dom_classes": [],
            "_model_module": "@jupyter-widgets/controls",
            "_model_module_version": "1.5.0",
            "_model_name": "HBoxModel",
            "_view_count": null,
            "_view_module": "@jupyter-widgets/controls",
            "_view_module_version": "1.5.0",
            "_view_name": "HBoxView",
            "box_style": "",
            "children": [
              "IPY_MODEL_6fc08cacf65d4a9d92e077c284c00791",
              "IPY_MODEL_eeb77d57b1064477939dbee27c695b48",
              "IPY_MODEL_e5ee5b719d744f1b85fff736cd67e6f7"
            ],
            "layout": "IPY_MODEL_4e3820cd2296448cbec50a06b39c735c"
          }
        },
        "6fc08cacf65d4a9d92e077c284c00791": {
          "model_module": "@jupyter-widgets/controls",
          "model_name": "HTMLModel",
          "model_module_version": "1.5.0",
          "state": {
            "_dom_classes": [],
            "_model_module": "@jupyter-widgets/controls",
            "_model_module_version": "1.5.0",
            "_model_name": "HTMLModel",
            "_view_count": null,
            "_view_module": "@jupyter-widgets/controls",
            "_view_module_version": "1.5.0",
            "_view_name": "HTMLView",
            "description": "",
            "description_tooltip": null,
            "layout": "IPY_MODEL_42a4007f1a704b459ce299a271dc8452",
            "placeholder": "​",
            "style": "IPY_MODEL_e47f2bbd980e4cc59038fe3104824971",
            "value": "Downloading (…)lve/main/config.json: 100%"
          }
        },
        "eeb77d57b1064477939dbee27c695b48": {
          "model_module": "@jupyter-widgets/controls",
          "model_name": "FloatProgressModel",
          "model_module_version": "1.5.0",
          "state": {
            "_dom_classes": [],
            "_model_module": "@jupyter-widgets/controls",
            "_model_module_version": "1.5.0",
            "_model_name": "FloatProgressModel",
            "_view_count": null,
            "_view_module": "@jupyter-widgets/controls",
            "_view_module_version": "1.5.0",
            "_view_name": "ProgressView",
            "bar_style": "success",
            "description": "",
            "description_tooltip": null,
            "layout": "IPY_MODEL_9c2eca58a829440bb190af964205201d",
            "max": 1014,
            "min": 0,
            "orientation": "horizontal",
            "style": "IPY_MODEL_16a0903bc60040619b5dc914bf8c557c",
            "value": 1014
          }
        },
        "e5ee5b719d744f1b85fff736cd67e6f7": {
          "model_module": "@jupyter-widgets/controls",
          "model_name": "HTMLModel",
          "model_module_version": "1.5.0",
          "state": {
            "_dom_classes": [],
            "_model_module": "@jupyter-widgets/controls",
            "_model_module_version": "1.5.0",
            "_model_name": "HTMLModel",
            "_view_count": null,
            "_view_module": "@jupyter-widgets/controls",
            "_view_module_version": "1.5.0",
            "_view_name": "HTMLView",
            "description": "",
            "description_tooltip": null,
            "layout": "IPY_MODEL_a3561628b186412abc555fcff9a64886",
            "placeholder": "​",
            "style": "IPY_MODEL_3099dce326a94c09b60ad48bca7ad52a",
            "value": " 1.01k/1.01k [00:00&lt;00:00, 47.2kB/s]"
          }
        },
        "4e3820cd2296448cbec50a06b39c735c": {
          "model_module": "@jupyter-widgets/base",
          "model_name": "LayoutModel",
          "model_module_version": "1.2.0",
          "state": {
            "_model_module": "@jupyter-widgets/base",
            "_model_module_version": "1.2.0",
            "_model_name": "LayoutModel",
            "_view_count": null,
            "_view_module": "@jupyter-widgets/base",
            "_view_module_version": "1.2.0",
            "_view_name": "LayoutView",
            "align_content": null,
            "align_items": null,
            "align_self": null,
            "border": null,
            "bottom": null,
            "display": null,
            "flex": null,
            "flex_flow": null,
            "grid_area": null,
            "grid_auto_columns": null,
            "grid_auto_flow": null,
            "grid_auto_rows": null,
            "grid_column": null,
            "grid_gap": null,
            "grid_row": null,
            "grid_template_areas": null,
            "grid_template_columns": null,
            "grid_template_rows": null,
            "height": null,
            "justify_content": null,
            "justify_items": null,
            "left": null,
            "margin": null,
            "max_height": null,
            "max_width": null,
            "min_height": null,
            "min_width": null,
            "object_fit": null,
            "object_position": null,
            "order": null,
            "overflow": null,
            "overflow_x": null,
            "overflow_y": null,
            "padding": null,
            "right": null,
            "top": null,
            "visibility": null,
            "width": null
          }
        },
        "42a4007f1a704b459ce299a271dc8452": {
          "model_module": "@jupyter-widgets/base",
          "model_name": "LayoutModel",
          "model_module_version": "1.2.0",
          "state": {
            "_model_module": "@jupyter-widgets/base",
            "_model_module_version": "1.2.0",
            "_model_name": "LayoutModel",
            "_view_count": null,
            "_view_module": "@jupyter-widgets/base",
            "_view_module_version": "1.2.0",
            "_view_name": "LayoutView",
            "align_content": null,
            "align_items": null,
            "align_self": null,
            "border": null,
            "bottom": null,
            "display": null,
            "flex": null,
            "flex_flow": null,
            "grid_area": null,
            "grid_auto_columns": null,
            "grid_auto_flow": null,
            "grid_auto_rows": null,
            "grid_column": null,
            "grid_gap": null,
            "grid_row": null,
            "grid_template_areas": null,
            "grid_template_columns": null,
            "grid_template_rows": null,
            "height": null,
            "justify_content": null,
            "justify_items": null,
            "left": null,
            "margin": null,
            "max_height": null,
            "max_width": null,
            "min_height": null,
            "min_width": null,
            "object_fit": null,
            "object_position": null,
            "order": null,
            "overflow": null,
            "overflow_x": null,
            "overflow_y": null,
            "padding": null,
            "right": null,
            "top": null,
            "visibility": null,
            "width": null
          }
        },
        "e47f2bbd980e4cc59038fe3104824971": {
          "model_module": "@jupyter-widgets/controls",
          "model_name": "DescriptionStyleModel",
          "model_module_version": "1.5.0",
          "state": {
            "_model_module": "@jupyter-widgets/controls",
            "_model_module_version": "1.5.0",
            "_model_name": "DescriptionStyleModel",
            "_view_count": null,
            "_view_module": "@jupyter-widgets/base",
            "_view_module_version": "1.2.0",
            "_view_name": "StyleView",
            "description_width": ""
          }
        },
        "9c2eca58a829440bb190af964205201d": {
          "model_module": "@jupyter-widgets/base",
          "model_name": "LayoutModel",
          "model_module_version": "1.2.0",
          "state": {
            "_model_module": "@jupyter-widgets/base",
            "_model_module_version": "1.2.0",
            "_model_name": "LayoutModel",
            "_view_count": null,
            "_view_module": "@jupyter-widgets/base",
            "_view_module_version": "1.2.0",
            "_view_name": "LayoutView",
            "align_content": null,
            "align_items": null,
            "align_self": null,
            "border": null,
            "bottom": null,
            "display": null,
            "flex": null,
            "flex_flow": null,
            "grid_area": null,
            "grid_auto_columns": null,
            "grid_auto_flow": null,
            "grid_auto_rows": null,
            "grid_column": null,
            "grid_gap": null,
            "grid_row": null,
            "grid_template_areas": null,
            "grid_template_columns": null,
            "grid_template_rows": null,
            "height": null,
            "justify_content": null,
            "justify_items": null,
            "left": null,
            "margin": null,
            "max_height": null,
            "max_width": null,
            "min_height": null,
            "min_width": null,
            "object_fit": null,
            "object_position": null,
            "order": null,
            "overflow": null,
            "overflow_x": null,
            "overflow_y": null,
            "padding": null,
            "right": null,
            "top": null,
            "visibility": null,
            "width": null
          }
        },
        "16a0903bc60040619b5dc914bf8c557c": {
          "model_module": "@jupyter-widgets/controls",
          "model_name": "ProgressStyleModel",
          "model_module_version": "1.5.0",
          "state": {
            "_model_module": "@jupyter-widgets/controls",
            "_model_module_version": "1.5.0",
            "_model_name": "ProgressStyleModel",
            "_view_count": null,
            "_view_module": "@jupyter-widgets/base",
            "_view_module_version": "1.2.0",
            "_view_name": "StyleView",
            "bar_color": null,
            "description_width": ""
          }
        },
        "a3561628b186412abc555fcff9a64886": {
          "model_module": "@jupyter-widgets/base",
          "model_name": "LayoutModel",
          "model_module_version": "1.2.0",
          "state": {
            "_model_module": "@jupyter-widgets/base",
            "_model_module_version": "1.2.0",
            "_model_name": "LayoutModel",
            "_view_count": null,
            "_view_module": "@jupyter-widgets/base",
            "_view_module_version": "1.2.0",
            "_view_name": "LayoutView",
            "align_content": null,
            "align_items": null,
            "align_self": null,
            "border": null,
            "bottom": null,
            "display": null,
            "flex": null,
            "flex_flow": null,
            "grid_area": null,
            "grid_auto_columns": null,
            "grid_auto_flow": null,
            "grid_auto_rows": null,
            "grid_column": null,
            "grid_gap": null,
            "grid_row": null,
            "grid_template_areas": null,
            "grid_template_columns": null,
            "grid_template_rows": null,
            "height": null,
            "justify_content": null,
            "justify_items": null,
            "left": null,
            "margin": null,
            "max_height": null,
            "max_width": null,
            "min_height": null,
            "min_width": null,
            "object_fit": null,
            "object_position": null,
            "order": null,
            "overflow": null,
            "overflow_x": null,
            "overflow_y": null,
            "padding": null,
            "right": null,
            "top": null,
            "visibility": null,
            "width": null
          }
        },
        "3099dce326a94c09b60ad48bca7ad52a": {
          "model_module": "@jupyter-widgets/controls",
          "model_name": "DescriptionStyleModel",
          "model_module_version": "1.5.0",
          "state": {
            "_model_module": "@jupyter-widgets/controls",
            "_model_module_version": "1.5.0",
            "_model_name": "DescriptionStyleModel",
            "_view_count": null,
            "_view_module": "@jupyter-widgets/base",
            "_view_module_version": "1.2.0",
            "_view_name": "StyleView",
            "description_width": ""
          }
        },
        "b1624e77cec24d5da9eeb7afc4116562": {
          "model_module": "@jupyter-widgets/controls",
          "model_name": "HBoxModel",
          "model_module_version": "1.5.0",
          "state": {
            "_dom_classes": [],
            "_model_module": "@jupyter-widgets/controls",
            "_model_module_version": "1.5.0",
            "_model_name": "HBoxModel",
            "_view_count": null,
            "_view_module": "@jupyter-widgets/controls",
            "_view_module_version": "1.5.0",
            "_view_name": "HBoxView",
            "box_style": "",
            "children": [
              "IPY_MODEL_c43874e8f7cd42bfb0a461783f42f351",
              "IPY_MODEL_2250d0b5f0cd4f769c9976c05c20f995",
              "IPY_MODEL_b1eb9e13ec01415592119418b77aa1af"
            ],
            "layout": "IPY_MODEL_5dedf253eea644e5bf5fbb9c20b74131"
          }
        },
        "c43874e8f7cd42bfb0a461783f42f351": {
          "model_module": "@jupyter-widgets/controls",
          "model_name": "HTMLModel",
          "model_module_version": "1.5.0",
          "state": {
            "_dom_classes": [],
            "_model_module": "@jupyter-widgets/controls",
            "_model_module_version": "1.5.0",
            "_model_name": "HTMLModel",
            "_view_count": null,
            "_view_module": "@jupyter-widgets/controls",
            "_view_module_version": "1.5.0",
            "_view_name": "HTMLView",
            "description": "",
            "description_tooltip": null,
            "layout": "IPY_MODEL_1cae22ebe0b945f885312ea73a1748ad",
            "placeholder": "​",
            "style": "IPY_MODEL_bfa0635e799b460f8e0633d923aa0bb1",
            "value": "Downloading (…)solve/main/vocab.txt: 100%"
          }
        },
        "2250d0b5f0cd4f769c9976c05c20f995": {
          "model_module": "@jupyter-widgets/controls",
          "model_name": "FloatProgressModel",
          "model_module_version": "1.5.0",
          "state": {
            "_dom_classes": [],
            "_model_module": "@jupyter-widgets/controls",
            "_model_module_version": "1.5.0",
            "_model_name": "FloatProgressModel",
            "_view_count": null,
            "_view_module": "@jupyter-widgets/controls",
            "_view_module_version": "1.5.0",
            "_view_name": "ProgressView",
            "bar_style": "success",
            "description": "",
            "description_tooltip": null,
            "layout": "IPY_MODEL_42b423c83b214bca957bf6c5ae7c3378",
            "max": 234118,
            "min": 0,
            "orientation": "horizontal",
            "style": "IPY_MODEL_c7ee74f8afac4ff29cbd4a77251586e3",
            "value": 234118
          }
        },
        "b1eb9e13ec01415592119418b77aa1af": {
          "model_module": "@jupyter-widgets/controls",
          "model_name": "HTMLModel",
          "model_module_version": "1.5.0",
          "state": {
            "_dom_classes": [],
            "_model_module": "@jupyter-widgets/controls",
            "_model_module_version": "1.5.0",
            "_model_name": "HTMLModel",
            "_view_count": null,
            "_view_module": "@jupyter-widgets/controls",
            "_view_module_version": "1.5.0",
            "_view_name": "HTMLView",
            "description": "",
            "description_tooltip": null,
            "layout": "IPY_MODEL_fe7c3e549ae74421bd6b52de62a55e56",
            "placeholder": "​",
            "style": "IPY_MODEL_d9662f4d403f4a97b8d32681ae037a4a",
            "value": " 234k/234k [00:00&lt;00:00, 1.50MB/s]"
          }
        },
        "5dedf253eea644e5bf5fbb9c20b74131": {
          "model_module": "@jupyter-widgets/base",
          "model_name": "LayoutModel",
          "model_module_version": "1.2.0",
          "state": {
            "_model_module": "@jupyter-widgets/base",
            "_model_module_version": "1.2.0",
            "_model_name": "LayoutModel",
            "_view_count": null,
            "_view_module": "@jupyter-widgets/base",
            "_view_module_version": "1.2.0",
            "_view_name": "LayoutView",
            "align_content": null,
            "align_items": null,
            "align_self": null,
            "border": null,
            "bottom": null,
            "display": null,
            "flex": null,
            "flex_flow": null,
            "grid_area": null,
            "grid_auto_columns": null,
            "grid_auto_flow": null,
            "grid_auto_rows": null,
            "grid_column": null,
            "grid_gap": null,
            "grid_row": null,
            "grid_template_areas": null,
            "grid_template_columns": null,
            "grid_template_rows": null,
            "height": null,
            "justify_content": null,
            "justify_items": null,
            "left": null,
            "margin": null,
            "max_height": null,
            "max_width": null,
            "min_height": null,
            "min_width": null,
            "object_fit": null,
            "object_position": null,
            "order": null,
            "overflow": null,
            "overflow_x": null,
            "overflow_y": null,
            "padding": null,
            "right": null,
            "top": null,
            "visibility": null,
            "width": null
          }
        },
        "1cae22ebe0b945f885312ea73a1748ad": {
          "model_module": "@jupyter-widgets/base",
          "model_name": "LayoutModel",
          "model_module_version": "1.2.0",
          "state": {
            "_model_module": "@jupyter-widgets/base",
            "_model_module_version": "1.2.0",
            "_model_name": "LayoutModel",
            "_view_count": null,
            "_view_module": "@jupyter-widgets/base",
            "_view_module_version": "1.2.0",
            "_view_name": "LayoutView",
            "align_content": null,
            "align_items": null,
            "align_self": null,
            "border": null,
            "bottom": null,
            "display": null,
            "flex": null,
            "flex_flow": null,
            "grid_area": null,
            "grid_auto_columns": null,
            "grid_auto_flow": null,
            "grid_auto_rows": null,
            "grid_column": null,
            "grid_gap": null,
            "grid_row": null,
            "grid_template_areas": null,
            "grid_template_columns": null,
            "grid_template_rows": null,
            "height": null,
            "justify_content": null,
            "justify_items": null,
            "left": null,
            "margin": null,
            "max_height": null,
            "max_width": null,
            "min_height": null,
            "min_width": null,
            "object_fit": null,
            "object_position": null,
            "order": null,
            "overflow": null,
            "overflow_x": null,
            "overflow_y": null,
            "padding": null,
            "right": null,
            "top": null,
            "visibility": null,
            "width": null
          }
        },
        "bfa0635e799b460f8e0633d923aa0bb1": {
          "model_module": "@jupyter-widgets/controls",
          "model_name": "DescriptionStyleModel",
          "model_module_version": "1.5.0",
          "state": {
            "_model_module": "@jupyter-widgets/controls",
            "_model_module_version": "1.5.0",
            "_model_name": "DescriptionStyleModel",
            "_view_count": null,
            "_view_module": "@jupyter-widgets/base",
            "_view_module_version": "1.2.0",
            "_view_name": "StyleView",
            "description_width": ""
          }
        },
        "42b423c83b214bca957bf6c5ae7c3378": {
          "model_module": "@jupyter-widgets/base",
          "model_name": "LayoutModel",
          "model_module_version": "1.2.0",
          "state": {
            "_model_module": "@jupyter-widgets/base",
            "_model_module_version": "1.2.0",
            "_model_name": "LayoutModel",
            "_view_count": null,
            "_view_module": "@jupyter-widgets/base",
            "_view_module_version": "1.2.0",
            "_view_name": "LayoutView",
            "align_content": null,
            "align_items": null,
            "align_self": null,
            "border": null,
            "bottom": null,
            "display": null,
            "flex": null,
            "flex_flow": null,
            "grid_area": null,
            "grid_auto_columns": null,
            "grid_auto_flow": null,
            "grid_auto_rows": null,
            "grid_column": null,
            "grid_gap": null,
            "grid_row": null,
            "grid_template_areas": null,
            "grid_template_columns": null,
            "grid_template_rows": null,
            "height": null,
            "justify_content": null,
            "justify_items": null,
            "left": null,
            "margin": null,
            "max_height": null,
            "max_width": null,
            "min_height": null,
            "min_width": null,
            "object_fit": null,
            "object_position": null,
            "order": null,
            "overflow": null,
            "overflow_x": null,
            "overflow_y": null,
            "padding": null,
            "right": null,
            "top": null,
            "visibility": null,
            "width": null
          }
        },
        "c7ee74f8afac4ff29cbd4a77251586e3": {
          "model_module": "@jupyter-widgets/controls",
          "model_name": "ProgressStyleModel",
          "model_module_version": "1.5.0",
          "state": {
            "_model_module": "@jupyter-widgets/controls",
            "_model_module_version": "1.5.0",
            "_model_name": "ProgressStyleModel",
            "_view_count": null,
            "_view_module": "@jupyter-widgets/base",
            "_view_module_version": "1.2.0",
            "_view_name": "StyleView",
            "bar_color": null,
            "description_width": ""
          }
        },
        "fe7c3e549ae74421bd6b52de62a55e56": {
          "model_module": "@jupyter-widgets/base",
          "model_name": "LayoutModel",
          "model_module_version": "1.2.0",
          "state": {
            "_model_module": "@jupyter-widgets/base",
            "_model_module_version": "1.2.0",
            "_model_name": "LayoutModel",
            "_view_count": null,
            "_view_module": "@jupyter-widgets/base",
            "_view_module_version": "1.2.0",
            "_view_name": "LayoutView",
            "align_content": null,
            "align_items": null,
            "align_self": null,
            "border": null,
            "bottom": null,
            "display": null,
            "flex": null,
            "flex_flow": null,
            "grid_area": null,
            "grid_auto_columns": null,
            "grid_auto_flow": null,
            "grid_auto_rows": null,
            "grid_column": null,
            "grid_gap": null,
            "grid_row": null,
            "grid_template_areas": null,
            "grid_template_columns": null,
            "grid_template_rows": null,
            "height": null,
            "justify_content": null,
            "justify_items": null,
            "left": null,
            "margin": null,
            "max_height": null,
            "max_width": null,
            "min_height": null,
            "min_width": null,
            "object_fit": null,
            "object_position": null,
            "order": null,
            "overflow": null,
            "overflow_x": null,
            "overflow_y": null,
            "padding": null,
            "right": null,
            "top": null,
            "visibility": null,
            "width": null
          }
        },
        "d9662f4d403f4a97b8d32681ae037a4a": {
          "model_module": "@jupyter-widgets/controls",
          "model_name": "DescriptionStyleModel",
          "model_module_version": "1.5.0",
          "state": {
            "_model_module": "@jupyter-widgets/controls",
            "_model_module_version": "1.5.0",
            "_model_name": "DescriptionStyleModel",
            "_view_count": null,
            "_view_module": "@jupyter-widgets/base",
            "_view_module_version": "1.2.0",
            "_view_name": "StyleView",
            "description_width": ""
          }
        },
        "55294cd7168d4b60b9728ed84b14a306": {
          "model_module": "@jupyter-widgets/controls",
          "model_name": "HBoxModel",
          "model_module_version": "1.5.0",
          "state": {
            "_dom_classes": [],
            "_model_module": "@jupyter-widgets/controls",
            "_model_module_version": "1.5.0",
            "_model_name": "HBoxModel",
            "_view_count": null,
            "_view_module": "@jupyter-widgets/controls",
            "_view_module_version": "1.5.0",
            "_view_name": "HBoxView",
            "box_style": "",
            "children": [
              "IPY_MODEL_ef9791f8cfef440aa9fb68f5cfacffc1",
              "IPY_MODEL_c0e869bbc4ee4868acac6f22e28f2556",
              "IPY_MODEL_007e20860cc945fd9a55adec80e70d51"
            ],
            "layout": "IPY_MODEL_72cc1480d42c455eae6c15afdd187e79"
          }
        },
        "ef9791f8cfef440aa9fb68f5cfacffc1": {
          "model_module": "@jupyter-widgets/controls",
          "model_name": "HTMLModel",
          "model_module_version": "1.5.0",
          "state": {
            "_dom_classes": [],
            "_model_module": "@jupyter-widgets/controls",
            "_model_module_version": "1.5.0",
            "_model_name": "HTMLModel",
            "_view_count": null,
            "_view_module": "@jupyter-widgets/controls",
            "_view_module_version": "1.5.0",
            "_view_name": "HTMLView",
            "description": "",
            "description_tooltip": null,
            "layout": "IPY_MODEL_706b5418f7a8429e87f7117c86ed3b6b",
            "placeholder": "​",
            "style": "IPY_MODEL_e1a60192ca8b4b4ea6fd9fe33e2b73d8",
            "value": "Downloading (…)in/added_tokens.json: 100%"
          }
        },
        "c0e869bbc4ee4868acac6f22e28f2556": {
          "model_module": "@jupyter-widgets/controls",
          "model_name": "FloatProgressModel",
          "model_module_version": "1.5.0",
          "state": {
            "_dom_classes": [],
            "_model_module": "@jupyter-widgets/controls",
            "_model_module_version": "1.5.0",
            "_model_name": "FloatProgressModel",
            "_view_count": null,
            "_view_module": "@jupyter-widgets/controls",
            "_view_module_version": "1.5.0",
            "_view_name": "ProgressView",
            "bar_style": "success",
            "description": "",
            "description_tooltip": null,
            "layout": "IPY_MODEL_5b14c2173b4d4438a46df0405a136fc8",
            "max": 2,
            "min": 0,
            "orientation": "horizontal",
            "style": "IPY_MODEL_ca315b158c2e4f47965517654ca44d47",
            "value": 2
          }
        },
        "007e20860cc945fd9a55adec80e70d51": {
          "model_module": "@jupyter-widgets/controls",
          "model_name": "HTMLModel",
          "model_module_version": "1.5.0",
          "state": {
            "_dom_classes": [],
            "_model_module": "@jupyter-widgets/controls",
            "_model_module_version": "1.5.0",
            "_model_name": "HTMLModel",
            "_view_count": null,
            "_view_module": "@jupyter-widgets/controls",
            "_view_module_version": "1.5.0",
            "_view_name": "HTMLView",
            "description": "",
            "description_tooltip": null,
            "layout": "IPY_MODEL_2f1e9cebee9942529204159c51d89835",
            "placeholder": "​",
            "style": "IPY_MODEL_0700de79519641339b4d5ff03a4a0278",
            "value": " 2.00/2.00 [00:00&lt;00:00, 108B/s]"
          }
        },
        "72cc1480d42c455eae6c15afdd187e79": {
          "model_module": "@jupyter-widgets/base",
          "model_name": "LayoutModel",
          "model_module_version": "1.2.0",
          "state": {
            "_model_module": "@jupyter-widgets/base",
            "_model_module_version": "1.2.0",
            "_model_name": "LayoutModel",
            "_view_count": null,
            "_view_module": "@jupyter-widgets/base",
            "_view_module_version": "1.2.0",
            "_view_name": "LayoutView",
            "align_content": null,
            "align_items": null,
            "align_self": null,
            "border": null,
            "bottom": null,
            "display": null,
            "flex": null,
            "flex_flow": null,
            "grid_area": null,
            "grid_auto_columns": null,
            "grid_auto_flow": null,
            "grid_auto_rows": null,
            "grid_column": null,
            "grid_gap": null,
            "grid_row": null,
            "grid_template_areas": null,
            "grid_template_columns": null,
            "grid_template_rows": null,
            "height": null,
            "justify_content": null,
            "justify_items": null,
            "left": null,
            "margin": null,
            "max_height": null,
            "max_width": null,
            "min_height": null,
            "min_width": null,
            "object_fit": null,
            "object_position": null,
            "order": null,
            "overflow": null,
            "overflow_x": null,
            "overflow_y": null,
            "padding": null,
            "right": null,
            "top": null,
            "visibility": null,
            "width": null
          }
        },
        "706b5418f7a8429e87f7117c86ed3b6b": {
          "model_module": "@jupyter-widgets/base",
          "model_name": "LayoutModel",
          "model_module_version": "1.2.0",
          "state": {
            "_model_module": "@jupyter-widgets/base",
            "_model_module_version": "1.2.0",
            "_model_name": "LayoutModel",
            "_view_count": null,
            "_view_module": "@jupyter-widgets/base",
            "_view_module_version": "1.2.0",
            "_view_name": "LayoutView",
            "align_content": null,
            "align_items": null,
            "align_self": null,
            "border": null,
            "bottom": null,
            "display": null,
            "flex": null,
            "flex_flow": null,
            "grid_area": null,
            "grid_auto_columns": null,
            "grid_auto_flow": null,
            "grid_auto_rows": null,
            "grid_column": null,
            "grid_gap": null,
            "grid_row": null,
            "grid_template_areas": null,
            "grid_template_columns": null,
            "grid_template_rows": null,
            "height": null,
            "justify_content": null,
            "justify_items": null,
            "left": null,
            "margin": null,
            "max_height": null,
            "max_width": null,
            "min_height": null,
            "min_width": null,
            "object_fit": null,
            "object_position": null,
            "order": null,
            "overflow": null,
            "overflow_x": null,
            "overflow_y": null,
            "padding": null,
            "right": null,
            "top": null,
            "visibility": null,
            "width": null
          }
        },
        "e1a60192ca8b4b4ea6fd9fe33e2b73d8": {
          "model_module": "@jupyter-widgets/controls",
          "model_name": "DescriptionStyleModel",
          "model_module_version": "1.5.0",
          "state": {
            "_model_module": "@jupyter-widgets/controls",
            "_model_module_version": "1.5.0",
            "_model_name": "DescriptionStyleModel",
            "_view_count": null,
            "_view_module": "@jupyter-widgets/base",
            "_view_module_version": "1.2.0",
            "_view_name": "StyleView",
            "description_width": ""
          }
        },
        "5b14c2173b4d4438a46df0405a136fc8": {
          "model_module": "@jupyter-widgets/base",
          "model_name": "LayoutModel",
          "model_module_version": "1.2.0",
          "state": {
            "_model_module": "@jupyter-widgets/base",
            "_model_module_version": "1.2.0",
            "_model_name": "LayoutModel",
            "_view_count": null,
            "_view_module": "@jupyter-widgets/base",
            "_view_module_version": "1.2.0",
            "_view_name": "LayoutView",
            "align_content": null,
            "align_items": null,
            "align_self": null,
            "border": null,
            "bottom": null,
            "display": null,
            "flex": null,
            "flex_flow": null,
            "grid_area": null,
            "grid_auto_columns": null,
            "grid_auto_flow": null,
            "grid_auto_rows": null,
            "grid_column": null,
            "grid_gap": null,
            "grid_row": null,
            "grid_template_areas": null,
            "grid_template_columns": null,
            "grid_template_rows": null,
            "height": null,
            "justify_content": null,
            "justify_items": null,
            "left": null,
            "margin": null,
            "max_height": null,
            "max_width": null,
            "min_height": null,
            "min_width": null,
            "object_fit": null,
            "object_position": null,
            "order": null,
            "overflow": null,
            "overflow_x": null,
            "overflow_y": null,
            "padding": null,
            "right": null,
            "top": null,
            "visibility": null,
            "width": null
          }
        },
        "ca315b158c2e4f47965517654ca44d47": {
          "model_module": "@jupyter-widgets/controls",
          "model_name": "ProgressStyleModel",
          "model_module_version": "1.5.0",
          "state": {
            "_model_module": "@jupyter-widgets/controls",
            "_model_module_version": "1.5.0",
            "_model_name": "ProgressStyleModel",
            "_view_count": null,
            "_view_module": "@jupyter-widgets/base",
            "_view_module_version": "1.2.0",
            "_view_name": "StyleView",
            "bar_color": null,
            "description_width": ""
          }
        },
        "2f1e9cebee9942529204159c51d89835": {
          "model_module": "@jupyter-widgets/base",
          "model_name": "LayoutModel",
          "model_module_version": "1.2.0",
          "state": {
            "_model_module": "@jupyter-widgets/base",
            "_model_module_version": "1.2.0",
            "_model_name": "LayoutModel",
            "_view_count": null,
            "_view_module": "@jupyter-widgets/base",
            "_view_module_version": "1.2.0",
            "_view_name": "LayoutView",
            "align_content": null,
            "align_items": null,
            "align_self": null,
            "border": null,
            "bottom": null,
            "display": null,
            "flex": null,
            "flex_flow": null,
            "grid_area": null,
            "grid_auto_columns": null,
            "grid_auto_flow": null,
            "grid_auto_rows": null,
            "grid_column": null,
            "grid_gap": null,
            "grid_row": null,
            "grid_template_areas": null,
            "grid_template_columns": null,
            "grid_template_rows": null,
            "height": null,
            "justify_content": null,
            "justify_items": null,
            "left": null,
            "margin": null,
            "max_height": null,
            "max_width": null,
            "min_height": null,
            "min_width": null,
            "object_fit": null,
            "object_position": null,
            "order": null,
            "overflow": null,
            "overflow_x": null,
            "overflow_y": null,
            "padding": null,
            "right": null,
            "top": null,
            "visibility": null,
            "width": null
          }
        },
        "0700de79519641339b4d5ff03a4a0278": {
          "model_module": "@jupyter-widgets/controls",
          "model_name": "DescriptionStyleModel",
          "model_module_version": "1.5.0",
          "state": {
            "_model_module": "@jupyter-widgets/controls",
            "_model_module_version": "1.5.0",
            "_model_name": "DescriptionStyleModel",
            "_view_count": null,
            "_view_module": "@jupyter-widgets/base",
            "_view_module_version": "1.2.0",
            "_view_name": "StyleView",
            "description_width": ""
          }
        },
        "caf2c9de707e4554b4b2037bd39e4806": {
          "model_module": "@jupyter-widgets/controls",
          "model_name": "HBoxModel",
          "model_module_version": "1.5.0",
          "state": {
            "_dom_classes": [],
            "_model_module": "@jupyter-widgets/controls",
            "_model_module_version": "1.5.0",
            "_model_name": "HBoxModel",
            "_view_count": null,
            "_view_module": "@jupyter-widgets/controls",
            "_view_module_version": "1.5.0",
            "_view_name": "HBoxView",
            "box_style": "",
            "children": [
              "IPY_MODEL_13b4d10a80904c7a89d6d3cce90ae0ed",
              "IPY_MODEL_b5d01c2670d648d3b965a21059add781",
              "IPY_MODEL_5aa0d4da9a8347a5b595c8f0b109e479"
            ],
            "layout": "IPY_MODEL_a193edf7da534787a888cf2819d460d3"
          }
        },
        "13b4d10a80904c7a89d6d3cce90ae0ed": {
          "model_module": "@jupyter-widgets/controls",
          "model_name": "HTMLModel",
          "model_module_version": "1.5.0",
          "state": {
            "_dom_classes": [],
            "_model_module": "@jupyter-widgets/controls",
            "_model_module_version": "1.5.0",
            "_model_name": "HTMLModel",
            "_view_count": null,
            "_view_module": "@jupyter-widgets/controls",
            "_view_module_version": "1.5.0",
            "_view_name": "HTMLView",
            "description": "",
            "description_tooltip": null,
            "layout": "IPY_MODEL_28bb0ff65a7d43a7a8c898ec0590b26c",
            "placeholder": "​",
            "style": "IPY_MODEL_1254321e78724b4c9d746271c9be6fe3",
            "value": "Downloading (…)cial_tokens_map.json: 100%"
          }
        },
        "b5d01c2670d648d3b965a21059add781": {
          "model_module": "@jupyter-widgets/controls",
          "model_name": "FloatProgressModel",
          "model_module_version": "1.5.0",
          "state": {
            "_dom_classes": [],
            "_model_module": "@jupyter-widgets/controls",
            "_model_module_version": "1.5.0",
            "_model_name": "FloatProgressModel",
            "_view_count": null,
            "_view_module": "@jupyter-widgets/controls",
            "_view_module_version": "1.5.0",
            "_view_name": "ProgressView",
            "bar_style": "success",
            "description": "",
            "description_tooltip": null,
            "layout": "IPY_MODEL_132d9c92e70d4a8a9df26f76045cd6ab",
            "max": 112,
            "min": 0,
            "orientation": "horizontal",
            "style": "IPY_MODEL_97290ece3ba946039ce5a7dc8c849a5a",
            "value": 112
          }
        },
        "5aa0d4da9a8347a5b595c8f0b109e479": {
          "model_module": "@jupyter-widgets/controls",
          "model_name": "HTMLModel",
          "model_module_version": "1.5.0",
          "state": {
            "_dom_classes": [],
            "_model_module": "@jupyter-widgets/controls",
            "_model_module_version": "1.5.0",
            "_model_name": "HTMLModel",
            "_view_count": null,
            "_view_module": "@jupyter-widgets/controls",
            "_view_module_version": "1.5.0",
            "_view_name": "HTMLView",
            "description": "",
            "description_tooltip": null,
            "layout": "IPY_MODEL_6fb80bf4773b451bb65754bc475a3d06",
            "placeholder": "​",
            "style": "IPY_MODEL_068958578d9b4ea1b84610f8e45fc1e4",
            "value": " 112/112 [00:00&lt;00:00, 8.20kB/s]"
          }
        },
        "a193edf7da534787a888cf2819d460d3": {
          "model_module": "@jupyter-widgets/base",
          "model_name": "LayoutModel",
          "model_module_version": "1.2.0",
          "state": {
            "_model_module": "@jupyter-widgets/base",
            "_model_module_version": "1.2.0",
            "_model_name": "LayoutModel",
            "_view_count": null,
            "_view_module": "@jupyter-widgets/base",
            "_view_module_version": "1.2.0",
            "_view_name": "LayoutView",
            "align_content": null,
            "align_items": null,
            "align_self": null,
            "border": null,
            "bottom": null,
            "display": null,
            "flex": null,
            "flex_flow": null,
            "grid_area": null,
            "grid_auto_columns": null,
            "grid_auto_flow": null,
            "grid_auto_rows": null,
            "grid_column": null,
            "grid_gap": null,
            "grid_row": null,
            "grid_template_areas": null,
            "grid_template_columns": null,
            "grid_template_rows": null,
            "height": null,
            "justify_content": null,
            "justify_items": null,
            "left": null,
            "margin": null,
            "max_height": null,
            "max_width": null,
            "min_height": null,
            "min_width": null,
            "object_fit": null,
            "object_position": null,
            "order": null,
            "overflow": null,
            "overflow_x": null,
            "overflow_y": null,
            "padding": null,
            "right": null,
            "top": null,
            "visibility": null,
            "width": null
          }
        },
        "28bb0ff65a7d43a7a8c898ec0590b26c": {
          "model_module": "@jupyter-widgets/base",
          "model_name": "LayoutModel",
          "model_module_version": "1.2.0",
          "state": {
            "_model_module": "@jupyter-widgets/base",
            "_model_module_version": "1.2.0",
            "_model_name": "LayoutModel",
            "_view_count": null,
            "_view_module": "@jupyter-widgets/base",
            "_view_module_version": "1.2.0",
            "_view_name": "LayoutView",
            "align_content": null,
            "align_items": null,
            "align_self": null,
            "border": null,
            "bottom": null,
            "display": null,
            "flex": null,
            "flex_flow": null,
            "grid_area": null,
            "grid_auto_columns": null,
            "grid_auto_flow": null,
            "grid_auto_rows": null,
            "grid_column": null,
            "grid_gap": null,
            "grid_row": null,
            "grid_template_areas": null,
            "grid_template_columns": null,
            "grid_template_rows": null,
            "height": null,
            "justify_content": null,
            "justify_items": null,
            "left": null,
            "margin": null,
            "max_height": null,
            "max_width": null,
            "min_height": null,
            "min_width": null,
            "object_fit": null,
            "object_position": null,
            "order": null,
            "overflow": null,
            "overflow_x": null,
            "overflow_y": null,
            "padding": null,
            "right": null,
            "top": null,
            "visibility": null,
            "width": null
          }
        },
        "1254321e78724b4c9d746271c9be6fe3": {
          "model_module": "@jupyter-widgets/controls",
          "model_name": "DescriptionStyleModel",
          "model_module_version": "1.5.0",
          "state": {
            "_model_module": "@jupyter-widgets/controls",
            "_model_module_version": "1.5.0",
            "_model_name": "DescriptionStyleModel",
            "_view_count": null,
            "_view_module": "@jupyter-widgets/base",
            "_view_module_version": "1.2.0",
            "_view_name": "StyleView",
            "description_width": ""
          }
        },
        "132d9c92e70d4a8a9df26f76045cd6ab": {
          "model_module": "@jupyter-widgets/base",
          "model_name": "LayoutModel",
          "model_module_version": "1.2.0",
          "state": {
            "_model_module": "@jupyter-widgets/base",
            "_model_module_version": "1.2.0",
            "_model_name": "LayoutModel",
            "_view_count": null,
            "_view_module": "@jupyter-widgets/base",
            "_view_module_version": "1.2.0",
            "_view_name": "LayoutView",
            "align_content": null,
            "align_items": null,
            "align_self": null,
            "border": null,
            "bottom": null,
            "display": null,
            "flex": null,
            "flex_flow": null,
            "grid_area": null,
            "grid_auto_columns": null,
            "grid_auto_flow": null,
            "grid_auto_rows": null,
            "grid_column": null,
            "grid_gap": null,
            "grid_row": null,
            "grid_template_areas": null,
            "grid_template_columns": null,
            "grid_template_rows": null,
            "height": null,
            "justify_content": null,
            "justify_items": null,
            "left": null,
            "margin": null,
            "max_height": null,
            "max_width": null,
            "min_height": null,
            "min_width": null,
            "object_fit": null,
            "object_position": null,
            "order": null,
            "overflow": null,
            "overflow_x": null,
            "overflow_y": null,
            "padding": null,
            "right": null,
            "top": null,
            "visibility": null,
            "width": null
          }
        },
        "97290ece3ba946039ce5a7dc8c849a5a": {
          "model_module": "@jupyter-widgets/controls",
          "model_name": "ProgressStyleModel",
          "model_module_version": "1.5.0",
          "state": {
            "_model_module": "@jupyter-widgets/controls",
            "_model_module_version": "1.5.0",
            "_model_name": "ProgressStyleModel",
            "_view_count": null,
            "_view_module": "@jupyter-widgets/base",
            "_view_module_version": "1.2.0",
            "_view_name": "StyleView",
            "bar_color": null,
            "description_width": ""
          }
        },
        "6fb80bf4773b451bb65754bc475a3d06": {
          "model_module": "@jupyter-widgets/base",
          "model_name": "LayoutModel",
          "model_module_version": "1.2.0",
          "state": {
            "_model_module": "@jupyter-widgets/base",
            "_model_module_version": "1.2.0",
            "_model_name": "LayoutModel",
            "_view_count": null,
            "_view_module": "@jupyter-widgets/base",
            "_view_module_version": "1.2.0",
            "_view_name": "LayoutView",
            "align_content": null,
            "align_items": null,
            "align_self": null,
            "border": null,
            "bottom": null,
            "display": null,
            "flex": null,
            "flex_flow": null,
            "grid_area": null,
            "grid_auto_columns": null,
            "grid_auto_flow": null,
            "grid_auto_rows": null,
            "grid_column": null,
            "grid_gap": null,
            "grid_row": null,
            "grid_template_areas": null,
            "grid_template_columns": null,
            "grid_template_rows": null,
            "height": null,
            "justify_content": null,
            "justify_items": null,
            "left": null,
            "margin": null,
            "max_height": null,
            "max_width": null,
            "min_height": null,
            "min_width": null,
            "object_fit": null,
            "object_position": null,
            "order": null,
            "overflow": null,
            "overflow_x": null,
            "overflow_y": null,
            "padding": null,
            "right": null,
            "top": null,
            "visibility": null,
            "width": null
          }
        },
        "068958578d9b4ea1b84610f8e45fc1e4": {
          "model_module": "@jupyter-widgets/controls",
          "model_name": "DescriptionStyleModel",
          "model_module_version": "1.5.0",
          "state": {
            "_model_module": "@jupyter-widgets/controls",
            "_model_module_version": "1.5.0",
            "_model_name": "DescriptionStyleModel",
            "_view_count": null,
            "_view_module": "@jupyter-widgets/base",
            "_view_module_version": "1.2.0",
            "_view_name": "StyleView",
            "description_width": ""
          }
        },
        "481bde0dfa02481c9f6ebf087cc7a13f": {
          "model_module": "@jupyter-widgets/controls",
          "model_name": "HBoxModel",
          "model_module_version": "1.5.0",
          "state": {
            "_dom_classes": [],
            "_model_module": "@jupyter-widgets/controls",
            "_model_module_version": "1.5.0",
            "_model_name": "HBoxModel",
            "_view_count": null,
            "_view_module": "@jupyter-widgets/controls",
            "_view_module_version": "1.5.0",
            "_view_name": "HBoxView",
            "box_style": "",
            "children": [
              "IPY_MODEL_d73e26b152ad4c46bd32941f28eeaab8",
              "IPY_MODEL_0c8aea33bc4b4a0cafcabc0bde20c795",
              "IPY_MODEL_41801f7e26754b3db3d196669cc6c770"
            ],
            "layout": "IPY_MODEL_ea9a5361fa954d45b0314bfa1c2f99ed"
          }
        },
        "d73e26b152ad4c46bd32941f28eeaab8": {
          "model_module": "@jupyter-widgets/controls",
          "model_name": "HTMLModel",
          "model_module_version": "1.5.0",
          "state": {
            "_dom_classes": [],
            "_model_module": "@jupyter-widgets/controls",
            "_model_module_version": "1.5.0",
            "_model_name": "HTMLModel",
            "_view_count": null,
            "_view_module": "@jupyter-widgets/controls",
            "_view_module_version": "1.5.0",
            "_view_name": "HTMLView",
            "description": "",
            "description_tooltip": null,
            "layout": "IPY_MODEL_ce65b0d1854c490b831550ddf824bb77",
            "placeholder": "​",
            "style": "IPY_MODEL_7ffe8a872d77495199729728aeac4889",
            "value": "Downloading pytorch_model.bin: 100%"
          }
        },
        "0c8aea33bc4b4a0cafcabc0bde20c795": {
          "model_module": "@jupyter-widgets/controls",
          "model_name": "FloatProgressModel",
          "model_module_version": "1.5.0",
          "state": {
            "_dom_classes": [],
            "_model_module": "@jupyter-widgets/controls",
            "_model_module_version": "1.5.0",
            "_model_name": "FloatProgressModel",
            "_view_count": null,
            "_view_module": "@jupyter-widgets/controls",
            "_view_module_version": "1.5.0",
            "_view_name": "ProgressView",
            "bar_style": "success",
            "description": "",
            "description_tooltip": null,
            "layout": "IPY_MODEL_3fd7195e8ef84175ad0bc4896b6f0697",
            "max": 444780374,
            "min": 0,
            "orientation": "horizontal",
            "style": "IPY_MODEL_5b09712c936c4491967b6191a2ac9a65",
            "value": 444780374
          }
        },
        "41801f7e26754b3db3d196669cc6c770": {
          "model_module": "@jupyter-widgets/controls",
          "model_name": "HTMLModel",
          "model_module_version": "1.5.0",
          "state": {
            "_dom_classes": [],
            "_model_module": "@jupyter-widgets/controls",
            "_model_module_version": "1.5.0",
            "_model_name": "HTMLModel",
            "_view_count": null,
            "_view_module": "@jupyter-widgets/controls",
            "_view_module_version": "1.5.0",
            "_view_name": "HTMLView",
            "description": "",
            "description_tooltip": null,
            "layout": "IPY_MODEL_f61b6e079bd34c09b4ef58d1a2d2117b",
            "placeholder": "​",
            "style": "IPY_MODEL_07fc0d29abfc43518da21fc20aec675e",
            "value": " 445M/445M [00:11&lt;00:00, 41.7MB/s]"
          }
        },
        "ea9a5361fa954d45b0314bfa1c2f99ed": {
          "model_module": "@jupyter-widgets/base",
          "model_name": "LayoutModel",
          "model_module_version": "1.2.0",
          "state": {
            "_model_module": "@jupyter-widgets/base",
            "_model_module_version": "1.2.0",
            "_model_name": "LayoutModel",
            "_view_count": null,
            "_view_module": "@jupyter-widgets/base",
            "_view_module_version": "1.2.0",
            "_view_name": "LayoutView",
            "align_content": null,
            "align_items": null,
            "align_self": null,
            "border": null,
            "bottom": null,
            "display": null,
            "flex": null,
            "flex_flow": null,
            "grid_area": null,
            "grid_auto_columns": null,
            "grid_auto_flow": null,
            "grid_auto_rows": null,
            "grid_column": null,
            "grid_gap": null,
            "grid_row": null,
            "grid_template_areas": null,
            "grid_template_columns": null,
            "grid_template_rows": null,
            "height": null,
            "justify_content": null,
            "justify_items": null,
            "left": null,
            "margin": null,
            "max_height": null,
            "max_width": null,
            "min_height": null,
            "min_width": null,
            "object_fit": null,
            "object_position": null,
            "order": null,
            "overflow": null,
            "overflow_x": null,
            "overflow_y": null,
            "padding": null,
            "right": null,
            "top": null,
            "visibility": null,
            "width": null
          }
        },
        "ce65b0d1854c490b831550ddf824bb77": {
          "model_module": "@jupyter-widgets/base",
          "model_name": "LayoutModel",
          "model_module_version": "1.2.0",
          "state": {
            "_model_module": "@jupyter-widgets/base",
            "_model_module_version": "1.2.0",
            "_model_name": "LayoutModel",
            "_view_count": null,
            "_view_module": "@jupyter-widgets/base",
            "_view_module_version": "1.2.0",
            "_view_name": "LayoutView",
            "align_content": null,
            "align_items": null,
            "align_self": null,
            "border": null,
            "bottom": null,
            "display": null,
            "flex": null,
            "flex_flow": null,
            "grid_area": null,
            "grid_auto_columns": null,
            "grid_auto_flow": null,
            "grid_auto_rows": null,
            "grid_column": null,
            "grid_gap": null,
            "grid_row": null,
            "grid_template_areas": null,
            "grid_template_columns": null,
            "grid_template_rows": null,
            "height": null,
            "justify_content": null,
            "justify_items": null,
            "left": null,
            "margin": null,
            "max_height": null,
            "max_width": null,
            "min_height": null,
            "min_width": null,
            "object_fit": null,
            "object_position": null,
            "order": null,
            "overflow": null,
            "overflow_x": null,
            "overflow_y": null,
            "padding": null,
            "right": null,
            "top": null,
            "visibility": null,
            "width": null
          }
        },
        "7ffe8a872d77495199729728aeac4889": {
          "model_module": "@jupyter-widgets/controls",
          "model_name": "DescriptionStyleModel",
          "model_module_version": "1.5.0",
          "state": {
            "_model_module": "@jupyter-widgets/controls",
            "_model_module_version": "1.5.0",
            "_model_name": "DescriptionStyleModel",
            "_view_count": null,
            "_view_module": "@jupyter-widgets/base",
            "_view_module_version": "1.2.0",
            "_view_name": "StyleView",
            "description_width": ""
          }
        },
        "3fd7195e8ef84175ad0bc4896b6f0697": {
          "model_module": "@jupyter-widgets/base",
          "model_name": "LayoutModel",
          "model_module_version": "1.2.0",
          "state": {
            "_model_module": "@jupyter-widgets/base",
            "_model_module_version": "1.2.0",
            "_model_name": "LayoutModel",
            "_view_count": null,
            "_view_module": "@jupyter-widgets/base",
            "_view_module_version": "1.2.0",
            "_view_name": "LayoutView",
            "align_content": null,
            "align_items": null,
            "align_self": null,
            "border": null,
            "bottom": null,
            "display": null,
            "flex": null,
            "flex_flow": null,
            "grid_area": null,
            "grid_auto_columns": null,
            "grid_auto_flow": null,
            "grid_auto_rows": null,
            "grid_column": null,
            "grid_gap": null,
            "grid_row": null,
            "grid_template_areas": null,
            "grid_template_columns": null,
            "grid_template_rows": null,
            "height": null,
            "justify_content": null,
            "justify_items": null,
            "left": null,
            "margin": null,
            "max_height": null,
            "max_width": null,
            "min_height": null,
            "min_width": null,
            "object_fit": null,
            "object_position": null,
            "order": null,
            "overflow": null,
            "overflow_x": null,
            "overflow_y": null,
            "padding": null,
            "right": null,
            "top": null,
            "visibility": null,
            "width": null
          }
        },
        "5b09712c936c4491967b6191a2ac9a65": {
          "model_module": "@jupyter-widgets/controls",
          "model_name": "ProgressStyleModel",
          "model_module_version": "1.5.0",
          "state": {
            "_model_module": "@jupyter-widgets/controls",
            "_model_module_version": "1.5.0",
            "_model_name": "ProgressStyleModel",
            "_view_count": null,
            "_view_module": "@jupyter-widgets/base",
            "_view_module_version": "1.2.0",
            "_view_name": "StyleView",
            "bar_color": null,
            "description_width": ""
          }
        },
        "f61b6e079bd34c09b4ef58d1a2d2117b": {
          "model_module": "@jupyter-widgets/base",
          "model_name": "LayoutModel",
          "model_module_version": "1.2.0",
          "state": {
            "_model_module": "@jupyter-widgets/base",
            "_model_module_version": "1.2.0",
            "_model_name": "LayoutModel",
            "_view_count": null,
            "_view_module": "@jupyter-widgets/base",
            "_view_module_version": "1.2.0",
            "_view_name": "LayoutView",
            "align_content": null,
            "align_items": null,
            "align_self": null,
            "border": null,
            "bottom": null,
            "display": null,
            "flex": null,
            "flex_flow": null,
            "grid_area": null,
            "grid_auto_columns": null,
            "grid_auto_flow": null,
            "grid_auto_rows": null,
            "grid_column": null,
            "grid_gap": null,
            "grid_row": null,
            "grid_template_areas": null,
            "grid_template_columns": null,
            "grid_template_rows": null,
            "height": null,
            "justify_content": null,
            "justify_items": null,
            "left": null,
            "margin": null,
            "max_height": null,
            "max_width": null,
            "min_height": null,
            "min_width": null,
            "object_fit": null,
            "object_position": null,
            "order": null,
            "overflow": null,
            "overflow_x": null,
            "overflow_y": null,
            "padding": null,
            "right": null,
            "top": null,
            "visibility": null,
            "width": null
          }
        },
        "07fc0d29abfc43518da21fc20aec675e": {
          "model_module": "@jupyter-widgets/controls",
          "model_name": "DescriptionStyleModel",
          "model_module_version": "1.5.0",
          "state": {
            "_model_module": "@jupyter-widgets/controls",
            "_model_module_version": "1.5.0",
            "_model_name": "DescriptionStyleModel",
            "_view_count": null,
            "_view_module": "@jupyter-widgets/base",
            "_view_module_version": "1.2.0",
            "_view_name": "StyleView",
            "description_width": ""
          }
        }
      }
    }
  },
  "nbformat": 4,
  "nbformat_minor": 0
}