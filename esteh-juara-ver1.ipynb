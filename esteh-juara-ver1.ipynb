{
  "cells": [
    {
      "cell_type": "markdown",
      "metadata": {
        "id": "view-in-github",
        "colab_type": "text"
      },
      "source": [
        "<a href=\"https://colab.research.google.com/github/naufalhawari/gemastik-data-minik-esteh/blob/main/esteh-juara-ver1.ipynb\" target=\"_parent\"><img src=\"https://colab.research.google.com/assets/colab-badge.svg\" alt=\"Open In Colab\"/></a>"
      ]
    },
    {
      "cell_type": "markdown",
      "metadata": {
        "id": "IFe9eYWJEedj"
      },
      "source": [
        "# Creating Dataset"
      ]
    },
    {
      "cell_type": "markdown",
      "source": [
        "## Installing Library Needs"
      ],
      "metadata": {
        "id": "gpSVyqCX1sCO"
      }
    },
    {
      "cell_type": "code",
      "execution_count": 1,
      "metadata": {
        "colab": {
          "base_uri": "https://localhost:8080/"
        },
        "id": "OyXTjXg6svmX",
        "outputId": "3cf7de0b-ea93-4f94-a02d-b3e33afb5655"
      },
      "outputs": [
        {
          "output_type": "stream",
          "name": "stdout",
          "text": [
            "Looking in indexes: https://pypi.org/simple, https://us-python.pkg.dev/colab-wheels/public/simple/\n",
            "Requirement already satisfied: tensorflow_text in /usr/local/lib/python3.10/dist-packages (2.12.1)\n",
            "Requirement already satisfied: tensorflow-hub>=0.8.0 in /usr/local/lib/python3.10/dist-packages (from tensorflow_text) (0.13.0)\n",
            "Requirement already satisfied: tensorflow<2.13,>=2.12.0 in /usr/local/lib/python3.10/dist-packages (from tensorflow_text) (2.12.0)\n",
            "Requirement already satisfied: h5py>=2.9.0 in /usr/local/lib/python3.10/dist-packages (from tensorflow<2.13,>=2.12.0->tensorflow_text) (3.8.0)\n",
            "Requirement already satisfied: libclang>=13.0.0 in /usr/local/lib/python3.10/dist-packages (from tensorflow<2.13,>=2.12.0->tensorflow_text) (16.0.0)\n",
            "Requirement already satisfied: numpy<1.24,>=1.22 in /usr/local/lib/python3.10/dist-packages (from tensorflow<2.13,>=2.12.0->tensorflow_text) (1.22.4)\n",
            "Requirement already satisfied: packaging in /usr/local/lib/python3.10/dist-packages (from tensorflow<2.13,>=2.12.0->tensorflow_text) (23.1)\n",
            "Requirement already satisfied: gast<=0.4.0,>=0.2.1 in /usr/local/lib/python3.10/dist-packages (from tensorflow<2.13,>=2.12.0->tensorflow_text) (0.4.0)\n",
            "Requirement already satisfied: keras<2.13,>=2.12.0 in /usr/local/lib/python3.10/dist-packages (from tensorflow<2.13,>=2.12.0->tensorflow_text) (2.12.0)\n",
            "Requirement already satisfied: tensorflow-estimator<2.13,>=2.12.0 in /usr/local/lib/python3.10/dist-packages (from tensorflow<2.13,>=2.12.0->tensorflow_text) (2.12.0)\n",
            "Requirement already satisfied: protobuf!=4.21.0,!=4.21.1,!=4.21.2,!=4.21.3,!=4.21.4,!=4.21.5,<5.0.0dev,>=3.20.3 in /usr/local/lib/python3.10/dist-packages (from tensorflow<2.13,>=2.12.0->tensorflow_text) (3.20.3)\n",
            "Requirement already satisfied: grpcio<2.0,>=1.24.3 in /usr/local/lib/python3.10/dist-packages (from tensorflow<2.13,>=2.12.0->tensorflow_text) (1.54.0)\n",
            "Requirement already satisfied: wrapt<1.15,>=1.11.0 in /usr/local/lib/python3.10/dist-packages (from tensorflow<2.13,>=2.12.0->tensorflow_text) (1.14.1)\n",
            "Requirement already satisfied: google-pasta>=0.1.1 in /usr/local/lib/python3.10/dist-packages (from tensorflow<2.13,>=2.12.0->tensorflow_text) (0.2.0)\n",
            "Requirement already satisfied: typing-extensions>=3.6.6 in /usr/local/lib/python3.10/dist-packages (from tensorflow<2.13,>=2.12.0->tensorflow_text) (4.5.0)\n",
            "Requirement already satisfied: six>=1.12.0 in /usr/local/lib/python3.10/dist-packages (from tensorflow<2.13,>=2.12.0->tensorflow_text) (1.16.0)\n",
            "Requirement already satisfied: astunparse>=1.6.0 in /usr/local/lib/python3.10/dist-packages (from tensorflow<2.13,>=2.12.0->tensorflow_text) (1.6.3)\n",
            "Requirement already satisfied: opt-einsum>=2.3.2 in /usr/local/lib/python3.10/dist-packages (from tensorflow<2.13,>=2.12.0->tensorflow_text) (3.3.0)\n",
            "Requirement already satisfied: flatbuffers>=2.0 in /usr/local/lib/python3.10/dist-packages (from tensorflow<2.13,>=2.12.0->tensorflow_text) (23.3.3)\n",
            "Requirement already satisfied: termcolor>=1.1.0 in /usr/local/lib/python3.10/dist-packages (from tensorflow<2.13,>=2.12.0->tensorflow_text) (2.3.0)\n",
            "Requirement already satisfied: tensorflow-io-gcs-filesystem>=0.23.1 in /usr/local/lib/python3.10/dist-packages (from tensorflow<2.13,>=2.12.0->tensorflow_text) (0.32.0)\n",
            "Requirement already satisfied: absl-py>=1.0.0 in /usr/local/lib/python3.10/dist-packages (from tensorflow<2.13,>=2.12.0->tensorflow_text) (1.4.0)\n",
            "Requirement already satisfied: setuptools in /usr/local/lib/python3.10/dist-packages (from tensorflow<2.13,>=2.12.0->tensorflow_text) (67.7.2)\n",
            "Requirement already satisfied: tensorboard<2.13,>=2.12 in /usr/local/lib/python3.10/dist-packages (from tensorflow<2.13,>=2.12.0->tensorflow_text) (2.12.2)\n",
            "Requirement already satisfied: jax>=0.3.15 in /usr/local/lib/python3.10/dist-packages (from tensorflow<2.13,>=2.12.0->tensorflow_text) (0.4.8)\n",
            "Requirement already satisfied: wheel<1.0,>=0.23.0 in /usr/local/lib/python3.10/dist-packages (from astunparse>=1.6.0->tensorflow<2.13,>=2.12.0->tensorflow_text) (0.40.0)\n",
            "Requirement already satisfied: scipy>=1.7 in /usr/local/lib/python3.10/dist-packages (from jax>=0.3.15->tensorflow<2.13,>=2.12.0->tensorflow_text) (1.10.1)\n",
            "Requirement already satisfied: ml-dtypes>=0.0.3 in /usr/local/lib/python3.10/dist-packages (from jax>=0.3.15->tensorflow<2.13,>=2.12.0->tensorflow_text) (0.1.0)\n",
            "Requirement already satisfied: tensorboard-plugin-wit>=1.6.0 in /usr/local/lib/python3.10/dist-packages (from tensorboard<2.13,>=2.12->tensorflow<2.13,>=2.12.0->tensorflow_text) (1.8.1)\n",
            "Requirement already satisfied: google-auth<3,>=1.6.3 in /usr/local/lib/python3.10/dist-packages (from tensorboard<2.13,>=2.12->tensorflow<2.13,>=2.12.0->tensorflow_text) (2.17.3)\n",
            "Requirement already satisfied: markdown>=2.6.8 in /usr/local/lib/python3.10/dist-packages (from tensorboard<2.13,>=2.12->tensorflow<2.13,>=2.12.0->tensorflow_text) (3.4.3)\n",
            "Requirement already satisfied: tensorboard-data-server<0.8.0,>=0.7.0 in /usr/local/lib/python3.10/dist-packages (from tensorboard<2.13,>=2.12->tensorflow<2.13,>=2.12.0->tensorflow_text) (0.7.0)\n",
            "Requirement already satisfied: werkzeug>=1.0.1 in /usr/local/lib/python3.10/dist-packages (from tensorboard<2.13,>=2.12->tensorflow<2.13,>=2.12.0->tensorflow_text) (2.3.0)\n",
            "Requirement already satisfied: requests<3,>=2.21.0 in /usr/local/lib/python3.10/dist-packages (from tensorboard<2.13,>=2.12->tensorflow<2.13,>=2.12.0->tensorflow_text) (2.27.1)\n",
            "Requirement already satisfied: google-auth-oauthlib<1.1,>=0.5 in /usr/local/lib/python3.10/dist-packages (from tensorboard<2.13,>=2.12->tensorflow<2.13,>=2.12.0->tensorflow_text) (1.0.0)\n",
            "Requirement already satisfied: pyasn1-modules>=0.2.1 in /usr/local/lib/python3.10/dist-packages (from google-auth<3,>=1.6.3->tensorboard<2.13,>=2.12->tensorflow<2.13,>=2.12.0->tensorflow_text) (0.3.0)\n",
            "Requirement already satisfied: rsa<5,>=3.1.4 in /usr/local/lib/python3.10/dist-packages (from google-auth<3,>=1.6.3->tensorboard<2.13,>=2.12->tensorflow<2.13,>=2.12.0->tensorflow_text) (4.9)\n",
            "Requirement already satisfied: cachetools<6.0,>=2.0.0 in /usr/local/lib/python3.10/dist-packages (from google-auth<3,>=1.6.3->tensorboard<2.13,>=2.12->tensorflow<2.13,>=2.12.0->tensorflow_text) (5.3.0)\n",
            "Requirement already satisfied: requests-oauthlib>=0.7.0 in /usr/local/lib/python3.10/dist-packages (from google-auth-oauthlib<1.1,>=0.5->tensorboard<2.13,>=2.12->tensorflow<2.13,>=2.12.0->tensorflow_text) (1.3.1)\n",
            "Requirement already satisfied: urllib3<1.27,>=1.21.1 in /usr/local/lib/python3.10/dist-packages (from requests<3,>=2.21.0->tensorboard<2.13,>=2.12->tensorflow<2.13,>=2.12.0->tensorflow_text) (1.26.15)\n",
            "Requirement already satisfied: certifi>=2017.4.17 in /usr/local/lib/python3.10/dist-packages (from requests<3,>=2.21.0->tensorboard<2.13,>=2.12->tensorflow<2.13,>=2.12.0->tensorflow_text) (2022.12.7)\n",
            "Requirement already satisfied: charset-normalizer~=2.0.0 in /usr/local/lib/python3.10/dist-packages (from requests<3,>=2.21.0->tensorboard<2.13,>=2.12->tensorflow<2.13,>=2.12.0->tensorflow_text) (2.0.12)\n",
            "Requirement already satisfied: idna<4,>=2.5 in /usr/local/lib/python3.10/dist-packages (from requests<3,>=2.21.0->tensorboard<2.13,>=2.12->tensorflow<2.13,>=2.12.0->tensorflow_text) (3.4)\n",
            "Requirement already satisfied: MarkupSafe>=2.1.1 in /usr/local/lib/python3.10/dist-packages (from werkzeug>=1.0.1->tensorboard<2.13,>=2.12->tensorflow<2.13,>=2.12.0->tensorflow_text) (2.1.2)\n",
            "Requirement already satisfied: pyasn1<0.6.0,>=0.4.6 in /usr/local/lib/python3.10/dist-packages (from pyasn1-modules>=0.2.1->google-auth<3,>=1.6.3->tensorboard<2.13,>=2.12->tensorflow<2.13,>=2.12.0->tensorflow_text) (0.5.0)\n",
            "Requirement already satisfied: oauthlib>=3.0.0 in /usr/local/lib/python3.10/dist-packages (from requests-oauthlib>=0.7.0->google-auth-oauthlib<1.1,>=0.5->tensorboard<2.13,>=2.12->tensorflow<2.13,>=2.12.0->tensorflow_text) (3.2.2)\n"
          ]
        }
      ],
      "source": [
        "!pip install tensorflow_text"
      ]
    },
    {
      "cell_type": "code",
      "execution_count": 2,
      "metadata": {
        "colab": {
          "base_uri": "https://localhost:8080/"
        },
        "id": "itI8vQSCD_Az",
        "outputId": "f43b1df5-4985-461b-c501-5606fc699969"
      },
      "outputs": [
        {
          "output_type": "stream",
          "name": "stdout",
          "text": [
            "Looking in indexes: https://pypi.org/simple, https://us-python.pkg.dev/colab-wheels/public/simple/\n",
            "Requirement already satisfied: sastrawi in /usr/local/lib/python3.10/dist-packages (1.0.1)\n"
          ]
        }
      ],
      "source": [
        "!pip install sastrawi"
      ]
    },
    {
      "cell_type": "markdown",
      "source": [
        "## Import Libraries"
      ],
      "metadata": {
        "id": "vzO3rNoS1y9U"
      }
    },
    {
      "cell_type": "code",
      "execution_count": 3,
      "metadata": {
        "id": "OXo6kWIR3zDQ"
      },
      "outputs": [],
      "source": [
        "import pandas as pd\n",
        "import numpy as np\n",
        "\n",
        "import tensorflow as tf\n",
        "import tensorflow_hub as hub\n",
        "import tensorflow_text as text\n",
        "\n",
        "import seaborn as sns\n",
        "import matplotlib.pyplot as plt\n",
        "\n",
        "pd.set_option(\"display.max.columns\", 50)"
      ]
    },
    {
      "cell_type": "markdown",
      "source": [
        "## Retrieve and Preprocess Dataset"
      ],
      "metadata": {
        "id": "LkeZdf-f11na"
      }
    },
    {
      "cell_type": "code",
      "execution_count": 4,
      "metadata": {
        "id": "NZf-LJal6SyX"
      },
      "outputs": [],
      "source": [
        "# file_path = \"/content/drive/MyDrive/dataset/esteh-dataset.xlsx\"\n",
        "file_path = \"https://raw.githubusercontent.com/naufalhawari/dataset-collection/main/esteh-dataset-1728.csv\"\n",
        "\n",
        "# sheet names if data retrieved from excel\n",
        "# sheet_names = [\n",
        "#     \"jogja_smart_service\",\n",
        "#     \"depok_single_window\",\n",
        "# ]"
      ]
    },
    {
      "cell_type": "code",
      "execution_count": 5,
      "metadata": {
        "id": "E6AJF9vB5Lzr"
      },
      "outputs": [],
      "source": [
        "from Sastrawi.Stemmer.StemmerFactory import StemmerFactory\n",
        "\n",
        "def stemming(teks):\n",
        "  stemmerFactory = StemmerFactory().create_stemmer()\n",
        "\n",
        "  return stemmerFactory.stem(teks)\n",
        "\n",
        "\n",
        "def create_dataset(file_path, sheet_names = None) :\n",
        "  \n",
        "\n",
        "  # reading from excel\n",
        "  # dataset = pd.DataFrame()\n",
        "  # for sheet_name in sheet_names:\n",
        "  #   dataset = pd.concat([dataset, pd.read_excel(file_path, sheet_name = sheet_name)],ignore_index = True)\n",
        "\n",
        "  # reading from csv through github\n",
        "  dataset = pd.read_csv(file_path)\n",
        "  \n",
        "  dataset = dataset.loc[~dataset.duplicated()].copy() # removing duplicated record\n",
        "  dataset = dataset.copy().dropna() # dropping records if there is any missing values\n",
        "  dataset[\"kritik\"] = dataset[[\"keluhan\", \"saran\"]].max(axis = 1)\n",
        "  dataset = dataset.drop([\"saran\", \"keluhan\"], axis = 1)\n",
        "  dataset[\"ulasan\"] = dataset[\"ulasan\"].str.lower()\n",
        "  dataset[\"ulasan\"] = dataset[\"ulasan\"].apply(lambda x: stemming(x))\n",
        "\n",
        "  return dataset"
      ]
    },
    {
      "cell_type": "code",
      "execution_count": 6,
      "metadata": {
        "id": "GXE7OgI986Op"
      },
      "outputs": [],
      "source": [
        "# df = create_dataset(file_path)\n",
        "df = pd.read_csv(file_path)"
      ]
    },
    {
      "cell_type": "code",
      "execution_count": 7,
      "metadata": {
        "colab": {
          "base_uri": "https://localhost:8080/",
          "height": 0
        },
        "id": "ttAbi08UDiH_",
        "outputId": "199caa97-a27c-422b-ee62-12a80faa2f7c"
      },
      "outputs": [
        {
          "output_type": "execute_result",
          "data": {
            "text/plain": [
              "                                              ulasan  apresiasi  kritik\n",
              "0  aplikasi bagus buat lapor ini itu cuma saya ma...          1       1\n",
              "1  tidak bisa ke menu jaki vaksin ini kenapa sih ...          0       1\n",
              "2  hello jaki saya lapor aplikasi jakarta aman ap...          0       1\n",
              "3  enak nya pake aplikasi jaki klo kita mau lapor...          1       0\n",
              "4  gak pernah bagi daftar dadak kalo mau ke tebet...          0       1\n",
              "5  sy beri 4 bintang biar makin semangat it jaki ...          1       1\n",
              "6  aplikasi apa coba di guna tidk bisa sedang di ...          0       1\n",
              "7     system baik terus mau daftar vaksin tidak bisa          0       1\n",
              "8  nik sdh verifikasi tapi utk login daftar vaksi...          0       1\n",
              "9  daftar sunggu ribet lbih gampang daftar akun b...          0       1"
            ],
            "text/html": [
              "\n",
              "  <div id=\"df-3fbbe446-0d67-4594-858a-aec4ebfee893\">\n",
              "    <div class=\"colab-df-container\">\n",
              "      <div>\n",
              "<style scoped>\n",
              "    .dataframe tbody tr th:only-of-type {\n",
              "        vertical-align: middle;\n",
              "    }\n",
              "\n",
              "    .dataframe tbody tr th {\n",
              "        vertical-align: top;\n",
              "    }\n",
              "\n",
              "    .dataframe thead th {\n",
              "        text-align: right;\n",
              "    }\n",
              "</style>\n",
              "<table border=\"1\" class=\"dataframe\">\n",
              "  <thead>\n",
              "    <tr style=\"text-align: right;\">\n",
              "      <th></th>\n",
              "      <th>ulasan</th>\n",
              "      <th>apresiasi</th>\n",
              "      <th>kritik</th>\n",
              "    </tr>\n",
              "  </thead>\n",
              "  <tbody>\n",
              "    <tr>\n",
              "      <th>0</th>\n",
              "      <td>aplikasi bagus buat lapor ini itu cuma saya ma...</td>\n",
              "      <td>1</td>\n",
              "      <td>1</td>\n",
              "    </tr>\n",
              "    <tr>\n",
              "      <th>1</th>\n",
              "      <td>tidak bisa ke menu jaki vaksin ini kenapa sih ...</td>\n",
              "      <td>0</td>\n",
              "      <td>1</td>\n",
              "    </tr>\n",
              "    <tr>\n",
              "      <th>2</th>\n",
              "      <td>hello jaki saya lapor aplikasi jakarta aman ap...</td>\n",
              "      <td>0</td>\n",
              "      <td>1</td>\n",
              "    </tr>\n",
              "    <tr>\n",
              "      <th>3</th>\n",
              "      <td>enak nya pake aplikasi jaki klo kita mau lapor...</td>\n",
              "      <td>1</td>\n",
              "      <td>0</td>\n",
              "    </tr>\n",
              "    <tr>\n",
              "      <th>4</th>\n",
              "      <td>gak pernah bagi daftar dadak kalo mau ke tebet...</td>\n",
              "      <td>0</td>\n",
              "      <td>1</td>\n",
              "    </tr>\n",
              "    <tr>\n",
              "      <th>5</th>\n",
              "      <td>sy beri 4 bintang biar makin semangat it jaki ...</td>\n",
              "      <td>1</td>\n",
              "      <td>1</td>\n",
              "    </tr>\n",
              "    <tr>\n",
              "      <th>6</th>\n",
              "      <td>aplikasi apa coba di guna tidk bisa sedang di ...</td>\n",
              "      <td>0</td>\n",
              "      <td>1</td>\n",
              "    </tr>\n",
              "    <tr>\n",
              "      <th>7</th>\n",
              "      <td>system baik terus mau daftar vaksin tidak bisa</td>\n",
              "      <td>0</td>\n",
              "      <td>1</td>\n",
              "    </tr>\n",
              "    <tr>\n",
              "      <th>8</th>\n",
              "      <td>nik sdh verifikasi tapi utk login daftar vaksi...</td>\n",
              "      <td>0</td>\n",
              "      <td>1</td>\n",
              "    </tr>\n",
              "    <tr>\n",
              "      <th>9</th>\n",
              "      <td>daftar sunggu ribet lbih gampang daftar akun b...</td>\n",
              "      <td>0</td>\n",
              "      <td>1</td>\n",
              "    </tr>\n",
              "  </tbody>\n",
              "</table>\n",
              "</div>\n",
              "      <button class=\"colab-df-convert\" onclick=\"convertToInteractive('df-3fbbe446-0d67-4594-858a-aec4ebfee893')\"\n",
              "              title=\"Convert this dataframe to an interactive table.\"\n",
              "              style=\"display:none;\">\n",
              "        \n",
              "  <svg xmlns=\"http://www.w3.org/2000/svg\" height=\"24px\"viewBox=\"0 0 24 24\"\n",
              "       width=\"24px\">\n",
              "    <path d=\"M0 0h24v24H0V0z\" fill=\"none\"/>\n",
              "    <path d=\"M18.56 5.44l.94 2.06.94-2.06 2.06-.94-2.06-.94-.94-2.06-.94 2.06-2.06.94zm-11 1L8.5 8.5l.94-2.06 2.06-.94-2.06-.94L8.5 2.5l-.94 2.06-2.06.94zm10 10l.94 2.06.94-2.06 2.06-.94-2.06-.94-.94-2.06-.94 2.06-2.06.94z\"/><path d=\"M17.41 7.96l-1.37-1.37c-.4-.4-.92-.59-1.43-.59-.52 0-1.04.2-1.43.59L10.3 9.45l-7.72 7.72c-.78.78-.78 2.05 0 2.83L4 21.41c.39.39.9.59 1.41.59.51 0 1.02-.2 1.41-.59l7.78-7.78 2.81-2.81c.8-.78.8-2.07 0-2.86zM5.41 20L4 18.59l7.72-7.72 1.47 1.35L5.41 20z\"/>\n",
              "  </svg>\n",
              "      </button>\n",
              "      \n",
              "  <style>\n",
              "    .colab-df-container {\n",
              "      display:flex;\n",
              "      flex-wrap:wrap;\n",
              "      gap: 12px;\n",
              "    }\n",
              "\n",
              "    .colab-df-convert {\n",
              "      background-color: #E8F0FE;\n",
              "      border: none;\n",
              "      border-radius: 50%;\n",
              "      cursor: pointer;\n",
              "      display: none;\n",
              "      fill: #1967D2;\n",
              "      height: 32px;\n",
              "      padding: 0 0 0 0;\n",
              "      width: 32px;\n",
              "    }\n",
              "\n",
              "    .colab-df-convert:hover {\n",
              "      background-color: #E2EBFA;\n",
              "      box-shadow: 0px 1px 2px rgba(60, 64, 67, 0.3), 0px 1px 3px 1px rgba(60, 64, 67, 0.15);\n",
              "      fill: #174EA6;\n",
              "    }\n",
              "\n",
              "    [theme=dark] .colab-df-convert {\n",
              "      background-color: #3B4455;\n",
              "      fill: #D2E3FC;\n",
              "    }\n",
              "\n",
              "    [theme=dark] .colab-df-convert:hover {\n",
              "      background-color: #434B5C;\n",
              "      box-shadow: 0px 1px 3px 1px rgba(0, 0, 0, 0.15);\n",
              "      filter: drop-shadow(0px 1px 2px rgba(0, 0, 0, 0.3));\n",
              "      fill: #FFFFFF;\n",
              "    }\n",
              "  </style>\n",
              "\n",
              "      <script>\n",
              "        const buttonEl =\n",
              "          document.querySelector('#df-3fbbe446-0d67-4594-858a-aec4ebfee893 button.colab-df-convert');\n",
              "        buttonEl.style.display =\n",
              "          google.colab.kernel.accessAllowed ? 'block' : 'none';\n",
              "\n",
              "        async function convertToInteractive(key) {\n",
              "          const element = document.querySelector('#df-3fbbe446-0d67-4594-858a-aec4ebfee893');\n",
              "          const dataTable =\n",
              "            await google.colab.kernel.invokeFunction('convertToInteractive',\n",
              "                                                     [key], {});\n",
              "          if (!dataTable) return;\n",
              "\n",
              "          const docLinkHtml = 'Like what you see? Visit the ' +\n",
              "            '<a target=\"_blank\" href=https://colab.research.google.com/notebooks/data_table.ipynb>data table notebook</a>'\n",
              "            + ' to learn more about interactive tables.';\n",
              "          element.innerHTML = '';\n",
              "          dataTable['output_type'] = 'display_data';\n",
              "          await google.colab.output.renderOutput(dataTable, element);\n",
              "          const docLink = document.createElement('div');\n",
              "          docLink.innerHTML = docLinkHtml;\n",
              "          element.appendChild(docLink);\n",
              "        }\n",
              "      </script>\n",
              "    </div>\n",
              "  </div>\n",
              "  "
            ]
          },
          "metadata": {},
          "execution_count": 7
        }
      ],
      "source": [
        "df.head(10)"
      ]
    },
    {
      "cell_type": "code",
      "execution_count": 8,
      "metadata": {
        "colab": {
          "base_uri": "https://localhost:8080/"
        },
        "id": "2keYzNuA89xw",
        "outputId": "91149345-552a-4e5a-9ab7-bd5a291e31a2"
      },
      "outputs": [
        {
          "output_type": "execute_result",
          "data": {
            "text/plain": [
              "6"
            ]
          },
          "metadata": {},
          "execution_count": 8
        }
      ],
      "source": [
        "df.duplicated().sum()"
      ]
    },
    {
      "cell_type": "code",
      "execution_count": 9,
      "metadata": {
        "colab": {
          "base_uri": "https://localhost:8080/"
        },
        "id": "hKZHuXU2ToMU",
        "outputId": "00fc80ef-fb9d-4739-96ea-abc9cd1117b3"
      },
      "outputs": [
        {
          "output_type": "execute_result",
          "data": {
            "text/plain": [
              "1691"
            ]
          },
          "metadata": {},
          "execution_count": 9
        }
      ],
      "source": [
        "len(df)"
      ]
    },
    {
      "cell_type": "markdown",
      "source": [
        "## Splitting Dataset"
      ],
      "metadata": {
        "id": "AmbXc0g-178k"
      }
    },
    {
      "cell_type": "code",
      "execution_count": 10,
      "metadata": {
        "id": "IrkFA_wOpXGR"
      },
      "outputs": [],
      "source": [
        "from sklearn.model_selection import train_test_split\n",
        "\n",
        "X = df.ulasan\n",
        "y = df.drop(\"ulasan\", axis = 1)\n",
        "\n",
        "X_train, X_test, y_train, y_test = train_test_split(X, y, test_size = 0.2, stratify = df.apresiasi)"
      ]
    },
    {
      "cell_type": "markdown",
      "metadata": {
        "id": "jUmFMGIbQt4S"
      },
      "source": [
        "# RNN Model"
      ]
    },
    {
      "cell_type": "markdown",
      "source": [
        "## Build Text Tokenizer"
      ],
      "metadata": {
        "id": "lIZcWXWd2xhQ"
      }
    },
    {
      "cell_type": "code",
      "execution_count": 11,
      "metadata": {
        "id": "6mM63MSReDL1"
      },
      "outputs": [],
      "source": [
        "VOCAB_SIZE = 1200\n",
        "encoder = tf.keras.layers.TextVectorization(\n",
        "    max_tokens=VOCAB_SIZE)\n",
        "encoder.adapt(X_train)"
      ]
    },
    {
      "cell_type": "code",
      "execution_count": 12,
      "metadata": {
        "id": "2mtDb4lwipJ8",
        "colab": {
          "base_uri": "https://localhost:8080/"
        },
        "outputId": "0f6699a6-028d-4f4d-a79e-cf60d9c468c3"
      },
      "outputs": [
        {
          "output_type": "execute_result",
          "data": {
            "text/plain": [
              "1200"
            ]
          },
          "metadata": {},
          "execution_count": 12
        }
      ],
      "source": [
        "len(encoder.get_vocabulary())"
      ]
    },
    {
      "cell_type": "markdown",
      "source": [
        "## Creating Model Architecture"
      ],
      "metadata": {
        "id": "X2BmtjrM2DMP"
      }
    },
    {
      "cell_type": "code",
      "execution_count": 13,
      "metadata": {
        "id": "cvvuitMdQwG9"
      },
      "outputs": [],
      "source": [
        "lstm = tf.keras.Sequential([\n",
        "    tf.keras.layers.Input(shape=(), dtype = \"string\"),\n",
        "    encoder,\n",
        "    tf.keras.layers.Embedding(\n",
        "        input_dim=len(encoder.get_vocabulary()),\n",
        "        output_dim=100,\n",
        "        # Use masking to handle the variable sequence lengths\n",
        "        mask_zero=True),\n",
        "    tf.keras.layers.LSTM(64),\n",
        "    tf.keras.layers.Dense(32, activation='relu'),\n",
        "    tf.keras.layers.Dropout(0.2),\n",
        "    tf.keras.layers.Dense(2, activation='sigmoid'),\n",
        "])\n",
        "\n",
        "bi_lstm = tf.keras.Sequential([\n",
        "    tf.keras.layers.Input(shape=(), dtype = \"string\"),\n",
        "    encoder,\n",
        "    tf.keras.layers.Embedding(\n",
        "        input_dim=len(encoder.get_vocabulary()),\n",
        "        output_dim=100,\n",
        "        # Use masking to handle the variable sequence lengths\n",
        "        mask_zero=True),\n",
        "    tf.keras.layers.Bidirectional(tf.keras.layers.LSTM(64)),\n",
        "    tf.keras.layers.Dense(32, activation='relu'),\n",
        "    tf.keras.layers.Dropout(0.2),\n",
        "    tf.keras.layers.Dense(2, activation='sigmoid'),\n",
        "])\n",
        "\n",
        "stacked_bi_lstm = tf.keras.Sequential([\n",
        "    tf.keras.layers.Input(shape=(), dtype = \"string\"),\n",
        "    encoder,\n",
        "    tf.keras.layers.Embedding(\n",
        "        input_dim=len(encoder.get_vocabulary()),\n",
        "        output_dim=100,\n",
        "        # Use masking to handle the variable sequence lengths\n",
        "        mask_zero=True),\n",
        "    tf.keras.layers.Bidirectional(tf.keras.layers.LSTM(64, return_sequences = True)),\n",
        "    tf.keras.layers.Bidirectional(tf.keras.layers.LSTM(64)),\n",
        "    tf.keras.layers.Dense(32, activation='relu'),\n",
        "    tf.keras.layers.Dropout(0.2),\n",
        "    tf.keras.layers.Dense(2, activation='sigmoid'),\n",
        "])\n",
        "\n",
        "gru = tf.keras.Sequential([\n",
        "    tf.keras.layers.Input(shape=(), dtype = \"string\"),\n",
        "    encoder,\n",
        "    tf.keras.layers.Embedding(\n",
        "        input_dim=len(encoder.get_vocabulary()),\n",
        "        output_dim=100,\n",
        "        # Use masking to handle the variable sequence lengths\n",
        "        mask_zero=True),\n",
        "    tf.keras.layers.GRU(64),\n",
        "    tf.keras.layers.Dense(32, activation='relu'),\n",
        "    tf.keras.layers.Dropout(0.2),\n",
        "    tf.keras.layers.Dense(2, activation='sigmoid'),\n",
        "])\n",
        "\n",
        "bi_gru= tf.keras.Sequential([\n",
        "    tf.keras.layers.Input(shape=(), dtype = \"string\"),\n",
        "    encoder,\n",
        "    tf.keras.layers.Embedding(\n",
        "        input_dim=len(encoder.get_vocabulary()),\n",
        "        output_dim=100,\n",
        "        # Use masking to handle the variable sequence lengths\n",
        "        mask_zero=True),\n",
        "    tf.keras.layers.Bidirectional(tf.keras.layers.GRU(64)),\n",
        "    tf.keras.layers.Dense(32, activation='relu'),\n",
        "    tf.keras.layers.Dropout(0.2),\n",
        "    tf.keras.layers.Dense(2, activation='sigmoid'),\n",
        "])\n",
        "\n",
        "stacked_bi_gru = tf.keras.Sequential([\n",
        "    tf.keras.layers.Input(shape=(), dtype = \"string\"),\n",
        "    encoder,\n",
        "    tf.keras.layers.Embedding(\n",
        "        input_dim=len(encoder.get_vocabulary()),\n",
        "        output_dim=100,\n",
        "        # Use masking to handle the variable sequence lengths\n",
        "        mask_zero=True),\n",
        "    tf.keras.layers.Bidirectional(tf.keras.layers.GRU(64, return_sequences = True)),\n",
        "    tf.keras.layers.Bidirectional(tf.keras.layers.GRU(64)),\n",
        "    tf.keras.layers.Dense(32, activation='relu'),\n",
        "    tf.keras.layers.Dropout(0.2),\n",
        "    tf.keras.layers.Dense(2, activation='sigmoid'),\n",
        "])"
      ]
    },
    {
      "cell_type": "markdown",
      "source": [
        "## Model Compiling"
      ],
      "metadata": {
        "id": "Kj_eJv9L2G_W"
      }
    },
    {
      "cell_type": "code",
      "execution_count": 14,
      "metadata": {
        "id": "WZt4kLBZdYT4"
      },
      "outputs": [],
      "source": [
        "lstm.compile(\n",
        "    optimizer = tf.keras.optimizers.Adam(learning_rate = 0.00003),\n",
        "    loss = tf.keras.losses.BinaryCrossentropy(),\n",
        "    metrics = tf.keras.metrics.BinaryAccuracy(),\n",
        ")\n",
        "\n",
        "\n",
        "bi_lstm.compile(\n",
        "    optimizer = tf.keras.optimizers.Adam(learning_rate = 0.00003),\n",
        "    loss = tf.keras.losses.BinaryCrossentropy(),\n",
        "    metrics = tf.keras.metrics.BinaryAccuracy(),\n",
        ")\n",
        "\n",
        "\n",
        "\n",
        "stacked_bi_lstm.compile(\n",
        "    optimizer = tf.keras.optimizers.Adam(learning_rate = 0.00003),\n",
        "    loss = tf.keras.losses.BinaryCrossentropy(),\n",
        "    metrics = tf.keras.metrics.BinaryAccuracy(),\n",
        ")\n",
        "\n",
        "\n",
        "\n",
        "gru.compile(\n",
        "    optimizer = tf.keras.optimizers.Adam(learning_rate = 0.00003),\n",
        "    loss = tf.keras.losses.BinaryCrossentropy(),\n",
        "    metrics = tf.keras.metrics.BinaryAccuracy(),\n",
        ")\n",
        "\n",
        "\n",
        "\n",
        "bi_gru.compile(\n",
        "    optimizer = tf.keras.optimizers.Adam(learning_rate = 0.00003),\n",
        "    loss = tf.keras.losses.BinaryCrossentropy(),\n",
        "    metrics = tf.keras.metrics.BinaryAccuracy(),\n",
        ")\n",
        "\n",
        "\n",
        "stacked_bi_gru.compile(\n",
        "    optimizer = tf.keras.optimizers.Adam(learning_rate = 0.00003),\n",
        "    loss = tf.keras.losses.BinaryCrossentropy(),\n",
        "    metrics = tf.keras.metrics.BinaryAccuracy(),\n",
        ")\n"
      ]
    },
    {
      "cell_type": "markdown",
      "source": [
        "## Model Training"
      ],
      "metadata": {
        "id": "TgUoRqSTFvsK"
      }
    },
    {
      "cell_type": "code",
      "source": [
        "lstm.fit(\n",
        "    x = X_train,\n",
        "    y = y_train,\n",
        "    batch_size = 16,\n",
        "    validation_data = (X_test, y_test),\n",
        "    epochs = 25,\n",
        ")"
      ],
      "metadata": {
        "colab": {
          "base_uri": "https://localhost:8080/"
        },
        "id": "oJdtNTKiXIa9",
        "outputId": "9aaf8741-3625-4cdd-c3b1-027f72bfc840"
      },
      "execution_count": null,
      "outputs": [
        {
          "output_type": "stream",
          "name": "stdout",
          "text": [
            "Epoch 1/25\n",
            "85/85 [==============================] - 29s 183ms/step - loss: 0.6914 - binary_accuracy: 0.6087 - val_loss: 0.6894 - val_binary_accuracy: 0.6799\n",
            "Epoch 2/25\n",
            "85/85 [==============================] - 7s 81ms/step - loss: 0.6865 - binary_accuracy: 0.6886 - val_loss: 0.6838 - val_binary_accuracy: 0.6726\n",
            "Epoch 3/25\n",
            "85/85 [==============================] - 5s 60ms/step - loss: 0.6774 - binary_accuracy: 0.6927 - val_loss: 0.6713 - val_binary_accuracy: 0.6711\n",
            "Epoch 4/25\n",
            "85/85 [==============================] - 3s 31ms/step - loss: 0.6434 - binary_accuracy: 0.6930 - val_loss: 0.5966 - val_binary_accuracy: 0.6711\n",
            "Epoch 5/25\n",
            "85/85 [==============================] - 2s 19ms/step - loss: 0.5568 - binary_accuracy: 0.6930 - val_loss: 0.5485 - val_binary_accuracy: 0.6711\n",
            "Epoch 6/25\n",
            "85/85 [==============================] - 3s 30ms/step - loss: 0.5365 - binary_accuracy: 0.6960 - val_loss: 0.5350 - val_binary_accuracy: 0.6844\n",
            "Epoch 7/25\n",
            "85/85 [==============================] - 2s 23ms/step - loss: 0.5236 - binary_accuracy: 0.7067 - val_loss: 0.5206 - val_binary_accuracy: 0.6976\n",
            "Epoch 8/25\n",
            "85/85 [==============================] - 3s 39ms/step - loss: 0.5051 - binary_accuracy: 0.7252 - val_loss: 0.5048 - val_binary_accuracy: 0.7227\n",
            "Epoch 9/25\n",
            "85/85 [==============================] - 1s 15ms/step - loss: 0.4945 - binary_accuracy: 0.7570 - val_loss: 0.4888 - val_binary_accuracy: 0.7611\n",
            "Epoch 10/25\n",
            "85/85 [==============================] - 1s 14ms/step - loss: 0.4765 - binary_accuracy: 0.7859 - val_loss: 0.4735 - val_binary_accuracy: 0.8009\n",
            "Epoch 11/25\n",
            "85/85 [==============================] - 1s 16ms/step - loss: 0.4618 - binary_accuracy: 0.8129 - val_loss: 0.4597 - val_binary_accuracy: 0.8245\n",
            "Epoch 12/25\n",
            "85/85 [==============================] - 2s 26ms/step - loss: 0.4508 - binary_accuracy: 0.8391 - val_loss: 0.4446 - val_binary_accuracy: 0.8525\n",
            "Epoch 13/25\n",
            "85/85 [==============================] - 1s 13ms/step - loss: 0.4364 - binary_accuracy: 0.8602 - val_loss: 0.4284 - val_binary_accuracy: 0.8687\n",
            "Epoch 14/25\n",
            "85/85 [==============================] - 2s 19ms/step - loss: 0.4223 - binary_accuracy: 0.8695 - val_loss: 0.4097 - val_binary_accuracy: 0.8894\n",
            "Epoch 15/25\n",
            "85/85 [==============================] - 2s 20ms/step - loss: 0.4069 - binary_accuracy: 0.8765 - val_loss: 0.3954 - val_binary_accuracy: 0.8997\n",
            "Epoch 16/25\n",
            "68/85 [=======================>......] - ETA: 0s - loss: 0.4013 - binary_accuracy: 0.8805"
          ]
        }
      ]
    },
    {
      "cell_type": "code",
      "source": [
        "bi_lstm.fit(\n",
        "    x = X_train,\n",
        "    y = y_train,\n",
        "    batch_size = 16,\n",
        "    validation_data = (X_test, y_test),\n",
        "    epochs = 25,\n",
        ")"
      ],
      "metadata": {
        "id": "fouKNe-6XIjy"
      },
      "execution_count": null,
      "outputs": []
    },
    {
      "cell_type": "code",
      "source": [
        "stacked_bi_lstm.fit(\n",
        "    x = X_train,\n",
        "    y = y_train,\n",
        "    batch_size = 16,\n",
        "    validation_data = (X_test, y_test),\n",
        "    epochs = 25,\n",
        ")"
      ],
      "metadata": {
        "id": "I3Jl6uUBXIxV"
      },
      "execution_count": null,
      "outputs": []
    },
    {
      "cell_type": "code",
      "source": [
        "gru.fit(\n",
        "    x = X_train,\n",
        "    y = y_train,\n",
        "    batch_size = 16,\n",
        "    validation_data = (X_test, y_test),\n",
        "    epochs = 25,\n",
        ")"
      ],
      "metadata": {
        "id": "qyZu_OFWXI6Z"
      },
      "execution_count": null,
      "outputs": []
    },
    {
      "cell_type": "code",
      "source": [
        "bi_gru.fit(\n",
        "    x = X_train,\n",
        "    y = y_train,\n",
        "    batch_size = 16,\n",
        "    validation_data = (X_test, y_test),\n",
        "    epochs = 25,\n",
        ")"
      ],
      "metadata": {
        "id": "cPhlEtsiXJA_"
      },
      "execution_count": null,
      "outputs": []
    },
    {
      "cell_type": "code",
      "source": [
        "stacked_bi_gru.fit(\n",
        "    x = X_train,\n",
        "    y = y_train,\n",
        "    batch_size = 16,\n",
        "    validation_data = (X_test, y_test),\n",
        "    epochs = 25,\n",
        ")"
      ],
      "metadata": {
        "id": "xVKsRu2UXJGk"
      },
      "execution_count": null,
      "outputs": []
    },
    {
      "cell_type": "markdown",
      "source": [
        "## Model Evaluation"
      ],
      "metadata": {
        "id": "1pqPbCoB2Rzu"
      }
    },
    {
      "cell_type": "code",
      "execution_count": null,
      "metadata": {
        "id": "w3Cl563egMyQ"
      },
      "outputs": [],
      "source": [
        "from sklearn.metrics import classification_report\n",
        "\n",
        "class_labels = [\"apresiasi\", \"kritik\"]\n",
        "\n",
        "y_pred = lstm.predict(X_test) > 0.5\n",
        "print(classification_report(y_test, y_pred, target_names=class_labels))"
      ]
    },
    {
      "cell_type": "code",
      "source": [
        "y_pred = bi_lstm.predict(X_test) > 0.5\n",
        "print(classification_report(y_test, y_pred, target_names=class_labels))"
      ],
      "metadata": {
        "id": "MkofvwLyVFWm"
      },
      "execution_count": null,
      "outputs": []
    },
    {
      "cell_type": "code",
      "source": [
        "y_pred = stacked_bi_lstm.predict(X_test) > 0.5\n",
        "print(classification_report(y_test, y_pred, target_names=class_labels))"
      ],
      "metadata": {
        "id": "6AG3_TVmVGGO"
      },
      "execution_count": null,
      "outputs": []
    },
    {
      "cell_type": "code",
      "source": [
        "y_pred = gru.predict(X_test) > 0.5\n",
        "print(classification_report(y_test, y_pred, target_names=class_labels))"
      ],
      "metadata": {
        "id": "0mZOHJfpVGNb"
      },
      "execution_count": null,
      "outputs": []
    },
    {
      "cell_type": "code",
      "source": [
        "y_pred = bi_gru.predict(X_test) > 0.5\n",
        "print(classification_report(y_test, y_pred, target_names=class_labels))"
      ],
      "metadata": {
        "id": "IEG0LF_ZVGTa"
      },
      "execution_count": null,
      "outputs": []
    },
    {
      "cell_type": "code",
      "source": [
        "y_pred = stacked_bi_gru.predict(X_test) > 0.5\n",
        "print(classification_report(y_test, y_pred, target_names=class_labels))"
      ],
      "metadata": {
        "id": "sKvWW3VoVGYG"
      },
      "execution_count": null,
      "outputs": []
    },
    {
      "cell_type": "markdown",
      "source": [
        "## Save Model"
      ],
      "metadata": {
        "id": "boUQrPKHg-Gl"
      }
    },
    {
      "cell_type": "code",
      "source": [
        "lstm.save(\"lstm-1\")\n",
        "bi_lstm.save(\"bi-lstm-1\")\n",
        "stacked_bi_lstm.save(\"stacked-bi-lstm-1\")\n",
        "gru.save(\"gru-1\")\n",
        "bi_gru.save(\"bi-gru-1\")\n",
        "stacked_bi_gru.save(\"stacked-bi-gru-1\")"
      ],
      "metadata": {
        "id": "-rCP33ROgD6Z"
      },
      "execution_count": null,
      "outputs": []
    },
    {
      "cell_type": "markdown",
      "metadata": {
        "id": "YmLs3lAgDmKU"
      },
      "source": [
        "# BERT Model"
      ]
    },
    {
      "cell_type": "markdown",
      "source": [
        "## Mapping BERT Preprocesser and Encoder"
      ],
      "metadata": {
        "id": "WTG1qtG12WQD"
      }
    },
    {
      "cell_type": "code",
      "execution_count": 12,
      "metadata": {
        "id": "7bJfLsKuEua0"
      },
      "outputs": [],
      "source": [
        "map_name_to_handle = {\n",
        "    'bert_en_uncased_L-12_H-768_A-12':\n",
        "        'https://tfhub.dev/tensorflow/bert_en_uncased_L-12_H-768_A-12/3',\n",
        "    'bert_en_cased_L-12_H-768_A-12':\n",
        "        'https://tfhub.dev/tensorflow/bert_en_cased_L-12_H-768_A-12/3',\n",
        "    'bert_multi_cased_L-12_H-768_A-12':\n",
        "        'https://tfhub.dev/tensorflow/bert_multi_cased_L-12_H-768_A-12/3',\n",
        "    'small_bert/bert_en_uncased_L-2_H-128_A-2':\n",
        "        'https://tfhub.dev/tensorflow/small_bert/bert_en_uncased_L-2_H-128_A-2/1',\n",
        "    'small_bert/bert_en_uncased_L-2_H-256_A-4':\n",
        "        'https://tfhub.dev/tensorflow/small_bert/bert_en_uncased_L-2_H-256_A-4/1',\n",
        "    'small_bert/bert_en_uncased_L-2_H-512_A-8':\n",
        "        'https://tfhub.dev/tensorflow/small_bert/bert_en_uncased_L-2_H-512_A-8/1',\n",
        "    'small_bert/bert_en_uncased_L-2_H-768_A-12':\n",
        "        'https://tfhub.dev/tensorflow/small_bert/bert_en_uncased_L-2_H-768_A-12/1',\n",
        "    'small_bert/bert_en_uncased_L-4_H-128_A-2':\n",
        "        'https://tfhub.dev/tensorflow/small_bert/bert_en_uncased_L-4_H-128_A-2/1',\n",
        "    'small_bert/bert_en_uncased_L-4_H-256_A-4':\n",
        "        'https://tfhub.dev/tensorflow/small_bert/bert_en_uncased_L-4_H-256_A-4/1',\n",
        "    'small_bert/bert_en_uncased_L-4_H-512_A-8':\n",
        "        'https://tfhub.dev/tensorflow/small_bert/bert_en_uncased_L-4_H-512_A-8/1',\n",
        "    'small_bert/bert_en_uncased_L-4_H-768_A-12':\n",
        "        'https://tfhub.dev/tensorflow/small_bert/bert_en_uncased_L-4_H-768_A-12/1',\n",
        "    'small_bert/bert_en_uncased_L-6_H-128_A-2':\n",
        "        'https://tfhub.dev/tensorflow/small_bert/bert_en_uncased_L-6_H-128_A-2/1',\n",
        "    'small_bert/bert_en_uncased_L-6_H-256_A-4':\n",
        "        'https://tfhub.dev/tensorflow/small_bert/bert_en_uncased_L-6_H-256_A-4/1',\n",
        "    'small_bert/bert_en_uncased_L-6_H-512_A-8':\n",
        "        'https://tfhub.dev/tensorflow/small_bert/bert_en_uncased_L-6_H-512_A-8/1',\n",
        "    'small_bert/bert_en_uncased_L-6_H-768_A-12':\n",
        "        'https://tfhub.dev/tensorflow/small_bert/bert_en_uncased_L-6_H-768_A-12/1',\n",
        "    'small_bert/bert_en_uncased_L-8_H-128_A-2':\n",
        "        'https://tfhub.dev/tensorflow/small_bert/bert_en_uncased_L-8_H-128_A-2/1',\n",
        "    'small_bert/bert_en_uncased_L-8_H-256_A-4':\n",
        "        'https://tfhub.dev/tensorflow/small_bert/bert_en_uncased_L-8_H-256_A-4/1',\n",
        "    'small_bert/bert_en_uncased_L-8_H-512_A-8':\n",
        "        'https://tfhub.dev/tensorflow/small_bert/bert_en_uncased_L-8_H-512_A-8/1',\n",
        "    'small_bert/bert_en_uncased_L-8_H-768_A-12':\n",
        "        'https://tfhub.dev/tensorflow/small_bert/bert_en_uncased_L-8_H-768_A-12/1',\n",
        "    'small_bert/bert_en_uncased_L-10_H-128_A-2':\n",
        "        'https://tfhub.dev/tensorflow/small_bert/bert_en_uncased_L-10_H-128_A-2/1',\n",
        "    'small_bert/bert_en_uncased_L-10_H-256_A-4':\n",
        "        'https://tfhub.dev/tensorflow/small_bert/bert_en_uncased_L-10_H-256_A-4/1',\n",
        "    'small_bert/bert_en_uncased_L-10_H-512_A-8':\n",
        "        'https://tfhub.dev/tensorflow/small_bert/bert_en_uncased_L-10_H-512_A-8/1',\n",
        "    'small_bert/bert_en_uncased_L-10_H-768_A-12':\n",
        "        'https://tfhub.dev/tensorflow/small_bert/bert_en_uncased_L-10_H-768_A-12/1',\n",
        "    'small_bert/bert_en_uncased_L-12_H-128_A-2':\n",
        "        'https://tfhub.dev/tensorflow/small_bert/bert_en_uncased_L-12_H-128_A-2/1',\n",
        "    'small_bert/bert_en_uncased_L-12_H-256_A-4':\n",
        "        'https://tfhub.dev/tensorflow/small_bert/bert_en_uncased_L-12_H-256_A-4/1',\n",
        "    'small_bert/bert_en_uncased_L-12_H-512_A-8':\n",
        "        'https://tfhub.dev/tensorflow/small_bert/bert_en_uncased_L-12_H-512_A-8/1',\n",
        "    'small_bert/bert_en_uncased_L-12_H-768_A-12':\n",
        "        'https://tfhub.dev/tensorflow/small_bert/bert_en_uncased_L-12_H-768_A-12/1',\n",
        "    'albert_en_base':\n",
        "        'https://tfhub.dev/tensorflow/albert_en_base/2',\n",
        "    'electra_small':\n",
        "        'https://tfhub.dev/google/electra_small/2',\n",
        "    'electra_base':\n",
        "        'https://tfhub.dev/google/electra_base/2',\n",
        "    'experts_pubmed':\n",
        "        'https://tfhub.dev/google/experts/bert/pubmed/2',\n",
        "    'experts_wiki_books':\n",
        "        'https://tfhub.dev/google/experts/bert/wiki_books/2',\n",
        "    'talking-heads_base':\n",
        "        'https://tfhub.dev/tensorflow/talkheads_ggelu_bert_en_base/1',\n",
        "}\n",
        "\n",
        "map_model_to_preprocess = {\n",
        "    'bert_en_uncased_L-12_H-768_A-12':\n",
        "        'https://tfhub.dev/tensorflow/bert_en_uncased_preprocess/3',\n",
        "    'bert_en_cased_L-12_H-768_A-12':\n",
        "        'https://tfhub.dev/tensorflow/bert_en_cased_preprocess/3',\n",
        "    'small_bert/bert_en_uncased_L-2_H-128_A-2':\n",
        "        'https://tfhub.dev/tensorflow/bert_en_uncased_preprocess/3',\n",
        "    'small_bert/bert_en_uncased_L-2_H-256_A-4':\n",
        "        'https://tfhub.dev/tensorflow/bert_en_uncased_preprocess/3',\n",
        "    'small_bert/bert_en_uncased_L-2_H-512_A-8':\n",
        "        'https://tfhub.dev/tensorflow/bert_en_uncased_preprocess/3',\n",
        "    'small_bert/bert_en_uncased_L-2_H-768_A-12':\n",
        "        'https://tfhub.dev/tensorflow/bert_en_uncased_preprocess/3',\n",
        "    'small_bert/bert_en_uncased_L-4_H-128_A-2':\n",
        "        'https://tfhub.dev/tensorflow/bert_en_uncased_preprocess/3',\n",
        "    'small_bert/bert_en_uncased_L-4_H-256_A-4':\n",
        "        'https://tfhub.dev/tensorflow/bert_en_uncased_preprocess/3',\n",
        "    'small_bert/bert_en_uncased_L-4_H-512_A-8':\n",
        "        'https://tfhub.dev/tensorflow/bert_en_uncased_preprocess/3',\n",
        "    'small_bert/bert_en_uncased_L-4_H-768_A-12':\n",
        "        'https://tfhub.dev/tensorflow/bert_en_uncased_preprocess/3',\n",
        "    'small_bert/bert_en_uncased_L-6_H-128_A-2':\n",
        "        'https://tfhub.dev/tensorflow/bert_en_uncased_preprocess/3',\n",
        "    'small_bert/bert_en_uncased_L-6_H-256_A-4':\n",
        "        'https://tfhub.dev/tensorflow/bert_en_uncased_preprocess/3',\n",
        "    'small_bert/bert_en_uncased_L-6_H-512_A-8':\n",
        "        'https://tfhub.dev/tensorflow/bert_en_uncased_preprocess/3',\n",
        "    'small_bert/bert_en_uncased_L-6_H-768_A-12':\n",
        "        'https://tfhub.dev/tensorflow/bert_en_uncased_preprocess/3',\n",
        "    'small_bert/bert_en_uncased_L-8_H-128_A-2':\n",
        "        'https://tfhub.dev/tensorflow/bert_en_uncased_preprocess/3',\n",
        "    'small_bert/bert_en_uncased_L-8_H-256_A-4':\n",
        "        'https://tfhub.dev/tensorflow/bert_en_uncased_preprocess/3',\n",
        "    'small_bert/bert_en_uncased_L-8_H-512_A-8':\n",
        "        'https://tfhub.dev/tensorflow/bert_en_uncased_preprocess/3',\n",
        "    'small_bert/bert_en_uncased_L-8_H-768_A-12':\n",
        "        'https://tfhub.dev/tensorflow/bert_en_uncased_preprocess/3',\n",
        "    'small_bert/bert_en_uncased_L-10_H-128_A-2':\n",
        "        'https://tfhub.dev/tensorflow/bert_en_uncased_preprocess/3',\n",
        "    'small_bert/bert_en_uncased_L-10_H-256_A-4':\n",
        "        'https://tfhub.dev/tensorflow/bert_en_uncased_preprocess/3',\n",
        "    'small_bert/bert_en_uncased_L-10_H-512_A-8':\n",
        "        'https://tfhub.dev/tensorflow/bert_en_uncased_preprocess/3',\n",
        "    'small_bert/bert_en_uncased_L-10_H-768_A-12':\n",
        "        'https://tfhub.dev/tensorflow/bert_en_uncased_preprocess/3',\n",
        "    'small_bert/bert_en_uncased_L-12_H-128_A-2':\n",
        "        'https://tfhub.dev/tensorflow/bert_en_uncased_preprocess/3',\n",
        "    'small_bert/bert_en_uncased_L-12_H-256_A-4':\n",
        "        'https://tfhub.dev/tensorflow/bert_en_uncased_preprocess/3',\n",
        "    'small_bert/bert_en_uncased_L-12_H-512_A-8':\n",
        "        'https://tfhub.dev/tensorflow/bert_en_uncased_preprocess/3',\n",
        "    'small_bert/bert_en_uncased_L-12_H-768_A-12':\n",
        "        'https://tfhub.dev/tensorflow/bert_en_uncased_preprocess/3',\n",
        "    'bert_multi_cased_L-12_H-768_A-12':\n",
        "        'https://tfhub.dev/tensorflow/bert_multi_cased_preprocess/3',\n",
        "    'albert_en_base':\n",
        "        'https://tfhub.dev/tensorflow/albert_en_preprocess/3',\n",
        "    'electra_small':\n",
        "        'https://tfhub.dev/tensorflow/bert_en_uncased_preprocess/3',\n",
        "    'electra_base':\n",
        "        'https://tfhub.dev/tensorflow/bert_en_uncased_preprocess/3',\n",
        "    'experts_pubmed':\n",
        "        'https://tfhub.dev/tensorflow/bert_en_uncased_preprocess/3',\n",
        "    'experts_wiki_books':\n",
        "        'https://tfhub.dev/tensorflow/bert_en_uncased_preprocess/3',\n",
        "    'talking-heads_base':\n",
        "        'https://tfhub.dev/tensorflow/bert_en_uncased_preprocess/3',\n",
        "}"
      ]
    },
    {
      "cell_type": "markdown",
      "source": [
        "## Build Model Architecture"
      ],
      "metadata": {
        "id": "uOTHQGcV2dvy"
      }
    },
    {
      "cell_type": "code",
      "execution_count": 13,
      "metadata": {
        "id": "PiI_f3HVkzSc"
      },
      "outputs": [],
      "source": [
        "def build_bert_model(bert_model_name: str):\n",
        "  tfhub_handle_encoder = map_name_to_handle[bert_model_name]\n",
        "  tfhub_handle_preprocess = map_model_to_preprocess[bert_model_name]\n",
        "\n",
        "  text_input = tf.keras.layers.Input(shape=(), dtype=\"string\", name='text')\n",
        "  preprocessing_layer = hub.KerasLayer(tfhub_handle_preprocess, name='preprocessing')\n",
        "  encoder_inputs = preprocessing_layer(text_input)\n",
        "  encoder = hub.KerasLayer(tfhub_handle_encoder, trainable=True, name='BERT_encoder')\n",
        "  outputs = encoder(encoder_inputs)\n",
        "  net = outputs['pooled_output']\n",
        "  net = tf.keras.layers.Dropout(0.2)(net)\n",
        "  net = tf.keras.layers.Dense(2, activation='sigmoid', name='classifier')(net)\n",
        "  return tf.keras.Model(text_input, net)"
      ]
    },
    {
      "cell_type": "code",
      "execution_count": 14,
      "metadata": {
        "id": "2rwYSA8MqRyD"
      },
      "outputs": [],
      "source": [
        "bert_uncased_model = build_bert_model('bert_en_uncased_L-12_H-768_A-12')\n",
        "small_bert_model = build_bert_model('small_bert/bert_en_uncased_L-4_H-512_A-8')\n",
        "albert_model = build_bert_model('albert_en_base')\n",
        "electra_model = build_bert_model('electra_base')"
      ]
    },
    {
      "cell_type": "markdown",
      "source": [
        "## Model Compiling"
      ],
      "metadata": {
        "id": "3ikxZreZ2gwn"
      }
    },
    {
      "cell_type": "code",
      "execution_count": 15,
      "metadata": {
        "id": "qqxIjajsqYNu"
      },
      "outputs": [],
      "source": [
        "bert_uncased_model.compile(\n",
        "    optimizer = tf.keras.optimizers.Adam(learning_rate = 0.00003),\n",
        "    loss = tf.keras.losses.BinaryCrossentropy(),\n",
        "    metrics = tf.keras.metrics.BinaryAccuracy(),\n",
        ")\n",
        "\n",
        "small_bert_model.compile(\n",
        "    optimizer = tf.keras.optimizers.Adam(learning_rate = 0.00003),\n",
        "    loss = tf.keras.losses.BinaryCrossentropy(),\n",
        "    metrics = tf.keras.metrics.BinaryAccuracy(),\n",
        ")\n",
        "\n",
        "albert_model.compile(\n",
        "    optimizer = tf.keras.optimizers.Adam(learning_rate = 0.00003),\n",
        "    loss = tf.keras.losses.BinaryCrossentropy(),\n",
        "    metrics = tf.keras.metrics.BinaryAccuracy(),\n",
        ")\n",
        "\n",
        "electra_model.compile(\n",
        "    optimizer = tf.keras.optimizers.Adam(learning_rate = 0.00003),\n",
        "    loss = tf.keras.losses.BinaryCrossentropy(),\n",
        "    metrics = tf.keras.metrics.BinaryAccuracy(),\n",
        ")"
      ]
    },
    {
      "cell_type": "markdown",
      "source": [
        "## Model Training"
      ],
      "metadata": {
        "id": "1dtSQ02j2i7o"
      }
    },
    {
      "cell_type": "code",
      "execution_count": 16,
      "metadata": {
        "id": "CU7C8-TWrQeU",
        "colab": {
          "base_uri": "https://localhost:8080/"
        },
        "outputId": "a214863a-3c82-4d14-f06b-45d4d8f823e5"
      },
      "outputs": [
        {
          "output_type": "stream",
          "name": "stdout",
          "text": [
            "Epoch 1/3\n",
            "85/85 [==============================] - 102s 604ms/step - loss: 0.4883 - binary_accuracy: 0.7659 - val_loss: 0.3432 - val_binary_accuracy: 0.8481\n",
            "Epoch 2/3\n",
            "85/85 [==============================] - 48s 560ms/step - loss: 0.3077 - binary_accuracy: 0.8798 - val_loss: 0.2791 - val_binary_accuracy: 0.8879\n",
            "Epoch 3/3\n",
            "85/85 [==============================] - 45s 531ms/step - loss: 0.2394 - binary_accuracy: 0.9105 - val_loss: 0.2738 - val_binary_accuracy: 0.8923\n"
          ]
        },
        {
          "output_type": "execute_result",
          "data": {
            "text/plain": [
              "<keras.callbacks.History at 0x7fe708358370>"
            ]
          },
          "metadata": {},
          "execution_count": 16
        }
      ],
      "source": [
        "bert_uncased_model.fit(\n",
        "    x = X_train,\n",
        "    y = y_train,\n",
        "    batch_size = 16,\n",
        "    validation_data = (X_test, y_test),\n",
        "    epochs = 3,\n",
        ")\n"
      ]
    },
    {
      "cell_type": "code",
      "source": [
        "small_bert_model.fit(\n",
        "    x = X_train,\n",
        "    y = y_train,\n",
        "    batch_size = 16,\n",
        "    validation_data = (X_test, y_test),\n",
        "    epochs = 3,\n",
        ")"
      ],
      "metadata": {
        "id": "9lGWfIwkW8uQ",
        "colab": {
          "base_uri": "https://localhost:8080/"
        },
        "outputId": "82eb325f-11df-433c-bc4f-e349caf97046"
      },
      "execution_count": 17,
      "outputs": [
        {
          "output_type": "stream",
          "name": "stdout",
          "text": [
            "Epoch 1/3\n",
            "85/85 [==============================] - 41s 281ms/step - loss: 0.5291 - binary_accuracy: 0.7389 - val_loss: 0.3401 - val_binary_accuracy: 0.8643\n",
            "Epoch 2/3\n",
            "85/85 [==============================] - 16s 192ms/step - loss: 0.3163 - binary_accuracy: 0.8724 - val_loss: 0.3260 - val_binary_accuracy: 0.8894\n",
            "Epoch 3/3\n",
            "85/85 [==============================] - 16s 194ms/step - loss: 0.2448 - binary_accuracy: 0.9035 - val_loss: 0.2747 - val_binary_accuracy: 0.8982\n"
          ]
        },
        {
          "output_type": "execute_result",
          "data": {
            "text/plain": [
              "<keras.callbacks.History at 0x7fe7057bcdf0>"
            ]
          },
          "metadata": {},
          "execution_count": 17
        }
      ]
    },
    {
      "cell_type": "code",
      "source": [
        "albert_model.fit(\n",
        "    x = X_train,\n",
        "    y = y_train,\n",
        "    batch_size = 16,\n",
        "    validation_data = (X_test, y_test),\n",
        "    epochs = 3,\n",
        ")"
      ],
      "metadata": {
        "id": "xVbFsh1hW83G",
        "colab": {
          "base_uri": "https://localhost:8080/"
        },
        "outputId": "bc407a0e-5412-4d42-a323-70634591627d"
      },
      "execution_count": 18,
      "outputs": [
        {
          "output_type": "stream",
          "name": "stdout",
          "text": [
            "Epoch 1/3\n",
            "85/85 [==============================] - 77s 698ms/step - loss: 0.5715 - binary_accuracy: 0.7163 - val_loss: 0.4424 - val_binary_accuracy: 0.8230\n",
            "Epoch 2/3\n",
            "85/85 [==============================] - 58s 680ms/step - loss: 0.4029 - binary_accuracy: 0.8291 - val_loss: 0.3502 - val_binary_accuracy: 0.8510\n",
            "Epoch 3/3\n",
            "85/85 [==============================] - 56s 659ms/step - loss: 0.3082 - binary_accuracy: 0.8828 - val_loss: 0.3256 - val_binary_accuracy: 0.8879\n"
          ]
        },
        {
          "output_type": "execute_result",
          "data": {
            "text/plain": [
              "<keras.callbacks.History at 0x7fe700518850>"
            ]
          },
          "metadata": {},
          "execution_count": 18
        }
      ]
    },
    {
      "cell_type": "code",
      "source": [
        "electra_model.fit(\n",
        "    x = X_train,\n",
        "    y = y_train,\n",
        "    batch_size = 16,\n",
        "    validation_data = (X_test, y_test),\n",
        "    epochs = 3,\n",
        ")"
      ],
      "metadata": {
        "id": "zOUwdG-TW9sq",
        "colab": {
          "base_uri": "https://localhost:8080/"
        },
        "outputId": "beb0d2f4-8ef4-4a46-9a38-33989352468f"
      },
      "execution_count": 19,
      "outputs": [
        {
          "output_type": "stream",
          "name": "stdout",
          "text": [
            "Epoch 1/3\n",
            "85/85 [==============================] - 95s 581ms/step - loss: 0.5432 - binary_accuracy: 0.7297 - val_loss: 0.3727 - val_binary_accuracy: 0.8407\n",
            "Epoch 2/3\n",
            "85/85 [==============================] - 46s 547ms/step - loss: 0.3110 - binary_accuracy: 0.8794 - val_loss: 0.2866 - val_binary_accuracy: 0.8938\n",
            "Epoch 3/3\n",
            "85/85 [==============================] - 46s 546ms/step - loss: 0.2570 - binary_accuracy: 0.8957 - val_loss: 0.2931 - val_binary_accuracy: 0.8850\n"
          ]
        },
        {
          "output_type": "execute_result",
          "data": {
            "text/plain": [
              "<keras.callbacks.History at 0x7fe6b43b7520>"
            ]
          },
          "metadata": {},
          "execution_count": 19
        }
      ]
    },
    {
      "cell_type": "markdown",
      "source": [
        "## Model Evaluation"
      ],
      "metadata": {
        "id": "DwJw2NrO2m1R"
      }
    },
    {
      "cell_type": "code",
      "execution_count": 20,
      "metadata": {
        "id": "MSi-FZLOgyLL",
        "colab": {
          "base_uri": "https://localhost:8080/"
        },
        "outputId": "5d0d5193-a4fe-443d-97e5-0465ef21c129"
      },
      "outputs": [
        {
          "output_type": "stream",
          "name": "stdout",
          "text": [
            "11/11 [==============================] - 5s 390ms/step\n",
            "              precision    recall  f1-score   support\n",
            "\n",
            "   apresiasi       0.87      0.77      0.82       124\n",
            "      kritik       0.91      0.98      0.94       247\n",
            "\n",
            "   micro avg       0.90      0.91      0.90       371\n",
            "   macro avg       0.89      0.87      0.88       371\n",
            "weighted avg       0.89      0.91      0.90       371\n",
            " samples avg       0.92      0.93      0.92       371\n",
            "\n"
          ]
        }
      ],
      "source": [
        "from sklearn.metrics import classification_report\n",
        "\n",
        "class_labels = [\"apresiasi\", \"kritik\"]\n",
        "\n",
        "y_pred = bert_uncased_model.predict(X_test) > 0.5\n",
        "print(classification_report(y_test, y_pred, target_names=class_labels))"
      ]
    },
    {
      "cell_type": "code",
      "source": [
        "y_pred = small_bert_model.predict(X_test) > 0.5\n",
        "print(classification_report(y_test, y_pred, target_names=class_labels))"
      ],
      "metadata": {
        "id": "0MwmVyugXbBZ",
        "colab": {
          "base_uri": "https://localhost:8080/"
        },
        "outputId": "70993e50-cfd9-4724-afca-ec90143deaaf"
      },
      "execution_count": 21,
      "outputs": [
        {
          "output_type": "stream",
          "name": "stdout",
          "text": [
            "11/11 [==============================] - 1s 97ms/step\n",
            "              precision    recall  f1-score   support\n",
            "\n",
            "   apresiasi       0.88      0.80      0.84       124\n",
            "      kritik       0.92      0.96      0.94       247\n",
            "\n",
            "   micro avg       0.91      0.91      0.91       371\n",
            "   macro avg       0.90      0.88      0.89       371\n",
            "weighted avg       0.90      0.91      0.91       371\n",
            " samples avg       0.93      0.93      0.92       371\n",
            "\n"
          ]
        }
      ]
    },
    {
      "cell_type": "code",
      "source": [
        "y_pred = albert_model.predict(X_test) > 0.5\n",
        "print(classification_report(y_test, y_pred, target_names=class_labels))"
      ],
      "metadata": {
        "id": "epEFGg5MXbF0",
        "colab": {
          "base_uri": "https://localhost:8080/"
        },
        "outputId": "2e678de1-c93a-4a32-9cb9-94c61eee04ab"
      },
      "execution_count": 22,
      "outputs": [
        {
          "output_type": "stream",
          "name": "stdout",
          "text": [
            "11/11 [==============================] - 4s 350ms/step\n",
            "              precision    recall  f1-score   support\n",
            "\n",
            "   apresiasi       0.95      0.68      0.79       124\n",
            "      kritik       0.92      0.96      0.94       247\n",
            "\n",
            "   micro avg       0.93      0.87      0.89       371\n",
            "   macro avg       0.93      0.82      0.86       371\n",
            "weighted avg       0.93      0.87      0.89       371\n",
            " samples avg       0.93      0.90      0.91       371\n",
            "\n"
          ]
        }
      ]
    },
    {
      "cell_type": "code",
      "source": [
        "y_pred = electra_model.predict(X_test) > 0.5\n",
        "print(classification_report(y_test, y_pred, target_names=class_labels))"
      ],
      "metadata": {
        "id": "aWKfb6XBXbRg",
        "colab": {
          "base_uri": "https://localhost:8080/"
        },
        "outputId": "aca0e4ad-0f83-4e26-d426-bad0481312cf"
      },
      "execution_count": 23,
      "outputs": [
        {
          "output_type": "stream",
          "name": "stdout",
          "text": [
            "11/11 [==============================] - 5s 389ms/step\n",
            "              precision    recall  f1-score   support\n",
            "\n",
            "   apresiasi       0.90      0.77      0.83       124\n",
            "      kritik       0.89      0.96      0.92       247\n",
            "\n",
            "   micro avg       0.89      0.90      0.90       371\n",
            "   macro avg       0.90      0.86      0.88       371\n",
            "weighted avg       0.89      0.90      0.89       371\n",
            " samples avg       0.92      0.92      0.91       371\n",
            "\n"
          ]
        }
      ]
    },
    {
      "cell_type": "markdown",
      "source": [
        "## Save Model"
      ],
      "metadata": {
        "id": "Z8PDVx2djOZf"
      }
    },
    {
      "cell_type": "code",
      "source": [
        "bert_uncased_model.save(\"bert-1\")\n",
        "small_bert_model.save(\"small-bert-1\")\n",
        "albert_model.save(\"albert-1\")\n",
        "electra_model.save(\"electra-1\")"
      ],
      "metadata": {
        "id": "aT1AzI3RhDN9"
      },
      "execution_count": 42,
      "outputs": []
    }
  ],
  "metadata": {
    "colab": {
      "provenance": [],
      "gpuType": "T4",
      "collapsed_sections": [
        "gpSVyqCX1sCO",
        "vzO3rNoS1y9U",
        "LkeZdf-f11na",
        "AmbXc0g-178k",
        "lIZcWXWd2xhQ",
        "X2BmtjrM2DMP",
        "Kj_eJv9L2G_W",
        "TgUoRqSTFvsK",
        "WTG1qtG12WQD",
        "uOTHQGcV2dvy",
        "3ikxZreZ2gwn",
        "1dtSQ02j2i7o",
        "DwJw2NrO2m1R"
      ],
      "mount_file_id": "1eTVst4IuSJrrk0k_si769vybcEJOIR-r",
      "authorship_tag": "ABX9TyM6x0G/y91KggWhHz9HkPfU",
      "include_colab_link": true
    },
    "kernelspec": {
      "display_name": "Python 3",
      "name": "python3"
    },
    "language_info": {
      "name": "python"
    },
    "gpuClass": "standard",
    "accelerator": "GPU"
  },
  "nbformat": 4,
  "nbformat_minor": 0
}