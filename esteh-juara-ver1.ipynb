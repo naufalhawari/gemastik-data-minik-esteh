{
  "cells": [
    {
      "cell_type": "markdown",
      "metadata": {
        "id": "view-in-github",
        "colab_type": "text"
      },
      "source": [
        "<a href=\"https://colab.research.google.com/github/naufalhawari/gemastik-data-minik-esteh/blob/main/esteh-juara-ver1.ipynb\" target=\"_parent\"><img src=\"https://colab.research.google.com/assets/colab-badge.svg\" alt=\"Open In Colab\"/></a>"
      ]
    },
    {
      "cell_type": "markdown",
      "metadata": {
        "id": "IFe9eYWJEedj"
      },
      "source": [
        "# Creating Dataset"
      ]
    },
    {
      "cell_type": "markdown",
      "source": [
        "## Installing Library Needs"
      ],
      "metadata": {
        "id": "gpSVyqCX1sCO"
      }
    },
    {
      "cell_type": "code",
      "execution_count": 1,
      "metadata": {
        "colab": {
          "base_uri": "https://localhost:8080/"
        },
        "id": "OyXTjXg6svmX",
        "outputId": "3cf7de0b-ea93-4f94-a02d-b3e33afb5655"
      },
      "outputs": [
        {
          "output_type": "stream",
          "name": "stdout",
          "text": [
            "Looking in indexes: https://pypi.org/simple, https://us-python.pkg.dev/colab-wheels/public/simple/\n",
            "Requirement already satisfied: tensorflow_text in /usr/local/lib/python3.10/dist-packages (2.12.1)\n",
            "Requirement already satisfied: tensorflow-hub>=0.8.0 in /usr/local/lib/python3.10/dist-packages (from tensorflow_text) (0.13.0)\n",
            "Requirement already satisfied: tensorflow<2.13,>=2.12.0 in /usr/local/lib/python3.10/dist-packages (from tensorflow_text) (2.12.0)\n",
            "Requirement already satisfied: h5py>=2.9.0 in /usr/local/lib/python3.10/dist-packages (from tensorflow<2.13,>=2.12.0->tensorflow_text) (3.8.0)\n",
            "Requirement already satisfied: libclang>=13.0.0 in /usr/local/lib/python3.10/dist-packages (from tensorflow<2.13,>=2.12.0->tensorflow_text) (16.0.0)\n",
            "Requirement already satisfied: numpy<1.24,>=1.22 in /usr/local/lib/python3.10/dist-packages (from tensorflow<2.13,>=2.12.0->tensorflow_text) (1.22.4)\n",
            "Requirement already satisfied: packaging in /usr/local/lib/python3.10/dist-packages (from tensorflow<2.13,>=2.12.0->tensorflow_text) (23.1)\n",
            "Requirement already satisfied: gast<=0.4.0,>=0.2.1 in /usr/local/lib/python3.10/dist-packages (from tensorflow<2.13,>=2.12.0->tensorflow_text) (0.4.0)\n",
            "Requirement already satisfied: keras<2.13,>=2.12.0 in /usr/local/lib/python3.10/dist-packages (from tensorflow<2.13,>=2.12.0->tensorflow_text) (2.12.0)\n",
            "Requirement already satisfied: tensorflow-estimator<2.13,>=2.12.0 in /usr/local/lib/python3.10/dist-packages (from tensorflow<2.13,>=2.12.0->tensorflow_text) (2.12.0)\n",
            "Requirement already satisfied: protobuf!=4.21.0,!=4.21.1,!=4.21.2,!=4.21.3,!=4.21.4,!=4.21.5,<5.0.0dev,>=3.20.3 in /usr/local/lib/python3.10/dist-packages (from tensorflow<2.13,>=2.12.0->tensorflow_text) (3.20.3)\n",
            "Requirement already satisfied: grpcio<2.0,>=1.24.3 in /usr/local/lib/python3.10/dist-packages (from tensorflow<2.13,>=2.12.0->tensorflow_text) (1.54.0)\n",
            "Requirement already satisfied: wrapt<1.15,>=1.11.0 in /usr/local/lib/python3.10/dist-packages (from tensorflow<2.13,>=2.12.0->tensorflow_text) (1.14.1)\n",
            "Requirement already satisfied: google-pasta>=0.1.1 in /usr/local/lib/python3.10/dist-packages (from tensorflow<2.13,>=2.12.0->tensorflow_text) (0.2.0)\n",
            "Requirement already satisfied: typing-extensions>=3.6.6 in /usr/local/lib/python3.10/dist-packages (from tensorflow<2.13,>=2.12.0->tensorflow_text) (4.5.0)\n",
            "Requirement already satisfied: six>=1.12.0 in /usr/local/lib/python3.10/dist-packages (from tensorflow<2.13,>=2.12.0->tensorflow_text) (1.16.0)\n",
            "Requirement already satisfied: astunparse>=1.6.0 in /usr/local/lib/python3.10/dist-packages (from tensorflow<2.13,>=2.12.0->tensorflow_text) (1.6.3)\n",
            "Requirement already satisfied: opt-einsum>=2.3.2 in /usr/local/lib/python3.10/dist-packages (from tensorflow<2.13,>=2.12.0->tensorflow_text) (3.3.0)\n",
            "Requirement already satisfied: flatbuffers>=2.0 in /usr/local/lib/python3.10/dist-packages (from tensorflow<2.13,>=2.12.0->tensorflow_text) (23.3.3)\n",
            "Requirement already satisfied: termcolor>=1.1.0 in /usr/local/lib/python3.10/dist-packages (from tensorflow<2.13,>=2.12.0->tensorflow_text) (2.3.0)\n",
            "Requirement already satisfied: tensorflow-io-gcs-filesystem>=0.23.1 in /usr/local/lib/python3.10/dist-packages (from tensorflow<2.13,>=2.12.0->tensorflow_text) (0.32.0)\n",
            "Requirement already satisfied: absl-py>=1.0.0 in /usr/local/lib/python3.10/dist-packages (from tensorflow<2.13,>=2.12.0->tensorflow_text) (1.4.0)\n",
            "Requirement already satisfied: setuptools in /usr/local/lib/python3.10/dist-packages (from tensorflow<2.13,>=2.12.0->tensorflow_text) (67.7.2)\n",
            "Requirement already satisfied: tensorboard<2.13,>=2.12 in /usr/local/lib/python3.10/dist-packages (from tensorflow<2.13,>=2.12.0->tensorflow_text) (2.12.2)\n",
            "Requirement already satisfied: jax>=0.3.15 in /usr/local/lib/python3.10/dist-packages (from tensorflow<2.13,>=2.12.0->tensorflow_text) (0.4.8)\n",
            "Requirement already satisfied: wheel<1.0,>=0.23.0 in /usr/local/lib/python3.10/dist-packages (from astunparse>=1.6.0->tensorflow<2.13,>=2.12.0->tensorflow_text) (0.40.0)\n",
            "Requirement already satisfied: scipy>=1.7 in /usr/local/lib/python3.10/dist-packages (from jax>=0.3.15->tensorflow<2.13,>=2.12.0->tensorflow_text) (1.10.1)\n",
            "Requirement already satisfied: ml-dtypes>=0.0.3 in /usr/local/lib/python3.10/dist-packages (from jax>=0.3.15->tensorflow<2.13,>=2.12.0->tensorflow_text) (0.1.0)\n",
            "Requirement already satisfied: tensorboard-plugin-wit>=1.6.0 in /usr/local/lib/python3.10/dist-packages (from tensorboard<2.13,>=2.12->tensorflow<2.13,>=2.12.0->tensorflow_text) (1.8.1)\n",
            "Requirement already satisfied: google-auth<3,>=1.6.3 in /usr/local/lib/python3.10/dist-packages (from tensorboard<2.13,>=2.12->tensorflow<2.13,>=2.12.0->tensorflow_text) (2.17.3)\n",
            "Requirement already satisfied: markdown>=2.6.8 in /usr/local/lib/python3.10/dist-packages (from tensorboard<2.13,>=2.12->tensorflow<2.13,>=2.12.0->tensorflow_text) (3.4.3)\n",
            "Requirement already satisfied: tensorboard-data-server<0.8.0,>=0.7.0 in /usr/local/lib/python3.10/dist-packages (from tensorboard<2.13,>=2.12->tensorflow<2.13,>=2.12.0->tensorflow_text) (0.7.0)\n",
            "Requirement already satisfied: werkzeug>=1.0.1 in /usr/local/lib/python3.10/dist-packages (from tensorboard<2.13,>=2.12->tensorflow<2.13,>=2.12.0->tensorflow_text) (2.3.0)\n",
            "Requirement already satisfied: requests<3,>=2.21.0 in /usr/local/lib/python3.10/dist-packages (from tensorboard<2.13,>=2.12->tensorflow<2.13,>=2.12.0->tensorflow_text) (2.27.1)\n",
            "Requirement already satisfied: google-auth-oauthlib<1.1,>=0.5 in /usr/local/lib/python3.10/dist-packages (from tensorboard<2.13,>=2.12->tensorflow<2.13,>=2.12.0->tensorflow_text) (1.0.0)\n",
            "Requirement already satisfied: pyasn1-modules>=0.2.1 in /usr/local/lib/python3.10/dist-packages (from google-auth<3,>=1.6.3->tensorboard<2.13,>=2.12->tensorflow<2.13,>=2.12.0->tensorflow_text) (0.3.0)\n",
            "Requirement already satisfied: rsa<5,>=3.1.4 in /usr/local/lib/python3.10/dist-packages (from google-auth<3,>=1.6.3->tensorboard<2.13,>=2.12->tensorflow<2.13,>=2.12.0->tensorflow_text) (4.9)\n",
            "Requirement already satisfied: cachetools<6.0,>=2.0.0 in /usr/local/lib/python3.10/dist-packages (from google-auth<3,>=1.6.3->tensorboard<2.13,>=2.12->tensorflow<2.13,>=2.12.0->tensorflow_text) (5.3.0)\n",
            "Requirement already satisfied: requests-oauthlib>=0.7.0 in /usr/local/lib/python3.10/dist-packages (from google-auth-oauthlib<1.1,>=0.5->tensorboard<2.13,>=2.12->tensorflow<2.13,>=2.12.0->tensorflow_text) (1.3.1)\n",
            "Requirement already satisfied: urllib3<1.27,>=1.21.1 in /usr/local/lib/python3.10/dist-packages (from requests<3,>=2.21.0->tensorboard<2.13,>=2.12->tensorflow<2.13,>=2.12.0->tensorflow_text) (1.26.15)\n",
            "Requirement already satisfied: certifi>=2017.4.17 in /usr/local/lib/python3.10/dist-packages (from requests<3,>=2.21.0->tensorboard<2.13,>=2.12->tensorflow<2.13,>=2.12.0->tensorflow_text) (2022.12.7)\n",
            "Requirement already satisfied: charset-normalizer~=2.0.0 in /usr/local/lib/python3.10/dist-packages (from requests<3,>=2.21.0->tensorboard<2.13,>=2.12->tensorflow<2.13,>=2.12.0->tensorflow_text) (2.0.12)\n",
            "Requirement already satisfied: idna<4,>=2.5 in /usr/local/lib/python3.10/dist-packages (from requests<3,>=2.21.0->tensorboard<2.13,>=2.12->tensorflow<2.13,>=2.12.0->tensorflow_text) (3.4)\n",
            "Requirement already satisfied: MarkupSafe>=2.1.1 in /usr/local/lib/python3.10/dist-packages (from werkzeug>=1.0.1->tensorboard<2.13,>=2.12->tensorflow<2.13,>=2.12.0->tensorflow_text) (2.1.2)\n",
            "Requirement already satisfied: pyasn1<0.6.0,>=0.4.6 in /usr/local/lib/python3.10/dist-packages (from pyasn1-modules>=0.2.1->google-auth<3,>=1.6.3->tensorboard<2.13,>=2.12->tensorflow<2.13,>=2.12.0->tensorflow_text) (0.5.0)\n",
            "Requirement already satisfied: oauthlib>=3.0.0 in /usr/local/lib/python3.10/dist-packages (from requests-oauthlib>=0.7.0->google-auth-oauthlib<1.1,>=0.5->tensorboard<2.13,>=2.12->tensorflow<2.13,>=2.12.0->tensorflow_text) (3.2.2)\n"
          ]
        }
      ],
      "source": [
        "!pip install tensorflow_text"
      ]
    },
    {
      "cell_type": "code",
      "execution_count": 2,
      "metadata": {
        "colab": {
          "base_uri": "https://localhost:8080/"
        },
        "id": "itI8vQSCD_Az",
        "outputId": "f43b1df5-4985-461b-c501-5606fc699969"
      },
      "outputs": [
        {
          "output_type": "stream",
          "name": "stdout",
          "text": [
            "Looking in indexes: https://pypi.org/simple, https://us-python.pkg.dev/colab-wheels/public/simple/\n",
            "Requirement already satisfied: sastrawi in /usr/local/lib/python3.10/dist-packages (1.0.1)\n"
          ]
        }
      ],
      "source": [
        "!pip install sastrawi"
      ]
    },
    {
      "cell_type": "markdown",
      "source": [
        "## Import Libraries"
      ],
      "metadata": {
        "id": "vzO3rNoS1y9U"
      }
    },
    {
      "cell_type": "code",
      "execution_count": 3,
      "metadata": {
        "id": "OXo6kWIR3zDQ"
      },
      "outputs": [],
      "source": [
        "import pandas as pd\n",
        "import numpy as np\n",
        "\n",
        "import tensorflow as tf\n",
        "import tensorflow_hub as hub\n",
        "import tensorflow_text as text\n",
        "\n",
        "import seaborn as sns\n",
        "import matplotlib.pyplot as plt\n",
        "\n",
        "pd.set_option(\"display.max.columns\", 50)"
      ]
    },
    {
      "cell_type": "markdown",
      "source": [
        "## Retrieve and Preprocess Dataset"
      ],
      "metadata": {
        "id": "LkeZdf-f11na"
      }
    },
    {
      "cell_type": "code",
      "execution_count": 4,
      "metadata": {
        "id": "NZf-LJal6SyX"
      },
      "outputs": [],
      "source": [
        "# file_path = \"/content/drive/MyDrive/dataset/esteh-dataset.xlsx\"\n",
        "file_path = \"https://raw.githubusercontent.com/naufalhawari/dataset-collection/main/esteh-dataset-1728.csv\"\n",
        "\n",
        "# sheet names if data retrieved from excel\n",
        "# sheet_names = [\n",
        "#     \"jogja_smart_service\",\n",
        "#     \"depok_single_window\",\n",
        "# ]"
      ]
    },
    {
      "cell_type": "code",
      "execution_count": 5,
      "metadata": {
        "id": "E6AJF9vB5Lzr"
      },
      "outputs": [],
      "source": [
        "from Sastrawi.Stemmer.StemmerFactory import StemmerFactory\n",
        "\n",
        "def stemming(teks):\n",
        "  stemmerFactory = StemmerFactory().create_stemmer()\n",
        "\n",
        "  return stemmerFactory.stem(teks)\n",
        "\n",
        "\n",
        "def create_dataset(file_path, sheet_names = None) :\n",
        "  \n",
        "\n",
        "  # reading from excel\n",
        "  # dataset = pd.DataFrame()\n",
        "  # for sheet_name in sheet_names:\n",
        "  #   dataset = pd.concat([dataset, pd.read_excel(file_path, sheet_name = sheet_name)],ignore_index = True)\n",
        "\n",
        "  # reading from csv through github\n",
        "  dataset = pd.read_csv(file_path)\n",
        "  \n",
        "  dataset = dataset.loc[~dataset.duplicated()].copy() # removing duplicated record\n",
        "  dataset = dataset.copy().dropna() # dropping records if there is any missing values\n",
        "  dataset[\"kritik\"] = dataset[[\"keluhan\", \"saran\"]].max(axis = 1)\n",
        "  dataset = dataset.drop([\"saran\", \"keluhan\"], axis = 1)\n",
        "  dataset[\"ulasan\"] = dataset[\"ulasan\"].str.lower()\n",
        "  dataset[\"ulasan\"] = dataset[\"ulasan\"].apply(lambda x: stemming(x))\n",
        "\n",
        "  return dataset"
      ]
    },
    {
      "cell_type": "code",
      "execution_count": 6,
      "metadata": {
        "id": "GXE7OgI986Op"
      },
      "outputs": [],
      "source": [
        "# df = create_dataset(file_path)\n",
        "df = pd.read_csv(file_path)"
      ]
    },
    {
      "cell_type": "code",
      "execution_count": 7,
      "metadata": {
        "colab": {
          "base_uri": "https://localhost:8080/",
          "height": 0
        },
        "id": "ttAbi08UDiH_",
        "outputId": "199caa97-a27c-422b-ee62-12a80faa2f7c"
      },
      "outputs": [
        {
          "output_type": "execute_result",
          "data": {
            "text/plain": [
              "                                              ulasan  apresiasi  kritik\n",
              "0  aplikasi bagus buat lapor ini itu cuma saya ma...          1       1\n",
              "1  tidak bisa ke menu jaki vaksin ini kenapa sih ...          0       1\n",
              "2  hello jaki saya lapor aplikasi jakarta aman ap...          0       1\n",
              "3  enak nya pake aplikasi jaki klo kita mau lapor...          1       0\n",
              "4  gak pernah bagi daftar dadak kalo mau ke tebet...          0       1\n",
              "5  sy beri 4 bintang biar makin semangat it jaki ...          1       1\n",
              "6  aplikasi apa coba di guna tidk bisa sedang di ...          0       1\n",
              "7     system baik terus mau daftar vaksin tidak bisa          0       1\n",
              "8  nik sdh verifikasi tapi utk login daftar vaksi...          0       1\n",
              "9  daftar sunggu ribet lbih gampang daftar akun b...          0       1"
            ],
            "text/html": [
              "\n",
              "  <div id=\"df-3fbbe446-0d67-4594-858a-aec4ebfee893\">\n",
              "    <div class=\"colab-df-container\">\n",
              "      <div>\n",
              "<style scoped>\n",
              "    .dataframe tbody tr th:only-of-type {\n",
              "        vertical-align: middle;\n",
              "    }\n",
              "\n",
              "    .dataframe tbody tr th {\n",
              "        vertical-align: top;\n",
              "    }\n",
              "\n",
              "    .dataframe thead th {\n",
              "        text-align: right;\n",
              "    }\n",
              "</style>\n",
              "<table border=\"1\" class=\"dataframe\">\n",
              "  <thead>\n",
              "    <tr style=\"text-align: right;\">\n",
              "      <th></th>\n",
              "      <th>ulasan</th>\n",
              "      <th>apresiasi</th>\n",
              "      <th>kritik</th>\n",
              "    </tr>\n",
              "  </thead>\n",
              "  <tbody>\n",
              "    <tr>\n",
              "      <th>0</th>\n",
              "      <td>aplikasi bagus buat lapor ini itu cuma saya ma...</td>\n",
              "      <td>1</td>\n",
              "      <td>1</td>\n",
              "    </tr>\n",
              "    <tr>\n",
              "      <th>1</th>\n",
              "      <td>tidak bisa ke menu jaki vaksin ini kenapa sih ...</td>\n",
              "      <td>0</td>\n",
              "      <td>1</td>\n",
              "    </tr>\n",
              "    <tr>\n",
              "      <th>2</th>\n",
              "      <td>hello jaki saya lapor aplikasi jakarta aman ap...</td>\n",
              "      <td>0</td>\n",
              "      <td>1</td>\n",
              "    </tr>\n",
              "    <tr>\n",
              "      <th>3</th>\n",
              "      <td>enak nya pake aplikasi jaki klo kita mau lapor...</td>\n",
              "      <td>1</td>\n",
              "      <td>0</td>\n",
              "    </tr>\n",
              "    <tr>\n",
              "      <th>4</th>\n",
              "      <td>gak pernah bagi daftar dadak kalo mau ke tebet...</td>\n",
              "      <td>0</td>\n",
              "      <td>1</td>\n",
              "    </tr>\n",
              "    <tr>\n",
              "      <th>5</th>\n",
              "      <td>sy beri 4 bintang biar makin semangat it jaki ...</td>\n",
              "      <td>1</td>\n",
              "      <td>1</td>\n",
              "    </tr>\n",
              "    <tr>\n",
              "      <th>6</th>\n",
              "      <td>aplikasi apa coba di guna tidk bisa sedang di ...</td>\n",
              "      <td>0</td>\n",
              "      <td>1</td>\n",
              "    </tr>\n",
              "    <tr>\n",
              "      <th>7</th>\n",
              "      <td>system baik terus mau daftar vaksin tidak bisa</td>\n",
              "      <td>0</td>\n",
              "      <td>1</td>\n",
              "    </tr>\n",
              "    <tr>\n",
              "      <th>8</th>\n",
              "      <td>nik sdh verifikasi tapi utk login daftar vaksi...</td>\n",
              "      <td>0</td>\n",
              "      <td>1</td>\n",
              "    </tr>\n",
              "    <tr>\n",
              "      <th>9</th>\n",
              "      <td>daftar sunggu ribet lbih gampang daftar akun b...</td>\n",
              "      <td>0</td>\n",
              "      <td>1</td>\n",
              "    </tr>\n",
              "  </tbody>\n",
              "</table>\n",
              "</div>\n",
              "      <button class=\"colab-df-convert\" onclick=\"convertToInteractive('df-3fbbe446-0d67-4594-858a-aec4ebfee893')\"\n",
              "              title=\"Convert this dataframe to an interactive table.\"\n",
              "              style=\"display:none;\">\n",
              "        \n",
              "  <svg xmlns=\"http://www.w3.org/2000/svg\" height=\"24px\"viewBox=\"0 0 24 24\"\n",
              "       width=\"24px\">\n",
              "    <path d=\"M0 0h24v24H0V0z\" fill=\"none\"/>\n",
              "    <path d=\"M18.56 5.44l.94 2.06.94-2.06 2.06-.94-2.06-.94-.94-2.06-.94 2.06-2.06.94zm-11 1L8.5 8.5l.94-2.06 2.06-.94-2.06-.94L8.5 2.5l-.94 2.06-2.06.94zm10 10l.94 2.06.94-2.06 2.06-.94-2.06-.94-.94-2.06-.94 2.06-2.06.94z\"/><path d=\"M17.41 7.96l-1.37-1.37c-.4-.4-.92-.59-1.43-.59-.52 0-1.04.2-1.43.59L10.3 9.45l-7.72 7.72c-.78.78-.78 2.05 0 2.83L4 21.41c.39.39.9.59 1.41.59.51 0 1.02-.2 1.41-.59l7.78-7.78 2.81-2.81c.8-.78.8-2.07 0-2.86zM5.41 20L4 18.59l7.72-7.72 1.47 1.35L5.41 20z\"/>\n",
              "  </svg>\n",
              "      </button>\n",
              "      \n",
              "  <style>\n",
              "    .colab-df-container {\n",
              "      display:flex;\n",
              "      flex-wrap:wrap;\n",
              "      gap: 12px;\n",
              "    }\n",
              "\n",
              "    .colab-df-convert {\n",
              "      background-color: #E8F0FE;\n",
              "      border: none;\n",
              "      border-radius: 50%;\n",
              "      cursor: pointer;\n",
              "      display: none;\n",
              "      fill: #1967D2;\n",
              "      height: 32px;\n",
              "      padding: 0 0 0 0;\n",
              "      width: 32px;\n",
              "    }\n",
              "\n",
              "    .colab-df-convert:hover {\n",
              "      background-color: #E2EBFA;\n",
              "      box-shadow: 0px 1px 2px rgba(60, 64, 67, 0.3), 0px 1px 3px 1px rgba(60, 64, 67, 0.15);\n",
              "      fill: #174EA6;\n",
              "    }\n",
              "\n",
              "    [theme=dark] .colab-df-convert {\n",
              "      background-color: #3B4455;\n",
              "      fill: #D2E3FC;\n",
              "    }\n",
              "\n",
              "    [theme=dark] .colab-df-convert:hover {\n",
              "      background-color: #434B5C;\n",
              "      box-shadow: 0px 1px 3px 1px rgba(0, 0, 0, 0.15);\n",
              "      filter: drop-shadow(0px 1px 2px rgba(0, 0, 0, 0.3));\n",
              "      fill: #FFFFFF;\n",
              "    }\n",
              "  </style>\n",
              "\n",
              "      <script>\n",
              "        const buttonEl =\n",
              "          document.querySelector('#df-3fbbe446-0d67-4594-858a-aec4ebfee893 button.colab-df-convert');\n",
              "        buttonEl.style.display =\n",
              "          google.colab.kernel.accessAllowed ? 'block' : 'none';\n",
              "\n",
              "        async function convertToInteractive(key) {\n",
              "          const element = document.querySelector('#df-3fbbe446-0d67-4594-858a-aec4ebfee893');\n",
              "          const dataTable =\n",
              "            await google.colab.kernel.invokeFunction('convertToInteractive',\n",
              "                                                     [key], {});\n",
              "          if (!dataTable) return;\n",
              "\n",
              "          const docLinkHtml = 'Like what you see? Visit the ' +\n",
              "            '<a target=\"_blank\" href=https://colab.research.google.com/notebooks/data_table.ipynb>data table notebook</a>'\n",
              "            + ' to learn more about interactive tables.';\n",
              "          element.innerHTML = '';\n",
              "          dataTable['output_type'] = 'display_data';\n",
              "          await google.colab.output.renderOutput(dataTable, element);\n",
              "          const docLink = document.createElement('div');\n",
              "          docLink.innerHTML = docLinkHtml;\n",
              "          element.appendChild(docLink);\n",
              "        }\n",
              "      </script>\n",
              "    </div>\n",
              "  </div>\n",
              "  "
            ]
          },
          "metadata": {},
          "execution_count": 7
        }
      ],
      "source": [
        "df.head(10)"
      ]
    },
    {
      "cell_type": "code",
      "execution_count": 8,
      "metadata": {
        "colab": {
          "base_uri": "https://localhost:8080/"
        },
        "id": "2keYzNuA89xw",
        "outputId": "91149345-552a-4e5a-9ab7-bd5a291e31a2"
      },
      "outputs": [
        {
          "output_type": "execute_result",
          "data": {
            "text/plain": [
              "6"
            ]
          },
          "metadata": {},
          "execution_count": 8
        }
      ],
      "source": [
        "df.duplicated().sum()"
      ]
    },
    {
      "cell_type": "code",
      "execution_count": 9,
      "metadata": {
        "colab": {
          "base_uri": "https://localhost:8080/"
        },
        "id": "hKZHuXU2ToMU",
        "outputId": "00fc80ef-fb9d-4739-96ea-abc9cd1117b3"
      },
      "outputs": [
        {
          "output_type": "execute_result",
          "data": {
            "text/plain": [
              "1691"
            ]
          },
          "metadata": {},
          "execution_count": 9
        }
      ],
      "source": [
        "len(df)"
      ]
    },
    {
      "cell_type": "markdown",
      "source": [
        "## Splitting Dataset"
      ],
      "metadata": {
        "id": "AmbXc0g-178k"
      }
    },
    {
      "cell_type": "code",
      "execution_count": 10,
      "metadata": {
        "id": "IrkFA_wOpXGR"
      },
      "outputs": [],
      "source": [
        "from sklearn.model_selection import train_test_split\n",
        "\n",
        "X = df.ulasan\n",
        "y = df.drop(\"ulasan\", axis = 1)\n",
        "\n",
        "X_train, X_test, y_train, y_test = train_test_split(X, y, test_size = 0.2, stratify = df.apresiasi)"
      ]
    },
    {
      "cell_type": "markdown",
      "metadata": {
        "id": "jUmFMGIbQt4S"
      },
      "source": [
        "# RNN Model"
      ]
    },
    {
      "cell_type": "markdown",
      "source": [
        "## Build Text Tokenizer"
      ],
      "metadata": {
        "id": "lIZcWXWd2xhQ"
      }
    },
    {
      "cell_type": "code",
      "execution_count": 11,
      "metadata": {
        "id": "6mM63MSReDL1"
      },
      "outputs": [],
      "source": [
        "VOCAB_SIZE = 1200\n",
        "encoder = tf.keras.layers.TextVectorization(\n",
        "    max_tokens=VOCAB_SIZE)\n",
        "encoder.adapt(X_train)"
      ]
    },
    {
      "cell_type": "code",
      "execution_count": 12,
      "metadata": {
        "id": "2mtDb4lwipJ8",
        "colab": {
          "base_uri": "https://localhost:8080/"
        },
        "outputId": "0f6699a6-028d-4f4d-a79e-cf60d9c468c3"
      },
      "outputs": [
        {
          "output_type": "execute_result",
          "data": {
            "text/plain": [
              "1200"
            ]
          },
          "metadata": {},
          "execution_count": 12
        }
      ],
      "source": [
        "len(encoder.get_vocabulary())"
      ]
    },
    {
      "cell_type": "markdown",
      "source": [
        "## Creating Model Architecture"
      ],
      "metadata": {
        "id": "X2BmtjrM2DMP"
      }
    },
    {
      "cell_type": "code",
      "execution_count": 13,
      "metadata": {
        "id": "cvvuitMdQwG9"
      },
      "outputs": [],
      "source": [
        "lstm = tf.keras.Sequential([\n",
        "    tf.keras.layers.Input(shape=(), dtype = \"string\"),\n",
        "    encoder,\n",
        "    tf.keras.layers.Embedding(\n",
        "        input_dim=len(encoder.get_vocabulary()),\n",
        "        output_dim=100,\n",
        "        # Use masking to handle the variable sequence lengths\n",
        "        mask_zero=True),\n",
        "    tf.keras.layers.LSTM(64),\n",
        "    tf.keras.layers.Dense(32, activation='relu'),\n",
        "    tf.keras.layers.Dropout(0.2),\n",
        "    tf.keras.layers.Dense(2, activation='sigmoid'),\n",
        "])\n",
        "\n",
        "bi_lstm = tf.keras.Sequential([\n",
        "    tf.keras.layers.Input(shape=(), dtype = \"string\"),\n",
        "    encoder,\n",
        "    tf.keras.layers.Embedding(\n",
        "        input_dim=len(encoder.get_vocabulary()),\n",
        "        output_dim=100,\n",
        "        # Use masking to handle the variable sequence lengths\n",
        "        mask_zero=True),\n",
        "    tf.keras.layers.Bidirectional(tf.keras.layers.LSTM(64)),\n",
        "    tf.keras.layers.Dense(32, activation='relu'),\n",
        "    tf.keras.layers.Dropout(0.2),\n",
        "    tf.keras.layers.Dense(2, activation='sigmoid'),\n",
        "])\n",
        "\n",
        "stacked_bi_lstm = tf.keras.Sequential([\n",
        "    tf.keras.layers.Input(shape=(), dtype = \"string\"),\n",
        "    encoder,\n",
        "    tf.keras.layers.Embedding(\n",
        "        input_dim=len(encoder.get_vocabulary()),\n",
        "        output_dim=100,\n",
        "        # Use masking to handle the variable sequence lengths\n",
        "        mask_zero=True),\n",
        "    tf.keras.layers.Bidirectional(tf.keras.layers.LSTM(64, return_sequences = True)),\n",
        "    tf.keras.layers.Bidirectional(tf.keras.layers.LSTM(64)),\n",
        "    tf.keras.layers.Dense(32, activation='relu'),\n",
        "    tf.keras.layers.Dropout(0.2),\n",
        "    tf.keras.layers.Dense(2, activation='sigmoid'),\n",
        "])\n",
        "\n",
        "gru = tf.keras.Sequential([\n",
        "    tf.keras.layers.Input(shape=(), dtype = \"string\"),\n",
        "    encoder,\n",
        "    tf.keras.layers.Embedding(\n",
        "        input_dim=len(encoder.get_vocabulary()),\n",
        "        output_dim=100,\n",
        "        # Use masking to handle the variable sequence lengths\n",
        "        mask_zero=True),\n",
        "    tf.keras.layers.GRU(64),\n",
        "    tf.keras.layers.Dense(32, activation='relu'),\n",
        "    tf.keras.layers.Dropout(0.2),\n",
        "    tf.keras.layers.Dense(2, activation='sigmoid'),\n",
        "])\n",
        "\n",
        "bi_gru= tf.keras.Sequential([\n",
        "    tf.keras.layers.Input(shape=(), dtype = \"string\"),\n",
        "    encoder,\n",
        "    tf.keras.layers.Embedding(\n",
        "        input_dim=len(encoder.get_vocabulary()),\n",
        "        output_dim=100,\n",
        "        # Use masking to handle the variable sequence lengths\n",
        "        mask_zero=True),\n",
        "    tf.keras.layers.Bidirectional(tf.keras.layers.GRU(64)),\n",
        "    tf.keras.layers.Dense(32, activation='relu'),\n",
        "    tf.keras.layers.Dropout(0.2),\n",
        "    tf.keras.layers.Dense(2, activation='sigmoid'),\n",
        "])\n",
        "\n",
        "stacked_bi_gru = tf.keras.Sequential([\n",
        "    tf.keras.layers.Input(shape=(), dtype = \"string\"),\n",
        "    encoder,\n",
        "    tf.keras.layers.Embedding(\n",
        "        input_dim=len(encoder.get_vocabulary()),\n",
        "        output_dim=100,\n",
        "        # Use masking to handle the variable sequence lengths\n",
        "        mask_zero=True),\n",
        "    tf.keras.layers.Bidirectional(tf.keras.layers.GRU(64, return_sequences = True)),\n",
        "    tf.keras.layers.Bidirectional(tf.keras.layers.GRU(64)),\n",
        "    tf.keras.layers.Dense(32, activation='relu'),\n",
        "    tf.keras.layers.Dropout(0.2),\n",
        "    tf.keras.layers.Dense(2, activation='sigmoid'),\n",
        "])"
      ]
    },
    {
      "cell_type": "markdown",
      "source": [
        "## Model Compiling"
      ],
      "metadata": {
        "id": "Kj_eJv9L2G_W"
      }
    },
    {
      "cell_type": "code",
      "execution_count": 14,
      "metadata": {
        "id": "WZt4kLBZdYT4"
      },
      "outputs": [],
      "source": [
        "lstm.compile(\n",
        "    optimizer = tf.keras.optimizers.Adam(learning_rate = 0.00003),\n",
        "    loss = tf.keras.losses.BinaryCrossentropy(),\n",
        "    metrics = tf.keras.metrics.BinaryAccuracy(),\n",
        ")\n",
        "\n",
        "\n",
        "bi_lstm.compile(\n",
        "    optimizer = tf.keras.optimizers.Adam(learning_rate = 0.00003),\n",
        "    loss = tf.keras.losses.BinaryCrossentropy(),\n",
        "    metrics = tf.keras.metrics.BinaryAccuracy(),\n",
        ")\n",
        "\n",
        "\n",
        "\n",
        "stacked_bi_lstm.compile(\n",
        "    optimizer = tf.keras.optimizers.Adam(learning_rate = 0.00003),\n",
        "    loss = tf.keras.losses.BinaryCrossentropy(),\n",
        "    metrics = tf.keras.metrics.BinaryAccuracy(),\n",
        ")\n",
        "\n",
        "\n",
        "\n",
        "gru.compile(\n",
        "    optimizer = tf.keras.optimizers.Adam(learning_rate = 0.00003),\n",
        "    loss = tf.keras.losses.BinaryCrossentropy(),\n",
        "    metrics = tf.keras.metrics.BinaryAccuracy(),\n",
        ")\n",
        "\n",
        "\n",
        "\n",
        "bi_gru.compile(\n",
        "    optimizer = tf.keras.optimizers.Adam(learning_rate = 0.00003),\n",
        "    loss = tf.keras.losses.BinaryCrossentropy(),\n",
        "    metrics = tf.keras.metrics.BinaryAccuracy(),\n",
        ")\n",
        "\n",
        "\n",
        "stacked_bi_gru.compile(\n",
        "    optimizer = tf.keras.optimizers.Adam(learning_rate = 0.00003),\n",
        "    loss = tf.keras.losses.BinaryCrossentropy(),\n",
        "    metrics = tf.keras.metrics.BinaryAccuracy(),\n",
        ")\n"
      ]
    },
    {
      "cell_type": "markdown",
      "source": [
        "## Model Training"
      ],
      "metadata": {
        "id": "TgUoRqSTFvsK"
      }
    },
    {
      "cell_type": "code",
      "source": [
        "lstm.fit(\n",
        "    x = X_train,\n",
        "    y = y_train,\n",
        "    batch_size = 16,\n",
        "    validation_data = (X_test, y_test),\n",
        "    epochs = 25,\n",
        ")"
      ],
      "metadata": {
        "colab": {
          "base_uri": "https://localhost:8080/"
        },
        "id": "oJdtNTKiXIa9",
        "outputId": "9aaf8741-3625-4cdd-c3b1-027f72bfc840"
      },
      "execution_count": 15,
      "outputs": [
        {
          "output_type": "stream",
          "name": "stdout",
          "text": [
            "Epoch 1/25\n",
            "85/85 [==============================] - 29s 183ms/step - loss: 0.6914 - binary_accuracy: 0.6087 - val_loss: 0.6894 - val_binary_accuracy: 0.6799\n",
            "Epoch 2/25\n",
            "85/85 [==============================] - 7s 81ms/step - loss: 0.6865 - binary_accuracy: 0.6886 - val_loss: 0.6838 - val_binary_accuracy: 0.6726\n",
            "Epoch 3/25\n",
            "85/85 [==============================] - 5s 60ms/step - loss: 0.6774 - binary_accuracy: 0.6927 - val_loss: 0.6713 - val_binary_accuracy: 0.6711\n",
            "Epoch 4/25\n",
            "85/85 [==============================] - 3s 31ms/step - loss: 0.6434 - binary_accuracy: 0.6930 - val_loss: 0.5966 - val_binary_accuracy: 0.6711\n",
            "Epoch 5/25\n",
            "85/85 [==============================] - 2s 19ms/step - loss: 0.5568 - binary_accuracy: 0.6930 - val_loss: 0.5485 - val_binary_accuracy: 0.6711\n",
            "Epoch 6/25\n",
            "85/85 [==============================] - 3s 30ms/step - loss: 0.5365 - binary_accuracy: 0.6960 - val_loss: 0.5350 - val_binary_accuracy: 0.6844\n",
            "Epoch 7/25\n",
            "85/85 [==============================] - 2s 23ms/step - loss: 0.5236 - binary_accuracy: 0.7067 - val_loss: 0.5206 - val_binary_accuracy: 0.6976\n",
            "Epoch 8/25\n",
            "85/85 [==============================] - 3s 39ms/step - loss: 0.5051 - binary_accuracy: 0.7252 - val_loss: 0.5048 - val_binary_accuracy: 0.7227\n",
            "Epoch 9/25\n",
            "85/85 [==============================] - 1s 15ms/step - loss: 0.4945 - binary_accuracy: 0.7570 - val_loss: 0.4888 - val_binary_accuracy: 0.7611\n",
            "Epoch 10/25\n",
            "85/85 [==============================] - 1s 14ms/step - loss: 0.4765 - binary_accuracy: 0.7859 - val_loss: 0.4735 - val_binary_accuracy: 0.8009\n",
            "Epoch 11/25\n",
            "85/85 [==============================] - 1s 16ms/step - loss: 0.4618 - binary_accuracy: 0.8129 - val_loss: 0.4597 - val_binary_accuracy: 0.8245\n",
            "Epoch 12/25\n",
            "85/85 [==============================] - 2s 26ms/step - loss: 0.4508 - binary_accuracy: 0.8391 - val_loss: 0.4446 - val_binary_accuracy: 0.8525\n",
            "Epoch 13/25\n",
            "85/85 [==============================] - 1s 13ms/step - loss: 0.4364 - binary_accuracy: 0.8602 - val_loss: 0.4284 - val_binary_accuracy: 0.8687\n",
            "Epoch 14/25\n",
            "85/85 [==============================] - 2s 19ms/step - loss: 0.4223 - binary_accuracy: 0.8695 - val_loss: 0.4097 - val_binary_accuracy: 0.8894\n",
            "Epoch 15/25\n",
            "85/85 [==============================] - 2s 20ms/step - loss: 0.4069 - binary_accuracy: 0.8765 - val_loss: 0.3954 - val_binary_accuracy: 0.8997\n",
            "Epoch 16/25\n",
            "85/85 [==============================] - 2s 27ms/step - loss: 0.3926 - binary_accuracy: 0.8861 - val_loss: 0.3852 - val_binary_accuracy: 0.9115\n",
            "Epoch 17/25\n",
            "85/85 [==============================] - 2s 22ms/step - loss: 0.3804 - binary_accuracy: 0.8916 - val_loss: 0.3761 - val_binary_accuracy: 0.9056\n",
            "Epoch 18/25\n",
            "85/85 [==============================] - 2s 21ms/step - loss: 0.3632 - binary_accuracy: 0.8990 - val_loss: 0.3739 - val_binary_accuracy: 0.8997\n",
            "Epoch 19/25\n",
            "85/85 [==============================] - 1s 16ms/step - loss: 0.3535 - binary_accuracy: 0.9038 - val_loss: 0.3695 - val_binary_accuracy: 0.8968\n",
            "Epoch 20/25\n",
            "85/85 [==============================] - 1s 11ms/step - loss: 0.3468 - binary_accuracy: 0.9061 - val_loss: 0.3660 - val_binary_accuracy: 0.8982\n",
            "Epoch 21/25\n",
            "85/85 [==============================] - 1s 13ms/step - loss: 0.3372 - binary_accuracy: 0.9064 - val_loss: 0.3634 - val_binary_accuracy: 0.8982\n",
            "Epoch 22/25\n",
            "85/85 [==============================] - 1s 12ms/step - loss: 0.3329 - binary_accuracy: 0.9064 - val_loss: 0.3584 - val_binary_accuracy: 0.9012\n",
            "Epoch 23/25\n",
            "85/85 [==============================] - 1s 17ms/step - loss: 0.3250 - binary_accuracy: 0.9098 - val_loss: 0.3558 - val_binary_accuracy: 0.8982\n",
            "Epoch 24/25\n",
            "85/85 [==============================] - 1s 14ms/step - loss: 0.3289 - binary_accuracy: 0.9083 - val_loss: 0.3533 - val_binary_accuracy: 0.9012\n",
            "Epoch 25/25\n",
            "85/85 [==============================] - 2s 20ms/step - loss: 0.3220 - binary_accuracy: 0.9094 - val_loss: 0.3501 - val_binary_accuracy: 0.9027\n"
          ]
        },
        {
          "output_type": "execute_result",
          "data": {
            "text/plain": [
              "<keras.callbacks.History at 0x7f62c175a6e0>"
            ]
          },
          "metadata": {},
          "execution_count": 15
        }
      ]
    },
    {
      "cell_type": "code",
      "source": [
        "bi_lstm.fit(\n",
        "    x = X_train,\n",
        "    y = y_train,\n",
        "    batch_size = 16,\n",
        "    validation_data = (X_test, y_test),\n",
        "    epochs = 25,\n",
        ")"
      ],
      "metadata": {
        "id": "fouKNe-6XIjy",
        "colab": {
          "base_uri": "https://localhost:8080/"
        },
        "outputId": "10e6b8aa-5f6e-49f7-cefd-f313271551bc"
      },
      "execution_count": 16,
      "outputs": [
        {
          "output_type": "stream",
          "name": "stdout",
          "text": [
            "Epoch 1/25\n",
            "85/85 [==============================] - 23s 158ms/step - loss: 0.6905 - binary_accuracy: 0.6379 - val_loss: 0.6883 - val_binary_accuracy: 0.6681\n",
            "Epoch 2/25\n",
            "85/85 [==============================] - 9s 100ms/step - loss: 0.6829 - binary_accuracy: 0.7004 - val_loss: 0.6789 - val_binary_accuracy: 0.6711\n",
            "Epoch 3/25\n",
            "85/85 [==============================] - 4s 43ms/step - loss: 0.6679 - binary_accuracy: 0.6930 - val_loss: 0.6566 - val_binary_accuracy: 0.6711\n",
            "Epoch 4/25\n",
            "85/85 [==============================] - 3s 37ms/step - loss: 0.6090 - binary_accuracy: 0.6934 - val_loss: 0.5652 - val_binary_accuracy: 0.6711\n",
            "Epoch 5/25\n",
            "85/85 [==============================] - 2s 26ms/step - loss: 0.5554 - binary_accuracy: 0.6934 - val_loss: 0.5480 - val_binary_accuracy: 0.6711\n",
            "Epoch 6/25\n",
            "85/85 [==============================] - 3s 41ms/step - loss: 0.5345 - binary_accuracy: 0.6990 - val_loss: 0.5307 - val_binary_accuracy: 0.6799\n",
            "Epoch 7/25\n",
            "85/85 [==============================] - 3s 30ms/step - loss: 0.5126 - binary_accuracy: 0.7064 - val_loss: 0.5131 - val_binary_accuracy: 0.7021\n",
            "Epoch 8/25\n",
            "85/85 [==============================] - 3s 30ms/step - loss: 0.4974 - binary_accuracy: 0.7289 - val_loss: 0.4931 - val_binary_accuracy: 0.7271\n",
            "Epoch 9/25\n",
            "85/85 [==============================] - 2s 22ms/step - loss: 0.4775 - binary_accuracy: 0.7504 - val_loss: 0.4732 - val_binary_accuracy: 0.7522\n",
            "Epoch 10/25\n",
            "85/85 [==============================] - 2s 24ms/step - loss: 0.4546 - binary_accuracy: 0.7896 - val_loss: 0.4535 - val_binary_accuracy: 0.7891\n",
            "Epoch 11/25\n",
            "85/85 [==============================] - 2s 21ms/step - loss: 0.4380 - binary_accuracy: 0.8173 - val_loss: 0.4362 - val_binary_accuracy: 0.8245\n",
            "Epoch 12/25\n",
            "85/85 [==============================] - 3s 35ms/step - loss: 0.4191 - binary_accuracy: 0.8458 - val_loss: 0.4164 - val_binary_accuracy: 0.8525\n",
            "Epoch 13/25\n",
            "85/85 [==============================] - 2s 27ms/step - loss: 0.4001 - binary_accuracy: 0.8635 - val_loss: 0.3972 - val_binary_accuracy: 0.8717\n",
            "Epoch 14/25\n",
            "85/85 [==============================] - 2s 19ms/step - loss: 0.3825 - binary_accuracy: 0.8732 - val_loss: 0.3818 - val_binary_accuracy: 0.8923\n",
            "Epoch 15/25\n",
            "85/85 [==============================] - 2s 24ms/step - loss: 0.3644 - binary_accuracy: 0.8831 - val_loss: 0.3661 - val_binary_accuracy: 0.8953\n",
            "Epoch 16/25\n",
            "85/85 [==============================] - 2s 23ms/step - loss: 0.3513 - binary_accuracy: 0.8902 - val_loss: 0.3509 - val_binary_accuracy: 0.9056\n",
            "Epoch 17/25\n",
            "85/85 [==============================] - 2s 19ms/step - loss: 0.3333 - binary_accuracy: 0.8950 - val_loss: 0.3362 - val_binary_accuracy: 0.9100\n",
            "Epoch 18/25\n",
            "85/85 [==============================] - 1s 17ms/step - loss: 0.3184 - binary_accuracy: 0.9038 - val_loss: 0.3223 - val_binary_accuracy: 0.9100\n",
            "Epoch 19/25\n",
            "85/85 [==============================] - 2s 28ms/step - loss: 0.3042 - binary_accuracy: 0.9027 - val_loss: 0.3092 - val_binary_accuracy: 0.9100\n",
            "Epoch 20/25\n",
            "85/85 [==============================] - 3s 32ms/step - loss: 0.2915 - binary_accuracy: 0.9101 - val_loss: 0.2979 - val_binary_accuracy: 0.9130\n",
            "Epoch 21/25\n",
            "85/85 [==============================] - 2s 21ms/step - loss: 0.2745 - binary_accuracy: 0.9127 - val_loss: 0.2877 - val_binary_accuracy: 0.9130\n",
            "Epoch 22/25\n",
            "85/85 [==============================] - 2s 20ms/step - loss: 0.2628 - binary_accuracy: 0.9168 - val_loss: 0.2809 - val_binary_accuracy: 0.9071\n",
            "Epoch 23/25\n",
            "85/85 [==============================] - 1s 17ms/step - loss: 0.2498 - binary_accuracy: 0.9205 - val_loss: 0.2750 - val_binary_accuracy: 0.9071\n",
            "Epoch 24/25\n",
            "85/85 [==============================] - 2s 21ms/step - loss: 0.2351 - binary_accuracy: 0.9260 - val_loss: 0.2731 - val_binary_accuracy: 0.9189\n",
            "Epoch 25/25\n",
            "85/85 [==============================] - 2s 22ms/step - loss: 0.2266 - binary_accuracy: 0.9316 - val_loss: 0.2692 - val_binary_accuracy: 0.9159\n"
          ]
        },
        {
          "output_type": "execute_result",
          "data": {
            "text/plain": [
              "<keras.callbacks.History at 0x7f62b97c84f0>"
            ]
          },
          "metadata": {},
          "execution_count": 16
        }
      ]
    },
    {
      "cell_type": "code",
      "source": [
        "stacked_bi_lstm.fit(\n",
        "    x = X_train,\n",
        "    y = y_train,\n",
        "    batch_size = 16,\n",
        "    validation_data = (X_test, y_test),\n",
        "    epochs = 25,\n",
        ")"
      ],
      "metadata": {
        "id": "I3Jl6uUBXIxV",
        "colab": {
          "base_uri": "https://localhost:8080/"
        },
        "outputId": "57d46fdf-0ed1-4cff-8e51-ca8658f061c6"
      },
      "execution_count": 17,
      "outputs": [
        {
          "output_type": "stream",
          "name": "stdout",
          "text": [
            "Epoch 1/25\n",
            "85/85 [==============================] - 36s 216ms/step - loss: 0.6902 - binary_accuracy: 0.6165 - val_loss: 0.6864 - val_binary_accuracy: 0.6696\n",
            "Epoch 2/25\n",
            "85/85 [==============================] - 7s 77ms/step - loss: 0.6748 - binary_accuracy: 0.6723 - val_loss: 0.6618 - val_binary_accuracy: 0.6711\n",
            "Epoch 3/25\n",
            "85/85 [==============================] - 5s 63ms/step - loss: 0.6090 - binary_accuracy: 0.6675 - val_loss: 0.5790 - val_binary_accuracy: 0.6711\n",
            "Epoch 4/25\n",
            "85/85 [==============================] - 5s 61ms/step - loss: 0.5490 - binary_accuracy: 0.6882 - val_loss: 0.5546 - val_binary_accuracy: 0.6711\n",
            "Epoch 5/25\n",
            "85/85 [==============================] - 4s 46ms/step - loss: 0.5231 - binary_accuracy: 0.6905 - val_loss: 0.5313 - val_binary_accuracy: 0.6726\n",
            "Epoch 6/25\n",
            "85/85 [==============================] - 4s 42ms/step - loss: 0.5002 - binary_accuracy: 0.7001 - val_loss: 0.5021 - val_binary_accuracy: 0.7006\n",
            "Epoch 7/25\n",
            "85/85 [==============================] - 5s 56ms/step - loss: 0.4712 - binary_accuracy: 0.7541 - val_loss: 0.4685 - val_binary_accuracy: 0.7802\n",
            "Epoch 8/25\n",
            "85/85 [==============================] - 3s 41ms/step - loss: 0.4371 - binary_accuracy: 0.8236 - val_loss: 0.4349 - val_binary_accuracy: 0.8451\n",
            "Epoch 9/25\n",
            "85/85 [==============================] - 3s 35ms/step - loss: 0.4050 - binary_accuracy: 0.8680 - val_loss: 0.3983 - val_binary_accuracy: 0.8923\n",
            "Epoch 10/25\n",
            "85/85 [==============================] - 3s 31ms/step - loss: 0.3704 - binary_accuracy: 0.8876 - val_loss: 0.3663 - val_binary_accuracy: 0.9041\n",
            "Epoch 11/25\n",
            "85/85 [==============================] - 3s 39ms/step - loss: 0.3424 - binary_accuracy: 0.8953 - val_loss: 0.3411 - val_binary_accuracy: 0.9071\n",
            "Epoch 12/25\n",
            "85/85 [==============================] - 4s 47ms/step - loss: 0.3168 - binary_accuracy: 0.9016 - val_loss: 0.3241 - val_binary_accuracy: 0.9071\n",
            "Epoch 13/25\n",
            "85/85 [==============================] - 3s 35ms/step - loss: 0.3075 - binary_accuracy: 0.9031 - val_loss: 0.3097 - val_binary_accuracy: 0.9100\n",
            "Epoch 14/25\n",
            "85/85 [==============================] - 3s 39ms/step - loss: 0.2891 - binary_accuracy: 0.9090 - val_loss: 0.2994 - val_binary_accuracy: 0.9071\n",
            "Epoch 15/25\n",
            "85/85 [==============================] - 3s 31ms/step - loss: 0.2691 - binary_accuracy: 0.9131 - val_loss: 0.2910 - val_binary_accuracy: 0.9086\n",
            "Epoch 16/25\n",
            "85/85 [==============================] - 5s 57ms/step - loss: 0.2546 - binary_accuracy: 0.9161 - val_loss: 0.2833 - val_binary_accuracy: 0.9100\n",
            "Epoch 17/25\n",
            "85/85 [==============================] - 3s 32ms/step - loss: 0.2454 - binary_accuracy: 0.9194 - val_loss: 0.2780 - val_binary_accuracy: 0.9100\n",
            "Epoch 18/25\n",
            "85/85 [==============================] - 3s 33ms/step - loss: 0.2362 - binary_accuracy: 0.9223 - val_loss: 0.2713 - val_binary_accuracy: 0.9145\n",
            "Epoch 19/25\n",
            "85/85 [==============================] - 3s 37ms/step - loss: 0.2274 - binary_accuracy: 0.9246 - val_loss: 0.2670 - val_binary_accuracy: 0.9159\n",
            "Epoch 20/25\n",
            "85/85 [==============================] - 4s 48ms/step - loss: 0.2178 - binary_accuracy: 0.9246 - val_loss: 0.2605 - val_binary_accuracy: 0.9159\n",
            "Epoch 21/25\n",
            "85/85 [==============================] - 3s 37ms/step - loss: 0.2080 - binary_accuracy: 0.9316 - val_loss: 0.2604 - val_binary_accuracy: 0.9115\n",
            "Epoch 22/25\n",
            "85/85 [==============================] - 3s 35ms/step - loss: 0.2011 - binary_accuracy: 0.9349 - val_loss: 0.2544 - val_binary_accuracy: 0.9145\n",
            "Epoch 23/25\n",
            "85/85 [==============================] - 3s 30ms/step - loss: 0.1886 - binary_accuracy: 0.9445 - val_loss: 0.2559 - val_binary_accuracy: 0.9086\n",
            "Epoch 24/25\n",
            "85/85 [==============================] - 3s 30ms/step - loss: 0.1754 - binary_accuracy: 0.9475 - val_loss: 0.2555 - val_binary_accuracy: 0.9086\n",
            "Epoch 25/25\n",
            "85/85 [==============================] - 4s 52ms/step - loss: 0.1680 - binary_accuracy: 0.9527 - val_loss: 0.2538 - val_binary_accuracy: 0.9159\n"
          ]
        },
        {
          "output_type": "execute_result",
          "data": {
            "text/plain": [
              "<keras.callbacks.History at 0x7f62aed94970>"
            ]
          },
          "metadata": {},
          "execution_count": 17
        }
      ]
    },
    {
      "cell_type": "code",
      "source": [
        "gru.fit(\n",
        "    x = X_train,\n",
        "    y = y_train,\n",
        "    batch_size = 16,\n",
        "    validation_data = (X_test, y_test),\n",
        "    epochs = 25,\n",
        ")"
      ],
      "metadata": {
        "id": "qyZu_OFWXI6Z",
        "colab": {
          "base_uri": "https://localhost:8080/"
        },
        "outputId": "b58d6b8c-0ecc-4638-fc3c-08a42125857c"
      },
      "execution_count": 18,
      "outputs": [
        {
          "output_type": "stream",
          "name": "stdout",
          "text": [
            "Epoch 1/25\n",
            "85/85 [==============================] - 17s 149ms/step - loss: 0.6917 - binary_accuracy: 0.5695 - val_loss: 0.6897 - val_binary_accuracy: 0.6490\n",
            "Epoch 2/25\n",
            "85/85 [==============================] - 5s 61ms/step - loss: 0.6868 - binary_accuracy: 0.6686 - val_loss: 0.6850 - val_binary_accuracy: 0.6740\n",
            "Epoch 3/25\n",
            "85/85 [==============================] - 4s 50ms/step - loss: 0.6800 - binary_accuracy: 0.6930 - val_loss: 0.6782 - val_binary_accuracy: 0.6711\n",
            "Epoch 4/25\n",
            "85/85 [==============================] - 2s 27ms/step - loss: 0.6715 - binary_accuracy: 0.6927 - val_loss: 0.6685 - val_binary_accuracy: 0.6711\n",
            "Epoch 5/25\n",
            "85/85 [==============================] - 2s 23ms/step - loss: 0.6577 - binary_accuracy: 0.6908 - val_loss: 0.6546 - val_binary_accuracy: 0.6711\n",
            "Epoch 6/25\n",
            "85/85 [==============================] - 2s 20ms/step - loss: 0.6347 - binary_accuracy: 0.6919 - val_loss: 0.6305 - val_binary_accuracy: 0.6711\n",
            "Epoch 7/25\n",
            "85/85 [==============================] - 2s 21ms/step - loss: 0.6000 - binary_accuracy: 0.6905 - val_loss: 0.5853 - val_binary_accuracy: 0.6711\n",
            "Epoch 8/25\n",
            "85/85 [==============================] - 1s 13ms/step - loss: 0.5451 - binary_accuracy: 0.6916 - val_loss: 0.5535 - val_binary_accuracy: 0.6711\n",
            "Epoch 9/25\n",
            "85/85 [==============================] - 1s 17ms/step - loss: 0.5192 - binary_accuracy: 0.6923 - val_loss: 0.5319 - val_binary_accuracy: 0.6711\n",
            "Epoch 10/25\n",
            "85/85 [==============================] - 2s 25ms/step - loss: 0.4967 - binary_accuracy: 0.6934 - val_loss: 0.5099 - val_binary_accuracy: 0.6799\n",
            "Epoch 11/25\n",
            "85/85 [==============================] - 2s 22ms/step - loss: 0.4813 - binary_accuracy: 0.7045 - val_loss: 0.4899 - val_binary_accuracy: 0.6947\n",
            "Epoch 12/25\n",
            "85/85 [==============================] - 2s 18ms/step - loss: 0.4519 - binary_accuracy: 0.7337 - val_loss: 0.4674 - val_binary_accuracy: 0.7257\n",
            "Epoch 13/25\n",
            "85/85 [==============================] - 1s 16ms/step - loss: 0.4341 - binary_accuracy: 0.7596 - val_loss: 0.4494 - val_binary_accuracy: 0.7611\n",
            "Epoch 14/25\n",
            "85/85 [==============================] - 2s 18ms/step - loss: 0.4192 - binary_accuracy: 0.7918 - val_loss: 0.4322 - val_binary_accuracy: 0.7861\n",
            "Epoch 15/25\n",
            "85/85 [==============================] - 1s 15ms/step - loss: 0.4127 - binary_accuracy: 0.8206 - val_loss: 0.4190 - val_binary_accuracy: 0.8127\n",
            "Epoch 16/25\n",
            "85/85 [==============================] - 1s 13ms/step - loss: 0.3978 - binary_accuracy: 0.8432 - val_loss: 0.4068 - val_binary_accuracy: 0.8392\n",
            "Epoch 17/25\n",
            "85/85 [==============================] - 1s 15ms/step - loss: 0.3834 - binary_accuracy: 0.8561 - val_loss: 0.3967 - val_binary_accuracy: 0.8658\n",
            "Epoch 18/25\n",
            "85/85 [==============================] - 1s 16ms/step - loss: 0.3753 - binary_accuracy: 0.8720 - val_loss: 0.3846 - val_binary_accuracy: 0.8746\n",
            "Epoch 19/25\n",
            "85/85 [==============================] - 1s 12ms/step - loss: 0.3591 - binary_accuracy: 0.8765 - val_loss: 0.3747 - val_binary_accuracy: 0.8791\n",
            "Epoch 20/25\n",
            "85/85 [==============================] - 2s 25ms/step - loss: 0.3465 - binary_accuracy: 0.8861 - val_loss: 0.3615 - val_binary_accuracy: 0.8879\n",
            "Epoch 21/25\n",
            "85/85 [==============================] - 2s 25ms/step - loss: 0.3332 - binary_accuracy: 0.8916 - val_loss: 0.3493 - val_binary_accuracy: 0.8953\n",
            "Epoch 22/25\n",
            "85/85 [==============================] - 1s 13ms/step - loss: 0.3199 - binary_accuracy: 0.8950 - val_loss: 0.3368 - val_binary_accuracy: 0.9056\n",
            "Epoch 23/25\n",
            "85/85 [==============================] - 1s 15ms/step - loss: 0.3116 - binary_accuracy: 0.8983 - val_loss: 0.3264 - val_binary_accuracy: 0.9115\n",
            "Epoch 24/25\n",
            "85/85 [==============================] - 1s 17ms/step - loss: 0.2993 - binary_accuracy: 0.9016 - val_loss: 0.3165 - val_binary_accuracy: 0.9115\n",
            "Epoch 25/25\n",
            "85/85 [==============================] - 1s 16ms/step - loss: 0.2897 - binary_accuracy: 0.9079 - val_loss: 0.3072 - val_binary_accuracy: 0.9071\n"
          ]
        },
        {
          "output_type": "execute_result",
          "data": {
            "text/plain": [
              "<keras.callbacks.History at 0x7f62a4d92230>"
            ]
          },
          "metadata": {},
          "execution_count": 18
        }
      ]
    },
    {
      "cell_type": "code",
      "source": [
        "bi_gru.fit(\n",
        "    x = X_train,\n",
        "    y = y_train,\n",
        "    batch_size = 16,\n",
        "    validation_data = (X_test, y_test),\n",
        "    epochs = 25,\n",
        ")"
      ],
      "metadata": {
        "id": "cPhlEtsiXJA_",
        "colab": {
          "base_uri": "https://localhost:8080/"
        },
        "outputId": "0a5c9e99-8d18-466f-e808-7743bd9a100a"
      },
      "execution_count": null,
      "outputs": [
        {
          "output_type": "stream",
          "name": "stdout",
          "text": [
            "Epoch 1/25\n",
            "85/85 [==============================] - 23s 153ms/step - loss: 0.6914 - binary_accuracy: 0.5411 - val_loss: 0.6887 - val_binary_accuracy: 0.6150\n",
            "Epoch 2/25\n",
            "85/85 [==============================] - 6s 67ms/step - loss: 0.6833 - binary_accuracy: 0.6697 - val_loss: 0.6811 - val_binary_accuracy: 0.6785\n",
            "Epoch 3/25\n",
            "85/85 [==============================] - 4s 44ms/step - loss: 0.6727 - binary_accuracy: 0.6882 - val_loss: 0.6710 - val_binary_accuracy: 0.6726\n",
            "Epoch 4/25\n",
            "85/85 [==============================] - 4s 45ms/step - loss: 0.6591 - binary_accuracy: 0.6901 - val_loss: 0.6580 - val_binary_accuracy: 0.6711\n",
            "Epoch 5/25\n",
            "85/85 [==============================] - 3s 32ms/step - loss: 0.6409 - binary_accuracy: 0.6934 - val_loss: 0.6399 - val_binary_accuracy: 0.6711\n",
            "Epoch 6/25\n",
            "85/85 [==============================] - 2s 26ms/step - loss: 0.6176 - binary_accuracy: 0.6964 - val_loss: 0.6147 - val_binary_accuracy: 0.6711\n",
            "Epoch 7/25\n",
            "85/85 [==============================] - 2s 24ms/step - loss: 0.5848 - binary_accuracy: 0.6916 - val_loss: 0.5823 - val_binary_accuracy: 0.6711\n",
            "Epoch 8/25\n",
            "85/85 [==============================] - 3s 30ms/step - loss: 0.5448 - binary_accuracy: 0.6923 - val_loss: 0.5500 - val_binary_accuracy: 0.6711\n",
            "Epoch 9/25\n",
            "85/85 [==============================] - 4s 42ms/step - loss: 0.5130 - binary_accuracy: 0.6949 - val_loss: 0.5177 - val_binary_accuracy: 0.6829\n",
            "Epoch 10/25\n",
            "85/85 [==============================] - 3s 33ms/step - loss: 0.4815 - binary_accuracy: 0.7163 - val_loss: 0.4878 - val_binary_accuracy: 0.7035\n",
            "Epoch 11/25\n",
            "85/85 [==============================] - 2s 28ms/step - loss: 0.4550 - binary_accuracy: 0.7404 - val_loss: 0.4596 - val_binary_accuracy: 0.7419\n",
            "Epoch 12/25\n",
            "85/85 [==============================] - 2s 19ms/step - loss: 0.4277 - binary_accuracy: 0.7744 - val_loss: 0.4353 - val_binary_accuracy: 0.7758\n",
            "Epoch 13/25\n",
            "85/85 [==============================] - 2s 19ms/step - loss: 0.4054 - binary_accuracy: 0.8132 - val_loss: 0.4138 - val_binary_accuracy: 0.8156\n",
            "Epoch 14/25\n",
            "85/85 [==============================] - 2s 23ms/step - loss: 0.3849 - binary_accuracy: 0.8413 - val_loss: 0.3929 - val_binary_accuracy: 0.8437\n",
            "Epoch 15/25\n",
            "85/85 [==============================] - 3s 34ms/step - loss: 0.3683 - binary_accuracy: 0.8613 - val_loss: 0.3748 - val_binary_accuracy: 0.8673\n",
            "Epoch 16/25\n",
            "85/85 [==============================] - 3s 33ms/step - loss: 0.3546 - binary_accuracy: 0.8791 - val_loss: 0.3604 - val_binary_accuracy: 0.8982\n",
            "Epoch 17/25\n",
            "85/85 [==============================] - 2s 18ms/step - loss: 0.3377 - binary_accuracy: 0.8891 - val_loss: 0.3432 - val_binary_accuracy: 0.9027\n",
            "Epoch 18/25\n",
            "85/85 [==============================] - 2s 21ms/step - loss: 0.3214 - binary_accuracy: 0.8987 - val_loss: 0.3280 - val_binary_accuracy: 0.9100\n",
            "Epoch 19/25\n",
            "85/85 [==============================] - 1s 17ms/step - loss: 0.3043 - binary_accuracy: 0.9050 - val_loss: 0.3131 - val_binary_accuracy: 0.9145\n",
            "Epoch 20/25\n",
            "85/85 [==============================] - 2s 19ms/step - loss: 0.2928 - binary_accuracy: 0.9042 - val_loss: 0.3003 - val_binary_accuracy: 0.9145\n",
            "Epoch 21/25\n",
            "85/85 [==============================] - 2s 19ms/step - loss: 0.2777 - binary_accuracy: 0.9116 - val_loss: 0.2882 - val_binary_accuracy: 0.9248\n",
            "Epoch 22/25\n",
            "85/85 [==============================] - 1s 17ms/step - loss: 0.2630 - binary_accuracy: 0.9094 - val_loss: 0.2793 - val_binary_accuracy: 0.9218\n",
            "Epoch 23/25\n",
            "85/85 [==============================] - 3s 32ms/step - loss: 0.2534 - binary_accuracy: 0.9172 - val_loss: 0.2711 - val_binary_accuracy: 0.9263\n",
            "Epoch 24/25\n",
            "37/85 [============>.................] - ETA: 1s - loss: 0.2449 - binary_accuracy: 0.9189"
          ]
        }
      ]
    },
    {
      "cell_type": "code",
      "source": [
        "stacked_bi_gru.fit(\n",
        "    x = X_train,\n",
        "    y = y_train,\n",
        "    batch_size = 16,\n",
        "    validation_data = (X_test, y_test),\n",
        "    epochs = 25,\n",
        ")"
      ],
      "metadata": {
        "id": "xVKsRu2UXJGk"
      },
      "execution_count": null,
      "outputs": []
    },
    {
      "cell_type": "markdown",
      "source": [
        "## Model Evaluation"
      ],
      "metadata": {
        "id": "1pqPbCoB2Rzu"
      }
    },
    {
      "cell_type": "code",
      "execution_count": 28,
      "metadata": {
        "id": "w3Cl563egMyQ",
        "colab": {
          "base_uri": "https://localhost:8080/"
        },
        "outputId": "b3e9b03c-45e5-4aad-f1f2-0db15924bc93"
      },
      "outputs": [
        {
          "output_type": "stream",
          "name": "stdout",
          "text": [
            "11/11 [==============================] - 0s 5ms/step\n",
            "              precision    recall  f1-score   support\n",
            "\n",
            "   apresiasi       0.94      0.78      0.85       124\n",
            "      kritik       0.93      0.93      0.93       240\n",
            "\n",
            "   micro avg       0.93      0.88      0.91       364\n",
            "   macro avg       0.94      0.86      0.89       364\n",
            "weighted avg       0.93      0.88      0.91       364\n",
            " samples avg       0.94      0.91      0.92       364\n",
            "\n"
          ]
        }
      ],
      "source": [
        "from sklearn.metrics import classification_report\n",
        "\n",
        "class_labels = [\"apresiasi\", \"kritik\"]\n",
        "\n",
        "y_pred = lstm.predict(X_test) > 0.5\n",
        "print(classification_report(y_test, y_pred, target_names=class_labels))"
      ]
    },
    {
      "cell_type": "code",
      "source": [
        "y_pred = bi_lstm.predict(X_test) > 0.5\n",
        "print(classification_report(y_test, y_pred, target_names=class_labels))"
      ],
      "metadata": {
        "id": "MkofvwLyVFWm",
        "colab": {
          "base_uri": "https://localhost:8080/"
        },
        "outputId": "28bdbe50-e5e0-4643-9df7-89ac47d3c407"
      },
      "execution_count": 29,
      "outputs": [
        {
          "output_type": "stream",
          "name": "stdout",
          "text": [
            "11/11 [==============================] - 0s 6ms/step\n",
            "              precision    recall  f1-score   support\n",
            "\n",
            "   apresiasi       0.87      0.89      0.88       124\n",
            "      kritik       0.94      0.95      0.95       240\n",
            "\n",
            "   micro avg       0.92      0.93      0.92       364\n",
            "   macro avg       0.90      0.92      0.91       364\n",
            "weighted avg       0.92      0.93      0.92       364\n",
            " samples avg       0.94      0.95      0.93       364\n",
            "\n"
          ]
        }
      ]
    },
    {
      "cell_type": "code",
      "source": [
        "y_pred = stacked_bi_lstm.predict(X_test) > 0.5\n",
        "print(classification_report(y_test, y_pred, target_names=class_labels))"
      ],
      "metadata": {
        "colab": {
          "base_uri": "https://localhost:8080/"
        },
        "id": "6AG3_TVmVGGO",
        "outputId": "ee5b372f-e27c-4eaa-fd23-bd203d99ae41"
      },
      "execution_count": 30,
      "outputs": [
        {
          "output_type": "stream",
          "name": "stdout",
          "text": [
            "11/11 [==============================] - 0s 11ms/step\n",
            "              precision    recall  f1-score   support\n",
            "\n",
            "   apresiasi       0.89      0.87      0.88       124\n",
            "      kritik       0.93      0.95      0.94       240\n",
            "\n",
            "   micro avg       0.92      0.93      0.92       364\n",
            "   macro avg       0.91      0.91      0.91       364\n",
            "weighted avg       0.92      0.93      0.92       364\n",
            " samples avg       0.94      0.95      0.93       364\n",
            "\n"
          ]
        }
      ]
    },
    {
      "cell_type": "code",
      "source": [
        "y_pred = gru.predict(X_test) > 0.5\n",
        "print(classification_report(y_test, y_pred, target_names=class_labels))"
      ],
      "metadata": {
        "id": "0mZOHJfpVGNb",
        "colab": {
          "base_uri": "https://localhost:8080/"
        },
        "outputId": "a01bcfa5-e50f-4da0-80f5-2fd6358809b7"
      },
      "execution_count": 31,
      "outputs": [
        {
          "output_type": "stream",
          "name": "stdout",
          "text": [
            "11/11 [==============================] - 0s 4ms/step\n",
            "              precision    recall  f1-score   support\n",
            "\n",
            "   apresiasi       0.89      0.78      0.83       124\n",
            "      kritik       0.95      0.95      0.95       240\n",
            "\n",
            "   micro avg       0.93      0.89      0.91       364\n",
            "   macro avg       0.92      0.87      0.89       364\n",
            "weighted avg       0.93      0.89      0.91       364\n",
            " samples avg       0.94      0.92      0.92       364\n",
            "\n"
          ]
        }
      ]
    },
    {
      "cell_type": "code",
      "source": [
        "y_pred = bi_gru.predict(X_test) > 0.5\n",
        "print(classification_report(y_test, y_pred, target_names=class_labels))"
      ],
      "metadata": {
        "id": "IEG0LF_ZVGTa",
        "colab": {
          "base_uri": "https://localhost:8080/"
        },
        "outputId": "137aed78-ade7-4225-902b-2a8cf8247e01"
      },
      "execution_count": 32,
      "outputs": [
        {
          "output_type": "stream",
          "name": "stdout",
          "text": [
            "11/11 [==============================] - 0s 7ms/step\n",
            "              precision    recall  f1-score   support\n",
            "\n",
            "   apresiasi       0.94      0.82      0.88       124\n",
            "      kritik       0.95      0.96      0.96       240\n",
            "\n",
            "   micro avg       0.95      0.91      0.93       364\n",
            "   macro avg       0.95      0.89      0.92       364\n",
            "weighted avg       0.95      0.91      0.93       364\n",
            " samples avg       0.96      0.94      0.94       364\n",
            "\n"
          ]
        },
        {
          "output_type": "stream",
          "name": "stderr",
          "text": [
            "/usr/local/lib/python3.10/dist-packages/sklearn/metrics/_classification.py:1344: UndefinedMetricWarning: Precision and F-score are ill-defined and being set to 0.0 in samples with no predicted labels. Use `zero_division` parameter to control this behavior.\n",
            "  _warn_prf(average, modifier, msg_start, len(result))\n"
          ]
        }
      ]
    },
    {
      "cell_type": "code",
      "source": [
        "y_pred = stacked_bi_gru.predict(X_test) > 0.5\n",
        "print(classification_report(y_test, y_pred, target_names=class_labels))"
      ],
      "metadata": {
        "id": "sKvWW3VoVGYG",
        "colab": {
          "base_uri": "https://localhost:8080/"
        },
        "outputId": "0455c625-ebe1-4298-922a-845d8f391ccc"
      },
      "execution_count": 33,
      "outputs": [
        {
          "output_type": "stream",
          "name": "stdout",
          "text": [
            "11/11 [==============================] - 0s 11ms/step\n",
            "              precision    recall  f1-score   support\n",
            "\n",
            "   apresiasi       0.83      0.89      0.86       124\n",
            "      kritik       0.94      0.96      0.95       240\n",
            "\n",
            "   micro avg       0.90      0.94      0.92       364\n",
            "   macro avg       0.89      0.92      0.91       364\n",
            "weighted avg       0.91      0.94      0.92       364\n",
            " samples avg       0.93      0.95      0.93       364\n",
            "\n"
          ]
        }
      ]
    },
    {
      "cell_type": "markdown",
      "source": [
        "## Save Model"
      ],
      "metadata": {
        "id": "boUQrPKHg-Gl"
      }
    },
    {
      "cell_type": "code",
      "source": [
        "lstm.save(\"lstm-1\")\n",
        "bi_lstm.save(\"bi-lstm-1\")\n",
        "stacked_bi_lstm.save(\"stacked-bi-lstm-1\")\n",
        "gru.save(\"gru-1\")\n",
        "bi_gru.save(\"bi-gru-1\")\n",
        "stacked_bi_gru.save(\"stacked-bi-gru-1\")"
      ],
      "metadata": {
        "colab": {
          "base_uri": "https://localhost:8080/"
        },
        "id": "-rCP33ROgD6Z",
        "outputId": "f4a541af-397b-4199-97e9-f6fdb06200f5"
      },
      "execution_count": 27,
      "outputs": [
        {
          "output_type": "stream",
          "name": "stderr",
          "text": [
            "WARNING:absl:Found untraced functions such as lstm_cell_layer_call_fn, lstm_cell_layer_call_and_return_conditional_losses while saving (showing 2 of 2). These functions will not be directly callable after loading.\n",
            "WARNING:absl:Found untraced functions such as lstm_cell_2_layer_call_fn, lstm_cell_2_layer_call_and_return_conditional_losses, lstm_cell_3_layer_call_fn, lstm_cell_3_layer_call_and_return_conditional_losses while saving (showing 4 of 4). These functions will not be directly callable after loading.\n",
            "WARNING:absl:Found untraced functions such as lstm_cell_5_layer_call_fn, lstm_cell_5_layer_call_and_return_conditional_losses, lstm_cell_6_layer_call_fn, lstm_cell_6_layer_call_and_return_conditional_losses, lstm_cell_8_layer_call_fn while saving (showing 5 of 8). These functions will not be directly callable after loading.\n",
            "WARNING:absl:Found untraced functions such as gru_cell_layer_call_fn, gru_cell_layer_call_and_return_conditional_losses while saving (showing 2 of 2). These functions will not be directly callable after loading.\n",
            "WARNING:absl:Found untraced functions such as gru_cell_2_layer_call_fn, gru_cell_2_layer_call_and_return_conditional_losses, gru_cell_3_layer_call_fn, gru_cell_3_layer_call_and_return_conditional_losses while saving (showing 4 of 4). These functions will not be directly callable after loading.\n",
            "WARNING:absl:Found untraced functions such as gru_cell_5_layer_call_fn, gru_cell_5_layer_call_and_return_conditional_losses, gru_cell_6_layer_call_fn, gru_cell_6_layer_call_and_return_conditional_losses, gru_cell_8_layer_call_fn while saving (showing 5 of 8). These functions will not be directly callable after loading.\n"
          ]
        }
      ]
    },
    {
      "cell_type": "markdown",
      "metadata": {
        "id": "YmLs3lAgDmKU"
      },
      "source": [
        "# BERT Model"
      ]
    },
    {
      "cell_type": "markdown",
      "source": [
        "## Mapping BERT Preprocesser and Encoder"
      ],
      "metadata": {
        "id": "WTG1qtG12WQD"
      }
    },
    {
      "cell_type": "code",
      "execution_count": 12,
      "metadata": {
        "id": "7bJfLsKuEua0"
      },
      "outputs": [],
      "source": [
        "map_name_to_handle = {\n",
        "    'bert_en_uncased_L-12_H-768_A-12':\n",
        "        'https://tfhub.dev/tensorflow/bert_en_uncased_L-12_H-768_A-12/3',\n",
        "    'bert_en_cased_L-12_H-768_A-12':\n",
        "        'https://tfhub.dev/tensorflow/bert_en_cased_L-12_H-768_A-12/3',\n",
        "    'bert_multi_cased_L-12_H-768_A-12':\n",
        "        'https://tfhub.dev/tensorflow/bert_multi_cased_L-12_H-768_A-12/3',\n",
        "    'small_bert/bert_en_uncased_L-2_H-128_A-2':\n",
        "        'https://tfhub.dev/tensorflow/small_bert/bert_en_uncased_L-2_H-128_A-2/1',\n",
        "    'small_bert/bert_en_uncased_L-2_H-256_A-4':\n",
        "        'https://tfhub.dev/tensorflow/small_bert/bert_en_uncased_L-2_H-256_A-4/1',\n",
        "    'small_bert/bert_en_uncased_L-2_H-512_A-8':\n",
        "        'https://tfhub.dev/tensorflow/small_bert/bert_en_uncased_L-2_H-512_A-8/1',\n",
        "    'small_bert/bert_en_uncased_L-2_H-768_A-12':\n",
        "        'https://tfhub.dev/tensorflow/small_bert/bert_en_uncased_L-2_H-768_A-12/1',\n",
        "    'small_bert/bert_en_uncased_L-4_H-128_A-2':\n",
        "        'https://tfhub.dev/tensorflow/small_bert/bert_en_uncased_L-4_H-128_A-2/1',\n",
        "    'small_bert/bert_en_uncased_L-4_H-256_A-4':\n",
        "        'https://tfhub.dev/tensorflow/small_bert/bert_en_uncased_L-4_H-256_A-4/1',\n",
        "    'small_bert/bert_en_uncased_L-4_H-512_A-8':\n",
        "        'https://tfhub.dev/tensorflow/small_bert/bert_en_uncased_L-4_H-512_A-8/1',\n",
        "    'small_bert/bert_en_uncased_L-4_H-768_A-12':\n",
        "        'https://tfhub.dev/tensorflow/small_bert/bert_en_uncased_L-4_H-768_A-12/1',\n",
        "    'small_bert/bert_en_uncased_L-6_H-128_A-2':\n",
        "        'https://tfhub.dev/tensorflow/small_bert/bert_en_uncased_L-6_H-128_A-2/1',\n",
        "    'small_bert/bert_en_uncased_L-6_H-256_A-4':\n",
        "        'https://tfhub.dev/tensorflow/small_bert/bert_en_uncased_L-6_H-256_A-4/1',\n",
        "    'small_bert/bert_en_uncased_L-6_H-512_A-8':\n",
        "        'https://tfhub.dev/tensorflow/small_bert/bert_en_uncased_L-6_H-512_A-8/1',\n",
        "    'small_bert/bert_en_uncased_L-6_H-768_A-12':\n",
        "        'https://tfhub.dev/tensorflow/small_bert/bert_en_uncased_L-6_H-768_A-12/1',\n",
        "    'small_bert/bert_en_uncased_L-8_H-128_A-2':\n",
        "        'https://tfhub.dev/tensorflow/small_bert/bert_en_uncased_L-8_H-128_A-2/1',\n",
        "    'small_bert/bert_en_uncased_L-8_H-256_A-4':\n",
        "        'https://tfhub.dev/tensorflow/small_bert/bert_en_uncased_L-8_H-256_A-4/1',\n",
        "    'small_bert/bert_en_uncased_L-8_H-512_A-8':\n",
        "        'https://tfhub.dev/tensorflow/small_bert/bert_en_uncased_L-8_H-512_A-8/1',\n",
        "    'small_bert/bert_en_uncased_L-8_H-768_A-12':\n",
        "        'https://tfhub.dev/tensorflow/small_bert/bert_en_uncased_L-8_H-768_A-12/1',\n",
        "    'small_bert/bert_en_uncased_L-10_H-128_A-2':\n",
        "        'https://tfhub.dev/tensorflow/small_bert/bert_en_uncased_L-10_H-128_A-2/1',\n",
        "    'small_bert/bert_en_uncased_L-10_H-256_A-4':\n",
        "        'https://tfhub.dev/tensorflow/small_bert/bert_en_uncased_L-10_H-256_A-4/1',\n",
        "    'small_bert/bert_en_uncased_L-10_H-512_A-8':\n",
        "        'https://tfhub.dev/tensorflow/small_bert/bert_en_uncased_L-10_H-512_A-8/1',\n",
        "    'small_bert/bert_en_uncased_L-10_H-768_A-12':\n",
        "        'https://tfhub.dev/tensorflow/small_bert/bert_en_uncased_L-10_H-768_A-12/1',\n",
        "    'small_bert/bert_en_uncased_L-12_H-128_A-2':\n",
        "        'https://tfhub.dev/tensorflow/small_bert/bert_en_uncased_L-12_H-128_A-2/1',\n",
        "    'small_bert/bert_en_uncased_L-12_H-256_A-4':\n",
        "        'https://tfhub.dev/tensorflow/small_bert/bert_en_uncased_L-12_H-256_A-4/1',\n",
        "    'small_bert/bert_en_uncased_L-12_H-512_A-8':\n",
        "        'https://tfhub.dev/tensorflow/small_bert/bert_en_uncased_L-12_H-512_A-8/1',\n",
        "    'small_bert/bert_en_uncased_L-12_H-768_A-12':\n",
        "        'https://tfhub.dev/tensorflow/small_bert/bert_en_uncased_L-12_H-768_A-12/1',\n",
        "    'albert_en_base':\n",
        "        'https://tfhub.dev/tensorflow/albert_en_base/2',\n",
        "    'electra_small':\n",
        "        'https://tfhub.dev/google/electra_small/2',\n",
        "    'electra_base':\n",
        "        'https://tfhub.dev/google/electra_base/2',\n",
        "    'experts_pubmed':\n",
        "        'https://tfhub.dev/google/experts/bert/pubmed/2',\n",
        "    'experts_wiki_books':\n",
        "        'https://tfhub.dev/google/experts/bert/wiki_books/2',\n",
        "    'talking-heads_base':\n",
        "        'https://tfhub.dev/tensorflow/talkheads_ggelu_bert_en_base/1',\n",
        "}\n",
        "\n",
        "map_model_to_preprocess = {\n",
        "    'bert_en_uncased_L-12_H-768_A-12':\n",
        "        'https://tfhub.dev/tensorflow/bert_en_uncased_preprocess/3',\n",
        "    'bert_en_cased_L-12_H-768_A-12':\n",
        "        'https://tfhub.dev/tensorflow/bert_en_cased_preprocess/3',\n",
        "    'small_bert/bert_en_uncased_L-2_H-128_A-2':\n",
        "        'https://tfhub.dev/tensorflow/bert_en_uncased_preprocess/3',\n",
        "    'small_bert/bert_en_uncased_L-2_H-256_A-4':\n",
        "        'https://tfhub.dev/tensorflow/bert_en_uncased_preprocess/3',\n",
        "    'small_bert/bert_en_uncased_L-2_H-512_A-8':\n",
        "        'https://tfhub.dev/tensorflow/bert_en_uncased_preprocess/3',\n",
        "    'small_bert/bert_en_uncased_L-2_H-768_A-12':\n",
        "        'https://tfhub.dev/tensorflow/bert_en_uncased_preprocess/3',\n",
        "    'small_bert/bert_en_uncased_L-4_H-128_A-2':\n",
        "        'https://tfhub.dev/tensorflow/bert_en_uncased_preprocess/3',\n",
        "    'small_bert/bert_en_uncased_L-4_H-256_A-4':\n",
        "        'https://tfhub.dev/tensorflow/bert_en_uncased_preprocess/3',\n",
        "    'small_bert/bert_en_uncased_L-4_H-512_A-8':\n",
        "        'https://tfhub.dev/tensorflow/bert_en_uncased_preprocess/3',\n",
        "    'small_bert/bert_en_uncased_L-4_H-768_A-12':\n",
        "        'https://tfhub.dev/tensorflow/bert_en_uncased_preprocess/3',\n",
        "    'small_bert/bert_en_uncased_L-6_H-128_A-2':\n",
        "        'https://tfhub.dev/tensorflow/bert_en_uncased_preprocess/3',\n",
        "    'small_bert/bert_en_uncased_L-6_H-256_A-4':\n",
        "        'https://tfhub.dev/tensorflow/bert_en_uncased_preprocess/3',\n",
        "    'small_bert/bert_en_uncased_L-6_H-512_A-8':\n",
        "        'https://tfhub.dev/tensorflow/bert_en_uncased_preprocess/3',\n",
        "    'small_bert/bert_en_uncased_L-6_H-768_A-12':\n",
        "        'https://tfhub.dev/tensorflow/bert_en_uncased_preprocess/3',\n",
        "    'small_bert/bert_en_uncased_L-8_H-128_A-2':\n",
        "        'https://tfhub.dev/tensorflow/bert_en_uncased_preprocess/3',\n",
        "    'small_bert/bert_en_uncased_L-8_H-256_A-4':\n",
        "        'https://tfhub.dev/tensorflow/bert_en_uncased_preprocess/3',\n",
        "    'small_bert/bert_en_uncased_L-8_H-512_A-8':\n",
        "        'https://tfhub.dev/tensorflow/bert_en_uncased_preprocess/3',\n",
        "    'small_bert/bert_en_uncased_L-8_H-768_A-12':\n",
        "        'https://tfhub.dev/tensorflow/bert_en_uncased_preprocess/3',\n",
        "    'small_bert/bert_en_uncased_L-10_H-128_A-2':\n",
        "        'https://tfhub.dev/tensorflow/bert_en_uncased_preprocess/3',\n",
        "    'small_bert/bert_en_uncased_L-10_H-256_A-4':\n",
        "        'https://tfhub.dev/tensorflow/bert_en_uncased_preprocess/3',\n",
        "    'small_bert/bert_en_uncased_L-10_H-512_A-8':\n",
        "        'https://tfhub.dev/tensorflow/bert_en_uncased_preprocess/3',\n",
        "    'small_bert/bert_en_uncased_L-10_H-768_A-12':\n",
        "        'https://tfhub.dev/tensorflow/bert_en_uncased_preprocess/3',\n",
        "    'small_bert/bert_en_uncased_L-12_H-128_A-2':\n",
        "        'https://tfhub.dev/tensorflow/bert_en_uncased_preprocess/3',\n",
        "    'small_bert/bert_en_uncased_L-12_H-256_A-4':\n",
        "        'https://tfhub.dev/tensorflow/bert_en_uncased_preprocess/3',\n",
        "    'small_bert/bert_en_uncased_L-12_H-512_A-8':\n",
        "        'https://tfhub.dev/tensorflow/bert_en_uncased_preprocess/3',\n",
        "    'small_bert/bert_en_uncased_L-12_H-768_A-12':\n",
        "        'https://tfhub.dev/tensorflow/bert_en_uncased_preprocess/3',\n",
        "    'bert_multi_cased_L-12_H-768_A-12':\n",
        "        'https://tfhub.dev/tensorflow/bert_multi_cased_preprocess/3',\n",
        "    'albert_en_base':\n",
        "        'https://tfhub.dev/tensorflow/albert_en_preprocess/3',\n",
        "    'electra_small':\n",
        "        'https://tfhub.dev/tensorflow/bert_en_uncased_preprocess/3',\n",
        "    'electra_base':\n",
        "        'https://tfhub.dev/tensorflow/bert_en_uncased_preprocess/3',\n",
        "    'experts_pubmed':\n",
        "        'https://tfhub.dev/tensorflow/bert_en_uncased_preprocess/3',\n",
        "    'experts_wiki_books':\n",
        "        'https://tfhub.dev/tensorflow/bert_en_uncased_preprocess/3',\n",
        "    'talking-heads_base':\n",
        "        'https://tfhub.dev/tensorflow/bert_en_uncased_preprocess/3',\n",
        "}"
      ]
    },
    {
      "cell_type": "markdown",
      "source": [
        "## Build Model Architecture"
      ],
      "metadata": {
        "id": "uOTHQGcV2dvy"
      }
    },
    {
      "cell_type": "code",
      "execution_count": 13,
      "metadata": {
        "id": "PiI_f3HVkzSc"
      },
      "outputs": [],
      "source": [
        "def build_bert_model(bert_model_name: str):\n",
        "  tfhub_handle_encoder = map_name_to_handle[bert_model_name]\n",
        "  tfhub_handle_preprocess = map_model_to_preprocess[bert_model_name]\n",
        "\n",
        "  text_input = tf.keras.layers.Input(shape=(), dtype=\"string\", name='text')\n",
        "  preprocessing_layer = hub.KerasLayer(tfhub_handle_preprocess, name='preprocessing')\n",
        "  encoder_inputs = preprocessing_layer(text_input)\n",
        "  encoder = hub.KerasLayer(tfhub_handle_encoder, trainable=True, name='BERT_encoder')\n",
        "  outputs = encoder(encoder_inputs)\n",
        "  net = outputs['pooled_output']\n",
        "  net = tf.keras.layers.Dropout(0.2)(net)\n",
        "  net = tf.keras.layers.Dense(2, activation='sigmoid', name='classifier')(net)\n",
        "  return tf.keras.Model(text_input, net)"
      ]
    },
    {
      "cell_type": "code",
      "execution_count": 14,
      "metadata": {
        "id": "2rwYSA8MqRyD"
      },
      "outputs": [],
      "source": [
        "bert_uncased_model = build_bert_model('bert_en_uncased_L-12_H-768_A-12')\n",
        "small_bert_model = build_bert_model('small_bert/bert_en_uncased_L-4_H-512_A-8')\n",
        "albert_model = build_bert_model('albert_en_base')\n",
        "electra_model = build_bert_model('electra_base')"
      ]
    },
    {
      "cell_type": "markdown",
      "source": [
        "## Model Compiling"
      ],
      "metadata": {
        "id": "3ikxZreZ2gwn"
      }
    },
    {
      "cell_type": "code",
      "execution_count": 15,
      "metadata": {
        "id": "qqxIjajsqYNu"
      },
      "outputs": [],
      "source": [
        "bert_uncased_model.compile(\n",
        "    optimizer = tf.keras.optimizers.Adam(learning_rate = 0.00003),\n",
        "    loss = tf.keras.losses.BinaryCrossentropy(),\n",
        "    metrics = tf.keras.metrics.BinaryAccuracy(),\n",
        ")\n",
        "\n",
        "small_bert_model.compile(\n",
        "    optimizer = tf.keras.optimizers.Adam(learning_rate = 0.00003),\n",
        "    loss = tf.keras.losses.BinaryCrossentropy(),\n",
        "    metrics = tf.keras.metrics.BinaryAccuracy(),\n",
        ")\n",
        "\n",
        "albert_model.compile(\n",
        "    optimizer = tf.keras.optimizers.Adam(learning_rate = 0.00003),\n",
        "    loss = tf.keras.losses.BinaryCrossentropy(),\n",
        "    metrics = tf.keras.metrics.BinaryAccuracy(),\n",
        ")\n",
        "\n",
        "electra_model.compile(\n",
        "    optimizer = tf.keras.optimizers.Adam(learning_rate = 0.00003),\n",
        "    loss = tf.keras.losses.BinaryCrossentropy(),\n",
        "    metrics = tf.keras.metrics.BinaryAccuracy(),\n",
        ")"
      ]
    },
    {
      "cell_type": "markdown",
      "source": [
        "## Model Training"
      ],
      "metadata": {
        "id": "1dtSQ02j2i7o"
      }
    },
    {
      "cell_type": "code",
      "execution_count": 16,
      "metadata": {
        "id": "CU7C8-TWrQeU",
        "colab": {
          "base_uri": "https://localhost:8080/"
        },
        "outputId": "a214863a-3c82-4d14-f06b-45d4d8f823e5"
      },
      "outputs": [
        {
          "output_type": "stream",
          "name": "stdout",
          "text": [
            "Epoch 1/3\n",
            "85/85 [==============================] - 102s 604ms/step - loss: 0.4883 - binary_accuracy: 0.7659 - val_loss: 0.3432 - val_binary_accuracy: 0.8481\n",
            "Epoch 2/3\n",
            "85/85 [==============================] - 48s 560ms/step - loss: 0.3077 - binary_accuracy: 0.8798 - val_loss: 0.2791 - val_binary_accuracy: 0.8879\n",
            "Epoch 3/3\n",
            "85/85 [==============================] - 45s 531ms/step - loss: 0.2394 - binary_accuracy: 0.9105 - val_loss: 0.2738 - val_binary_accuracy: 0.8923\n"
          ]
        },
        {
          "output_type": "execute_result",
          "data": {
            "text/plain": [
              "<keras.callbacks.History at 0x7fe708358370>"
            ]
          },
          "metadata": {},
          "execution_count": 16
        }
      ],
      "source": [
        "bert_uncased_model.fit(\n",
        "    x = X_train,\n",
        "    y = y_train,\n",
        "    batch_size = 16,\n",
        "    validation_data = (X_test, y_test),\n",
        "    epochs = 3,\n",
        ")\n"
      ]
    },
    {
      "cell_type": "code",
      "source": [
        "small_bert_model.fit(\n",
        "    x = X_train,\n",
        "    y = y_train,\n",
        "    batch_size = 16,\n",
        "    validation_data = (X_test, y_test),\n",
        "    epochs = 3,\n",
        ")"
      ],
      "metadata": {
        "id": "9lGWfIwkW8uQ",
        "colab": {
          "base_uri": "https://localhost:8080/"
        },
        "outputId": "82eb325f-11df-433c-bc4f-e349caf97046"
      },
      "execution_count": 17,
      "outputs": [
        {
          "output_type": "stream",
          "name": "stdout",
          "text": [
            "Epoch 1/3\n",
            "85/85 [==============================] - 41s 281ms/step - loss: 0.5291 - binary_accuracy: 0.7389 - val_loss: 0.3401 - val_binary_accuracy: 0.8643\n",
            "Epoch 2/3\n",
            "85/85 [==============================] - 16s 192ms/step - loss: 0.3163 - binary_accuracy: 0.8724 - val_loss: 0.3260 - val_binary_accuracy: 0.8894\n",
            "Epoch 3/3\n",
            "85/85 [==============================] - 16s 194ms/step - loss: 0.2448 - binary_accuracy: 0.9035 - val_loss: 0.2747 - val_binary_accuracy: 0.8982\n"
          ]
        },
        {
          "output_type": "execute_result",
          "data": {
            "text/plain": [
              "<keras.callbacks.History at 0x7fe7057bcdf0>"
            ]
          },
          "metadata": {},
          "execution_count": 17
        }
      ]
    },
    {
      "cell_type": "code",
      "source": [
        "albert_model.fit(\n",
        "    x = X_train,\n",
        "    y = y_train,\n",
        "    batch_size = 16,\n",
        "    validation_data = (X_test, y_test),\n",
        "    epochs = 3,\n",
        ")"
      ],
      "metadata": {
        "id": "xVbFsh1hW83G",
        "colab": {
          "base_uri": "https://localhost:8080/"
        },
        "outputId": "bc407a0e-5412-4d42-a323-70634591627d"
      },
      "execution_count": 18,
      "outputs": [
        {
          "output_type": "stream",
          "name": "stdout",
          "text": [
            "Epoch 1/3\n",
            "85/85 [==============================] - 77s 698ms/step - loss: 0.5715 - binary_accuracy: 0.7163 - val_loss: 0.4424 - val_binary_accuracy: 0.8230\n",
            "Epoch 2/3\n",
            "85/85 [==============================] - 58s 680ms/step - loss: 0.4029 - binary_accuracy: 0.8291 - val_loss: 0.3502 - val_binary_accuracy: 0.8510\n",
            "Epoch 3/3\n",
            "85/85 [==============================] - 56s 659ms/step - loss: 0.3082 - binary_accuracy: 0.8828 - val_loss: 0.3256 - val_binary_accuracy: 0.8879\n"
          ]
        },
        {
          "output_type": "execute_result",
          "data": {
            "text/plain": [
              "<keras.callbacks.History at 0x7fe700518850>"
            ]
          },
          "metadata": {},
          "execution_count": 18
        }
      ]
    },
    {
      "cell_type": "code",
      "source": [
        "electra_model.fit(\n",
        "    x = X_train,\n",
        "    y = y_train,\n",
        "    batch_size = 16,\n",
        "    validation_data = (X_test, y_test),\n",
        "    epochs = 3,\n",
        ")"
      ],
      "metadata": {
        "id": "zOUwdG-TW9sq",
        "colab": {
          "base_uri": "https://localhost:8080/"
        },
        "outputId": "beb0d2f4-8ef4-4a46-9a38-33989352468f"
      },
      "execution_count": 19,
      "outputs": [
        {
          "output_type": "stream",
          "name": "stdout",
          "text": [
            "Epoch 1/3\n",
            "85/85 [==============================] - 95s 581ms/step - loss: 0.5432 - binary_accuracy: 0.7297 - val_loss: 0.3727 - val_binary_accuracy: 0.8407\n",
            "Epoch 2/3\n",
            "85/85 [==============================] - 46s 547ms/step - loss: 0.3110 - binary_accuracy: 0.8794 - val_loss: 0.2866 - val_binary_accuracy: 0.8938\n",
            "Epoch 3/3\n",
            "85/85 [==============================] - 46s 546ms/step - loss: 0.2570 - binary_accuracy: 0.8957 - val_loss: 0.2931 - val_binary_accuracy: 0.8850\n"
          ]
        },
        {
          "output_type": "execute_result",
          "data": {
            "text/plain": [
              "<keras.callbacks.History at 0x7fe6b43b7520>"
            ]
          },
          "metadata": {},
          "execution_count": 19
        }
      ]
    },
    {
      "cell_type": "markdown",
      "source": [
        "## Model Evaluation"
      ],
      "metadata": {
        "id": "DwJw2NrO2m1R"
      }
    },
    {
      "cell_type": "code",
      "execution_count": 20,
      "metadata": {
        "id": "MSi-FZLOgyLL",
        "colab": {
          "base_uri": "https://localhost:8080/"
        },
        "outputId": "5d0d5193-a4fe-443d-97e5-0465ef21c129"
      },
      "outputs": [
        {
          "output_type": "stream",
          "name": "stdout",
          "text": [
            "11/11 [==============================] - 5s 390ms/step\n",
            "              precision    recall  f1-score   support\n",
            "\n",
            "   apresiasi       0.87      0.77      0.82       124\n",
            "      kritik       0.91      0.98      0.94       247\n",
            "\n",
            "   micro avg       0.90      0.91      0.90       371\n",
            "   macro avg       0.89      0.87      0.88       371\n",
            "weighted avg       0.89      0.91      0.90       371\n",
            " samples avg       0.92      0.93      0.92       371\n",
            "\n"
          ]
        }
      ],
      "source": [
        "from sklearn.metrics import classification_report\n",
        "\n",
        "class_labels = [\"apresiasi\", \"kritik\"]\n",
        "\n",
        "y_pred = bert_uncased_model.predict(X_test) > 0.5\n",
        "print(classification_report(y_test, y_pred, target_names=class_labels))"
      ]
    },
    {
      "cell_type": "code",
      "source": [
        "y_pred = small_bert_model.predict(X_test) > 0.5\n",
        "print(classification_report(y_test, y_pred, target_names=class_labels))"
      ],
      "metadata": {
        "id": "0MwmVyugXbBZ",
        "colab": {
          "base_uri": "https://localhost:8080/"
        },
        "outputId": "70993e50-cfd9-4724-afca-ec90143deaaf"
      },
      "execution_count": 21,
      "outputs": [
        {
          "output_type": "stream",
          "name": "stdout",
          "text": [
            "11/11 [==============================] - 1s 97ms/step\n",
            "              precision    recall  f1-score   support\n",
            "\n",
            "   apresiasi       0.88      0.80      0.84       124\n",
            "      kritik       0.92      0.96      0.94       247\n",
            "\n",
            "   micro avg       0.91      0.91      0.91       371\n",
            "   macro avg       0.90      0.88      0.89       371\n",
            "weighted avg       0.90      0.91      0.91       371\n",
            " samples avg       0.93      0.93      0.92       371\n",
            "\n"
          ]
        }
      ]
    },
    {
      "cell_type": "code",
      "source": [
        "y_pred = albert_model.predict(X_test) > 0.5\n",
        "print(classification_report(y_test, y_pred, target_names=class_labels))"
      ],
      "metadata": {
        "id": "epEFGg5MXbF0",
        "colab": {
          "base_uri": "https://localhost:8080/"
        },
        "outputId": "2e678de1-c93a-4a32-9cb9-94c61eee04ab"
      },
      "execution_count": 22,
      "outputs": [
        {
          "output_type": "stream",
          "name": "stdout",
          "text": [
            "11/11 [==============================] - 4s 350ms/step\n",
            "              precision    recall  f1-score   support\n",
            "\n",
            "   apresiasi       0.95      0.68      0.79       124\n",
            "      kritik       0.92      0.96      0.94       247\n",
            "\n",
            "   micro avg       0.93      0.87      0.89       371\n",
            "   macro avg       0.93      0.82      0.86       371\n",
            "weighted avg       0.93      0.87      0.89       371\n",
            " samples avg       0.93      0.90      0.91       371\n",
            "\n"
          ]
        }
      ]
    },
    {
      "cell_type": "code",
      "source": [
        "y_pred = electra_model.predict(X_test) > 0.5\n",
        "print(classification_report(y_test, y_pred, target_names=class_labels))"
      ],
      "metadata": {
        "id": "aWKfb6XBXbRg",
        "colab": {
          "base_uri": "https://localhost:8080/"
        },
        "outputId": "aca0e4ad-0f83-4e26-d426-bad0481312cf"
      },
      "execution_count": 23,
      "outputs": [
        {
          "output_type": "stream",
          "name": "stdout",
          "text": [
            "11/11 [==============================] - 5s 389ms/step\n",
            "              precision    recall  f1-score   support\n",
            "\n",
            "   apresiasi       0.90      0.77      0.83       124\n",
            "      kritik       0.89      0.96      0.92       247\n",
            "\n",
            "   micro avg       0.89      0.90      0.90       371\n",
            "   macro avg       0.90      0.86      0.88       371\n",
            "weighted avg       0.89      0.90      0.89       371\n",
            " samples avg       0.92      0.92      0.91       371\n",
            "\n"
          ]
        }
      ]
    },
    {
      "cell_type": "markdown",
      "source": [
        "## Save Model"
      ],
      "metadata": {
        "id": "Z8PDVx2djOZf"
      }
    },
    {
      "cell_type": "code",
      "source": [
        "bert_uncased_model.save(\"bert-1\")\n",
        "small_bert_model.save(\"small-bert-1\")\n",
        "albert_model.save(\"albert-1\")\n",
        "electra_model.save(\"electra-1\")"
      ],
      "metadata": {
        "id": "aT1AzI3RhDN9"
      },
      "execution_count": 42,
      "outputs": []
    }
  ],
  "metadata": {
    "colab": {
      "provenance": [],
      "gpuType": "T4",
      "collapsed_sections": [
        "gpSVyqCX1sCO",
        "vzO3rNoS1y9U",
        "LkeZdf-f11na",
        "AmbXc0g-178k",
        "lIZcWXWd2xhQ",
        "X2BmtjrM2DMP",
        "Kj_eJv9L2G_W",
        "TgUoRqSTFvsK",
        "WTG1qtG12WQD",
        "uOTHQGcV2dvy",
        "3ikxZreZ2gwn",
        "1dtSQ02j2i7o",
        "DwJw2NrO2m1R"
      ],
      "mount_file_id": "1eTVst4IuSJrrk0k_si769vybcEJOIR-r",
      "authorship_tag": "ABX9TyM6x0G/y91KggWhHz9HkPfU",
      "include_colab_link": true
    },
    "kernelspec": {
      "display_name": "Python 3",
      "name": "python3"
    },
    "language_info": {
      "name": "python"
    },
    "gpuClass": "standard",
    "accelerator": "GPU"
  },
  "nbformat": 4,
  "nbformat_minor": 0
}